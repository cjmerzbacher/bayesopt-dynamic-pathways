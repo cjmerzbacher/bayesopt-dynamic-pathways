{
 "cells": [
  {
   "cell_type": "code",
   "execution_count": 1,
   "metadata": {},
   "outputs": [],
   "source": [
    "###Required packages\n",
    "import numpy as np\n",
    "from hyperopt import hp, fmin, tpe\n",
    "from scikits.odes.ode import ode\n",
    "import matplotlib.pyplot as plt\n",
    "import pandas as pd\n",
    "import seaborn as sns"
   ]
  },
  {
   "cell_type": "markdown",
   "metadata": {},
   "source": [
    "## Toy Model"
   ]
  },
  {
   "cell_type": "code",
   "execution_count": 4,
   "metadata": {},
   "outputs": [],
   "source": [
    "###Color palette\n",
    "orders = ['No Control', 'Upstream Repression', 'Downstream Activation', 'Dual Control']\n",
    "palette = {'No Control': sns.color_palette()[3], 'Upstream Repression': 'tab:orange', 'Downstream Activation': 'tab:green', 'Dual Control': 'tab:blue', 'Initial':'black'}\n",
    "\n",
    "###Helper functions\n",
    "def loss_biological(j1, j2, alpha1=1E-5, alpha2=1E-2):\n",
    "        \"\"\"Computes scalarized loss including genetic constraint and product production\"\"\"\n",
    "        loss = alpha1*j1 + alpha2*j2\n",
    "        return j1, j2, loss\n",
    "\n",
    "def activation(x, k, theta, n):\n",
    "    return (k*(x/theta)**n)/(1+(x/theta)**n)\n",
    "\n",
    "def repression(x, k, theta, n):\n",
    "    return k/(1+(x/theta)**n)\n",
    "    \n",
    "def nonlinearity(x, kc, km):\n",
    "    return (kc*x)/(km+x)\n",
    "\n",
    "def name_converter(A):\n",
    "    if A == ((0, 1, 0), (1, 0, 0)):\n",
    "        return 'Dual Control'\n",
    "\n",
    "    elif A == ((0, 0, 1), (0, 0, 1)):\n",
    "        return 'No Control'\n",
    "\n",
    "    elif A == ((0, 0, 1), (1, 0, 0)):\n",
    "        return 'Downstream Activation'\n",
    "\n",
    "    elif A == ((0, 1, 0), (0, 0, 1)):\n",
    "        return 'Upstream Repression'\n",
    "    else: return 'Invalid Circuit'\n",
    "\n",
    "###Model definition\n",
    "def toy_model(t, y, ydot, params):\n",
    "    kc=12.; km=10.; lam=1.93E-4; Vin=1.; e0=0.0467\n",
    "    T = 1; E = 2; X = 2\n",
    "    A, W = params\n",
    "    ydot[0] = Vin - lam*y[0] - e0*nonlinearity(y[0], kc, km) - y[2]*nonlinearity(y[0], kc, km)\n",
    "    ydot[1] = y[2]*nonlinearity(y[0], kc, km) - y[3]*nonlinearity(y[1], kc, km) - lam*y[1]\n",
    "    for e in range(E):\n",
    "        ydot[e+X] = -lam*y[e+X] + np.sum(A[e]*np.array([activation(y[T], W[e][2], W[e][1], W[e][0]), repression(y[T], W[e][2], W[e][1], W[e][0]), W[e][2]]))\n",
    "    ydot[E+X] = (Vin - y[X+1]*nonlinearity(y[X-1], kc, km))**2 #J1\n",
    "    ydot[E+X+1] = np.sum([np.sum(A[e]*np.array([activation(y[T], W[e][2], W[e][1], W[e][0]), repression(y[T], W[e][2], W[e][1], W[e][0]), W[e][2]])) for e in range(E)]) #J2\n",
    "\n",
    "###Search space definition\n",
    "space = hp.choice('architecture', \n",
    "    [([[0, 0, 1], [1, 0, 0]], [[2., hp.uniform('theta1_da', 0.001, 10), hp.uniform('k1_da', 1E-7, 1E-3)], [2., hp.uniform('theta2_da', 0.001, 10), hp.uniform('k2_da', 1E-7, 1E-3)]]),\n",
    "     ([[0, 1, 0], [0, 0, 1]], [[2., hp.uniform('theta1_ur', 0.001, 10), hp.uniform('k1_ur', 1E-7, 1E-3)], [2., hp.uniform('theta2_ur', 0.001, 10), hp.uniform('k2_ur', 1E-7, 1E-3)]]),\n",
    "     ([[0, 0, 1], [0, 0, 1]], [[2., hp.uniform('theta1_nc', 0.001, 10), hp.uniform('k1_nc', 1E-7, 1E-3)], [2., hp.uniform('theta2_nc', 0.001, 10), hp.uniform('k2_nc', 1E-7, 1E-3)]]),\n",
    "     ([[0, 1, 0], [1, 0, 0]], [[2., hp.uniform('theta1_dc', 0.001, 10), hp.uniform('k1_dc', 1E-7, 1E-3)], [2., hp.uniform('theta2_dc', 0.001, 10), hp.uniform('k2_dc', 1E-7, 1E-3)]])])\n",
    "    \n",
    "\n",
    "###Objective function\n",
    "def run_hyperopt(max_iters):\n",
    "    losses = []\n",
    "    params = []\n",
    "    circuits = []\n",
    "\n",
    "    #Define objective function\n",
    "    def objective(args):\n",
    "        architecture, param_values = args\n",
    "        #Integration conditions\n",
    "        t = np.linspace(0, 5E4, 100) \n",
    "        y0 = np.array([2290., 0., 0., 0., 0., 0.])\n",
    "\n",
    "        extra_options = {'old_api': False, 'user_data': [architecture, param_values]}\n",
    "        ode_solver = ode('cvode', toy_model, **extra_options)\n",
    "        solution = ode_solver.solve(t, y0)\n",
    "        j1, j2 = solution.values.y[-1, -2:]\n",
    "        j1, j2, loss = loss_biological(j1, j2, alpha1=1E-5, alpha2=1E-2)\n",
    "\n",
    "        losses.append(loss)\n",
    "        params.append(param_values)\n",
    "        circuits.append(architecture)\n",
    "        return loss\n",
    "\n",
    "    #Run hyperopt call\n",
    "    best = fmin(objective, space, algo=tpe.suggest, max_evals=max_iters)\n",
    "    #Create trajectory data frame\n",
    "    landscape = pd.DataFrame({'Circuit':circuits, 'Loss': losses, 'k1': [params[i][0][2] for i in range(len(params))], 'k2': [params[i][1][2] for i in range(len(params))], 'theta1': [params[i][0][1] for i in range(len(params))], 'theta2': [params[i][1][1] for i in range(len(params))]})\n",
    "    landscape['Circuit'] = [name_converter(c) for c in landscape.Circuit]\n",
    "    return landscape, best"
   ]
  },
  {
   "cell_type": "code",
   "execution_count": 22,
   "metadata": {},
   "outputs": [
    {
     "name": "stdout",
     "output_type": "stream",
     "text": [
      "100%|██████████| 1000/1000 [00:45<00:00, 22.11trial/s, best loss: 0.06112346634339223]\n",
      "100%|██████████| 1000/1000 [00:48<00:00, 20.50trial/s, best loss: 0.06972783237555819]\n",
      "100%|██████████| 1000/1000 [00:41<00:00, 23.94trial/s, best loss: 0.06249043822104566]\n",
      "100%|██████████| 1000/1000 [00:45<00:00, 21.92trial/s, best loss: 0.06383548398261338]\n"
     ]
    }
   ],
   "source": [
    "###Run single architecture search to impute landscape\n",
    "max_iters = 1000\n",
    "\n",
    "space = hp.choice('architecture', \n",
    "    [([[0, 0, 1], [1, 0, 0]], [[2., hp.uniform('theta1_da', 0.001, 10), hp.uniform('k1_da', 1E-7, 1E-3)], [2., hp.uniform('theta2_da', 0.001, 10), hp.uniform('k2_da', 1E-7, 1E-3)]])])\n",
    "da_landscape, best = run_hyperopt(max_iters)\n",
    "\n",
    "space = hp.choice('architecture', \n",
    "    [([[0, 1, 0], [0, 0, 1]], [[2., hp.uniform('theta1_da', 0.001, 10), hp.uniform('k1_da', 1E-7, 1E-3)], [2., hp.uniform('theta2_da', 0.001, 10), hp.uniform('k2_da', 1E-7, 1E-3)]])])\n",
    "ur_landscape, best = run_hyperopt(max_iters)\n",
    "\n",
    "space = hp.choice('architecture', \n",
    "    [([[0, 0, 1], [0, 0, 1]], [[2., hp.uniform('theta1_da', 0.001, 10), hp.uniform('k1_da', 1E-7, 1E-3)], [2., hp.uniform('theta2_da', 0.001, 10), hp.uniform('k2_da', 1E-7, 1E-3)]])])\n",
    "nc_landscape, best = run_hyperopt(max_iters)\n",
    "\n",
    "space = hp.choice('architecture', \n",
    "    [([[0, 1, 0], [1, 0, 0]], [[2., hp.uniform('theta1_da', 0.001, 10), hp.uniform('k1_da', 1E-7, 1E-3)], [2., hp.uniform('theta2_da', 0.001, 10), hp.uniform('k2_da', 1E-7, 1E-3)]])])\n",
    "dc_landscape, best = run_hyperopt(max_iters)\n"
   ]
  },
  {
   "cell_type": "code",
   "execution_count": 64,
   "metadata": {},
   "outputs": [],
   "source": [
    "landscape = pd.concat([dc_landscape, nc_landscape, ur_landscape, da_landscape])\n",
    "landscape.to_csv('single_architecture_run.csv')"
   ]
  },
  {
   "cell_type": "code",
   "execution_count": 65,
   "metadata": {},
   "outputs": [
    {
     "data": {
      "image/png": "[encoded data removed]",
      "text/plain": [
       "<Figure size 576x144 with 4 Axes>"
      ]
     },
     "metadata": {},
     "output_type": "display_data"
    }
   ],
   "source": [
    "###FIGURE: Landscapes for each architecture\n",
    "fig, axs = plt.subplots(1,4,figsize=(8, 2))\n",
    "landscapes = [nc_landscape, ur_landscape, da_landscape, dc_landscape]\n",
    "colors = ['Reds','Oranges','Greens', 'Blues']\n",
    "singlecolors = ['red', 'orange', 'green', 'blue']\n",
    "\n",
    "for i in range(4):\n",
    "    landscape = landscapes[i]\n",
    "    ax = axs[i]\n",
    "    sns.kdeplot(data=landscape, x='theta1', y ='k1', cmap=colors[i], shade=True, thresh=0, ax=ax)\n",
    "    ax.set_xticklabels('')\n",
    "    ax.set_yticklabels('')\n",
    "    ax.set_xticks([])\n",
    "    ax.set_yticks([])\n",
    "    ax.set_xlabel(None)\n",
    "    ax.set_ylabel(None)\n",
    "    for spine in ax.spines.values():\n",
    "        spine.set_edgecolor(None)\n",
    "\n",
    "fig.tight_layout()\n",
    "fig.savefig('landscapes.png', dpi=300)"
   ]
  },
  {
   "cell_type": "code",
   "execution_count": null,
   "metadata": {},
   "outputs": [],
   "source": []
  }
 ],
 "metadata": {
  "kernelspec": {
   "display_name": "Python 3.9.7 ('sundials')",
   "language": "python",
   "name": "python3"
  },
  "language_info": {
   "codemirror_mode": {
    "name": "ipython",
    "version": 3
   },
   "file_extension": ".py",
   "mimetype": "text/x-python",
   "name": "python",
   "nbconvert_exporter": "python",
   "pygments_lexer": "ipython3",
   "version": "3.9.7"
  },
  "orig_nbformat": 4,
  "vscode": {
   "interpreter": {
    "hash": "07c32881fdddda18fc4efdca8ccb6859d747bae1937efa0776c98adbd36477b4"
   }
  }
 },
 "nbformat": 4,
 "nbformat_minor": 2
}
