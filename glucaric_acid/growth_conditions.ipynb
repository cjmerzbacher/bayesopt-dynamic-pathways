{
 "cells": [
  {
   "cell_type": "code",
   "execution_count": 2,
   "metadata": {},
   "outputs": [],
   "source": [
    "###Required packages\n",
    "import numpy as np\n",
    "from hyperopt import hp, fmin, tpe\n",
    "from scikits.odes.ode import ode\n",
    "import matplotlib.pyplot as plt\n",
    "import matplotlib.gridspec as gridspec\n",
    "import pandas as pd\n",
    "import seaborn as sns\n",
    "from pyDOE import lhs"
   ]
  },
  {
   "cell_type": "markdown",
   "metadata": {},
   "source": [
    "## Glucaric Acid Synthesis Model"
   ]
  },
  {
   "cell_type": "code",
   "execution_count": 3,
   "metadata": {},
   "outputs": [],
   "source": [
    "###Color palette\n",
    "orders = ['Open Loop', 'Upstream Repression', 'Downstream Activation', 'Dual Control']\n",
    "palette = {'Open Loop': sns.color_palette()[3], 'Upstream Repression': 'tab:orange', 'Downstream Activation': 'tab:green', 'Dual Control': 'tab:blue', 'Initial':'black'}\n",
    "\n",
    "###Helper functions\n",
    "def michaelismenten(x, vm, km):\n",
    "    return (vm*x)/(km+x)\n",
    "\n",
    "def reversible_michaelismenten(x, y, vm, keq, kmx, kmy):\n",
    "    return (vm*(x - (y/keq)))/(x + kmx*(1+(y/kmy)))\n",
    "\n",
    "def hilleqn(x, vm, n, km):\n",
    "    return (vm*x**n)/(km**n + x**n)\n",
    "\n",
    "def michaelismenten_substrateactivation(x, vm, km, a, ka):\n",
    "    vm_eff = vm * (1+ (a*x)/(ka + x))\n",
    "    return (vm_eff*x)/(km  + x)\n",
    "\n",
    "def activation(x, k, theta, n):\n",
    "    return (k*x**n)/(theta**n + x**n)\n",
    "    \n",
    "def repression(x, k, theta, n):\n",
    "    return (k*theta**n)/(theta**n + x**n)\n",
    "    \n",
    "def loss_biological(j1, j2, alpha1=1E-5, alpha2=1E-2):\n",
    "    loss = alpha1*j1 + alpha2*j2\n",
    "    return j1, j2, loss\n",
    "\n",
    "def name_converter(A):\n",
    "    if A == ((0, 1, 0), (1, 0, 0)):\n",
    "        return 'Dual Control'\n",
    "\n",
    "    elif A == ((0, 0, 1), (0, 0, 1)):\n",
    "        return 'Open Loop'\n",
    "\n",
    "    elif A == ((0, 0, 1), (1, 0, 0)):\n",
    "        return 'Downstream Activation'\n",
    "\n",
    "    elif A == ((0, 1, 0), (0, 0, 1)):\n",
    "        return 'Upstream Repression'\n",
    "    else: return 'Invalid Circuit'\n",
    "\n",
    "###Model definition\n",
    "def glucaric_acid(t, y, ydot, params):\n",
    "\n",
    "    lam = 2.7778E-05\n",
    "    vm_pgi = 0.8751\n",
    "    keq_pgi = 0.3\n",
    "    km_pgi_g6p = 0.28\n",
    "    km_pgi_f6p = 0.147\n",
    "    vm_zwf = 0.0853\n",
    "    km_zwf_g6p = 0.1\n",
    "    vm_pfk = 2.615\n",
    "    km_pfk_f6p = 0.16\n",
    "    n_pfk = 3\n",
    "    vm_ino1 = 0.2616\n",
    "    km_ino1_g6p = 1.18\n",
    "    km_t_mi = 15\n",
    "    vm_miox = 0.2201\n",
    "    km_miox_mi = 24.7\n",
    "    a_miox = 5.4222\n",
    "    ka_miox_mi = 20\n",
    "\n",
    "\n",
    "    g6p, f6p, mi, ino1, miox, j1, j2 = y\n",
    "\n",
    "    A, W, perturbs = params \n",
    "    v_pts = 0.1656*perturbs[0]\n",
    "    vm_t_mi = 0.045*perturbs[0]\n",
    "\n",
    "    n_ino1, theta_ino1, k_ino1 = W[0]\n",
    "    n_miox, theta_miox, k_miox = W[1]\n",
    "\n",
    "    v_pgi = reversible_michaelismenten(g6p, f6p, vm_pgi, keq_pgi, km_pgi_g6p, km_pgi_f6p)\n",
    "    v_zwf = michaelismenten(g6p, vm_zwf, km_zwf_g6p)\n",
    "    v_pfk = hilleqn(f6p, vm_pfk, n_pfk, km_pfk_f6p)\n",
    "    v_ino1 = ino1 * michaelismenten(g6p, vm_ino1, km_ino1_g6p)\n",
    "    v_tm = michaelismenten(mi, vm_t_mi, km_t_mi)\n",
    "    v_miox = miox * michaelismenten_substrateactivation(mi, vm_miox, km_miox_mi, a_miox, ka_miox_mi)\n",
    "\n",
    "    u_ino1_mi = np.sum(A[0]*np.array([activation(mi, k_ino1, theta_ino1, n_ino1), repression(mi, k_ino1, theta_ino1, n_ino1), k_ino1]))\n",
    "    u_miox_mi = np.sum(A[1]*np.array([activation(mi, k_miox, theta_miox, n_miox), repression(mi, k_miox, theta_miox, n_miox), k_miox]))\n",
    "\n",
    "    ydot[0] = v_pts - v_zwf - v_pgi - lam*g6p\n",
    "    ydot[1] = v_pgi + 0.5*v_zwf - v_pfk - lam*f6p\n",
    "    ydot[2] = v_ino1 - v_tm - v_miox - lam*mi\n",
    "    ydot[3] = u_ino1_mi  - lam*ino1\n",
    "    ydot[4] = u_miox_mi - lam*miox\n",
    "    ydot[5] = (v_pts - v_miox)**2\n",
    "    ydot[6] = u_ino1_mi + u_miox_mi\n",
    "\n",
    "###Define search space\n",
    "space = hp.choice('architecture', \n",
    "    [([[0, 0, 1], [1, 0, 0]], [[2., hp.uniform('theta1_da', 1E-7, 10), hp.uniform('k1_da', 1E-7, 5)], [2., hp.uniform('theta2_da', 1E-7, 10), hp.uniform('k2_da', 1E-7, 5)]]),\n",
    "     ([[0, 1, 0], [0, 0, 1]], [[2., hp.uniform('theta1_ur', 1E-7, 10), hp.uniform('k1_ur', 1E-7, 5)], [2., hp.uniform('theta2_ur', 1E-7, 10), hp.uniform('k2_ur', 1E-7, 5)]]),\n",
    "     ([[0, 0, 1], [0, 0, 1]], [[2., hp.uniform('theta1_nc', 1E-7, 10), hp.uniform('k1_nc', 1E-7, 5)], [2., hp.uniform('theta2_nc', 1E-7, 10), hp.uniform('k2_nc', 1E-7, 5)]]),\n",
    "     ([[0, 1, 0], [1, 0, 0]], [[2., hp.uniform('theta1_dc', 1E-7, 10), hp.uniform('k1_dc', 1E-7, 5)], [2., hp.uniform('theta2_dc', 1E-7, 10), hp.uniform('k2_dc', 1E-7, 5)]])])\n",
    "\n",
    "###Objective function\n",
    "def run_hyperopt(max_iters):\n",
    "    losses = []\n",
    "    params = []\n",
    "    circuits = []\n",
    "\n",
    "    #Define objective function\n",
    "    def objective(args):\n",
    "        architecture, param_values = args\n",
    "        #Integration conditions\n",
    "        t = np.linspace(0, 5E5, 200) \n",
    "        y0 = np.array([0.281, 0.0605, 0., 0., 0. , 0., 0.]) #g6p, f6p, mi, ino1, miox\n",
    "\n",
    "        extra_options = {'old_api': False, 'user_data': [architecture, param_values, perturbs], 'rtol':1E-4}\n",
    "        ode_solver = ode('cvode', glucaric_acid, **extra_options)\n",
    "        solution = ode_solver.solve(t, y0)\n",
    "        j1, j2 = solution.values.y[-1, -2:]\n",
    "        j1, j2, loss = loss_biological(j1, j2, alpha1=1E-5, alpha2=1E-3)\n",
    "        losses.append(loss)\n",
    "        params.append(param_values)\n",
    "        circuits.append(architecture)\n",
    "        return loss\n",
    "    \n",
    "\n",
    "    #Run hyperopt call\n",
    "    best = fmin(objective, space, algo=tpe.suggest, max_evals=max_iters)\n",
    "    #Create trajectory data frame\n",
    "    landscape = pd.DataFrame({'circuit':circuits, 'loss': losses, 'k1': [params[i][0][2] for i in range(len(params))], 'k2': [params[i][1][2] for i in range(len(params))], 'theta1': [params[i][0][1] for i in range(len(params))], 'theta2': [params[i][1][1] for i in range(len(params))]})  \n",
    "    landscape['Circuit'] = [name_converter(landscape.circuit[i]) for i in range(len(landscape))]\n",
    "    landscape = landscape.reset_index()\n",
    "\n",
    "    best_loss = 1E5\n",
    "    best_circuit = 'Initial'\n",
    "    best_losses = []\n",
    "    best_losses_circuits = []\n",
    "    for i in range(len(landscape)):\n",
    "        if landscape.loss[i] < best_loss:\n",
    "            best_loss = landscape.loss[i]\n",
    "            best_circuit = landscape.Circuit[i]\n",
    "        best_losses.append(best_loss)\n",
    "        best_losses_circuits.append(best_circuit)\n",
    "    landscape['best_losses'] = best_losses\n",
    "    landscape['best_loss_circuit'] = best_losses_circuits\n",
    "\n",
    "    return landscape, best"
   ]
  },
  {
   "cell_type": "code",
   "execution_count": 40,
   "metadata": {},
   "outputs": [
    {
     "name": "stdout",
     "output_type": "stream",
     "text": [
      "100%|██████████| 1000/1000 [00:41<00:00, 23.83trial/s, best loss: 0.11937918430748952]\n"
     ]
    }
   ],
   "source": [
    "###Run sample optimization\n",
    "max_iters = 1000\n",
    "landscape, best = run_hyperopt(max_iters)\n",
    "landscape.to_csv('sample_run.csv')"
   ]
  },
  {
   "cell_type": "code",
   "execution_count": 48,
   "metadata": {},
   "outputs": [
    {
     "data": {
      "image/png": "[encoded data removed]",
      "text/plain": [
       "<Figure size 576x288 with 1 Axes>"
      ]
     },
     "metadata": {
      "needs_background": "light"
     },
     "output_type": "display_data"
    }
   ],
   "source": [
    "####FIGURE: Sample loss descent\n",
    "fig, ax = plt.subplots(1,1,figsize=(8, 4))\n",
    "prev_c = 'Initial'\n",
    "starts = []\n",
    "archs = [prev_c]\n",
    "for i in range(len(landscape)):\n",
    "    c = landscape.best_loss_circuit[i]\n",
    "    if c != prev_c: \n",
    "        starts.append(i)\n",
    "        archs.append(c)\n",
    "        prev_c = c\n",
    "starts\n",
    "stops = starts[1:]\n",
    "stops.append(len(landscape))\n",
    "\n",
    "for start, stop, a in zip(starts, stops, archs[1:]):\n",
    "    ax.plot(landscape.index[start:stop+1], landscape.best_losses[start:stop+1], color=palette[a], linewidth=3)\n",
    "ax.set_ylabel('Objective Function Value (log)', fontsize=14)\n",
    "ax.set_yscale('log')\n",
    "ax.set_xlabel('Number of Iterations', fontsize=14)\n",
    "\n",
    "fig.tight_layout()\n",
    "fig.savefig('sample_loss_descent.png', dpi=300)\n"
   ]
  },
  {
   "cell_type": "code",
   "execution_count": 45,
   "metadata": {},
   "outputs": [
    {
     "name": "stderr",
     "output_type": "stream",
     "text": [
      "/Users/charlotte/opt/anaconda3/envs/sundials/lib/python3.9/site-packages/seaborn/relational.py:657: VisibleDeprecationWarning: Creating an ndarray from ragged nested sequences (which is a list-or-tuple of lists-or-tuples-or ndarrays with different lengths or shapes) is deprecated. If you meant to do this, you must specify 'dtype=object' when creating the ndarray.\n",
      "  args = np.asarray(x), np.asarray(y), np.asarray(s), np.asarray(c)\n"
     ]
    },
    {
     "data": {
      "image/png": "[encoded data removed]",
      "text/plain": [
       "<Figure size 576x432 with 5 Axes>"
      ]
     },
     "metadata": {
      "needs_background": "light"
     },
     "output_type": "display_data"
    }
   ],
   "source": [
    "####FIGURE: Sample loss scatter and pie\n",
    "fig = plt.figure(figsize=(8, 6))\n",
    "gs = gridspec.GridSpec(nrows=2, ncols=4, height_ratios=[1, 4], width_ratios=[1, 1, 1, 1])\n",
    "\n",
    "ax = fig.add_subplot(gs[1, :])\n",
    "ax.set_xlabel('Number of Iterations', fontsize=14)\n",
    "ax.set_yscale('log')\n",
    "ax.set_ylim([10E-2, 10E8])\n",
    "sns.scatterplot(x='index', y='loss', hue='Circuit', data=landscape, ax=ax, hue_order=orders, palette=palette, legend=False)\n",
    "ax.vlines(250, 0, 10E9, linestyles='dashed')\n",
    "ax.vlines(500, 0, 10E9, linestyles='dashed')\n",
    "ax.vlines(750, 0, 10E9, linestyles='dashed')\n",
    "ax.set_ylabel(None)\n",
    "\n",
    "\n",
    "quarter1 = (landscape.iloc[0:250].sort_values(by='Circuit').groupby('Circuit').count().loss/250).reset_index()\n",
    "quarter2 = (landscape.iloc[250:500].sort_values(by='Circuit').groupby('Circuit').count().loss/250).reset_index()\n",
    "quarter3 = (landscape.iloc[500:750].sort_values(by='Circuit').groupby('Circuit').count().loss/250).reset_index()\n",
    "quarter4 = (landscape.iloc[750:1000].sort_values(by='Circuit').groupby('Circuit').count().loss/250).reset_index()\n",
    "colors = ['tab:green', 'tab:blue', sns.color_palette()[3],  'tab:orange']\n",
    "\n",
    "ax = fig.add_subplot(gs[0, 0])\n",
    "ax.pie(quarter1.loss, colors=colors)\n",
    "\n",
    "ax = fig.add_subplot(gs[0, 1])\n",
    "ax.pie(quarter2.loss, colors=colors)\n",
    "\n",
    "ax = fig.add_subplot(gs[0, 2])\n",
    "ax.pie(quarter3.loss, colors=colors)\n",
    "\n",
    "ax = fig.add_subplot(gs[0, 3])\n",
    "ax.pie(quarter4.loss, colors=colors)\n",
    "\n",
    "fig.tight_layout()\n",
    "fig.savefig('sample_loss_scatter_pie.png', dpi=300)"
   ]
  },
  {
   "cell_type": "code",
   "execution_count": 46,
   "metadata": {},
   "outputs": [],
   "source": [
    "###Explore kinetic robustness \n",
    "\n",
    "####FIGURE: Kinetic robustness"
   ]
  },
  {
   "cell_type": "code",
   "execution_count": 6,
   "metadata": {},
   "outputs": [
    {
     "name": "stdout",
     "output_type": "stream",
     "text": [
      "100%|██████████| 1000/1000 [00:29<00:00, 33.73trial/s, best loss: 0.407215860827121]\n",
      "100%|██████████| 1000/1000 [00:30<00:00, 33.28trial/s, best loss: 0.1714120722317806]\n",
      "100%|██████████| 1000/1000 [00:28<00:00, 34.84trial/s, best loss: 0.07379058044205387]\n",
      "100%|██████████| 1000/1000 [00:27<00:00, 35.98trial/s, best loss: 2.8415328051547104]\n",
      " 99%|█████████▉| 989/1000 [00:29<00:00, 30.55trial/s, best loss: 0.0]                "
     ]
    },
    {
     "name": "stderr",
     "output_type": "stream",
     "text": [
      "\n",
      "[CVODE ERROR]  CVode\n",
      "  At t = 2476.9, mxstep steps taken before reaching tout.\n",
      "\n"
     ]
    },
    {
     "name": "stdout",
     "output_type": "stream",
     "text": [
      "100%|██████████| 1000/1000 [00:29<00:00, 33.92trial/s, best loss: 0.0]\n",
      "100%|██████████| 1000/1000 [00:28<00:00, 35.53trial/s, best loss: 0.7590305103491934]\n",
      "100%|██████████| 1000/1000 [00:26<00:00, 37.43trial/s, best loss: 0.031793186838977805]\n",
      "100%|██████████| 1000/1000 [00:27<00:00, 36.56trial/s, best loss: 4.867225591025225]\n",
      "100%|██████████| 1000/1000 [00:29<00:00, 34.32trial/s, best loss: 0.6207940902116291]\n",
      " 57%|█████▋    | 566/1000 [00:14<00:11, 36.26trial/s, best loss: 0.0]               "
     ]
    },
    {
     "name": "stderr",
     "output_type": "stream",
     "text": [
      "\n",
      "[CVODE ERROR]  CVode\n",
      "  At t = 2445.14, mxstep steps taken before reaching tout.\n",
      "\n"
     ]
    },
    {
     "name": "stdout",
     "output_type": "stream",
     "text": [
      "100%|██████████| 1000/1000 [00:29<00:00, 34.41trial/s, best loss: 0.0]\n",
      "100%|██████████| 1000/1000 [00:30<00:00, 33.15trial/s, best loss: 0.015016352422391365]\n",
      "100%|██████████| 1000/1000 [00:28<00:00, 34.85trial/s, best loss: 1.2379788391276814]\n",
      "100%|██████████| 1000/1000 [00:28<00:00, 34.88trial/s, best loss: 0.07564384132582441]\n",
      "100%|██████████| 1000/1000 [00:29<00:00, 34.29trial/s, best loss: 0.8912355957245243]\n",
      "100%|██████████| 1000/1000 [00:25<00:00, 39.01trial/s, best loss: 0.0821014790314875]\n",
      "100%|██████████| 1000/1000 [00:25<00:00, 39.21trial/s, best loss: 2.558513686713413]\n",
      "100%|██████████| 1000/1000 [00:28<00:00, 35.52trial/s, best loss: 0.25336283488028444]\n",
      "100%|██████████| 1000/1000 [00:30<00:00, 32.40trial/s, best loss: 0.42288929617592225]\n",
      "100%|██████████| 1000/1000 [00:47<00:00, 20.96trial/s, best loss: 0.010478808191301073]\n",
      "100%|██████████| 1000/1000 [00:27<00:00, 36.62trial/s, best loss: 5.605404870571923]\n",
      "100%|██████████| 1000/1000 [00:28<00:00, 35.49trial/s, best loss: 0.24267146110672427]\n",
      " 70%|███████   | 702/1000 [00:18<00:08, 33.12trial/s, best loss: 0.0]               "
     ]
    },
    {
     "name": "stderr",
     "output_type": "stream",
     "text": [
      "\n",
      "[CVODE ERROR]  CVode\n",
      "  At t = 1403.33, mxstep steps taken before reaching tout.\n",
      "\n"
     ]
    },
    {
     "name": "stdout",
     "output_type": "stream",
     "text": [
      "100%|██████████| 1000/1000 [00:28<00:00, 35.51trial/s, best loss: 0.0]\n",
      "100%|██████████| 1000/1000 [00:27<00:00, 37.02trial/s, best loss: 0.026648068939190937]\n",
      "100%|██████████| 1000/1000 [00:26<00:00, 37.39trial/s, best loss: 1.8858868921371414]\n",
      "100%|██████████| 1000/1000 [00:27<00:00, 36.16trial/s, best loss: 0.03741468806429503]\n",
      "100%|██████████| 1000/1000 [00:27<00:00, 36.40trial/s, best loss: 0.6484212648545777]\n",
      "100%|██████████| 1000/1000 [00:26<00:00, 37.07trial/s, best loss: 0.12000792587576325]\n",
      "100%|██████████| 1000/1000 [00:26<00:00, 37.86trial/s, best loss: 3.629830043233853]\n",
      "100%|██████████| 1000/1000 [00:28<00:00, 35.37trial/s, best loss: 0.13037667477155734]\n",
      "100%|██████████| 1000/1000 [00:27<00:00, 36.50trial/s, best loss: 0.07925307080037891]\n",
      "100%|██████████| 1000/1000 [00:26<00:00, 37.65trial/s, best loss: 0.035294911707713025]\n",
      "100%|██████████| 1000/1000 [00:26<00:00, 37.57trial/s, best loss: 2.3028732077265626]\n",
      "100%|██████████| 1000/1000 [00:27<00:00, 35.91trial/s, best loss: 0.365376541042728]\n",
      "  8%|▊         | 79/1000 [00:01<00:23, 39.04trial/s, best loss: 0.0]               "
     ]
    },
    {
     "name": "stderr",
     "output_type": "stream",
     "text": [
      "\n",
      "[CVODE ERROR]  CVode\n",
      "  At t = 2081.33, mxstep steps taken before reaching tout.\n",
      "\n"
     ]
    },
    {
     "name": "stdout",
     "output_type": "stream",
     "text": [
      "100%|██████████| 1000/1000 [00:27<00:00, 36.84trial/s, best loss: 0.0]\n",
      "100%|██████████| 1000/1000 [00:26<00:00, 37.64trial/s, best loss: 0.0676420017140913]\n",
      "100%|██████████| 1000/1000 [00:26<00:00, 37.91trial/s, best loss: 1.383587615124382]\n",
      " 54%|█████▎    | 537/1000 [00:14<00:12, 35.72trial/s, best loss: 0.0]                "
     ]
    },
    {
     "name": "stderr",
     "output_type": "stream",
     "text": [
      "\n",
      "[CVODE ERROR]  CVode\n",
      "  At t = 2478.78, mxstep steps taken before reaching tout.\n",
      "\n"
     ]
    },
    {
     "name": "stdout",
     "output_type": "stream",
     "text": [
      "100%|██████████| 1000/1000 [00:28<00:00, 35.40trial/s, best loss: 0.0]\n",
      "100%|██████████| 1000/1000 [00:27<00:00, 36.41trial/s, best loss: 0.38110793490014644]\n",
      "100%|██████████| 1000/1000 [00:27<00:00, 36.91trial/s, best loss: 0.08132236345080525]\n",
      "100%|██████████| 1000/1000 [00:26<00:00, 37.04trial/s, best loss: 7.48273819382661] \n",
      "100%|██████████| 1000/1000 [00:28<00:00, 35.55trial/s, best loss: 0.1980536525554582]\n",
      "100%|██████████| 1000/1000 [00:27<00:00, 36.54trial/s, best loss: 0.15417736853615566]\n",
      "100%|██████████| 1000/1000 [00:26<00:00, 37.53trial/s, best loss: 0.01626221598456777]\n",
      " 10%|▉         | 97/1000 [00:02<00:22, 41.01trial/s, best loss: 0.0]               "
     ]
    },
    {
     "name": "stderr",
     "output_type": "stream",
     "text": [
      "\n",
      "[CVODE ERROR]  CVode\n",
      "  At t = 1128.47, mxstep steps taken before reaching tout.\n",
      "\n"
     ]
    },
    {
     "name": "stdout",
     "output_type": "stream",
     "text": [
      " 15%|█▌        | 151/1000 [00:03<00:21, 38.93trial/s, best loss: 0.0]"
     ]
    },
    {
     "name": "stderr",
     "output_type": "stream",
     "text": [
      "\n",
      "[CVODE ERROR]  CVode\n",
      "  At t = 1144.34, mxstep steps taken before reaching tout.\n",
      "\n"
     ]
    },
    {
     "name": "stdout",
     "output_type": "stream",
     "text": [
      " 17%|█▋        | 174/1000 [00:04<00:20, 39.94trial/s, best loss: 0.0]"
     ]
    },
    {
     "name": "stderr",
     "output_type": "stream",
     "text": [
      "\n",
      "[CVODE ERROR]  CVode\n",
      "  At t = 1978.37, mxstep steps taken before reaching tout.\n",
      "\n"
     ]
    },
    {
     "name": "stdout",
     "output_type": "stream",
     "text": [
      "100%|██████████| 1000/1000 [00:27<00:00, 36.33trial/s, best loss: 0.0]\n",
      "100%|██████████| 1000/1000 [00:27<00:00, 35.90trial/s, best loss: 1.2846885742965846]\n",
      "100%|██████████| 1000/1000 [00:27<00:00, 35.79trial/s, best loss: 1.0547220787893306]\n",
      "100%|██████████| 1000/1000 [00:26<00:00, 38.03trial/s, best loss: 0.04153550122942941]\n",
      "100%|██████████| 1000/1000 [00:26<00:00, 37.77trial/s, best loss: 0.5031198150631186]\n",
      "100%|██████████| 1000/1000 [00:27<00:00, 35.95trial/s, best loss: 0.08550762177963916]\n",
      " 50%|████▉     | 496/1000 [00:12<00:13, 36.15trial/s, best loss: 0.0]               "
     ]
    },
    {
     "name": "stderr",
     "output_type": "stream",
     "text": [
      "\n",
      "[CVODE ERROR]  CVode\n",
      "  At t = 1784.37, mxstep steps taken before reaching tout.\n",
      "\n"
     ]
    },
    {
     "name": "stdout",
     "output_type": "stream",
     "text": [
      "100%|██████████| 1000/1000 [00:27<00:00, 35.97trial/s, best loss: 0.0]\n",
      "100%|██████████| 1000/1000 [00:28<00:00, 35.28trial/s, best loss: 0.11178356943429228]\n",
      "100%|██████████| 1000/1000 [00:29<00:00, 34.39trial/s, best loss: 4.59001081150017] \n",
      "100%|██████████| 1000/1000 [00:28<00:00, 35.17trial/s, best loss: 0.0692165120096575]\n",
      "100%|██████████| 1000/1000 [00:28<00:00, 35.26trial/s, best loss: 0.42277315340448834]\n",
      " 57%|█████▊    | 575/1000 [00:14<00:11, 35.73trial/s, best loss: 0.0]                "
     ]
    },
    {
     "name": "stderr",
     "output_type": "stream",
     "text": [
      "\n",
      "[CVODE ERROR]  CVode\n",
      "  At t = 874.99, mxstep steps taken before reaching tout.\n",
      "\n"
     ]
    },
    {
     "name": "stdout",
     "output_type": "stream",
     "text": [
      "100%|██████████| 1000/1000 [00:26<00:00, 37.55trial/s, best loss: 0.0]\n",
      "100%|██████████| 1000/1000 [00:26<00:00, 38.16trial/s, best loss: 0.15794224582481384]\n",
      "100%|██████████| 1000/1000 [00:28<00:00, 35.65trial/s, best loss: 5.968315265935047]\n",
      "100%|██████████| 1000/1000 [00:28<00:00, 35.42trial/s, best loss: 0.2166706471719714]\n",
      " 53%|█████▎    | 530/1000 [00:13<00:12, 37.22trial/s, best loss: 0.0]                 "
     ]
    },
    {
     "name": "stderr",
     "output_type": "stream",
     "text": [
      "\n",
      "[CVODE ERROR]  CVode\n",
      "  At t = 1971.97, mxstep steps taken before reaching tout.\n",
      "\n"
     ]
    },
    {
     "name": "stdout",
     "output_type": "stream",
     "text": [
      "100%|██████████| 1000/1000 [00:26<00:00, 37.07trial/s, best loss: 0.0]\n",
      " 64%|██████▍   | 643/1000 [00:16<00:09, 35.76trial/s, best loss: 0.0]               "
     ]
    },
    {
     "name": "stderr",
     "output_type": "stream",
     "text": [
      "\n",
      "[CVODE ERROR]  CVode\n",
      "  At t = 1645.65, mxstep steps taken before reaching tout.\n",
      "\n"
     ]
    },
    {
     "name": "stdout",
     "output_type": "stream",
     "text": [
      "100%|██████████| 1000/1000 [00:26<00:00, 37.15trial/s, best loss: 0.0]\n",
      "100%|██████████| 1000/1000 [00:27<00:00, 36.63trial/s, best loss: 2.6103154316846626]\n",
      "100%|██████████| 1000/1000 [00:27<00:00, 36.25trial/s, best loss: 0.2597553614079574]\n",
      "100%|██████████| 1000/1000 [00:27<00:00, 36.75trial/s, best loss: 0.1855665462536824]\n",
      "100%|██████████| 1000/1000 [00:25<00:00, 38.58trial/s, best loss: 4.566910816782158]\n",
      "100%|██████████| 1000/1000 [00:27<00:00, 36.02trial/s, best loss: 0.3733851244052328]\n",
      "100%|██████████| 1000/1000 [00:26<00:00, 37.27trial/s, best loss: 0.21949717503757152]\n",
      "100%|██████████| 1000/1000 [00:26<00:00, 37.72trial/s, best loss: 0.0690583410741753]\n",
      "100%|██████████| 1000/1000 [00:25<00:00, 38.47trial/s, best loss: 0.41573668371918426]\n",
      "100%|██████████| 1000/1000 [00:28<00:00, 35.61trial/s, best loss: 0.16217574284401304]\n",
      "100%|██████████| 1000/1000 [00:27<00:00, 36.24trial/s, best loss: 0.142894052341023]\n",
      "100%|██████████| 1000/1000 [00:26<00:00, 37.78trial/s, best loss: 0.05179002076316077]\n",
      "100%|██████████| 1000/1000 [00:26<00:00, 37.94trial/s, best loss: 0.6711948418890953]\n",
      "100%|██████████| 1000/1000 [00:27<00:00, 35.89trial/s, best loss: 3.132325835868138]\n",
      " 94%|█████████▎| 937/1000 [00:25<00:01, 32.13trial/s, best loss: 0.0]               "
     ]
    },
    {
     "name": "stderr",
     "output_type": "stream",
     "text": [
      "\n",
      "[CVODE ERROR]  CVode\n",
      "  At t = 1136.78, mxstep steps taken before reaching tout.\n",
      "\n"
     ]
    },
    {
     "name": "stdout",
     "output_type": "stream",
     "text": [
      "100%|██████████| 1000/1000 [00:27<00:00, 36.09trial/s, best loss: 0.0]\n",
      "100%|██████████| 1000/1000 [00:25<00:00, 38.66trial/s, best loss: 0.044434676371478674]\n",
      "100%|██████████| 1000/1000 [00:26<00:00, 38.11trial/s, best loss: 2.354587247562148]\n",
      "100%|██████████| 1000/1000 [00:27<00:00, 36.44trial/s, best loss: 0.24374243521584357]\n",
      "100%|██████████| 1000/1000 [00:27<00:00, 36.49trial/s, best loss: 1.1688318734856122]\n",
      "100%|██████████| 1000/1000 [00:26<00:00, 37.11trial/s, best loss: 0.15210172161467148]\n",
      "100%|██████████| 1000/1000 [00:26<00:00, 38.32trial/s, best loss: 1.3176440517370642]\n",
      "100%|██████████| 1000/1000 [00:27<00:00, 36.22trial/s, best loss: 1.449188411709901]\n",
      " 35%|███▍      | 349/1000 [00:08<00:18, 35.97trial/s, best loss: 0.0]               "
     ]
    },
    {
     "name": "stderr",
     "output_type": "stream",
     "text": [
      "\n",
      "[CVODE ERROR]  CVode\n",
      "  At t = 1500.04, mxstep steps taken before reaching tout.\n",
      "\n"
     ]
    },
    {
     "name": "stdout",
     "output_type": "stream",
     "text": [
      "100%|██████████| 1000/1000 [00:27<00:00, 36.07trial/s, best loss: 0.0]\n",
      "100%|██████████| 1000/1000 [00:26<00:00, 37.23trial/s, best loss: 0.07187902087673845]\n",
      "100%|██████████| 1000/1000 [00:26<00:00, 37.72trial/s, best loss: 0.9855788891460415]\n",
      " 36%|███▌      | 355/1000 [00:09<00:21, 30.04trial/s, best loss: 0.0]               "
     ]
    },
    {
     "name": "stderr",
     "output_type": "stream",
     "text": [
      "\n",
      "[CVODE ERROR]  CVode\n",
      "  At t = 1030.72, mxstep steps taken before reaching tout.\n",
      "\n"
     ]
    },
    {
     "name": "stdout",
     "output_type": "stream",
     "text": [
      "100%|██████████| 1000/1000 [00:27<00:00, 35.74trial/s, best loss: 0.0]\n",
      "100%|██████████| 1000/1000 [00:29<00:00, 34.46trial/s, best loss: 0.5651326017059921]\n",
      "100%|██████████| 1000/1000 [00:26<00:00, 38.02trial/s, best loss: 0.004725272210169429]\n",
      "100%|██████████| 1000/1000 [00:26<00:00, 37.52trial/s, best loss: 2.127308146737433]\n",
      "100%|██████████| 1000/1000 [00:27<00:00, 35.86trial/s, best loss: 0.6034526228881258]\n",
      "100%|██████████| 1000/1000 [00:27<00:00, 35.96trial/s, best loss: 1.2269729355051382]\n",
      "100%|██████████| 1000/1000 [00:26<00:00, 37.59trial/s, best loss: 0.07577731073232814]\n",
      "100%|██████████| 1000/1000 [00:25<00:00, 38.56trial/s, best loss: 6.570124940222502]\n",
      "100%|██████████| 1000/1000 [00:27<00:00, 36.03trial/s, best loss: 0.10635102972158234]\n",
      "100%|██████████| 1000/1000 [00:27<00:00, 36.02trial/s, best loss: 0.5128642505414591]\n",
      "100%|██████████| 1000/1000 [00:26<00:00, 37.14trial/s, best loss: 0.14111769340303656]\n",
      "100%|██████████| 1000/1000 [00:26<00:00, 38.32trial/s, best loss: 3.2915799501195986]\n",
      "100%|██████████| 1000/1000 [00:28<00:00, 35.58trial/s, best loss: 0.4308494833661171]\n",
      "100%|██████████| 1000/1000 [00:28<00:00, 35.30trial/s, best loss: 1.1090796116911357]\n",
      "100%|██████████| 1000/1000 [00:26<00:00, 38.23trial/s, best loss: 0.09888465326170782]\n",
      "100%|██████████| 1000/1000 [00:26<00:00, 38.19trial/s, best loss: 3.6245044562361044]\n",
      "100%|██████████| 1000/1000 [00:28<00:00, 35.52trial/s, best loss: 0.07591042634529621]\n",
      "100%|██████████| 1000/1000 [00:27<00:00, 35.93trial/s, best loss: 1.7236207997744397]\n",
      " 11%|█         | 111/1000 [00:02<00:22, 40.04trial/s, best loss: 0.0]                "
     ]
    },
    {
     "name": "stderr",
     "output_type": "stream",
     "text": [
      "\n",
      "[CVODE ERROR]  CVode\n",
      "  At t = 1567.46, mxstep steps taken before reaching tout.\n",
      "\n"
     ]
    },
    {
     "name": "stdout",
     "output_type": "stream",
     "text": [
      "100%|██████████| 1000/1000 [00:27<00:00, 36.73trial/s, best loss: 0.0]\n",
      " 97%|█████████▋| 966/1000 [00:25<00:01, 33.02trial/s, best loss: 0.0]               "
     ]
    },
    {
     "name": "stderr",
     "output_type": "stream",
     "text": [
      "\n",
      "[CVODE ERROR]  CVode\n",
      "  At t = 1862.66, mxstep steps taken before reaching tout.\n",
      "\n"
     ]
    },
    {
     "name": "stdout",
     "output_type": "stream",
     "text": [
      "100%|██████████| 1000/1000 [00:26<00:00, 37.58trial/s, best loss: 0.0]\n",
      "100%|██████████| 1000/1000 [00:28<00:00, 35.67trial/s, best loss: 0.07390073836434963]\n",
      "100%|██████████| 1000/1000 [00:27<00:00, 36.45trial/s, best loss: 1.7264549582458124]\n",
      "100%|██████████| 1000/1000 [00:27<00:00, 36.84trial/s, best loss: 0.06938349056209475]\n",
      "100%|██████████| 1000/1000 [00:26<00:00, 38.19trial/s, best loss: 0.4425463319449704]\n",
      "100%|██████████| 1000/1000 [00:28<00:00, 35.54trial/s, best loss: 0.17951725623406906]\n",
      "100%|██████████| 1000/1000 [00:27<00:00, 35.84trial/s, best loss: 0.2051267674680813]\n",
      "100%|██████████| 1000/1000 [00:27<00:00, 37.02trial/s, best loss: 0.019243910494301325]\n",
      "100%|██████████| 1000/1000 [00:26<00:00, 37.40trial/s, best loss: 0.8708299924142053]\n",
      "100%|██████████| 1000/1000 [00:28<00:00, 35.32trial/s, best loss: 0.6311237883525381]\n",
      "100%|██████████| 1000/1000 [00:28<00:00, 35.52trial/s, best loss: 0.23426393879568758]\n",
      "100%|██████████| 1000/1000 [00:27<00:00, 36.52trial/s, best loss: 0.018237735928344725]\n",
      "100%|██████████| 1000/1000 [00:27<00:00, 36.90trial/s, best loss: 1.538424788043181]\n",
      "100%|██████████| 1000/1000 [00:27<00:00, 35.79trial/s, best loss: 0.42110843706963946]\n",
      "100%|██████████| 1000/1000 [00:28<00:00, 35.58trial/s, best loss: 0.46106426544143914]\n",
      "  2%|▏         | 22/1000 [00:00<00:20, 48.32trial/s, best loss: 0.0]               "
     ]
    },
    {
     "name": "stderr",
     "output_type": "stream",
     "text": [
      "\n",
      "[CVODE ERROR]  CVode\n",
      "  At t = 1583.2, mxstep steps taken before reaching tout.\n",
      "\n"
     ]
    },
    {
     "name": "stdout",
     "output_type": "stream",
     "text": [
      "100%|██████████| 1000/1000 [00:27<00:00, 36.73trial/s, best loss: 0.0]\n",
      "100%|██████████| 1000/1000 [00:26<00:00, 37.10trial/s, best loss: 2.321033814011444]\n",
      "100%|██████████| 1000/1000 [00:28<00:00, 34.96trial/s, best loss: 0.43051713335853276]\n",
      "100%|██████████| 1000/1000 [00:28<00:00, 35.49trial/s, best loss: 1.155914043865787]\n",
      " 66%|██████▌   | 660/1000 [00:17<00:10, 33.95trial/s, best loss: 0.0]                "
     ]
    },
    {
     "name": "stderr",
     "output_type": "stream",
     "text": [
      "\n",
      "[CVODE ERROR]  CVode\n",
      "  At t = 2223.99, mxstep steps taken before reaching tout.\n",
      "\n"
     ]
    },
    {
     "name": "stdout",
     "output_type": "stream",
     "text": [
      "100%|██████████| 1000/1000 [00:27<00:00, 36.98trial/s, best loss: 0.0]\n",
      "100%|██████████| 1000/1000 [00:25<00:00, 38.47trial/s, best loss: 0.6007899455037852]\n",
      "100%|██████████| 1000/1000 [00:27<00:00, 36.38trial/s, best loss: 0.6880713900441101]\n",
      "100%|██████████| 1000/1000 [00:27<00:00, 35.96trial/s, best loss: 0.2044440583443664]\n",
      "100%|██████████| 1000/1000 [00:26<00:00, 37.37trial/s, best loss: 0.08749923201778341]\n",
      "100%|██████████| 1000/1000 [00:26<00:00, 38.12trial/s, best loss: 9.19651220040198] \n",
      "100%|██████████| 1000/1000 [00:28<00:00, 35.55trial/s, best loss: 0.290647599718318]\n",
      "100%|██████████| 1000/1000 [00:27<00:00, 36.68trial/s, best loss: 0.06053232908073282]\n",
      "100%|██████████| 1000/1000 [00:26<00:00, 38.10trial/s, best loss: 0.029777319287710175]\n",
      "100%|██████████| 1000/1000 [00:26<00:00, 37.87trial/s, best loss: 5.93892766062626] \n",
      "100%|██████████| 1000/1000 [00:28<00:00, 35.70trial/s, best loss: 0.4504086237775871]\n",
      "100%|██████████| 1000/1000 [00:27<00:00, 36.08trial/s, best loss: 0.32773387863680187]\n",
      "100%|██████████| 1000/1000 [00:27<00:00, 36.59trial/s, best loss: 0.004415918352124624]\n",
      "100%|██████████| 1000/1000 [00:26<00:00, 37.13trial/s, best loss: 2.1038700053870243]\n",
      "100%|██████████| 1000/1000 [00:27<00:00, 35.83trial/s, best loss: 0.6390177364363168]\n",
      "100%|██████████| 1000/1000 [00:27<00:00, 35.86trial/s, best loss: 1.1186782165104814]\n",
      "100%|██████████| 1000/1000 [00:26<00:00, 37.24trial/s, best loss: 0.041439191603879336]\n",
      "100%|██████████| 1000/1000 [00:26<00:00, 37.85trial/s, best loss: 6.301991439033168]\n",
      "100%|██████████| 1000/1000 [00:27<00:00, 35.95trial/s, best loss: 0.06610575587403347]\n",
      "100%|██████████| 1000/1000 [00:27<00:00, 36.30trial/s, best loss: 0.6349540601525594]\n",
      "100%|██████████| 1000/1000 [00:26<00:00, 38.31trial/s, best loss: 0.04533438359243657]\n",
      "100%|██████████| 1000/1000 [00:26<00:00, 37.83trial/s, best loss: 32.01323292103645]\n",
      "100%|██████████| 1000/1000 [00:29<00:00, 33.86trial/s, best loss: 0.2758398778710701]\n",
      "100%|██████████| 1000/1000 [00:27<00:00, 36.84trial/s, best loss: 0.10716570921537048]\n",
      "100%|██████████| 1000/1000 [00:26<00:00, 37.24trial/s, best loss: 0.004635910468314229]\n",
      "100%|██████████| 1000/1000 [00:28<00:00, 35.11trial/s, best loss: 1.016849849222986]\n",
      "100%|██████████| 1000/1000 [00:28<00:00, 35.56trial/s, best loss: 0.05589909697554998]\n",
      "100%|██████████| 1000/1000 [00:27<00:00, 36.12trial/s, best loss: 0.5557411202768564]\n",
      " 44%|████▍     | 438/1000 [00:10<00:14, 38.74trial/s, best loss: 0.0]                "
     ]
    },
    {
     "name": "stderr",
     "output_type": "stream",
     "text": [
      "\n",
      "[CVODE ERROR]  CVode\n",
      "  At t = 2288.03, mxstep steps taken before reaching tout.\n",
      "\n"
     ]
    },
    {
     "name": "stdout",
     "output_type": "stream",
     "text": [
      " 86%|████████▌ | 855/1000 [00:22<00:04, 33.83trial/s, best loss: 0.0]"
     ]
    },
    {
     "name": "stderr",
     "output_type": "stream",
     "text": [
      "\n",
      "[CVODE ERROR]  CVode\n",
      "  At t = 839.857, mxstep steps taken before reaching tout.\n",
      "\n"
     ]
    },
    {
     "name": "stdout",
     "output_type": "stream",
     "text": [
      "100%|██████████| 1000/1000 [00:26<00:00, 37.05trial/s, best loss: 0.0]\n",
      "100%|██████████| 1000/1000 [00:26<00:00, 37.45trial/s, best loss: 2.4620557378307217]\n",
      "100%|██████████| 1000/1000 [00:27<00:00, 36.60trial/s, best loss: 2.4697109290865082]\n",
      "100%|██████████| 1000/1000 [00:27<00:00, 36.27trial/s, best loss: 0.4708435106029314]\n",
      "100%|██████████| 1000/1000 [00:26<00:00, 38.41trial/s, best loss: 0.1001712296345182]\n",
      "100%|██████████| 1000/1000 [00:26<00:00, 38.17trial/s, best loss: 1.023993677207694]\n",
      "100%|██████████| 1000/1000 [00:27<00:00, 35.90trial/s, best loss: 0.527483061632228]\n",
      "100%|██████████| 1000/1000 [00:27<00:00, 36.58trial/s, best loss: 0.2807224053772036]\n",
      "100%|██████████| 1000/1000 [00:26<00:00, 38.39trial/s, best loss: 0.05652754191163713]\n",
      "100%|██████████| 1000/1000 [00:26<00:00, 37.96trial/s, best loss: 0.896525777969339]\n",
      "100%|██████████| 1000/1000 [00:28<00:00, 35.66trial/s, best loss: 0.10297500038804638]\n",
      "100%|██████████| 1000/1000 [00:27<00:00, 36.69trial/s, best loss: 0.059309725175933865]\n",
      "100%|██████████| 1000/1000 [00:26<00:00, 37.99trial/s, best loss: 0.014331338694582453]\n",
      "  7%|▋         | 66/1000 [00:01<00:22, 40.91trial/s, best loss: 0.0]               "
     ]
    },
    {
     "name": "stderr",
     "output_type": "stream",
     "text": [
      "\n",
      "[CVODE ERROR]  CVode\n",
      "  At t = 2231.9, mxstep steps taken before reaching tout.\n",
      "\n"
     ]
    },
    {
     "name": "stdout",
     "output_type": "stream",
     "text": [
      "100%|██████████| 1000/1000 [00:26<00:00, 37.05trial/s, best loss: 0.0]\n",
      "100%|██████████| 1000/1000 [00:27<00:00, 36.26trial/s, best loss: 0.32053745349050583]\n",
      "100%|██████████| 1000/1000 [00:27<00:00, 36.51trial/s, best loss: 0.2947350579556446]\n",
      " 72%|███████▏  | 716/1000 [00:18<00:08, 33.34trial/s, best loss: 0.0]               "
     ]
    },
    {
     "name": "stderr",
     "output_type": "stream",
     "text": [
      "\n",
      "[CVODE ERROR]  CVode\n",
      "  At t = 2251.75, mxstep steps taken before reaching tout.\n",
      "\n"
     ]
    },
    {
     "name": "stdout",
     "output_type": "stream",
     "text": [
      "100%|██████████| 1000/1000 [00:27<00:00, 35.95trial/s, best loss: 0.0]\n",
      "100%|██████████| 1000/1000 [00:26<00:00, 38.07trial/s, best loss: 2.431871910199975]\n",
      "100%|██████████| 1000/1000 [00:27<00:00, 36.48trial/s, best loss: 0.07997589516137452]\n",
      "100%|██████████| 1000/1000 [00:27<00:00, 36.80trial/s, best loss: 0.7523738473063314]\n",
      "100%|██████████| 1000/1000 [00:27<00:00, 37.01trial/s, best loss: 0.10553123626152443]\n",
      "100%|██████████| 1000/1000 [00:25<00:00, 38.70trial/s, best loss: 0.7532812339408381]\n",
      "100%|██████████| 1000/1000 [00:27<00:00, 35.77trial/s, best loss: 0.553822043299793]\n",
      "100%|██████████| 1000/1000 [00:27<00:00, 36.63trial/s, best loss: 0.21844819500228319]\n",
      " 19%|█▊        | 187/1000 [00:04<00:20, 40.57trial/s, best loss: 0.0]               "
     ]
    },
    {
     "name": "stderr",
     "output_type": "stream",
     "text": [
      "\n",
      "[CVODE ERROR]  CVode\n",
      "  At t = 879.403, mxstep steps taken before reaching tout.\n",
      "\n"
     ]
    },
    {
     "name": "stdout",
     "output_type": "stream",
     "text": [
      "100%|██████████| 1000/1000 [00:26<00:00, 37.79trial/s, best loss: 0.0]\n",
      "100%|██████████| 1000/1000 [00:26<00:00, 37.97trial/s, best loss: 4.854478735230873]\n",
      " 72%|███████▏  | 723/1000 [00:19<00:08, 33.52trial/s, best loss: 0.0]               "
     ]
    },
    {
     "name": "stderr",
     "output_type": "stream",
     "text": [
      "\n",
      "[CVODE ERROR]  CVode\n",
      "  At t = 2404.92, mxstep steps taken before reaching tout.\n",
      "\n"
     ]
    },
    {
     "name": "stdout",
     "output_type": "stream",
     "text": [
      "100%|██████████| 1000/1000 [00:27<00:00, 35.71trial/s, best loss: 0.0]\n",
      "100%|██████████| 1000/1000 [00:27<00:00, 35.77trial/s, best loss: 0.505948554842341]\n",
      "100%|██████████| 1000/1000 [00:26<00:00, 37.55trial/s, best loss: 0.05072165083222695]\n",
      "100%|██████████| 1000/1000 [00:26<00:00, 37.97trial/s, best loss: 14.15088205489305]\n",
      "100%|██████████| 1000/1000 [00:27<00:00, 36.15trial/s, best loss: 0.7207112858631253]\n",
      "100%|██████████| 1000/1000 [00:27<00:00, 36.60trial/s, best loss: 0.22548344286927396]\n",
      "100%|██████████| 1000/1000 [00:25<00:00, 38.61trial/s, best loss: 0.04933022379071677]\n",
      "100%|██████████| 1000/1000 [00:26<00:00, 37.86trial/s, best loss: 5.238441760227331]\n",
      "100%|██████████| 1000/1000 [00:27<00:00, 36.05trial/s, best loss: 0.15250192962281559]\n",
      "100%|██████████| 1000/1000 [00:27<00:00, 37.00trial/s, best loss: 0.2598714588249086]\n",
      "100%|██████████| 1000/1000 [00:26<00:00, 38.10trial/s, best loss: 0.12063878457480293]\n",
      "100%|██████████| 1000/1000 [00:26<00:00, 38.05trial/s, best loss: 3.945831271570025]\n",
      "100%|██████████| 1000/1000 [00:27<00:00, 35.83trial/s, best loss: 0.11865608494062264]\n",
      "100%|██████████| 1000/1000 [00:28<00:00, 35.39trial/s, best loss: 0.5043308572961679]\n",
      "100%|██████████| 1000/1000 [00:25<00:00, 38.58trial/s, best loss: 0.042087277803400276]\n",
      "100%|██████████| 1000/1000 [00:25<00:00, 38.58trial/s, best loss: 3.8315338747934287]\n",
      "100%|██████████| 1000/1000 [00:27<00:00, 36.76trial/s, best loss: 0.06208352391365934]\n",
      " 27%|██▋       | 267/1000 [00:06<00:19, 38.23trial/s, best loss: 0.0]               "
     ]
    },
    {
     "name": "stderr",
     "output_type": "stream",
     "text": [
      "\n",
      "[CVODE ERROR]  CVode\n",
      "  At t = 1434.36, mxstep steps taken before reaching tout.\n",
      "\n"
     ]
    },
    {
     "name": "stdout",
     "output_type": "stream",
     "text": [
      "100%|██████████| 1000/1000 [00:27<00:00, 36.83trial/s, best loss: 0.0]\n",
      "100%|██████████| 1000/1000 [00:25<00:00, 39.00trial/s, best loss: 0.04634841810605551]\n",
      "100%|██████████| 1000/1000 [00:25<00:00, 38.67trial/s, best loss: 2.2267981654365867]\n",
      "100%|██████████| 1000/1000 [00:26<00:00, 37.11trial/s, best loss: 3.452891824680515]\n",
      "100%|██████████| 1000/1000 [00:27<00:00, 36.96trial/s, best loss: 0.4764831565540891]\n",
      "100%|██████████| 1000/1000 [00:26<00:00, 38.13trial/s, best loss: 0.08250462584723325]\n",
      " 98%|█████████▊| 982/1000 [00:25<00:00, 33.89trial/s, best loss: 0.0]               "
     ]
    },
    {
     "name": "stderr",
     "output_type": "stream",
     "text": [
      "\n",
      "[CVODE ERROR]  CVode\n",
      "  At t = 2127.81, mxstep steps taken before reaching tout.\n",
      "\n"
     ]
    },
    {
     "name": "stdout",
     "output_type": "stream",
     "text": [
      "100%|██████████| 1000/1000 [00:26<00:00, 38.44trial/s, best loss: 0.0]\n",
      "100%|██████████| 1000/1000 [00:27<00:00, 36.74trial/s, best loss: 0.7825523600217751]\n",
      "100%|██████████| 1000/1000 [00:27<00:00, 36.58trial/s, best loss: 2.441182682601409]\n",
      "100%|██████████| 1000/1000 [00:25<00:00, 39.12trial/s, best loss: 0.078885913043875] \n",
      " 71%|███████   | 708/1000 [00:17<00:07, 36.71trial/s, best loss: 0.0]               "
     ]
    },
    {
     "name": "stderr",
     "output_type": "stream",
     "text": [
      "\n",
      "[CVODE ERROR]  CVode\n",
      "  At t = 1823.19, mxstep steps taken before reaching tout.\n",
      "\n"
     ]
    },
    {
     "name": "stdout",
     "output_type": "stream",
     "text": [
      "100%|██████████| 1000/1000 [00:25<00:00, 38.97trial/s, best loss: 0.0]\n",
      "100%|██████████| 1000/1000 [00:27<00:00, 36.68trial/s, best loss: 0.4263893207726129]\n",
      "100%|██████████| 1000/1000 [00:27<00:00, 37.00trial/s, best loss: 0.5078019770416201]\n",
      "100%|██████████| 1000/1000 [00:25<00:00, 38.74trial/s, best loss: 0.07312600468792516]\n",
      "100%|██████████| 1000/1000 [00:25<00:00, 38.97trial/s, best loss: 1.284760146255942]\n",
      "100%|██████████| 1000/1000 [00:26<00:00, 37.10trial/s, best loss: 0.10532915666683638]\n",
      "100%|██████████| 1000/1000 [00:26<00:00, 37.11trial/s, best loss: 0.5207390854376017]\n",
      "100%|██████████| 1000/1000 [00:26<00:00, 38.21trial/s, best loss: 0.18699333032879245]\n",
      "100%|██████████| 1000/1000 [00:25<00:00, 39.13trial/s, best loss: 3.209460144278869]\n",
      "100%|██████████| 1000/1000 [00:27<00:00, 36.66trial/s, best loss: 0.11533832097499938]\n",
      " 10%|▉         | 95/1000 [00:02<00:22, 39.62trial/s, best loss: 0.0]               "
     ]
    },
    {
     "name": "stderr",
     "output_type": "stream",
     "text": [
      "\n",
      "[CVODE ERROR]  CVode\n",
      "  At t = 1879.04, mxstep steps taken before reaching tout.\n",
      "\n"
     ]
    },
    {
     "name": "stdout",
     "output_type": "stream",
     "text": [
      "100%|██████████| 1000/1000 [00:27<00:00, 36.82trial/s, best loss: 0.0]\n",
      "100%|██████████| 1000/1000 [00:25<00:00, 38.66trial/s, best loss: 0.060346652131449414]\n",
      "100%|██████████| 1000/1000 [00:25<00:00, 39.07trial/s, best loss: 1.3722930997656542]\n",
      "100%|██████████| 1000/1000 [00:27<00:00, 36.79trial/s, best loss: 0.6962741854116299]\n",
      "100%|██████████| 1000/1000 [00:27<00:00, 36.35trial/s, best loss: 1.44747805569809] \n",
      "100%|██████████| 1000/1000 [00:25<00:00, 38.93trial/s, best loss: 0.07568240892153398]\n",
      "100%|██████████| 1000/1000 [00:25<00:00, 39.06trial/s, best loss: 1.8649276454479398]\n",
      "100%|██████████| 1000/1000 [00:26<00:00, 37.14trial/s, best loss: 0.0]              \n",
      "  0%|          | 5/1000 [00:00<00:20, 47.77trial/s, best loss: 20416955.961140893]"
     ]
    },
    {
     "name": "stderr",
     "output_type": "stream",
     "text": [
      "\n",
      "[CVODE ERROR]  CVode\n",
      "  At t = 1929.84, mxstep steps taken before reaching tout.\n",
      "\n"
     ]
    },
    {
     "name": "stdout",
     "output_type": "stream",
     "text": [
      "100%|██████████| 1000/1000 [00:27<00:00, 36.32trial/s, best loss: 0.5482966874946662]\n",
      " 50%|█████     | 503/1000 [00:12<00:13, 36.28trial/s, best loss: 0.0]                "
     ]
    },
    {
     "name": "stderr",
     "output_type": "stream",
     "text": [
      "\n",
      "[CVODE ERROR]  CVode\n",
      "  At t = 2413.13, mxstep steps taken before reaching tout.\n",
      "\n"
     ]
    },
    {
     "name": "stdout",
     "output_type": "stream",
     "text": [
      "100%|██████████| 1000/1000 [00:26<00:00, 37.54trial/s, best loss: 0.0]\n",
      "100%|██████████| 1000/1000 [00:25<00:00, 38.57trial/s, best loss: 3.8111364539536616]\n",
      "100%|██████████| 1000/1000 [00:27<00:00, 36.86trial/s, best loss: 0.4704768229087169]\n",
      "100%|██████████| 1000/1000 [00:26<00:00, 37.23trial/s, best loss: 0.3573051217108011]\n",
      "100%|██████████| 1000/1000 [00:25<00:00, 39.07trial/s, best loss: 0.046767674642646376]\n",
      "  3%|▎         | 28/1000 [00:00<00:21, 45.01trial/s, best loss: 0.0]               "
     ]
    },
    {
     "name": "stderr",
     "output_type": "stream",
     "text": [
      "\n",
      "[CVODE ERROR]  CVode\n",
      "  At t = 1316.2, mxstep steps taken before reaching tout.\n",
      "\n"
     ]
    },
    {
     "name": "stdout",
     "output_type": "stream",
     "text": [
      "100%|██████████| 1000/1000 [00:26<00:00, 38.05trial/s, best loss: 0.0]\n",
      "100%|██████████| 1000/1000 [00:27<00:00, 36.36trial/s, best loss: 0.013407301248043313]\n",
      " 15%|█▌        | 154/1000 [00:03<00:20, 41.10trial/s, best loss: 0.0]              "
     ]
    },
    {
     "name": "stderr",
     "output_type": "stream",
     "text": [
      "\n",
      "[CVODE ERROR]  CVode\n",
      "  At t = 2318.62, mxstep steps taken before reaching tout.\n",
      "\n"
     ]
    },
    {
     "name": "stdout",
     "output_type": "stream",
     "text": [
      "100%|██████████| 1000/1000 [00:27<00:00, 37.02trial/s, best loss: 0.0]\n",
      "100%|██████████| 1000/1000 [00:25<00:00, 38.98trial/s, best loss: 0.008372529352307038]\n",
      "  8%|▊         | 80/1000 [00:01<00:22, 41.72trial/s, best loss: 0.0]               "
     ]
    },
    {
     "name": "stderr",
     "output_type": "stream",
     "text": [
      "\n",
      "[CVODE ERROR]  CVode\n",
      "  At t = 2139.2, mxstep steps taken before reaching tout.\n",
      "\n"
     ]
    },
    {
     "name": "stdout",
     "output_type": "stream",
     "text": [
      "100%|██████████| 1000/1000 [00:26<00:00, 37.51trial/s, best loss: 0.0]\n",
      "100%|██████████| 1000/1000 [00:27<00:00, 37.01trial/s, best loss: 0.1082618608449007]\n",
      "100%|██████████| 1000/1000 [00:27<00:00, 36.74trial/s, best loss: 0.44385039164046286]\n",
      "100%|██████████| 1000/1000 [00:25<00:00, 38.87trial/s, best loss: 0.0569013078602619]\n",
      "100%|██████████| 1000/1000 [00:25<00:00, 38.99trial/s, best loss: 9.902023652798553]\n",
      "100%|██████████| 1000/1000 [00:27<00:00, 36.35trial/s, best loss: 2.3382392659621187]\n",
      "100%|██████████| 1000/1000 [00:27<00:00, 36.53trial/s, best loss: 0.05437119206024061]\n",
      "100%|██████████| 1000/1000 [00:26<00:00, 37.13trial/s, best loss: 0.01587636639608039]\n",
      "100%|██████████| 1000/1000 [00:26<00:00, 37.39trial/s, best loss: 0.18260184299105195]\n",
      "100%|██████████| 1000/1000 [00:28<00:00, 35.52trial/s, best loss: 0.48711653937909927]\n",
      " 74%|███████▎  | 735/1000 [00:19<00:08, 32.73trial/s, best loss: 0.0]                "
     ]
    },
    {
     "name": "stderr",
     "output_type": "stream",
     "text": [
      "\n",
      "[CVODE ERROR]  CVode\n",
      "  At t = 1222.56, mxstep steps taken before reaching tout.\n",
      "\n"
     ]
    },
    {
     "name": "stdout",
     "output_type": "stream",
     "text": [
      "100%|██████████| 1000/1000 [00:28<00:00, 34.97trial/s, best loss: 0.0]\n",
      "100%|██████████| 1000/1000 [00:26<00:00, 37.29trial/s, best loss: 0.0009040760213554731]\n",
      "100%|██████████| 1000/1000 [00:26<00:00, 37.35trial/s, best loss: 2.021606292893695]\n",
      "100%|██████████| 1000/1000 [00:27<00:00, 36.76trial/s, best loss: 0.4755310395053386]\n",
      "100%|██████████| 1000/1000 [00:27<00:00, 36.53trial/s, best loss: 0.5519241043813391]\n",
      "100%|██████████| 1000/1000 [00:25<00:00, 39.36trial/s, best loss: 0.04751367317127351]\n",
      " 96%|█████████▋| 964/1000 [00:24<00:01, 32.74trial/s, best loss: 0.0]               "
     ]
    },
    {
     "name": "stderr",
     "output_type": "stream",
     "text": [
      "\n",
      "[CVODE ERROR]  CVode\n",
      "  At t = 1159.91, mxstep steps taken before reaching tout.\n",
      "\n"
     ]
    },
    {
     "name": "stdout",
     "output_type": "stream",
     "text": [
      "100%|██████████| 1000/1000 [00:25<00:00, 38.47trial/s, best loss: 0.0]\n",
      "100%|██████████| 1000/1000 [00:27<00:00, 36.93trial/s, best loss: 7.621308070742616]\n",
      "100%|██████████| 1000/1000 [00:26<00:00, 37.44trial/s, best loss: 0.3117549492161543]\n",
      "100%|██████████| 1000/1000 [00:26<00:00, 37.74trial/s, best loss: 0.17229601898816205]\n",
      "100%|██████████| 1000/1000 [00:25<00:00, 39.03trial/s, best loss: 10.841079032915115]\n",
      "100%|██████████| 1000/1000 [00:26<00:00, 37.15trial/s, best loss: 0.10945043647642112]\n",
      "100%|██████████| 1000/1000 [00:27<00:00, 36.93trial/s, best loss: 0.8414629585631014]\n",
      "  2%|▏         | 18/1000 [00:00<00:19, 49.86trial/s, best loss: 0.0]             "
     ]
    },
    {
     "name": "stderr",
     "output_type": "stream",
     "text": [
      "\n",
      "[CVODE ERROR]  CVode\n",
      "  At t = 984.956, mxstep steps taken before reaching tout.\n",
      "\n"
     ]
    },
    {
     "name": "stdout",
     "output_type": "stream",
     "text": [
      "100%|██████████| 1000/1000 [00:27<00:00, 36.57trial/s, best loss: 0.0]\n",
      "100%|██████████| 1000/1000 [00:25<00:00, 39.22trial/s, best loss: 0.1283922579457407]\n",
      "100%|██████████| 1000/1000 [00:27<00:00, 36.37trial/s, best loss: 0.07960131773368744]\n",
      "100%|██████████| 1000/1000 [00:27<00:00, 36.91trial/s, best loss: 0.3207139561981466]\n",
      "100%|██████████| 1000/1000 [00:26<00:00, 38.23trial/s, best loss: 0.03383227151029668]\n",
      "100%|██████████| 1000/1000 [00:26<00:00, 37.90trial/s, best loss: 2.1155095890369915]\n",
      "100%|██████████| 1000/1000 [00:27<00:00, 36.29trial/s, best loss: 0.32449184810651077]\n",
      "100%|██████████| 1000/1000 [00:27<00:00, 36.73trial/s, best loss: 0.08011875099844176]\n",
      "100%|██████████| 1000/1000 [00:26<00:00, 38.22trial/s, best loss: 0.06438684398279448]\n",
      "100%|██████████| 1000/1000 [00:25<00:00, 38.91trial/s, best loss: 6.249121472969904]\n",
      "100%|██████████| 1000/1000 [00:27<00:00, 36.37trial/s, best loss: 0.6726202797421694]\n",
      "  4%|▎         | 36/1000 [00:00<00:22, 43.04trial/s, best loss: 0.0]              "
     ]
    },
    {
     "name": "stderr",
     "output_type": "stream",
     "text": [
      "\n",
      "[CVODE ERROR]  CVode\n",
      "  At t = 710.497, mxstep steps taken before reaching tout.\n",
      "\n"
     ]
    },
    {
     "name": "stdout",
     "output_type": "stream",
     "text": [
      "100%|██████████| 1000/1000 [00:27<00:00, 36.81trial/s, best loss: 0.0]\n",
      "100%|██████████| 1000/1000 [00:26<00:00, 37.79trial/s, best loss: 0.05393995172489599]\n",
      "100%|██████████| 1000/1000 [00:26<00:00, 38.41trial/s, best loss: 3.056099611199859]\n",
      "100%|██████████| 1000/1000 [00:27<00:00, 36.29trial/s, best loss: 0.12059199346437462]\n",
      " 12%|█▏        | 117/1000 [00:02<00:21, 40.28trial/s, best loss: 0.0]              "
     ]
    },
    {
     "name": "stderr",
     "output_type": "stream",
     "text": [
      "\n",
      "[CVODE ERROR]  CVode\n",
      "  At t = 1421.84, mxstep steps taken before reaching tout.\n",
      "\n"
     ]
    },
    {
     "name": "stdout",
     "output_type": "stream",
     "text": [
      "100%|██████████| 1000/1000 [00:27<00:00, 36.37trial/s, best loss: 0.0]\n",
      " 11%|█▏        | 113/1000 [00:02<00:21, 40.64trial/s, best loss: 0.0]              "
     ]
    },
    {
     "name": "stderr",
     "output_type": "stream",
     "text": [
      "\n",
      "[CVODE ERROR]  CVode\n",
      "  At t = 1671.94, mxstep steps taken before reaching tout.\n",
      "\n"
     ]
    },
    {
     "name": "stdout",
     "output_type": "stream",
     "text": [
      " 77%|███████▋  | 766/1000 [00:19<00:06, 34.53trial/s, best loss: 0.0]"
     ]
    },
    {
     "name": "stderr",
     "output_type": "stream",
     "text": [
      "\n",
      "[CVODE ERROR]  CVode\n",
      "  At t = 2177.46, mxstep steps taken before reaching tout.\n",
      "\n"
     ]
    },
    {
     "name": "stdout",
     "output_type": "stream",
     "text": [
      "100%|██████████| 1000/1000 [00:26<00:00, 37.42trial/s, best loss: 0.0]\n",
      "100%|██████████| 1000/1000 [00:26<00:00, 38.17trial/s, best loss: 0.606266057602253]\n",
      "100%|██████████| 1000/1000 [00:26<00:00, 37.26trial/s, best loss: 1.1125377899683677]\n",
      "100%|██████████| 1000/1000 [00:27<00:00, 36.62trial/s, best loss: 1.3315368282083502]\n",
      "100%|██████████| 1000/1000 [00:26<00:00, 38.25trial/s, best loss: 0.05713715430769681]\n",
      "100%|██████████| 1000/1000 [00:25<00:00, 39.07trial/s, best loss: 1.1454764963882103]\n",
      "100%|██████████| 1000/1000 [00:27<00:00, 36.04trial/s, best loss: 0.5389581588192877]\n",
      "100%|██████████| 1000/1000 [00:27<00:00, 36.43trial/s, best loss: 0.015779459576717673]\n",
      "100%|██████████| 1000/1000 [00:26<00:00, 38.00trial/s, best loss: 0.0003290731490475792]\n",
      "100%|██████████| 1000/1000 [00:26<00:00, 37.12trial/s, best loss: 0.4244066555677789]\n",
      "100%|██████████| 1000/1000 [00:27<00:00, 36.37trial/s, best loss: 0.35098606963645046]\n",
      "100%|██████████| 1000/1000 [00:27<00:00, 36.31trial/s, best loss: 1.1589779861591285]\n",
      "100%|██████████| 1000/1000 [00:25<00:00, 39.12trial/s, best loss: 0.07183699076136513]\n",
      "100%|██████████| 1000/1000 [00:25<00:00, 38.95trial/s, best loss: 2.848274419511613]\n",
      "100%|██████████| 1000/1000 [00:27<00:00, 36.66trial/s, best loss: 2.96004689797768] \n",
      "100%|██████████| 1000/1000 [00:27<00:00, 36.94trial/s, best loss: 0.390771969962188]\n",
      "100%|██████████| 1000/1000 [00:25<00:00, 38.53trial/s, best loss: 0.023273670441535572]\n",
      "100%|██████████| 1000/1000 [00:26<00:00, 38.15trial/s, best loss: 4.982695599567412]\n",
      "100%|██████████| 1000/1000 [00:27<00:00, 36.31trial/s, best loss: 0.08842516079321015]\n",
      "100%|██████████| 1000/1000 [00:27<00:00, 37.02trial/s, best loss: 0.9363702727837584]\n",
      "100%|██████████| 1000/1000 [00:25<00:00, 38.97trial/s, best loss: 0.09664517372843466]\n",
      "100%|██████████| 1000/1000 [00:25<00:00, 39.23trial/s, best loss: 0.27924830034470366]\n",
      "100%|██████████| 1000/1000 [00:27<00:00, 36.37trial/s, best loss: 0.41892551652837023]\n",
      "100%|██████████| 1000/1000 [00:27<00:00, 36.72trial/s, best loss: 0.1729470162579838]\n",
      "100%|██████████| 1000/1000 [00:25<00:00, 39.04trial/s, best loss: 0.033295721481325403]\n",
      "100%|██████████| 1000/1000 [00:26<00:00, 38.32trial/s, best loss: 2.935870350846617]\n",
      "100%|██████████| 1000/1000 [00:27<00:00, 36.34trial/s, best loss: 0.5584765654226215]\n",
      "100%|██████████| 1000/1000 [00:27<00:00, 36.66trial/s, best loss: 0.0918641673577414]\n",
      "100%|██████████| 1000/1000 [00:26<00:00, 37.41trial/s, best loss: 0.06580418900168686]\n",
      "100%|██████████| 1000/1000 [00:26<00:00, 38.05trial/s, best loss: 14.00435640772232]\n",
      "100%|██████████| 1000/1000 [00:27<00:00, 36.28trial/s, best loss: 11.600005875682164]\n",
      "100%|██████████| 1000/1000 [00:27<00:00, 36.73trial/s, best loss: 0.7162088269142053]\n",
      "100%|██████████| 1000/1000 [00:26<00:00, 37.78trial/s, best loss: 0.031947200469977385]\n",
      "100%|██████████| 1000/1000 [00:26<00:00, 38.13trial/s, best loss: 1.5526685492115337]\n",
      " 30%|███       | 304/1000 [00:07<00:17, 39.38trial/s, best loss: 0.0]              "
     ]
    },
    {
     "name": "stderr",
     "output_type": "stream",
     "text": [
      "\n",
      "[CVODE ERROR]  CVode\n",
      "  At t = 1866.3, mxstep steps taken before reaching tout.\n",
      "\n"
     ]
    },
    {
     "name": "stdout",
     "output_type": "stream",
     "text": [
      "100%|██████████| 1000/1000 [00:27<00:00, 36.69trial/s, best loss: 0.0]\n",
      "100%|██████████| 1000/1000 [00:27<00:00, 36.67trial/s, best loss: 0.43987471562787783]\n",
      "100%|██████████| 1000/1000 [00:25<00:00, 39.38trial/s, best loss: 0.0519649070340876] \n",
      "100%|██████████| 1000/1000 [00:25<00:00, 38.71trial/s, best loss: 7.901530859344824]\n",
      "100%|██████████| 1000/1000 [00:27<00:00, 36.58trial/s, best loss: 0.27141604089121085]\n",
      "100%|██████████| 1000/1000 [00:26<00:00, 37.18trial/s, best loss: 0.09112952643546578]\n",
      "100%|██████████| 1000/1000 [00:26<00:00, 37.11trial/s, best loss: 0.049558749922442635]\n",
      "100%|██████████| 1000/1000 [00:26<00:00, 37.81trial/s, best loss: 8.226193987504347]\n",
      "100%|██████████| 1000/1000 [00:27<00:00, 36.57trial/s, best loss: 0.17011334356104776]\n",
      "100%|██████████| 1000/1000 [00:27<00:00, 36.30trial/s, best loss: 4.446485514634381]\n",
      "100%|██████████| 1000/1000 [00:26<00:00, 38.32trial/s, best loss: 0.10681773933497066]\n",
      "100%|██████████| 1000/1000 [00:25<00:00, 39.35trial/s, best loss: 5.664970316651866]\n",
      "100%|██████████| 1000/1000 [00:27<00:00, 36.56trial/s, best loss: 0.7363606021406396]\n",
      " 28%|██▊       | 285/1000 [00:07<00:18, 39.39trial/s, best loss: 0.0]               "
     ]
    },
    {
     "name": "stderr",
     "output_type": "stream",
     "text": [
      "\n",
      "[CVODE ERROR]  CVode\n",
      "  At t = 1135.53, mxstep steps taken before reaching tout.\n",
      "\n"
     ]
    },
    {
     "name": "stdout",
     "output_type": "stream",
     "text": [
      "100%|██████████| 1000/1000 [00:27<00:00, 36.30trial/s, best loss: 0.0]\n",
      "100%|██████████| 1000/1000 [00:26<00:00, 38.06trial/s, best loss: 0.0042767484486670206]\n",
      "100%|██████████| 1000/1000 [00:26<00:00, 37.69trial/s, best loss: 5.849935924467159]\n",
      "100%|██████████| 1000/1000 [00:27<00:00, 36.08trial/s, best loss: 0.015717972898589515]\n",
      "100%|██████████| 1000/1000 [00:27<00:00, 36.84trial/s, best loss: 0.4807376433884134]\n",
      "  2%|▏         | 18/1000 [00:00<00:19, 49.38trial/s, best loss: 0.0]             "
     ]
    },
    {
     "name": "stderr",
     "output_type": "stream",
     "text": [
      "\n",
      "[CVODE ERROR]  CVode\n",
      "  At t = 1113.08, mxstep steps taken before reaching tout.\n",
      "\n"
     ]
    },
    {
     "name": "stdout",
     "output_type": "stream",
     "text": [
      "100%|██████████| 1000/1000 [00:26<00:00, 37.55trial/s, best loss: 0.0]\n",
      "100%|██████████| 1000/1000 [00:26<00:00, 37.97trial/s, best loss: 1.9698594095243112]\n",
      "100%|██████████| 1000/1000 [00:27<00:00, 35.75trial/s, best loss: 0.32229369171483246]\n",
      "100%|██████████| 1000/1000 [00:26<00:00, 37.43trial/s, best loss: 0.17700471193025594]\n",
      "100%|██████████| 1000/1000 [00:25<00:00, 38.78trial/s, best loss: 0.018656584376755426]\n",
      "100%|██████████| 1000/1000 [00:26<00:00, 37.52trial/s, best loss: 9.549413888495517]\n",
      "100%|██████████| 1000/1000 [00:27<00:00, 35.91trial/s, best loss: 0.09749700782437491]\n",
      " 66%|██████▋   | 664/1000 [00:17<00:09, 34.46trial/s, best loss: 0.0]               "
     ]
    },
    {
     "name": "stderr",
     "output_type": "stream",
     "text": [
      "\n",
      "[CVODE ERROR]  CVode\n",
      "  At t = 1864.23, mxstep steps taken before reaching tout.\n",
      "\n"
     ]
    },
    {
     "name": "stdout",
     "output_type": "stream",
     "text": [
      "100%|██████████| 1000/1000 [00:27<00:00, 36.66trial/s, best loss: 0.0]\n",
      "100%|██████████| 1000/1000 [00:25<00:00, 38.60trial/s, best loss: 0.012419372125270573]\n",
      " 24%|██▍       | 243/1000 [00:05<00:18, 39.95trial/s, best loss: 0.0]               "
     ]
    },
    {
     "name": "stderr",
     "output_type": "stream",
     "text": [
      "\n",
      "[CVODE ERROR]  CVode\n",
      "  At t = 1391.64, mxstep steps taken before reaching tout.\n",
      "\n"
     ]
    },
    {
     "name": "stdout",
     "output_type": "stream",
     "text": [
      "100%|██████████| 1000/1000 [00:26<00:00, 37.98trial/s, best loss: 0.0]\n",
      "100%|██████████| 1000/1000 [00:27<00:00, 36.04trial/s, best loss: 0.6244783775818531]\n",
      "100%|██████████| 1000/1000 [00:27<00:00, 36.03trial/s, best loss: 0.07161072165913364]\n",
      "100%|██████████| 1000/1000 [00:27<00:00, 36.59trial/s, best loss: 0.32361142839964446]\n",
      "100%|██████████| 1000/1000 [00:26<00:00, 37.06trial/s, best loss: 1.591031328001661]\n",
      "100%|██████████| 1000/1000 [00:27<00:00, 37.02trial/s, best loss: 0.45350904453241137]\n",
      "100%|██████████| 1000/1000 [00:27<00:00, 37.00trial/s, best loss: 0.3990344539356156]\n",
      "100%|██████████| 1000/1000 [00:25<00:00, 38.97trial/s, best loss: 0.10091040477864903]\n",
      "100%|██████████| 1000/1000 [00:25<00:00, 39.14trial/s, best loss: 5.313304631034766]\n",
      "100%|██████████| 1000/1000 [00:27<00:00, 36.48trial/s, best loss: 0.07541331773039435]\n",
      " 33%|███▎      | 327/1000 [00:08<00:17, 37.91trial/s, best loss: 0.0]               "
     ]
    },
    {
     "name": "stderr",
     "output_type": "stream",
     "text": [
      "\n",
      "[CVODE ERROR]  CVode\n",
      "  At t = 1513.22, mxstep steps taken before reaching tout.\n",
      "\n"
     ]
    },
    {
     "name": "stdout",
     "output_type": "stream",
     "text": [
      "100%|██████████| 1000/1000 [00:27<00:00, 36.63trial/s, best loss: 0.0]\n",
      "100%|██████████| 1000/1000 [00:26<00:00, 38.09trial/s, best loss: 0.009367278418505534]\n",
      "100%|██████████| 1000/1000 [00:26<00:00, 37.94trial/s, best loss: 2.4356361837511824]\n",
      "100%|██████████| 1000/1000 [00:27<00:00, 37.01trial/s, best loss: 0.13313061075217186]\n",
      "100%|██████████| 1000/1000 [00:27<00:00, 36.78trial/s, best loss: 1.0027575183944533]\n",
      "100%|██████████| 1000/1000 [00:26<00:00, 38.41trial/s, best loss: 0.11377244209085888]\n",
      "100%|██████████| 1000/1000 [00:25<00:00, 39.30trial/s, best loss: 1.6212179725973241]\n",
      "100%|██████████| 1000/1000 [00:27<00:00, 36.75trial/s, best loss: 2.827260713156625]\n",
      "100%|██████████| 1000/1000 [00:27<00:00, 36.59trial/s, best loss: 0.6459775587090143]\n",
      "100%|██████████| 1000/1000 [00:26<00:00, 37.73trial/s, best loss: 0.04963530172300013]\n",
      "100%|██████████| 1000/1000 [00:26<00:00, 38.41trial/s, best loss: 4.697773003929768]\n",
      "100%|██████████| 1000/1000 [00:27<00:00, 36.64trial/s, best loss: 0.964866030698801]\n",
      "100%|██████████| 1000/1000 [00:27<00:00, 36.88trial/s, best loss: 0.19305077503273685]\n",
      "100%|██████████| 1000/1000 [00:26<00:00, 37.27trial/s, best loss: 0.0133946566015094]\n",
      "100%|██████████| 1000/1000 [00:26<00:00, 37.45trial/s, best loss: 3.0150797010662638]\n",
      "100%|██████████| 1000/1000 [00:26<00:00, 37.50trial/s, best loss: 3.0346182410088667]\n",
      " 32%|███▏      | 319/1000 [00:07<00:17, 38.89trial/s, best loss: 0.0]               "
     ]
    },
    {
     "name": "stderr",
     "output_type": "stream",
     "text": [
      "\n",
      "[CVODE ERROR]  CVode\n",
      "  At t = 995.914, mxstep steps taken before reaching tout.\n",
      "\n"
     ]
    },
    {
     "name": "stdout",
     "output_type": "stream",
     "text": [
      "100%|██████████| 1000/1000 [00:26<00:00, 37.09trial/s, best loss: 0.0]\n",
      "100%|██████████| 1000/1000 [00:25<00:00, 39.13trial/s, best loss: 0.11272780099603102]\n",
      "100%|██████████| 1000/1000 [00:25<00:00, 39.56trial/s, best loss: 41.01901548948922]\n",
      "100%|██████████| 1000/1000 [00:27<00:00, 36.51trial/s, best loss: 0.17103236423369758]\n",
      "100%|██████████| 1000/1000 [00:27<00:00, 36.35trial/s, best loss: 0.776599454629979]\n",
      "100%|██████████| 1000/1000 [00:26<00:00, 37.75trial/s, best loss: 0.16257724771754986]\n",
      "100%|██████████| 1000/1000 [00:26<00:00, 38.35trial/s, best loss: 1.3263172507293128]\n",
      "100%|██████████| 1000/1000 [00:27<00:00, 36.37trial/s, best loss: 0.06682452854563468]\n",
      "100%|██████████| 1000/1000 [00:27<00:00, 36.83trial/s, best loss: 0.3836800046039436]\n",
      "100%|██████████| 1000/1000 [00:26<00:00, 38.14trial/s, best loss: 0.015879386952178474]\n",
      "100%|██████████| 1000/1000 [00:26<00:00, 37.96trial/s, best loss: 7.675898016438488]\n",
      "100%|██████████| 1000/1000 [00:27<00:00, 36.00trial/s, best loss: 0.45824025321666667]\n",
      "100%|██████████| 1000/1000 [00:26<00:00, 37.20trial/s, best loss: 0.21733229612155572]\n",
      "100%|██████████| 1000/1000 [00:26<00:00, 38.15trial/s, best loss: 0.01836653679092301]\n",
      "100%|██████████| 1000/1000 [00:26<00:00, 37.92trial/s, best loss: 2.75890061665305] \n",
      "100%|██████████| 1000/1000 [00:27<00:00, 36.40trial/s, best loss: 0.07803702599764989]\n",
      "100%|██████████| 1000/1000 [00:26<00:00, 37.38trial/s, best loss: 0.1322029363322005]\n",
      "100%|██████████| 1000/1000 [00:25<00:00, 39.04trial/s, best loss: 0.03425612032646728]\n",
      "100%|██████████| 1000/1000 [00:26<00:00, 38.38trial/s, best loss: 3.4207423350528083]\n",
      "100%|██████████| 1000/1000 [00:27<00:00, 36.19trial/s, best loss: 0.012097721993586046]\n",
      "100%|██████████| 1000/1000 [00:27<00:00, 37.02trial/s, best loss: 0.1638958026598919]\n",
      " 41%|████▏     | 414/1000 [00:10<00:15, 38.04trial/s, best loss: 0.0]               "
     ]
    },
    {
     "name": "stderr",
     "output_type": "stream",
     "text": [
      "\n",
      "[CVODE ERROR]  CVode\n",
      "  At t = 2361.06, mxstep steps taken before reaching tout.\n",
      "\n"
     ]
    },
    {
     "name": "stdout",
     "output_type": "stream",
     "text": [
      "100%|██████████| 1000/1000 [00:27<00:00, 36.96trial/s, best loss: 0.0]\n",
      "100%|██████████| 1000/1000 [00:26<00:00, 37.55trial/s, best loss: 1.3666021247020543]\n",
      "100%|██████████| 1000/1000 [00:26<00:00, 37.05trial/s, best loss: 0.07866169301511]  \n",
      "  8%|▊         | 85/1000 [00:01<00:22, 41.54trial/s, best loss: 0.0]               "
     ]
    },
    {
     "name": "stderr",
     "output_type": "stream",
     "text": [
      "\n",
      "[CVODE ERROR]  CVode\n",
      "  At t = 1111.02, mxstep steps taken before reaching tout.\n",
      "\n"
     ]
    },
    {
     "name": "stdout",
     "output_type": "stream",
     "text": [
      " 34%|███▍      | 343/1000 [00:08<00:17, 37.79trial/s, best loss: 0.0]"
     ]
    },
    {
     "name": "stderr",
     "output_type": "stream",
     "text": [
      "\n",
      "[CVODE ERROR]  CVode\n",
      "  At t = 1992.68, mxstep steps taken before reaching tout.\n",
      "\n"
     ]
    },
    {
     "name": "stdout",
     "output_type": "stream",
     "text": [
      "100%|██████████| 1000/1000 [00:27<00:00, 36.79trial/s, best loss: 0.0]\n",
      "100%|██████████| 1000/1000 [00:25<00:00, 38.68trial/s, best loss: 0.09115967827222059]\n",
      "100%|██████████| 1000/1000 [00:25<00:00, 38.89trial/s, best loss: 45.260840670669424]\n",
      "100%|██████████| 1000/1000 [00:27<00:00, 36.07trial/s, best loss: 0.22252510844227658]\n",
      "  7%|▋         | 70/1000 [00:01<00:23, 40.10trial/s, best loss: 0.0]               "
     ]
    },
    {
     "name": "stderr",
     "output_type": "stream",
     "text": [
      "\n",
      "[CVODE ERROR]  CVode\n",
      "  At t = 786.627, mxstep steps taken before reaching tout.\n",
      "\n"
     ]
    },
    {
     "name": "stdout",
     "output_type": "stream",
     "text": [
      "100%|██████████| 1000/1000 [00:27<00:00, 36.72trial/s, best loss: 0.0]\n",
      "100%|██████████| 1000/1000 [00:25<00:00, 38.85trial/s, best loss: 0.021299562876531765]\n",
      " 13%|█▎        | 128/1000 [00:03<00:22, 38.73trial/s, best loss: 0.0]              "
     ]
    },
    {
     "name": "stderr",
     "output_type": "stream",
     "text": [
      "\n",
      "[CVODE ERROR]  CVode\n",
      "  At t = 1626.73, mxstep steps taken before reaching tout.\n",
      "\n"
     ]
    },
    {
     "name": "stdout",
     "output_type": "stream",
     "text": [
      "100%|██████████| 1000/1000 [00:26<00:00, 37.56trial/s, best loss: 0.0]\n",
      "100%|██████████| 1000/1000 [00:27<00:00, 36.19trial/s, best loss: 0.03300874795925026]\n",
      "100%|██████████| 1000/1000 [00:26<00:00, 37.30trial/s, best loss: 0.9099152443571923]\n",
      "100%|██████████| 1000/1000 [00:26<00:00, 38.24trial/s, best loss: 0.025056716286148487]\n",
      "100%|██████████| 1000/1000 [00:26<00:00, 37.99trial/s, best loss: 3.1936419947503683]\n",
      "100%|██████████| 1000/1000 [00:27<00:00, 36.38trial/s, best loss: 1.143858006980442]\n",
      "100%|██████████| 1000/1000 [00:27<00:00, 36.61trial/s, best loss: 0.615928336631466]\n",
      "100%|██████████| 1000/1000 [00:26<00:00, 38.22trial/s, best loss: 0.01090659724806119]\n",
      "100%|██████████| 1000/1000 [00:26<00:00, 37.11trial/s, best loss: 2.312572651807797]\n",
      "100%|██████████| 1000/1000 [00:27<00:00, 36.24trial/s, best loss: 0.4629893253936668]\n",
      " 36%|███▋      | 365/1000 [00:09<00:17, 36.81trial/s, best loss: 0.0]               "
     ]
    },
    {
     "name": "stderr",
     "output_type": "stream",
     "text": [
      "\n",
      "[CVODE ERROR]  CVode\n",
      "  At t = 860.969, mxstep steps taken before reaching tout.\n",
      "\n"
     ]
    },
    {
     "name": "stdout",
     "output_type": "stream",
     "text": [
      "100%|██████████| 1000/1000 [00:27<00:00, 36.30trial/s, best loss: 0.0]\n",
      "100%|██████████| 1000/1000 [00:26<00:00, 37.77trial/s, best loss: 0.01867543142189857]\n",
      "100%|██████████| 1000/1000 [00:26<00:00, 37.30trial/s, best loss: 2.2957608400092866]\n",
      "100%|██████████| 1000/1000 [00:27<00:00, 35.94trial/s, best loss: 0.29868487240408365]\n",
      "100%|██████████| 1000/1000 [00:27<00:00, 36.91trial/s, best loss: 0.4980647660829931]\n",
      "100%|██████████| 1000/1000 [00:25<00:00, 38.62trial/s, best loss: 0.0322719188462584]\n",
      "100%|██████████| 1000/1000 [00:26<00:00, 38.27trial/s, best loss: 2.6606755117316108]\n",
      "100%|██████████| 1000/1000 [00:27<00:00, 36.68trial/s, best loss: 0.09109657117851311]\n",
      "100%|██████████| 1000/1000 [00:27<00:00, 36.91trial/s, best loss: 0.36025010401461927]\n",
      "100%|██████████| 1000/1000 [00:25<00:00, 38.82trial/s, best loss: 0.030332724294881916]\n",
      " 74%|███████▍  | 740/1000 [00:18<00:07, 35.59trial/s, best loss: 0.0]               "
     ]
    },
    {
     "name": "stderr",
     "output_type": "stream",
     "text": [
      "\n",
      "[CVODE ERROR]  CVode\n",
      "  At t = 1312.24, mxstep steps taken before reaching tout.\n",
      "\n"
     ]
    },
    {
     "name": "stdout",
     "output_type": "stream",
     "text": [
      "100%|██████████| 1000/1000 [00:26<00:00, 38.01trial/s, best loss: 0.0]\n",
      "100%|██████████| 1000/1000 [00:27<00:00, 36.68trial/s, best loss: 0.2057948724962202]\n",
      "100%|██████████| 1000/1000 [00:26<00:00, 37.41trial/s, best loss: 0.48364473225645854]\n",
      "100%|██████████| 1000/1000 [00:25<00:00, 38.97trial/s, best loss: 0.04739108089454001]\n",
      "100%|██████████| 1000/1000 [00:26<00:00, 38.44trial/s, best loss: 5.952472693482518]\n",
      "  2%|▏         | 23/1000 [00:00<00:20, 48.79trial/s, best loss: 0.0]               "
     ]
    },
    {
     "name": "stderr",
     "output_type": "stream",
     "text": [
      "\n",
      "[CVODE ERROR]  CVode\n",
      "  At t = 1486.4, mxstep steps taken before reaching tout.\n",
      "\n"
     ]
    },
    {
     "name": "stdout",
     "output_type": "stream",
     "text": [
      "100%|██████████| 1000/1000 [00:27<00:00, 36.60trial/s, best loss: 0.0]\n",
      "100%|██████████| 1000/1000 [00:26<00:00, 37.43trial/s, best loss: 0.2736162642085809]\n",
      "100%|██████████| 1000/1000 [00:26<00:00, 38.06trial/s, best loss: 0.052087056095347736]\n",
      "100%|██████████| 1000/1000 [00:25<00:00, 38.47trial/s, best loss: 2.072830857865725]\n",
      " 62%|██████▎   | 625/1000 [00:16<00:10, 34.33trial/s, best loss: 0.0]               "
     ]
    },
    {
     "name": "stderr",
     "output_type": "stream",
     "text": [
      "\n",
      "[CVODE ERROR]  CVode\n",
      "  At t = 1617.96, mxstep steps taken before reaching tout.\n",
      "\n"
     ]
    },
    {
     "name": "stdout",
     "output_type": "stream",
     "text": [
      "100%|██████████| 1000/1000 [00:27<00:00, 36.63trial/s, best loss: 0.0]\n",
      "100%|██████████| 1000/1000 [00:27<00:00, 36.94trial/s, best loss: 0.5135927837213826]\n",
      "100%|██████████| 1000/1000 [00:26<00:00, 37.75trial/s, best loss: 0.03611613533920186]\n",
      "100%|██████████| 1000/1000 [00:26<00:00, 38.42trial/s, best loss: 0.4770205001766585]\n",
      "100%|██████████| 1000/1000 [00:27<00:00, 35.89trial/s, best loss: 0.13904888231172852]\n",
      "100%|██████████| 1000/1000 [00:28<00:00, 35.65trial/s, best loss: 0.18190147396888814]\n",
      "100%|██████████| 1000/1000 [00:27<00:00, 37.00trial/s, best loss: 0.03154794723956346]\n",
      "100%|██████████| 1000/1000 [00:26<00:00, 37.31trial/s, best loss: 0.9477030649105123]\n",
      "100%|██████████| 1000/1000 [00:27<00:00, 36.18trial/s, best loss: 1.9100664187909109]\n",
      "100%|██████████| 1000/1000 [00:27<00:00, 36.74trial/s, best loss: 0.20795086268859753]\n",
      "100%|██████████| 1000/1000 [00:27<00:00, 36.85trial/s, best loss: 0.02162172111986317]\n",
      "100%|██████████| 1000/1000 [00:26<00:00, 37.84trial/s, best loss: 3.210447403330414]\n",
      "100%|██████████| 1000/1000 [00:27<00:00, 36.58trial/s, best loss: 0.2671957365406309]\n",
      " 56%|█████▌    | 557/1000 [00:14<00:12, 35.38trial/s, best loss: 0.0]               "
     ]
    },
    {
     "name": "stderr",
     "output_type": "stream",
     "text": [
      "\n",
      "[CVODE ERROR]  CVode\n",
      "  At t = 1689.17, mxstep steps taken before reaching tout.\n",
      "\n"
     ]
    },
    {
     "name": "stdout",
     "output_type": "stream",
     "text": [
      "100%|██████████| 1000/1000 [00:27<00:00, 36.32trial/s, best loss: 0.0]\n",
      "100%|██████████| 1000/1000 [00:26<00:00, 37.75trial/s, best loss: 0.005784209922734044]\n",
      "100%|██████████| 1000/1000 [00:26<00:00, 37.80trial/s, best loss: 2.64339517955957] \n",
      "100%|██████████| 1000/1000 [00:27<00:00, 36.16trial/s, best loss: 1.4330530839415272]\n",
      " 55%|█████▌    | 554/1000 [00:14<00:12, 35.26trial/s, best loss: 0.0]                "
     ]
    },
    {
     "name": "stderr",
     "output_type": "stream",
     "text": [
      "\n",
      "[CVODE ERROR]  CVode\n",
      "  At t = 929.337, mxstep steps taken before reaching tout.\n",
      "\n"
     ]
    },
    {
     "name": "stdout",
     "output_type": "stream",
     "text": [
      "100%|██████████| 1000/1000 [00:27<00:00, 36.85trial/s, best loss: 0.0]\n",
      "100%|██████████| 1000/1000 [00:26<00:00, 37.69trial/s, best loss: 0.007547652357837588]\n",
      "100%|██████████| 1000/1000 [00:26<00:00, 37.91trial/s, best loss: 4.25673916119086] \n",
      "100%|██████████| 1000/1000 [00:27<00:00, 36.50trial/s, best loss: 0.12503285960685886]\n",
      " 24%|██▍       | 243/1000 [00:06<00:19, 38.46trial/s, best loss: 0.0]              "
     ]
    },
    {
     "name": "stderr",
     "output_type": "stream",
     "text": [
      "\n",
      "[CVODE ERROR]  CVode\n",
      "  At t = 1633.73, mxstep steps taken before reaching tout.\n",
      "\n"
     ]
    },
    {
     "name": "stdout",
     "output_type": "stream",
     "text": [
      "100%|██████████| 1000/1000 [00:27<00:00, 36.53trial/s, best loss: 0.0]\n",
      "100%|██████████| 1000/1000 [00:26<00:00, 38.45trial/s, best loss: 0.034733756078035125]\n",
      "100%|██████████| 1000/1000 [00:26<00:00, 38.40trial/s, best loss: 0.8836028552651235]\n",
      "100%|██████████| 1000/1000 [00:27<00:00, 36.23trial/s, best loss: 0.13580287630525503]\n",
      "100%|██████████| 1000/1000 [00:27<00:00, 36.43trial/s, best loss: 0.7526779954123309]\n",
      "100%|██████████| 1000/1000 [00:26<00:00, 37.74trial/s, best loss: 0.03240703218660519]\n",
      "100%|██████████| 1000/1000 [00:25<00:00, 38.50trial/s, best loss: 1.400012340683983]\n",
      "100%|██████████| 1000/1000 [00:27<00:00, 36.25trial/s, best loss: 0.39023949995125673]\n",
      " 48%|████▊     | 478/1000 [00:11<00:14, 35.80trial/s, best loss: 0.0]               "
     ]
    },
    {
     "name": "stderr",
     "output_type": "stream",
     "text": [
      "\n",
      "[CVODE ERROR]  CVode\n",
      "  At t = 2341.67, mxstep steps taken before reaching tout.\n",
      "\n"
     ]
    },
    {
     "name": "stdout",
     "output_type": "stream",
     "text": [
      "100%|██████████| 1000/1000 [00:27<00:00, 36.89trial/s, best loss: 0.0]\n",
      "100%|██████████| 1000/1000 [00:27<00:00, 36.34trial/s, best loss: 0.02396915295692066]\n",
      "100%|██████████| 1000/1000 [00:26<00:00, 37.61trial/s, best loss: 2.704775964381555]\n",
      "100%|██████████| 1000/1000 [00:27<00:00, 36.42trial/s, best loss: 0.1872592880171435]\n",
      " 25%|██▌       | 251/1000 [00:06<00:19, 37.90trial/s, best loss: 0.0]               "
     ]
    },
    {
     "name": "stderr",
     "output_type": "stream",
     "text": [
      "\n",
      "[CVODE ERROR]  CVode\n",
      "  At t = 854.55, mxstep steps taken before reaching tout.\n",
      "\n"
     ]
    },
    {
     "name": "stdout",
     "output_type": "stream",
     "text": [
      " 96%|█████████▌| 957/1000 [00:26<00:01, 31.50trial/s, best loss: 0.0]"
     ]
    },
    {
     "name": "stderr",
     "output_type": "stream",
     "text": [
      "\n",
      "[CVODE ERROR]  CVode\n",
      "  At t = 2340.84, mxstep steps taken before reaching tout.\n",
      "\n"
     ]
    },
    {
     "name": "stdout",
     "output_type": "stream",
     "text": [
      "100%|██████████| 1000/1000 [00:27<00:00, 35.80trial/s, best loss: 0.0]\n",
      "100%|██████████| 1000/1000 [00:25<00:00, 38.77trial/s, best loss: 0.053477239861190386]\n",
      "100%|██████████| 1000/1000 [00:26<00:00, 38.32trial/s, best loss: 2.966567117315181]\n",
      "100%|██████████| 1000/1000 [00:28<00:00, 35.02trial/s, best loss: 0.6514336833694523]\n",
      "100%|██████████| 1000/1000 [00:27<00:00, 36.23trial/s, best loss: 0.05229796389320281]\n",
      "100%|██████████| 1000/1000 [00:27<00:00, 36.66trial/s, best loss: 0.05106941792610676]\n",
      "100%|██████████| 1000/1000 [00:27<00:00, 36.07trial/s, best loss: 0.6111330056432034]\n",
      "100%|██████████| 1000/1000 [00:27<00:00, 36.83trial/s, best loss: 0.048102653812184516]\n",
      "100%|██████████| 1000/1000 [00:27<00:00, 36.98trial/s, best loss: 0.9551750797793799]\n",
      " 15%|█▍        | 146/1000 [00:03<00:21, 39.55trial/s, best loss: 0.0]               "
     ]
    },
    {
     "name": "stderr",
     "output_type": "stream",
     "text": [
      "\n",
      "[CVODE ERROR]  CVode\n",
      "  At t = 2107.6, mxstep steps taken before reaching tout.\n",
      "\n"
     ]
    },
    {
     "name": "stdout",
     "output_type": "stream",
     "text": [
      " 34%|███▍      | 344/1000 [00:08<00:17, 36.88trial/s, best loss: 0.0]"
     ]
    },
    {
     "name": "stderr",
     "output_type": "stream",
     "text": [
      "\n",
      "[CVODE ERROR]  CVode\n",
      "  At t = 1665.9, mxstep steps taken before reaching tout.\n",
      "\n"
     ]
    },
    {
     "name": "stdout",
     "output_type": "stream",
     "text": [
      "100%|██████████| 1000/1000 [00:27<00:00, 35.98trial/s, best loss: 0.0]\n",
      " 68%|██████▊   | 682/1000 [00:16<00:08, 37.52trial/s, best loss: 0.0]               "
     ]
    },
    {
     "name": "stderr",
     "output_type": "stream",
     "text": [
      "\n",
      "[CVODE ERROR]  CVode\n",
      "  At t = 1929.43, mxstep steps taken before reaching tout.\n",
      "\n"
     ]
    },
    {
     "name": "stdout",
     "output_type": "stream",
     "text": [
      "100%|██████████| 1000/1000 [00:25<00:00, 38.77trial/s, best loss: 0.0]\n",
      "100%|██████████| 1000/1000 [00:27<00:00, 36.08trial/s, best loss: 0.022825858785455497]\n",
      " 42%|████▏     | 420/1000 [00:10<00:15, 37.59trial/s, best loss: 0.0]               "
     ]
    },
    {
     "name": "stderr",
     "output_type": "stream",
     "text": [
      "\n",
      "[CVODE ERROR]  CVode\n",
      "  At t = 1367.84, mxstep steps taken before reaching tout.\n",
      "\n"
     ]
    },
    {
     "name": "stdout",
     "output_type": "stream",
     "text": [
      "100%|██████████| 1000/1000 [00:27<00:00, 36.79trial/s, best loss: 0.0]\n",
      "100%|██████████| 1000/1000 [00:26<00:00, 37.29trial/s, best loss: 0.03560658971139476]\n",
      "100%|██████████| 1000/1000 [00:26<00:00, 37.82trial/s, best loss: 5.426429529945862]\n",
      "100%|██████████| 1000/1000 [00:27<00:00, 36.78trial/s, best loss: 0.21232727020404663]\n",
      "100%|██████████| 1000/1000 [00:27<00:00, 36.45trial/s, best loss: 0.7626969663314845]\n",
      "100%|██████████| 1000/1000 [00:26<00:00, 38.27trial/s, best loss: 0.09696481676222735]\n",
      "100%|██████████| 1000/1000 [00:25<00:00, 38.55trial/s, best loss: 1.4711924743111702]\n",
      " 14%|█▍        | 138/1000 [00:03<00:21, 40.06trial/s, best loss: 0.0]              "
     ]
    },
    {
     "name": "stderr",
     "output_type": "stream",
     "text": [
      "\n",
      "[CVODE ERROR]  CVode\n",
      "  At t = 1508.34, mxstep steps taken before reaching tout.\n",
      "\n"
     ]
    },
    {
     "name": "stdout",
     "output_type": "stream",
     "text": [
      "100%|██████████| 1000/1000 [00:27<00:00, 36.88trial/s, best loss: 0.0]\n",
      "100%|██████████| 1000/1000 [00:27<00:00, 37.00trial/s, best loss: 0.22729247633336808]\n",
      "100%|██████████| 1000/1000 [00:25<00:00, 39.43trial/s, best loss: 0.061664660126851456]\n",
      "100%|██████████| 1000/1000 [00:25<00:00, 38.92trial/s, best loss: 1.0485375931717025]\n",
      "100%|██████████| 1000/1000 [00:27<00:00, 36.86trial/s, best loss: 1.8706512778810245]\n",
      "100%|██████████| 1000/1000 [00:27<00:00, 36.66trial/s, best loss: 0.2508747311064766]\n",
      "100%|██████████| 1000/1000 [00:25<00:00, 39.36trial/s, best loss: 0.05382117711160524]\n",
      "100%|██████████| 1000/1000 [00:25<00:00, 38.63trial/s, best loss: 26.982177506625497]\n",
      "100%|██████████| 1000/1000 [00:27<00:00, 36.48trial/s, best loss: 0.09641652047837523]\n",
      "100%|██████████| 1000/1000 [00:26<00:00, 37.25trial/s, best loss: 0.113818489498739] \n",
      "100%|██████████| 1000/1000 [00:27<00:00, 36.95trial/s, best loss: 0.04654460181433424]\n",
      "100%|██████████| 1000/1000 [00:26<00:00, 37.56trial/s, best loss: 3.09505813747303] \n",
      "100%|██████████| 1000/1000 [00:27<00:00, 36.61trial/s, best loss: 0.1920004538492096]\n",
      "  9%|▉         | 93/1000 [00:02<00:22, 40.98trial/s, best loss: 0.0]               "
     ]
    },
    {
     "name": "stderr",
     "output_type": "stream",
     "text": [
      "\n",
      "[CVODE ERROR]  CVode\n",
      "  At t = 2231.31, mxstep steps taken before reaching tout.\n",
      "\n"
     ]
    },
    {
     "name": "stdout",
     "output_type": "stream",
     "text": [
      " 94%|█████████▍| 944/1000 [00:25<00:01, 31.18trial/s, best loss: 0.0]"
     ]
    },
    {
     "name": "stderr",
     "output_type": "stream",
     "text": [
      "\n",
      "[CVODE ERROR]  CVode\n",
      "  At t = 1209.81, mxstep steps taken before reaching tout.\n",
      "\n"
     ]
    },
    {
     "name": "stdout",
     "output_type": "stream",
     "text": [
      "100%|██████████| 1000/1000 [00:27<00:00, 36.74trial/s, best loss: 0.0]\n",
      " 14%|█▎        | 137/1000 [00:03<00:21, 39.29trial/s, best loss: 0.0]               "
     ]
    },
    {
     "name": "stderr",
     "output_type": "stream",
     "text": [
      "\n",
      "[CVODE ERROR]  CVode\n",
      "  At t = 1669.47, mxstep steps taken before reaching tout.\n",
      "\n"
     ]
    },
    {
     "name": "stdout",
     "output_type": "stream",
     "text": [
      " 43%|████▎     | 426/1000 [00:10<00:14, 38.40trial/s, best loss: 0.0]"
     ]
    },
    {
     "name": "stderr",
     "output_type": "stream",
     "text": [
      "\n",
      "[CVODE ERROR]  CVode\n",
      "  At t = 1035.99, mxstep steps taken before reaching tout.\n",
      "\n"
     ]
    },
    {
     "name": "stdout",
     "output_type": "stream",
     "text": [
      "100%|██████████| 1000/1000 [00:26<00:00, 37.19trial/s, best loss: 0.0]\n",
      "  6%|▌         | 55/1000 [00:01<00:23, 39.94trial/s, best loss: 0.0]               "
     ]
    },
    {
     "name": "stderr",
     "output_type": "stream",
     "text": [
      "\n",
      "[CVODE ERROR]  CVode\n",
      "  At t = 2272.91, mxstep steps taken before reaching tout.\n",
      "\n"
     ]
    },
    {
     "name": "stdout",
     "output_type": "stream",
     "text": [
      "100%|██████████| 1000/1000 [00:26<00:00, 38.31trial/s, best loss: 0.0]\n",
      "100%|██████████| 1000/1000 [00:26<00:00, 37.06trial/s, best loss: 2.5881859021644384]\n",
      "100%|██████████| 1000/1000 [00:27<00:00, 36.39trial/s, best loss: 2.4990983192165426]\n",
      "100%|██████████| 1000/1000 [00:27<00:00, 36.37trial/s, best loss: 0.9628919161919641]\n",
      "100%|██████████| 1000/1000 [00:25<00:00, 38.95trial/s, best loss: 5.846905362648887]\n",
      "100%|██████████| 1000/1000 [00:27<00:00, 36.28trial/s, best loss: 0.06863382438648527]\n",
      " 44%|████▍     | 440/1000 [00:11<00:15, 35.42trial/s, best loss: 0.0]              "
     ]
    },
    {
     "name": "stderr",
     "output_type": "stream",
     "text": [
      "\n",
      "[CVODE ERROR]  CVode\n",
      "  At t = 1531.39, mxstep steps taken before reaching tout.\n",
      "\n"
     ]
    },
    {
     "name": "stdout",
     "output_type": "stream",
     "text": [
      " 98%|█████████▊| 980/1000 [00:26<00:00, 31.09trial/s, best loss: 0.0]"
     ]
    },
    {
     "name": "stderr",
     "output_type": "stream",
     "text": [
      "\n",
      "[CVODE ERROR]  CVode\n",
      "  At t = 2436.6, mxstep steps taken before reaching tout.\n",
      "\n"
     ]
    },
    {
     "name": "stdout",
     "output_type": "stream",
     "text": [
      "100%|██████████| 1000/1000 [00:27<00:00, 36.34trial/s, best loss: 0.0]\n",
      "100%|██████████| 1000/1000 [00:25<00:00, 39.41trial/s, best loss: 0.05612899767954412]\n",
      "100%|██████████| 1000/1000 [00:26<00:00, 38.38trial/s, best loss: 0.5179043813798899]\n",
      " 33%|███▎      | 333/1000 [00:08<00:16, 40.05trial/s, best loss: 0.0]               "
     ]
    },
    {
     "name": "stderr",
     "output_type": "stream",
     "text": [
      "\n",
      "[CVODE ERROR]  CVode\n",
      "  At t = 1137.23, mxstep steps taken before reaching tout.\n",
      "\n"
     ]
    },
    {
     "name": "stdout",
     "output_type": "stream",
     "text": [
      "100%|██████████| 1000/1000 [00:27<00:00, 36.00trial/s, best loss: 0.0]\n",
      "100%|██████████| 1000/1000 [00:27<00:00, 36.58trial/s, best loss: 0.29324484857659716]\n",
      "100%|██████████| 1000/1000 [00:26<00:00, 38.33trial/s, best loss: 0.021812083579713606]\n",
      "100%|██████████| 1000/1000 [00:26<00:00, 38.27trial/s, best loss: 1.9533797721250084]\n",
      " 73%|███████▎  | 727/1000 [00:19<00:09, 29.18trial/s, best loss: 0.0]               "
     ]
    },
    {
     "name": "stderr",
     "output_type": "stream",
     "text": [
      "\n",
      "[CVODE ERROR]  CVode\n",
      "  At t = 2248.46, mxstep steps taken before reaching tout.\n",
      "\n"
     ]
    },
    {
     "name": "stdout",
     "output_type": "stream",
     "text": [
      "100%|██████████| 1000/1000 [00:27<00:00, 36.16trial/s, best loss: 0.0]\n",
      " 50%|████▉     | 498/1000 [00:12<00:14, 35.38trial/s, best loss: 0.0]               "
     ]
    },
    {
     "name": "stderr",
     "output_type": "stream",
     "text": [
      "\n",
      "[CVODE ERROR]  CVode\n",
      "  At t = 2276.04, mxstep steps taken before reaching tout.\n",
      "\n"
     ]
    },
    {
     "name": "stdout",
     "output_type": "stream",
     "text": [
      "100%|██████████| 1000/1000 [00:27<00:00, 36.09trial/s, best loss: 0.0]\n",
      "100%|██████████| 1000/1000 [00:26<00:00, 37.86trial/s, best loss: 0.0028677909051520616]\n",
      "100%|██████████| 1000/1000 [00:26<00:00, 37.32trial/s, best loss: 2.273049866850397]\n",
      "100%|██████████| 1000/1000 [00:27<00:00, 36.82trial/s, best loss: 0.0685259759643736]\n",
      " 19%|█▉        | 193/1000 [00:04<00:20, 39.72trial/s, best loss: 0.0]               "
     ]
    },
    {
     "name": "stderr",
     "output_type": "stream",
     "text": [
      "\n",
      "[CVODE ERROR]  CVode\n",
      "  At t = 2342.97, mxstep steps taken before reaching tout.\n",
      "\n"
     ]
    },
    {
     "name": "stdout",
     "output_type": "stream",
     "text": [
      "100%|██████████| 1000/1000 [00:27<00:00, 36.19trial/s, best loss: 0.0]\n",
      "100%|██████████| 1000/1000 [00:26<00:00, 37.80trial/s, best loss: 0.06576311504179973]\n",
      "100%|██████████| 1000/1000 [00:26<00:00, 38.04trial/s, best loss: 4.248589184301725]\n",
      "100%|██████████| 1000/1000 [00:27<00:00, 36.59trial/s, best loss: 1.0231803265018249]\n",
      "100%|██████████| 1000/1000 [00:27<00:00, 36.70trial/s, best loss: 1.9990614937043705]\n",
      " 27%|██▋       | 267/1000 [00:06<00:18, 40.34trial/s, best loss: 0.0]               "
     ]
    },
    {
     "name": "stderr",
     "output_type": "stream",
     "text": [
      "\n",
      "[CVODE ERROR]  CVode\n",
      "  At t = 2194.41, mxstep steps taken before reaching tout.\n",
      "\n"
     ]
    },
    {
     "name": "stdout",
     "output_type": "stream",
     "text": [
      "100%|██████████| 1000/1000 [00:26<00:00, 37.37trial/s, best loss: 0.0]\n",
      "100%|██████████| 1000/1000 [00:26<00:00, 38.25trial/s, best loss: 2.901711645629124]\n",
      "100%|██████████| 1000/1000 [00:27<00:00, 36.23trial/s, best loss: 0.06604969729070215]\n",
      " 37%|███▋      | 369/1000 [00:09<00:16, 37.73trial/s, best loss: 0.0]                "
     ]
    },
    {
     "name": "stderr",
     "output_type": "stream",
     "text": [
      "\n",
      "[CVODE ERROR]  CVode\n",
      "  At t = 2338.36, mxstep steps taken before reaching tout.\n",
      "\n"
     ]
    },
    {
     "name": "stdout",
     "output_type": "stream",
     "text": [
      "100%|██████████| 1000/1000 [00:27<00:00, 36.99trial/s, best loss: 0.0]\n",
      "100%|██████████| 1000/1000 [00:26<00:00, 37.56trial/s, best loss: 0.018098290079297245]\n",
      "100%|██████████| 1000/1000 [00:26<00:00, 38.32trial/s, best loss: 0.20911758980054745]\n",
      "100%|██████████| 1000/1000 [00:27<00:00, 36.56trial/s, best loss: 3.2379657271022797]\n",
      "100%|██████████| 1000/1000 [00:28<00:00, 35.59trial/s, best loss: 0.08324001577927323]\n",
      "100%|██████████| 1000/1000 [00:26<00:00, 38.05trial/s, best loss: 0.05642735505862055]\n",
      "100%|██████████| 1000/1000 [00:25<00:00, 38.64trial/s, best loss: 7.5846011975090795]\n",
      "100%|██████████| 1000/1000 [00:26<00:00, 37.10trial/s, best loss: 0.11252904926681565]\n",
      " 88%|████████▊ | 879/1000 [00:23<00:03, 31.56trial/s, best loss: 0.0]                "
     ]
    },
    {
     "name": "stderr",
     "output_type": "stream",
     "text": [
      "\n",
      "[CVODE ERROR]  CVode\n",
      "  At t = 1728, mxstep steps taken before reaching tout.\n",
      "\n"
     ]
    },
    {
     "name": "stdout",
     "output_type": "stream",
     "text": [
      "100%|██████████| 1000/1000 [00:27<00:00, 36.70trial/s, best loss: 0.0]\n",
      "100%|██████████| 1000/1000 [00:25<00:00, 39.06trial/s, best loss: 0.08075372745969028]\n",
      "100%|██████████| 1000/1000 [00:25<00:00, 38.72trial/s, best loss: 6.2451372634325715]\n",
      "100%|██████████| 1000/1000 [00:27<00:00, 36.32trial/s, best loss: 0.3137281440929855]\n",
      "100%|██████████| 1000/1000 [00:27<00:00, 35.95trial/s, best loss: 0.03506787306523157]\n",
      "100%|██████████| 1000/1000 [00:26<00:00, 37.04trial/s, best loss: 0.0013814422429818756]\n",
      "100%|██████████| 1000/1000 [00:26<00:00, 37.67trial/s, best loss: 0.7376513717697124]\n",
      "100%|██████████| 1000/1000 [00:27<00:00, 36.63trial/s, best loss: 0.7138183082102305]\n",
      "100%|██████████| 1000/1000 [00:27<00:00, 36.90trial/s, best loss: 0.2341284007237363]\n",
      " 80%|████████  | 802/1000 [00:20<00:05, 35.64trial/s, best loss: 0.0]                "
     ]
    },
    {
     "name": "stderr",
     "output_type": "stream",
     "text": [
      "\n",
      "[CVODE ERROR]  CVode\n",
      "  At t = 1675.36, mxstep steps taken before reaching tout.\n",
      "\n"
     ]
    },
    {
     "name": "stdout",
     "output_type": "stream",
     "text": [
      "100%|██████████| 1000/1000 [00:26<00:00, 37.71trial/s, best loss: 0.0]\n",
      "100%|██████████| 1000/1000 [00:26<00:00, 38.08trial/s, best loss: 3.7441992009623983]\n",
      "100%|██████████| 1000/1000 [00:27<00:00, 36.17trial/s, best loss: 0.1076451903783874]\n",
      "100%|██████████| 1000/1000 [00:27<00:00, 36.42trial/s, best loss: 0.0782443785543718]\n",
      "100%|██████████| 1000/1000 [00:25<00:00, 38.70trial/s, best loss: 0.06496921455290867]\n",
      "100%|██████████| 1000/1000 [00:25<00:00, 38.81trial/s, best loss: 44.83520258769743]\n",
      "100%|██████████| 1000/1000 [00:27<00:00, 35.76trial/s, best loss: 0.11520076740713046]\n",
      "100%|██████████| 1000/1000 [00:27<00:00, 36.72trial/s, best loss: 0.5306125017422981]\n",
      "100%|██████████| 1000/1000 [00:26<00:00, 37.30trial/s, best loss: 0.062446751491062394]\n",
      "100%|██████████| 1000/1000 [00:26<00:00, 38.36trial/s, best loss: 5.207161011716044]\n",
      "100%|██████████| 1000/1000 [00:28<00:00, 35.67trial/s, best loss: 0.8601198289633095]\n",
      "100%|██████████| 1000/1000 [00:26<00:00, 37.49trial/s, best loss: 0.6292450407344938]\n",
      "100%|██████████| 1000/1000 [00:26<00:00, 38.06trial/s, best loss: 0.13915185864278298]\n",
      "100%|██████████| 1000/1000 [00:25<00:00, 38.64trial/s, best loss: 0.7533179416666189]\n",
      "100%|██████████| 1000/1000 [00:27<00:00, 36.28trial/s, best loss: 0.0228903538817334]\n",
      "100%|██████████| 1000/1000 [00:27<00:00, 36.36trial/s, best loss: 0.43252029374217676]\n",
      "100%|██████████| 1000/1000 [00:26<00:00, 38.01trial/s, best loss: 0.014370334878745575]\n",
      "100%|██████████| 1000/1000 [00:26<00:00, 37.75trial/s, best loss: 2.696295964509461]\n",
      "100%|██████████| 1000/1000 [00:26<00:00, 37.09trial/s, best loss: 0.10390538048995152]\n",
      "100%|██████████| 1000/1000 [00:26<00:00, 37.39trial/s, best loss: 0.5938749713167754]\n",
      "100%|██████████| 1000/1000 [00:25<00:00, 38.67trial/s, best loss: 0.07622736811462343]\n",
      "100%|██████████| 1000/1000 [00:25<00:00, 39.03trial/s, best loss: 5.614708497746355]\n",
      "100%|██████████| 1000/1000 [00:27<00:00, 36.81trial/s, best loss: 1.7655431580605054]\n",
      "100%|██████████| 1000/1000 [00:27<00:00, 36.92trial/s, best loss: 0.41199649001536354]\n",
      "100%|██████████| 1000/1000 [00:26<00:00, 38.20trial/s, best loss: 0.03442809335519968]\n",
      "100%|██████████| 1000/1000 [00:26<00:00, 38.24trial/s, best loss: 3.625463867242828]\n",
      "100%|██████████| 1000/1000 [00:27<00:00, 36.51trial/s, best loss: 0.1198979254698394]\n",
      " 18%|█▊        | 179/1000 [00:04<00:20, 39.75trial/s, best loss: 0.0]               "
     ]
    },
    {
     "name": "stderr",
     "output_type": "stream",
     "text": [
      "\n",
      "[CVODE ERROR]  CVode\n",
      "  At t = 691.913, mxstep steps taken before reaching tout.\n",
      "\n"
     ]
    },
    {
     "name": "stdout",
     "output_type": "stream",
     "text": [
      "100%|██████████| 1000/1000 [00:27<00:00, 36.60trial/s, best loss: 0.0]\n",
      "100%|██████████| 1000/1000 [00:27<00:00, 36.97trial/s, best loss: 0.10168005979574504]\n",
      "100%|██████████| 1000/1000 [00:26<00:00, 37.49trial/s, best loss: 1.7879916909379172]\n",
      "  6%|▌         | 60/1000 [00:01<00:24, 39.10trial/s, best loss: 0.0]               "
     ]
    },
    {
     "name": "stderr",
     "output_type": "stream",
     "text": [
      "\n",
      "[CVODE ERROR]  CVode\n",
      "  At t = 1516.95, mxstep steps taken before reaching tout.\n",
      "\n"
     ]
    },
    {
     "name": "stdout",
     "output_type": "stream",
     "text": [
      "100%|██████████| 1000/1000 [00:27<00:00, 36.65trial/s, best loss: 0.0]\n",
      " 78%|███████▊  | 777/1000 [00:20<00:06, 33.25trial/s, best loss: 0.0]               "
     ]
    },
    {
     "name": "stderr",
     "output_type": "stream",
     "text": [
      "\n",
      "[CVODE ERROR]  CVode\n",
      "  At t = 665.885, mxstep steps taken before reaching tout.\n",
      "\n"
     ]
    },
    {
     "name": "stdout",
     "output_type": "stream",
     "text": [
      "100%|██████████| 1000/1000 [00:27<00:00, 35.88trial/s, best loss: 0.0]\n",
      "100%|██████████| 1000/1000 [00:25<00:00, 38.67trial/s, best loss: 0.09099969174446108]\n",
      "100%|██████████| 1000/1000 [00:25<00:00, 39.09trial/s, best loss: 4.2303199545309464]\n",
      "100%|██████████| 1000/1000 [00:27<00:00, 35.76trial/s, best loss: 0.31760357216189117]\n",
      " 74%|███████▎  | 737/1000 [00:19<00:07, 34.17trial/s, best loss: 0.0]               "
     ]
    },
    {
     "name": "stderr",
     "output_type": "stream",
     "text": [
      "\n",
      "[CVODE ERROR]  CVode\n",
      "  At t = 2511.91, mxstep steps taken before reaching tout.\n",
      "\n"
     ]
    },
    {
     "name": "stdout",
     "output_type": "stream",
     "text": [
      "100%|██████████| 1000/1000 [00:27<00:00, 36.51trial/s, best loss: 0.0]\n",
      "100%|██████████| 1000/1000 [00:25<00:00, 38.55trial/s, best loss: 0.05129025921884412]\n",
      "100%|██████████| 1000/1000 [00:25<00:00, 38.93trial/s, best loss: 0.5529797587267029]\n",
      "100%|██████████| 1000/1000 [00:27<00:00, 36.91trial/s, best loss: 1.8384410376195908]\n",
      " 75%|███████▍  | 748/1000 [00:19<00:07, 33.00trial/s, best loss: 0.0]               "
     ]
    },
    {
     "name": "stderr",
     "output_type": "stream",
     "text": [
      "\n",
      "[CVODE ERROR]  CVode\n",
      "  At t = 1768.42, mxstep steps taken before reaching tout.\n",
      "\n"
     ]
    },
    {
     "name": "stdout",
     "output_type": "stream",
     "text": [
      "100%|██████████| 1000/1000 [00:27<00:00, 36.00trial/s, best loss: 0.0]\n",
      "100%|██████████| 1000/1000 [00:26<00:00, 37.65trial/s, best loss: 0.08907817439988704]\n",
      "100%|██████████| 1000/1000 [00:25<00:00, 38.81trial/s, best loss: 3.0267692937210144]\n",
      "100%|██████████| 1000/1000 [00:27<00:00, 36.59trial/s, best loss: 0.06467977494360372]\n",
      "100%|██████████| 1000/1000 [00:27<00:00, 36.37trial/s, best loss: 1.4192462196635096]\n",
      "100%|██████████| 1000/1000 [00:27<00:00, 36.50trial/s, best loss: 0.7443028807074484]\n",
      "100%|██████████| 1000/1000 [00:25<00:00, 38.68trial/s, best loss: 3.4056514501190946]\n",
      "100%|██████████| 1000/1000 [00:27<00:00, 36.60trial/s, best loss: 0.409919939984649]\n",
      " 25%|██▌       | 252/1000 [00:06<00:19, 37.55trial/s, best loss: 0.0]               "
     ]
    },
    {
     "name": "stderr",
     "output_type": "stream",
     "text": [
      "\n",
      "[CVODE ERROR]  CVode\n",
      "  At t = 2037.4, mxstep steps taken before reaching tout.\n",
      "\n"
     ]
    },
    {
     "name": "stdout",
     "output_type": "stream",
     "text": [
      "100%|██████████| 1000/1000 [00:27<00:00, 36.96trial/s, best loss: 0.0]\n",
      " 90%|████████▉ | 899/1000 [00:23<00:02, 35.43trial/s, best loss: 0.0]                 "
     ]
    },
    {
     "name": "stderr",
     "output_type": "stream",
     "text": [
      "\n",
      "[CVODE ERROR]  CVode\n",
      "  At t = 1827.77, mxstep steps taken before reaching tout.\n",
      "\n"
     ]
    },
    {
     "name": "stdout",
     "output_type": "stream",
     "text": [
      "100%|██████████| 1000/1000 [00:26<00:00, 38.40trial/s, best loss: 0.0]\n",
      "100%|██████████| 1000/1000 [00:26<00:00, 38.40trial/s, best loss: 0.579603927344094]\n",
      "100%|██████████| 1000/1000 [00:26<00:00, 37.05trial/s, best loss: 4.097872507598345]\n",
      "100%|██████████| 1000/1000 [00:27<00:00, 36.65trial/s, best loss: 0.271644544720766]\n",
      "100%|██████████| 1000/1000 [00:25<00:00, 38.58trial/s, best loss: 0.08793576461958504]\n",
      "100%|██████████| 1000/1000 [00:25<00:00, 38.56trial/s, best loss: 5.130384599378065]\n",
      "100%|██████████| 1000/1000 [00:27<00:00, 35.91trial/s, best loss: 0.05615020728634208]\n",
      "100%|██████████| 1000/1000 [00:27<00:00, 36.24trial/s, best loss: 0.5585768224474295]\n",
      "100%|██████████| 1000/1000 [00:25<00:00, 38.95trial/s, best loss: 0.024782133173179087]\n",
      "100%|██████████| 1000/1000 [00:26<00:00, 37.05trial/s, best loss: 2.099088868080634]\n",
      " 86%|████████▌ | 860/1000 [00:23<00:04, 31.44trial/s, best loss: 0.0]                "
     ]
    },
    {
     "name": "stderr",
     "output_type": "stream",
     "text": [
      "\n",
      "[CVODE ERROR]  CVode\n",
      "  At t = 2091.32, mxstep steps taken before reaching tout.\n",
      "\n"
     ]
    },
    {
     "name": "stdout",
     "output_type": "stream",
     "text": [
      "100%|██████████| 1000/1000 [00:27<00:00, 36.14trial/s, best loss: 0.0]\n",
      "100%|██████████| 1000/1000 [00:27<00:00, 36.34trial/s, best loss: 0.10111325703786841]\n",
      "100%|██████████| 1000/1000 [00:27<00:00, 36.80trial/s, best loss: 0.0016813357714433265]\n",
      "100%|██████████| 1000/1000 [00:27<00:00, 36.67trial/s, best loss: 0.5129696238890045]\n",
      "100%|██████████| 1000/1000 [00:28<00:00, 35.43trial/s, best loss: 0.1078336430733638]\n",
      "100%|██████████| 1000/1000 [00:27<00:00, 36.32trial/s, best loss: 0.738004335668487]\n",
      "100%|██████████| 1000/1000 [00:26<00:00, 37.78trial/s, best loss: 0.06706147866496229]\n",
      "100%|██████████| 1000/1000 [00:25<00:00, 39.09trial/s, best loss: 1.3290612715941992]\n",
      "100%|██████████| 1000/1000 [00:27<00:00, 36.00trial/s, best loss: 0.1359702596736307]\n",
      " 62%|██████▏   | 621/1000 [00:16<00:10, 36.06trial/s, best loss: 0.0]               "
     ]
    },
    {
     "name": "stderr",
     "output_type": "stream",
     "text": [
      "\n",
      "[CVODE ERROR]  CVode\n",
      "  At t = 2253.88, mxstep steps taken before reaching tout.\n",
      "\n"
     ]
    },
    {
     "name": "stdout",
     "output_type": "stream",
     "text": [
      "100%|██████████| 1000/1000 [00:27<00:00, 35.90trial/s, best loss: 0.0]\n",
      "100%|██████████| 1000/1000 [00:26<00:00, 37.15trial/s, best loss: 0.10980211970985466]\n",
      " 68%|██████▊   | 680/1000 [00:17<00:09, 35.34trial/s, best loss: 0.0]               "
     ]
    },
    {
     "name": "stderr",
     "output_type": "stream",
     "text": [
      "\n",
      "[CVODE ERROR]  CVode\n",
      "  At t = 2310.32, mxstep steps taken before reaching tout.\n",
      "\n"
     ]
    },
    {
     "name": "stdout",
     "output_type": "stream",
     "text": [
      "100%|██████████| 1000/1000 [00:26<00:00, 37.83trial/s, best loss: 0.0]\n",
      "100%|██████████| 1000/1000 [00:27<00:00, 36.05trial/s, best loss: 0.9116137589937059]\n",
      "100%|██████████| 1000/1000 [00:27<00:00, 36.18trial/s, best loss: 0.24213831451062787]\n",
      "100%|██████████| 1000/1000 [00:27<00:00, 36.99trial/s, best loss: 0.025571374406721713]\n",
      "100%|██████████| 1000/1000 [00:26<00:00, 37.70trial/s, best loss: 0.7868454168251334]\n",
      "100%|██████████| 1000/1000 [00:26<00:00, 37.13trial/s, best loss: 1.4562034052718635]\n",
      " 34%|███▍      | 338/1000 [00:08<00:17, 38.27trial/s, best loss: 0.0]               "
     ]
    },
    {
     "name": "stderr",
     "output_type": "stream",
     "text": [
      "\n",
      "[CVODE ERROR]  CVode\n",
      "  At t = 843.895, mxstep steps taken before reaching tout.\n",
      "\n"
     ]
    },
    {
     "name": "stdout",
     "output_type": "stream",
     "text": [
      "100%|██████████| 1000/1000 [00:27<00:00, 35.86trial/s, best loss: 0.0]\n",
      "100%|██████████| 1000/1000 [00:25<00:00, 38.56trial/s, best loss: 0.11970751346361741]\n",
      "100%|██████████| 1000/1000 [00:25<00:00, 38.60trial/s, best loss: 3.4070400777900165]\n",
      "100%|██████████| 1000/1000 [00:27<00:00, 36.24trial/s, best loss: 0.10912278827030791]\n",
      "100%|██████████| 1000/1000 [00:26<00:00, 37.35trial/s, best loss: 0.18633035787677982]\n",
      "100%|██████████| 1000/1000 [00:26<00:00, 38.19trial/s, best loss: 0.059892576302453475]\n",
      "100%|██████████| 1000/1000 [00:25<00:00, 38.78trial/s, best loss: 3.9386189662131788]\n",
      "100%|██████████| 1000/1000 [00:27<00:00, 36.67trial/s, best loss: 0.05018440440421339]\n",
      "  2%|▏         | 18/1000 [00:00<00:19, 49.60trial/s, best loss: 0.0]              "
     ]
    },
    {
     "name": "stderr",
     "output_type": "stream",
     "text": [
      "\n",
      "[CVODE ERROR]  CVode\n",
      "  At t = 1188.76, mxstep steps taken before reaching tout.\n",
      "\n"
     ]
    },
    {
     "name": "stdout",
     "output_type": "stream",
     "text": [
      "100%|██████████| 1000/1000 [00:27<00:00, 36.35trial/s, best loss: 0.0]\n",
      "100%|██████████| 1000/1000 [00:26<00:00, 38.07trial/s, best loss: 0.05260585206866597]\n",
      "100%|██████████| 1000/1000 [00:25<00:00, 38.59trial/s, best loss: 5.794264144215847]\n",
      "100%|██████████| 1000/1000 [00:27<00:00, 36.25trial/s, best loss: 0.9241037702916763]\n",
      "100%|██████████| 1000/1000 [00:27<00:00, 36.50trial/s, best loss: 0.47386620076089775]\n",
      "100%|██████████| 1000/1000 [00:27<00:00, 36.49trial/s, best loss: 0.10401231443090221]\n",
      "100%|██████████| 1000/1000 [00:27<00:00, 36.75trial/s, best loss: 1.3118631692632006]\n",
      "100%|██████████| 1000/1000 [00:27<00:00, 36.32trial/s, best loss: 0.07821535562946474]\n",
      "  1%|          | 10/1000 [00:00<00:21, 46.91trial/s, best loss: 0.0]"
     ]
    },
    {
     "name": "stderr",
     "output_type": "stream",
     "text": [
      "\n",
      "[CVODE ERROR]  CVode\n",
      "  At t = 1648.35, mxstep steps taken before reaching tout.\n",
      "\n"
     ]
    },
    {
     "name": "stdout",
     "output_type": "stream",
     "text": [
      "100%|██████████| 1000/1000 [00:27<00:00, 36.38trial/s, best loss: 0.0]\n",
      "  1%|          | 12/1000 [00:00<00:20, 48.03trial/s, best loss: 0.0]"
     ]
    },
    {
     "name": "stderr",
     "output_type": "stream",
     "text": [
      "\n",
      "[CVODE ERROR]  CVode\n",
      "  At t = 903.374, mxstep steps taken before reaching tout.\n",
      "\n"
     ]
    },
    {
     "name": "stdout",
     "output_type": "stream",
     "text": [
      "100%|██████████| 1000/1000 [00:26<00:00, 37.56trial/s, best loss: 0.0]\n",
      "100%|██████████| 1000/1000 [00:26<00:00, 38.32trial/s, best loss: 1.7541656755205162]\n",
      "100%|██████████| 1000/1000 [00:27<00:00, 36.45trial/s, best loss: 0.09867278612351617]\n",
      "100%|██████████| 1000/1000 [00:27<00:00, 36.27trial/s, best loss: 1.129027385077139]\n",
      " 74%|███████▍  | 742/1000 [00:19<00:07, 34.84trial/s, best loss: 0.0]                "
     ]
    },
    {
     "name": "stderr",
     "output_type": "stream",
     "text": [
      "\n",
      "[CVODE ERROR]  CVode\n",
      "  At t = 2006.95, mxstep steps taken before reaching tout.\n",
      "\n"
     ]
    },
    {
     "name": "stdout",
     "output_type": "stream",
     "text": [
      "100%|██████████| 1000/1000 [00:26<00:00, 37.41trial/s, best loss: 0.0]\n",
      "100%|██████████| 1000/1000 [00:26<00:00, 38.40trial/s, best loss: 7.439378912221785]\n",
      "100%|██████████| 1000/1000 [00:27<00:00, 36.52trial/s, best loss: 0.1109579617232533]\n",
      "100%|██████████| 1000/1000 [00:27<00:00, 36.39trial/s, best loss: 0.4255545768709278]\n",
      "100%|██████████| 1000/1000 [00:25<00:00, 38.62trial/s, best loss: 0.08268862813108555]\n",
      "100%|██████████| 1000/1000 [00:27<00:00, 36.27trial/s, best loss: 7.267772322137158]\n",
      "100%|██████████| 1000/1000 [00:27<00:00, 36.09trial/s, best loss: 1.4097661907983887]\n",
      "  5%|▌         | 52/1000 [00:01<00:23, 39.63trial/s, best loss: 0.0]               "
     ]
    },
    {
     "name": "stderr",
     "output_type": "stream",
     "text": [
      "\n",
      "[CVODE ERROR]  CVode\n",
      "  At t = 1644.38, mxstep steps taken before reaching tout.\n",
      "\n"
     ]
    },
    {
     "name": "stdout",
     "output_type": "stream",
     "text": [
      "100%|██████████| 1000/1000 [00:27<00:00, 36.34trial/s, best loss: 0.0]\n",
      " 43%|████▎     | 429/1000 [00:10<00:14, 40.54trial/s, best loss: 0.0]                "
     ]
    },
    {
     "name": "stderr",
     "output_type": "stream",
     "text": [
      "\n",
      "[CVODE ERROR]  CVode\n",
      "  At t = 2451.7, mxstep steps taken before reaching tout.\n",
      "\n"
     ]
    },
    {
     "name": "stdout",
     "output_type": "stream",
     "text": [
      "100%|██████████| 1000/1000 [00:26<00:00, 37.51trial/s, best loss: 0.0]\n",
      "100%|██████████| 1000/1000 [00:26<00:00, 38.29trial/s, best loss: 24.630193283853913]\n",
      "100%|██████████| 1000/1000 [00:27<00:00, 35.87trial/s, best loss: 0.10114472763941386]\n",
      " 42%|████▏     | 419/1000 [00:10<00:15, 38.54trial/s, best loss: 0.0]               "
     ]
    },
    {
     "name": "stderr",
     "output_type": "stream",
     "text": [
      "\n",
      "[CVODE ERROR]  CVode\n",
      "  At t = 2151.5, mxstep steps taken before reaching tout.\n",
      "\n"
     ]
    },
    {
     "name": "stdout",
     "output_type": "stream",
     "text": [
      "100%|██████████| 1000/1000 [00:27<00:00, 36.19trial/s, best loss: 0.0]\n",
      "100%|██████████| 1000/1000 [00:26<00:00, 37.84trial/s, best loss: 0.05862234745985363]\n",
      "100%|██████████| 1000/1000 [00:26<00:00, 38.34trial/s, best loss: 0.8316889257444895]\n",
      "100%|██████████| 1000/1000 [00:27<00:00, 36.69trial/s, best loss: 0.7759493871915133]\n",
      "100%|██████████| 1000/1000 [00:27<00:00, 36.42trial/s, best loss: 0.7904453188381172]\n",
      "100%|██████████| 1000/1000 [00:26<00:00, 38.30trial/s, best loss: 0.053054831932140153]\n",
      "100%|██████████| 1000/1000 [00:25<00:00, 38.65trial/s, best loss: 0.8282325187105981]\n",
      "100%|██████████| 1000/1000 [00:27<00:00, 36.62trial/s, best loss: 0.09318761527399838]\n",
      "100%|██████████| 1000/1000 [00:27<00:00, 36.96trial/s, best loss: 0.16719578920149916]\n",
      "100%|██████████| 1000/1000 [00:25<00:00, 38.47trial/s, best loss: 0.08168477095596148]\n",
      "100%|██████████| 1000/1000 [00:26<00:00, 38.15trial/s, best loss: 0.5410300460373048]\n",
      "100%|██████████| 1000/1000 [00:27<00:00, 36.48trial/s, best loss: 0.09821133668619718]\n",
      "100%|██████████| 1000/1000 [00:27<00:00, 36.84trial/s, best loss: 0.6706474550499035]\n",
      "100%|██████████| 1000/1000 [00:25<00:00, 38.84trial/s, best loss: 0.0612317766003265]\n",
      "100%|██████████| 1000/1000 [00:26<00:00, 37.64trial/s, best loss: 0.9745373291409803]\n",
      "100%|██████████| 1000/1000 [00:27<00:00, 36.80trial/s, best loss: 0.1161951779051272]\n",
      "100%|██████████| 1000/1000 [00:27<00:00, 36.50trial/s, best loss: 0.6732467977596865]\n",
      "100%|██████████| 1000/1000 [00:25<00:00, 38.97trial/s, best loss: 0.08593899764636895]\n",
      "100%|██████████| 1000/1000 [00:25<00:00, 38.76trial/s, best loss: 4.235878510385282]\n",
      "100%|██████████| 1000/1000 [00:28<00:00, 35.33trial/s, best loss: 0.32220448422578984]\n",
      "100%|██████████| 1000/1000 [00:27<00:00, 36.74trial/s, best loss: 0.2260689407597606]\n",
      "100%|██████████| 1000/1000 [00:26<00:00, 37.22trial/s, best loss: 0.015479309996645341]\n",
      "100%|██████████| 1000/1000 [00:26<00:00, 37.54trial/s, best loss: 2.408353268221671]\n",
      "100%|██████████| 1000/1000 [00:27<00:00, 35.82trial/s, best loss: 0.09290785651471802]\n",
      "100%|██████████| 1000/1000 [00:27<00:00, 37.02trial/s, best loss: 0.6321359898393194]\n",
      "100%|██████████| 1000/1000 [00:26<00:00, 37.50trial/s, best loss: 0.14637743840102702]\n",
      " 20%|█▉        | 195/1000 [00:04<00:21, 37.52trial/s, best loss: 0.0]              "
     ]
    },
    {
     "name": "stderr",
     "output_type": "stream",
     "text": [
      "\n",
      "[CVODE ERROR]  CVode\n",
      "  At t = 994.833, mxstep steps taken before reaching tout.\n",
      "\n"
     ]
    },
    {
     "name": "stdout",
     "output_type": "stream",
     "text": [
      "100%|██████████| 1000/1000 [00:26<00:00, 38.09trial/s, best loss: 0.0]\n",
      "100%|██████████| 1000/1000 [00:27<00:00, 36.53trial/s, best loss: 3.484487949024318]\n",
      "100%|██████████| 1000/1000 [00:27<00:00, 36.35trial/s, best loss: 0.6097469222351902]\n",
      " 22%|██▎       | 225/1000 [00:05<00:20, 38.26trial/s, best loss: 0.0]               "
     ]
    },
    {
     "name": "stderr",
     "output_type": "stream",
     "text": [
      "\n",
      "[CVODE ERROR]  CVode\n",
      "  At t = 1781.32, mxstep steps taken before reaching tout.\n",
      "\n"
     ]
    },
    {
     "name": "stdout",
     "output_type": "stream",
     "text": [
      " 96%|█████████▌| 960/1000 [00:26<00:01, 31.47trial/s, best loss: 0.0]"
     ]
    },
    {
     "name": "stderr",
     "output_type": "stream",
     "text": [
      "\n",
      "[CVODE ERROR]  CVode\n",
      "  At t = 1430.79, mxstep steps taken before reaching tout.\n",
      "\n"
     ]
    },
    {
     "name": "stdout",
     "output_type": "stream",
     "text": [
      "100%|██████████| 1000/1000 [00:27<00:00, 36.62trial/s, best loss: 0.0]\n",
      "100%|██████████| 1000/1000 [00:26<00:00, 37.73trial/s, best loss: 1.4134788710619304]\n",
      "100%|██████████| 1000/1000 [00:27<00:00, 36.23trial/s, best loss: 0.2284505444221067]\n",
      " 87%|████████▋ | 868/1000 [00:22<00:03, 33.81trial/s, best loss: 0.0]                "
     ]
    },
    {
     "name": "stderr",
     "output_type": "stream",
     "text": [
      "\n",
      "[CVODE ERROR]  CVode\n",
      "  At t = 1764.46, mxstep steps taken before reaching tout.\n",
      "\n"
     ]
    },
    {
     "name": "stdout",
     "output_type": "stream",
     "text": [
      "100%|██████████| 1000/1000 [00:27<00:00, 36.53trial/s, best loss: 0.0]\n",
      "100%|██████████| 1000/1000 [00:27<00:00, 36.57trial/s, best loss: 0.5850678640510215]\n",
      "100%|██████████| 1000/1000 [00:26<00:00, 38.17trial/s, best loss: 1.9792711916870271]\n",
      "100%|██████████| 1000/1000 [00:27<00:00, 36.47trial/s, best loss: 0.07646843073221207]\n",
      "100%|██████████| 1000/1000 [00:26<00:00, 37.19trial/s, best loss: 0.23459100734943736]\n",
      "100%|██████████| 1000/1000 [00:26<00:00, 37.80trial/s, best loss: 0.03591171479352575]\n",
      "100%|██████████| 1000/1000 [00:26<00:00, 37.91trial/s, best loss: 1.5793949792211868]\n",
      "100%|██████████| 1000/1000 [00:27<00:00, 36.52trial/s, best loss: 0.17610085753151639]\n",
      "100%|██████████| 1000/1000 [00:27<00:00, 35.82trial/s, best loss: 0.28359378009717]\n",
      "100%|██████████| 1000/1000 [00:25<00:00, 38.83trial/s, best loss: 0.09612148307934817]\n",
      "100%|██████████| 1000/1000 [00:26<00:00, 38.13trial/s, best loss: 25.66177709165934]\n",
      "100%|██████████| 1000/1000 [00:27<00:00, 36.23trial/s, best loss: 0.21830924381303254]\n",
      "100%|██████████| 1000/1000 [00:27<00:00, 36.15trial/s, best loss: 0.7100242419081992]\n",
      "100%|██████████| 1000/1000 [00:26<00:00, 37.61trial/s, best loss: 0.00890311917263708]\n",
      " 73%|███████▎  | 734/1000 [00:18<00:07, 35.50trial/s, best loss: 0.0]              "
     ]
    },
    {
     "name": "stderr",
     "output_type": "stream",
     "text": [
      "\n",
      "[CVODE ERROR]  CVode\n",
      "  At t = 2422.72, mxstep steps taken before reaching tout.\n",
      "\n"
     ]
    },
    {
     "name": "stdout",
     "output_type": "stream",
     "text": [
      "100%|██████████| 1000/1000 [00:26<00:00, 37.08trial/s, best loss: 0.0]\n",
      "100%|██████████| 1000/1000 [00:27<00:00, 35.88trial/s, best loss: 0.6559923129021399]\n",
      "100%|██████████| 1000/1000 [00:27<00:00, 36.13trial/s, best loss: 1.395545776832908]\n",
      "100%|██████████| 1000/1000 [00:25<00:00, 38.88trial/s, best loss: 0.08723584351541057]\n",
      "100%|██████████| 1000/1000 [00:25<00:00, 38.53trial/s, best loss: 3.5999180247729745]\n",
      "100%|██████████| 1000/1000 [00:28<00:00, 35.42trial/s, best loss: 0.4826330886286982]\n",
      "100%|██████████| 1000/1000 [00:27<00:00, 36.56trial/s, best loss: 0.007941302276337839]\n",
      "100%|██████████| 1000/1000 [00:26<00:00, 37.65trial/s, best loss: 0.009231921039209409]\n",
      "100%|██████████| 1000/1000 [00:26<00:00, 37.68trial/s, best loss: 4.347767970003938]\n",
      "100%|██████████| 1000/1000 [00:28<00:00, 35.50trial/s, best loss: 0.43685480206742033]\n",
      "100%|██████████| 1000/1000 [00:28<00:00, 35.05trial/s, best loss: 0.15634199850509778]\n",
      "100%|██████████| 1000/1000 [00:26<00:00, 37.69trial/s, best loss: 0.027293740902143003]\n",
      "100%|██████████| 1000/1000 [00:26<00:00, 37.85trial/s, best loss: 2.959161145961372]\n",
      " 83%|████████▎ | 829/1000 [00:22<00:04, 35.21trial/s, best loss: 0.0]                "
     ]
    },
    {
     "name": "stderr",
     "output_type": "stream",
     "text": [
      "\n",
      "[CVODE ERROR]  CVode\n",
      "  At t = 1021.42, mxstep steps taken before reaching tout.\n",
      "\n"
     ]
    },
    {
     "name": "stdout",
     "output_type": "stream",
     "text": [
      "100%|██████████| 1000/1000 [00:27<00:00, 36.68trial/s, best loss: 0.0]\n",
      "100%|██████████| 1000/1000 [00:27<00:00, 36.61trial/s, best loss: 0.11834087590786634]\n",
      "100%|██████████| 1000/1000 [00:26<00:00, 37.23trial/s, best loss: 0.05292145228075204]\n",
      "100%|██████████| 1000/1000 [00:26<00:00, 37.94trial/s, best loss: 3.887348430606237]\n",
      "100%|██████████| 1000/1000 [00:27<00:00, 36.43trial/s, best loss: 0.13060987040159486]\n",
      "100%|██████████| 1000/1000 [00:27<00:00, 36.90trial/s, best loss: 0.5147897137330903]\n",
      "100%|██████████| 1000/1000 [00:26<00:00, 37.37trial/s, best loss: 0.008100167223667073]\n",
      "100%|██████████| 1000/1000 [00:26<00:00, 38.14trial/s, best loss: 0.9418081490162604]\n",
      "100%|██████████| 1000/1000 [00:28<00:00, 35.68trial/s, best loss: 0.06054468003911331]\n",
      " 17%|█▋        | 172/1000 [00:04<00:20, 40.85trial/s, best loss: 0.0]              "
     ]
    },
    {
     "name": "stderr",
     "output_type": "stream",
     "text": [
      "\n",
      "[CVODE ERROR]  CVode\n",
      "  At t = 1247.34, mxstep steps taken before reaching tout.\n",
      "\n"
     ]
    },
    {
     "name": "stdout",
     "output_type": "stream",
     "text": [
      " 83%|████████▎ | 827/1000 [00:22<00:05, 33.53trial/s, best loss: 0.0]"
     ]
    },
    {
     "name": "stderr",
     "output_type": "stream",
     "text": [
      "\n",
      "[CVODE ERROR]  CVode\n",
      "  At t = 2225.63, mxstep steps taken before reaching tout.\n",
      "\n"
     ]
    },
    {
     "name": "stdout",
     "output_type": "stream",
     "text": [
      "100%|██████████| 1000/1000 [00:27<00:00, 36.09trial/s, best loss: 0.0]\n",
      "100%|██████████| 1000/1000 [00:26<00:00, 38.26trial/s, best loss: 0.05226599378598258]\n",
      "100%|██████████| 1000/1000 [00:26<00:00, 38.24trial/s, best loss: 12.302286591288066]\n",
      " 10%|▉         | 95/1000 [00:02<00:22, 40.79trial/s, best loss: 0.0]               "
     ]
    },
    {
     "name": "stderr",
     "output_type": "stream",
     "text": [
      "\n",
      "[CVODE ERROR]  CVode\n",
      "  At t = 702.619, mxstep steps taken before reaching tout.\n",
      "\n"
     ]
    },
    {
     "name": "stdout",
     "output_type": "stream",
     "text": [
      "100%|██████████| 1000/1000 [00:27<00:00, 35.89trial/s, best loss: 0.0]\n",
      " 66%|██████▋   | 663/1000 [00:17<00:10, 33.29trial/s, best loss: 0.0]                "
     ]
    },
    {
     "name": "stderr",
     "output_type": "stream",
     "text": [
      "\n",
      "[CVODE ERROR]  CVode\n",
      "  At t = 2069.56, mxstep steps taken before reaching tout.\n",
      "\n"
     ]
    },
    {
     "name": "stdout",
     "output_type": "stream",
     "text": [
      "100%|██████████| 1000/1000 [00:27<00:00, 36.69trial/s, best loss: 0.0]\n",
      "100%|██████████| 1000/1000 [00:26<00:00, 37.50trial/s, best loss: 0.011462327625553423]\n",
      "100%|██████████| 1000/1000 [00:26<00:00, 38.06trial/s, best loss: 2.2965070128480685]\n",
      "100%|██████████| 1000/1000 [00:27<00:00, 36.59trial/s, best loss: 0.10394436533121111]\n",
      " 38%|███▊      | 385/1000 [00:09<00:17, 36.15trial/s, best loss: 0.0]               "
     ]
    },
    {
     "name": "stderr",
     "output_type": "stream",
     "text": [
      "\n",
      "[CVODE ERROR]  CVode\n",
      "  At t = 699.708, mxstep steps taken before reaching tout.\n",
      "\n"
     ]
    },
    {
     "name": "stdout",
     "output_type": "stream",
     "text": [
      "100%|██████████| 1000/1000 [00:27<00:00, 35.85trial/s, best loss: 0.0]\n",
      "100%|██████████| 1000/1000 [00:26<00:00, 38.06trial/s, best loss: 0.0660897188354063]\n",
      "100%|██████████| 1000/1000 [00:25<00:00, 38.53trial/s, best loss: 0.7641378648476165]\n",
      "100%|██████████| 1000/1000 [00:26<00:00, 37.16trial/s, best loss: 1.7648542203654296]\n",
      "100%|██████████| 1000/1000 [00:28<00:00, 35.60trial/s, best loss: 0.259122284517699] \n",
      "100%|██████████| 1000/1000 [00:25<00:00, 38.80trial/s, best loss: 0.0923267139087078]\n",
      "100%|██████████| 1000/1000 [00:25<00:00, 39.18trial/s, best loss: 3.213219384187753]\n",
      "100%|██████████| 1000/1000 [00:27<00:00, 36.29trial/s, best loss: 2.594429493776719]\n",
      " 16%|█▌        | 160/1000 [00:04<00:22, 37.10trial/s, best loss: 0.0]              "
     ]
    },
    {
     "name": "stderr",
     "output_type": "stream",
     "text": [
      "\n",
      "[CVODE ERROR]  CVode\n",
      "  At t = 2434.28, mxstep steps taken before reaching tout.\n",
      "\n"
     ]
    },
    {
     "name": "stdout",
     "output_type": "stream",
     "text": [
      "100%|██████████| 1000/1000 [00:27<00:00, 35.96trial/s, best loss: 0.0]\n",
      " 69%|██████▉   | 688/1000 [00:18<00:08, 34.76trial/s, best loss: 0.0]               "
     ]
    },
    {
     "name": "stderr",
     "output_type": "stream",
     "text": [
      "\n",
      "[CVODE ERROR]  CVode\n",
      "  At t = 1117.35, mxstep steps taken before reaching tout.\n",
      "\n"
     ]
    },
    {
     "name": "stdout",
     "output_type": "stream",
     "text": [
      "100%|██████████| 1000/1000 [00:27<00:00, 35.78trial/s, best loss: 0.0]\n",
      "100%|██████████| 1000/1000 [00:26<00:00, 37.06trial/s, best loss: 0.8844528737476005]\n",
      "100%|██████████| 1000/1000 [00:27<00:00, 36.39trial/s, best loss: 0.1692605417648765]\n",
      "100%|██████████| 1000/1000 [00:27<00:00, 36.55trial/s, best loss: 0.5843301010962092]\n",
      "100%|██████████| 1000/1000 [00:26<00:00, 37.60trial/s, best loss: 0.010327174577439263]\n",
      "100%|██████████| 1000/1000 [00:27<00:00, 36.23trial/s, best loss: 2.6433660354812485]\n",
      "100%|██████████| 1000/1000 [00:27<00:00, 35.85trial/s, best loss: 0.18448781196944022]\n",
      "100%|██████████| 1000/1000 [00:27<00:00, 36.88trial/s, best loss: 0.4515160580891552]\n",
      "100%|██████████| 1000/1000 [00:26<00:00, 38.28trial/s, best loss: 0.07954149367508587]\n",
      "100%|██████████| 1000/1000 [00:25<00:00, 38.70trial/s, best loss: 0.15681116347050966]\n",
      "100%|██████████| 1000/1000 [00:27<00:00, 35.77trial/s, best loss: 1.2836539068752941]\n",
      "100%|██████████| 1000/1000 [00:27<00:00, 36.38trial/s, best loss: 0.5146567289799717]\n",
      "100%|██████████| 1000/1000 [00:26<00:00, 37.38trial/s, best loss: 0.019940099841577744]\n",
      "100%|██████████| 1000/1000 [00:26<00:00, 38.12trial/s, best loss: 1.648515343831854]\n",
      "100%|██████████| 1000/1000 [00:27<00:00, 36.46trial/s, best loss: 3.3669699230329133]\n",
      "100%|██████████| 1000/1000 [00:27<00:00, 35.76trial/s, best loss: 1.0929280367182261]\n",
      "100%|██████████| 1000/1000 [00:26<00:00, 38.15trial/s, best loss: 0.06310456362205774]\n",
      "100%|██████████| 1000/1000 [00:26<00:00, 38.40trial/s, best loss: 1.6590801427267785]\n",
      "100%|██████████| 1000/1000 [00:27<00:00, 36.85trial/s, best loss: 0.38741475377762336]\n",
      " 72%|███████▏  | 723/1000 [00:18<00:07, 35.08trial/s, best loss: 0.0]               "
     ]
    },
    {
     "name": "stderr",
     "output_type": "stream",
     "text": [
      "\n",
      "[CVODE ERROR]  CVode\n",
      "  At t = 2509.82, mxstep steps taken before reaching tout.\n",
      "\n"
     ]
    },
    {
     "name": "stdout",
     "output_type": "stream",
     "text": [
      "100%|██████████| 1000/1000 [00:27<00:00, 36.95trial/s, best loss: 0.0]\n",
      "100%|██████████| 1000/1000 [00:26<00:00, 37.82trial/s, best loss: 0.09800841367992237]\n",
      " 98%|█████████▊| 977/1000 [00:25<00:00, 32.25trial/s, best loss: 0.0]               "
     ]
    },
    {
     "name": "stderr",
     "output_type": "stream",
     "text": [
      "\n",
      "[CVODE ERROR]  CVode\n",
      "  At t = 1307.62, mxstep steps taken before reaching tout.\n",
      "\n"
     ]
    },
    {
     "name": "stdout",
     "output_type": "stream",
     "text": [
      "100%|██████████| 1000/1000 [00:26<00:00, 37.94trial/s, best loss: 0.0]\n",
      "100%|██████████| 1000/1000 [00:27<00:00, 36.40trial/s, best loss: 0.12912354743195606]\n",
      " 88%|████████▊ | 881/1000 [00:23<00:03, 30.24trial/s, best loss: 0.0]               "
     ]
    },
    {
     "name": "stderr",
     "output_type": "stream",
     "text": [
      "\n",
      "[CVODE ERROR]  CVode\n",
      "  At t = 1359.78, mxstep steps taken before reaching tout.\n",
      "\n"
     ]
    },
    {
     "name": "stdout",
     "output_type": "stream",
     "text": [
      "100%|██████████| 1000/1000 [00:27<00:00, 36.28trial/s, best loss: 0.0]\n",
      "100%|██████████| 1000/1000 [00:26<00:00, 37.68trial/s, best loss: 0.06781566827495149]\n",
      "100%|██████████| 1000/1000 [00:25<00:00, 39.17trial/s, best loss: 0.7108392672323531]\n",
      "100%|██████████| 1000/1000 [00:27<00:00, 36.12trial/s, best loss: 0.23603172238507644]\n",
      "100%|██████████| 1000/1000 [00:27<00:00, 36.75trial/s, best loss: 0.07603071086211519]\n",
      "100%|██████████| 1000/1000 [00:26<00:00, 37.32trial/s, best loss: 0.02099501878693068]\n",
      "100%|██████████| 1000/1000 [00:27<00:00, 36.87trial/s, best loss: 2.146910621815785]\n",
      "100%|██████████| 1000/1000 [00:27<00:00, 36.64trial/s, best loss: 0.7924295475391425]\n",
      "100%|██████████| 1000/1000 [00:27<00:00, 36.66trial/s, best loss: 0.8837872911288043]\n",
      "100%|██████████| 1000/1000 [00:27<00:00, 36.70trial/s, best loss: 0.10653418610117228]\n",
      "100%|██████████| 1000/1000 [00:25<00:00, 38.77trial/s, best loss: 14.798895429580426]\n",
      "100%|██████████| 1000/1000 [00:27<00:00, 35.81trial/s, best loss: 0.0955043502186677]\n",
      " 18%|█▊        | 175/1000 [00:04<00:20, 40.53trial/s, best loss: 0.0]              "
     ]
    },
    {
     "name": "stderr",
     "output_type": "stream",
     "text": [
      "\n",
      "[CVODE ERROR]  CVode\n",
      "  At t = 773.026, mxstep steps taken before reaching tout.\n",
      "\n"
     ]
    },
    {
     "name": "stdout",
     "output_type": "stream",
     "text": [
      "100%|██████████| 1000/1000 [00:27<00:00, 35.86trial/s, best loss: 0.0]\n",
      "100%|██████████| 1000/1000 [00:26<00:00, 37.96trial/s, best loss: 0.0876155608171117]\n",
      "100%|██████████| 1000/1000 [00:26<00:00, 38.08trial/s, best loss: 5.964524337252792]\n",
      "100%|██████████| 1000/1000 [00:27<00:00, 36.31trial/s, best loss: 0.10790028346167217]\n",
      "100%|██████████| 1000/1000 [00:27<00:00, 36.85trial/s, best loss: 0.5934422905996973]\n",
      "100%|██████████| 1000/1000 [00:26<00:00, 38.31trial/s, best loss: 0.09764469061261608]\n",
      "100%|██████████| 1000/1000 [00:25<00:00, 38.68trial/s, best loss: 0.7813154692598249]\n",
      "100%|██████████| 1000/1000 [00:27<00:00, 36.24trial/s, best loss: 4.7138826271915955]\n",
      "100%|██████████| 1000/1000 [00:27<00:00, 37.01trial/s, best loss: 0.37544454465238447]\n",
      " 34%|███▍      | 341/1000 [00:08<00:17, 37.82trial/s, best loss: 0.0]                "
     ]
    },
    {
     "name": "stderr",
     "output_type": "stream",
     "text": [
      "\n",
      "[CVODE ERROR]  CVode\n",
      "  At t = 1481.9, mxstep steps taken before reaching tout.\n",
      "\n"
     ]
    },
    {
     "name": "stdout",
     "output_type": "stream",
     "text": [
      "100%|██████████| 1000/1000 [00:27<00:00, 36.90trial/s, best loss: 0.0]\n",
      "100%|██████████| 1000/1000 [00:26<00:00, 37.66trial/s, best loss: 3.0179863719969853]\n",
      "100%|██████████| 1000/1000 [00:27<00:00, 36.78trial/s, best loss: 0.09281974040493468]\n",
      "100%|██████████| 1000/1000 [00:27<00:00, 36.51trial/s, best loss: 0.8983278569739901]\n",
      "100%|██████████| 1000/1000 [00:27<00:00, 36.70trial/s, best loss: 0.1618111027482926]\n",
      "100%|██████████| 1000/1000 [00:25<00:00, 38.73trial/s, best loss: 2.5491400552134484]\n",
      "100%|██████████| 1000/1000 [00:28<00:00, 35.56trial/s, best loss: 0.6767688512898138]\n",
      "100%|██████████| 1000/1000 [00:27<00:00, 36.33trial/s, best loss: 0.8109059244201682]\n",
      "100%|██████████| 1000/1000 [00:25<00:00, 38.60trial/s, best loss: 0.04187584378214608]\n",
      "100%|██████████| 1000/1000 [00:26<00:00, 38.39trial/s, best loss: 2.3379874286211235]\n",
      "100%|██████████| 1000/1000 [00:27<00:00, 36.24trial/s, best loss: 0.039373806859531395]\n",
      " 34%|███▎      | 335/1000 [00:08<00:17, 37.31trial/s, best loss: 0.0]              "
     ]
    },
    {
     "name": "stderr",
     "output_type": "stream",
     "text": [
      "\n",
      "[CVODE ERROR]  CVode\n",
      "  At t = 1019.54, mxstep steps taken before reaching tout.\n",
      "\n"
     ]
    },
    {
     "name": "stdout",
     "output_type": "stream",
     "text": [
      "100%|██████████| 1000/1000 [00:28<00:00, 35.35trial/s, best loss: 0.0]\n",
      "100%|██████████| 1000/1000 [00:26<00:00, 37.33trial/s, best loss: 0.03801688640400691]\n",
      " 32%|███▏      | 315/1000 [00:07<00:16, 41.71trial/s, best loss: 0.0]               "
     ]
    },
    {
     "name": "stderr",
     "output_type": "stream",
     "text": [
      "\n",
      "[CVODE ERROR]  CVode\n",
      "  At t = 1864.71, mxstep steps taken before reaching tout.\n",
      "\n"
     ]
    },
    {
     "name": "stdout",
     "output_type": "stream",
     "text": [
      "100%|██████████| 1000/1000 [00:26<00:00, 37.67trial/s, best loss: 0.0]\n",
      "100%|██████████| 1000/1000 [00:27<00:00, 36.69trial/s, best loss: 1.6286421165930878]\n",
      "100%|██████████| 1000/1000 [00:27<00:00, 36.88trial/s, best loss: 0.14863998608462736]\n",
      "100%|██████████| 1000/1000 [00:26<00:00, 38.04trial/s, best loss: 0.03496131956170881]\n",
      "100%|██████████| 1000/1000 [00:25<00:00, 38.56trial/s, best loss: 6.078498669299941]\n",
      "100%|██████████| 1000/1000 [00:27<00:00, 36.39trial/s, best loss: 0.13053959410165672]\n",
      "  8%|▊         | 79/1000 [00:01<00:23, 39.15trial/s, best loss: 0.0]               "
     ]
    },
    {
     "name": "stderr",
     "output_type": "stream",
     "text": [
      "\n",
      "[CVODE ERROR]  CVode\n",
      "  At t = 1972.34, mxstep steps taken before reaching tout.\n",
      "\n"
     ]
    },
    {
     "name": "stdout",
     "output_type": "stream",
     "text": [
      "100%|██████████| 1000/1000 [00:27<00:00, 36.44trial/s, best loss: 0.0]\n",
      "100%|██████████| 1000/1000 [00:26<00:00, 37.43trial/s, best loss: 0.013611442840657323]\n",
      "100%|██████████| 1000/1000 [00:26<00:00, 37.06trial/s, best loss: 2.1717889932351615]\n",
      "100%|██████████| 1000/1000 [00:28<00:00, 34.57trial/s, best loss: 0.22636816972247767]\n",
      " 47%|████▋     | 473/1000 [00:12<00:14, 37.47trial/s, best loss: 0.0]                "
     ]
    },
    {
     "name": "stderr",
     "output_type": "stream",
     "text": [
      "\n",
      "[CVODE ERROR]  CVode\n",
      "  At t = 1960.42, mxstep steps taken before reaching tout.\n",
      "\n"
     ]
    },
    {
     "name": "stdout",
     "output_type": "stream",
     "text": [
      " 67%|██████▋   | 671/1000 [00:17<00:09, 34.96trial/s, best loss: 0.0]"
     ]
    },
    {
     "name": "stderr",
     "output_type": "stream",
     "text": [
      "\n",
      "[CVODE ERROR]  CVode\n",
      "  At t = 1308.6, mxstep steps taken before reaching tout.\n",
      "\n"
     ]
    },
    {
     "name": "stdout",
     "output_type": "stream",
     "text": [
      "100%|██████████| 1000/1000 [00:27<00:00, 36.22trial/s, best loss: 0.0]\n",
      "100%|██████████| 1000/1000 [00:26<00:00, 37.44trial/s, best loss: 0.006230533831806493]\n",
      "100%|██████████| 1000/1000 [00:26<00:00, 37.74trial/s, best loss: 1.3343327730181522]\n",
      "100%|██████████| 1000/1000 [00:27<00:00, 36.58trial/s, best loss: 0.042963782604179976]\n",
      "100%|██████████| 1000/1000 [00:27<00:00, 36.68trial/s, best loss: 1.3016817699562393]\n",
      "100%|██████████| 1000/1000 [00:26<00:00, 37.69trial/s, best loss: 0.036460381272248994]\n",
      "100%|██████████| 1000/1000 [00:26<00:00, 38.29trial/s, best loss: 1.0329742216448918]\n",
      "100%|██████████| 1000/1000 [00:27<00:00, 36.50trial/s, best loss: 0.20359101419935227]\n",
      "100%|██████████| 1000/1000 [00:27<00:00, 36.74trial/s, best loss: 0.2689531992551297]\n",
      "100%|██████████| 1000/1000 [00:26<00:00, 37.87trial/s, best loss: 0.030868164569633594]\n",
      "100%|██████████| 1000/1000 [00:26<00:00, 37.58trial/s, best loss: 1.7004593243036532]\n",
      "100%|██████████| 1000/1000 [00:27<00:00, 36.36trial/s, best loss: 0.19128721857397996]\n",
      "100%|██████████| 1000/1000 [00:27<00:00, 36.73trial/s, best loss: 0.41243051042283124]\n",
      "100%|██████████| 1000/1000 [00:25<00:00, 38.55trial/s, best loss: 0.10387212362352277]\n",
      "100%|██████████| 1000/1000 [00:25<00:00, 38.96trial/s, best loss: 0.19633040235226223]\n",
      "100%|██████████| 1000/1000 [00:27<00:00, 36.60trial/s, best loss: 0.09296373540013234]\n",
      "100%|██████████| 1000/1000 [00:27<00:00, 36.18trial/s, best loss: 0.11863979250487927]\n",
      "100%|██████████| 1000/1000 [00:26<00:00, 38.34trial/s, best loss: 0.04560411468254881]\n",
      "100%|██████████| 1000/1000 [00:25<00:00, 38.62trial/s, best loss: 0.41994322252046107]\n",
      "100%|██████████| 1000/1000 [00:27<00:00, 37.00trial/s, best loss: 0.6013111651508767]\n",
      "100%|██████████| 1000/1000 [00:27<00:00, 35.74trial/s, best loss: 0.3594257687658041]\n",
      " 96%|█████████▌| 959/1000 [00:25<00:01, 32.25trial/s, best loss: 0.0]                "
     ]
    },
    {
     "name": "stderr",
     "output_type": "stream",
     "text": [
      "\n",
      "[CVODE ERROR]  CVode\n",
      "  At t = 2363.41, mxstep steps taken before reaching tout.\n",
      "\n"
     ]
    },
    {
     "name": "stdout",
     "output_type": "stream",
     "text": [
      "100%|██████████| 1000/1000 [00:27<00:00, 36.97trial/s, best loss: 0.0]\n",
      "100%|██████████| 1000/1000 [00:25<00:00, 38.87trial/s, best loss: 7.0481548379153125]\n",
      "100%|██████████| 1000/1000 [00:27<00:00, 36.82trial/s, best loss: 0.1105856605026189]\n",
      " 58%|█████▊    | 576/1000 [00:14<00:12, 34.80trial/s, best loss: 0.0]               "
     ]
    },
    {
     "name": "stderr",
     "output_type": "stream",
     "text": [
      "\n",
      "[CVODE ERROR]  CVode\n",
      "  At t = 1554.12, mxstep steps taken before reaching tout.\n",
      "\n"
     ]
    },
    {
     "name": "stdout",
     "output_type": "stream",
     "text": [
      "100%|██████████| 1000/1000 [00:27<00:00, 36.44trial/s, best loss: 0.0]\n",
      "100%|██████████| 1000/1000 [00:26<00:00, 38.18trial/s, best loss: 0.05648867124012975]\n",
      "100%|██████████| 1000/1000 [00:25<00:00, 38.91trial/s, best loss: 3.2265755268177765]\n",
      "100%|██████████| 1000/1000 [00:27<00:00, 35.86trial/s, best loss: 0.1505153708410274]\n",
      "100%|██████████| 1000/1000 [00:27<00:00, 36.87trial/s, best loss: 2.1850084128340095]\n",
      "100%|██████████| 1000/1000 [00:26<00:00, 38.42trial/s, best loss: 0.08773063131230646]\n",
      "100%|██████████| 1000/1000 [00:25<00:00, 39.57trial/s, best loss: 2.323468013957794]\n",
      "100%|██████████| 1000/1000 [00:27<00:00, 36.74trial/s, best loss: 0.07312664589991111]\n",
      "100%|██████████| 1000/1000 [00:28<00:00, 35.62trial/s, best loss: 0.7794886363773201]\n",
      "100%|██████████| 1000/1000 [00:26<00:00, 37.58trial/s, best loss: 0.05604213215613157]\n",
      "100%|██████████| 1000/1000 [00:25<00:00, 38.73trial/s, best loss: 0.5249473088407707]\n",
      "100%|██████████| 1000/1000 [00:27<00:00, 35.86trial/s, best loss: 0.27071463365892445]\n",
      "100%|██████████| 1000/1000 [00:27<00:00, 36.45trial/s, best loss: 1.2704410464329328]\n",
      "100%|██████████| 1000/1000 [00:26<00:00, 37.29trial/s, best loss: 0.11273474393937952]\n",
      "100%|██████████| 1000/1000 [00:26<00:00, 37.88trial/s, best loss: 2.641056875252123]\n",
      "100%|██████████| 1000/1000 [00:27<00:00, 36.29trial/s, best loss: 0.8439260651268301]\n",
      "100%|██████████| 1000/1000 [00:27<00:00, 36.95trial/s, best loss: 0.12675826485031685]\n",
      "100%|██████████| 1000/1000 [00:25<00:00, 38.73trial/s, best loss: 0.015322933276231295]\n",
      "100%|██████████| 1000/1000 [00:26<00:00, 38.06trial/s, best loss: 3.2818626341900257]\n",
      "100%|██████████| 1000/1000 [00:27<00:00, 35.82trial/s, best loss: 0.1393124894040964]\n",
      " 66%|██████▌   | 661/1000 [00:17<00:10, 33.63trial/s, best loss: 0.0]               "
     ]
    },
    {
     "name": "stderr",
     "output_type": "stream",
     "text": [
      "\n",
      "[CVODE ERROR]  CVode\n",
      "  At t = 2291.87, mxstep steps taken before reaching tout.\n",
      "\n"
     ]
    },
    {
     "name": "stdout",
     "output_type": "stream",
     "text": [
      "100%|██████████| 1000/1000 [00:27<00:00, 36.27trial/s, best loss: 0.0]\n",
      "100%|██████████| 1000/1000 [00:26<00:00, 37.76trial/s, best loss: 0.007881993340481565]\n",
      "100%|██████████| 1000/1000 [00:26<00:00, 37.68trial/s, best loss: 0.8681459104768514]\n",
      "100%|██████████| 1000/1000 [00:27<00:00, 36.05trial/s, best loss: 0.31027334903528975]\n",
      "100%|██████████| 1000/1000 [00:27<00:00, 36.93trial/s, best loss: 0.23599436744989208]\n",
      "100%|██████████| 1000/1000 [00:26<00:00, 37.15trial/s, best loss: 0.0226418202279505]\n",
      "100%|██████████| 1000/1000 [00:26<00:00, 37.70trial/s, best loss: 2.925583989175307]\n",
      "100%|██████████| 1000/1000 [00:27<00:00, 36.88trial/s, best loss: 0.10462391598561069]\n",
      "100%|██████████| 1000/1000 [00:27<00:00, 36.50trial/s, best loss: 0.9009582936308562]\n",
      "100%|██████████| 1000/1000 [00:26<00:00, 37.74trial/s, best loss: 0.07484972942273262]\n",
      "100%|██████████| 1000/1000 [00:25<00:00, 39.02trial/s, best loss: 0.09200169882974289]\n",
      "100%|██████████| 1000/1000 [00:28<00:00, 35.63trial/s, best loss: 0.005192362449443454]\n",
      "100%|██████████| 1000/1000 [00:27<00:00, 36.73trial/s, best loss: 0.2003339273343457]\n",
      "100%|██████████| 1000/1000 [00:26<00:00, 37.84trial/s, best loss: 0.0021045021520935563]\n",
      "100%|██████████| 1000/1000 [00:26<00:00, 37.98trial/s, best loss: 1.4779023013539456]\n",
      "100%|██████████| 1000/1000 [00:27<00:00, 36.31trial/s, best loss: 0.05516639880654767]\n",
      "100%|██████████| 1000/1000 [00:28<00:00, 35.50trial/s, best loss: 0.061965738885979206]\n",
      "100%|██████████| 1000/1000 [00:26<00:00, 37.55trial/s, best loss: 0.004261488809604547]\n",
      "100%|██████████| 1000/1000 [00:26<00:00, 37.91trial/s, best loss: 0.7633014104104482]\n",
      "100%|██████████| 1000/1000 [00:27<00:00, 36.34trial/s, best loss: 0.40760482588293734]\n",
      "100%|██████████| 1000/1000 [00:26<00:00, 37.28trial/s, best loss: 0.3385462791773389]\n",
      "100%|██████████| 1000/1000 [00:26<00:00, 38.07trial/s, best loss: 0.008439961910879805]\n",
      "100%|██████████| 1000/1000 [00:26<00:00, 37.82trial/s, best loss: 3.6124440569450105]\n",
      "100%|██████████| 1000/1000 [00:27<00:00, 35.87trial/s, best loss: 0.10010083020663611]\n",
      "100%|██████████| 1000/1000 [00:27<00:00, 36.70trial/s, best loss: 0.7047777620494068]\n",
      "100%|██████████| 1000/1000 [00:26<00:00, 37.68trial/s, best loss: 0.12378348082831883]\n",
      "100%|██████████| 1000/1000 [00:25<00:00, 39.40trial/s, best loss: 0.45417626923538823]\n",
      "100%|██████████| 1000/1000 [00:27<00:00, 36.67trial/s, best loss: 1.438855292268749]\n",
      " 37%|███▋      | 367/1000 [00:09<00:17, 36.76trial/s, best loss: 0.0]               "
     ]
    },
    {
     "name": "stderr",
     "output_type": "stream",
     "text": [
      "\n",
      "[CVODE ERROR]  CVode\n",
      "  At t = 1922.72, mxstep steps taken before reaching tout.\n",
      "\n"
     ]
    },
    {
     "name": "stdout",
     "output_type": "stream",
     "text": [
      "100%|██████████| 1000/1000 [00:28<00:00, 34.98trial/s, best loss: 0.0]\n",
      "100%|██████████| 1000/1000 [00:25<00:00, 39.22trial/s, best loss: 0.06573774414856344]\n",
      "100%|██████████| 1000/1000 [00:25<00:00, 39.00trial/s, best loss: 1.1188750516295654]\n",
      "100%|██████████| 1000/1000 [00:27<00:00, 36.68trial/s, best loss: 0.43710878790446794]\n",
      "100%|██████████| 1000/1000 [00:27<00:00, 36.78trial/s, best loss: 1.1279173052883724]\n",
      "100%|██████████| 1000/1000 [00:25<00:00, 38.58trial/s, best loss: 0.040430925909630086]\n",
      "100%|██████████| 1000/1000 [00:26<00:00, 37.59trial/s, best loss: 1.753987237892706]\n",
      "100%|██████████| 1000/1000 [00:27<00:00, 36.25trial/s, best loss: 0.05695837463811245]\n",
      "100%|██████████| 1000/1000 [00:27<00:00, 36.77trial/s, best loss: 0.9696711588408611]\n",
      " 21%|██        | 208/1000 [00:04<00:19, 41.58trial/s, best loss: 0.0]                "
     ]
    },
    {
     "name": "stderr",
     "output_type": "stream",
     "text": [
      "\n",
      "[CVODE ERROR]  CVode\n",
      "  At t = 1667.95, mxstep steps taken before reaching tout.\n",
      "\n"
     ]
    },
    {
     "name": "stdout",
     "output_type": "stream",
     "text": [
      " 24%|██▍       | 244/1000 [00:05<00:19, 38.44trial/s, best loss: 0.0]"
     ]
    },
    {
     "name": "stderr",
     "output_type": "stream",
     "text": [
      "\n",
      "[CVODE ERROR]  CVode\n",
      "  At t = 1549.27, mxstep steps taken before reaching tout.\n",
      "\n"
     ]
    },
    {
     "name": "stdout",
     "output_type": "stream",
     "text": [
      "100%|██████████| 1000/1000 [00:26<00:00, 37.34trial/s, best loss: 0.0]\n",
      "100%|██████████| 1000/1000 [00:26<00:00, 38.25trial/s, best loss: 0.5818473731255154]\n",
      " 43%|████▎     | 433/1000 [00:11<00:16, 33.69trial/s, best loss: 0.0]               "
     ]
    },
    {
     "name": "stderr",
     "output_type": "stream",
     "text": [
      "\n",
      "[CVODE ERROR]  CVode\n",
      "  At t = 1658.59, mxstep steps taken before reaching tout.\n",
      "\n"
     ]
    },
    {
     "name": "stdout",
     "output_type": "stream",
     "text": [
      "100%|██████████| 1000/1000 [00:27<00:00, 36.29trial/s, best loss: 0.0]\n",
      "100%|██████████| 1000/1000 [00:28<00:00, 35.61trial/s, best loss: 1.2399003915138558]\n",
      "100%|██████████| 1000/1000 [00:26<00:00, 37.61trial/s, best loss: 0.03478967972126737]\n",
      " 42%|████▏     | 418/1000 [00:10<00:14, 40.99trial/s, best loss: 0.0]               "
     ]
    },
    {
     "name": "stderr",
     "output_type": "stream",
     "text": [
      "\n",
      "[CVODE ERROR]  CVode\n",
      "  At t = 1588.99, mxstep steps taken before reaching tout.\n",
      "\n"
     ]
    },
    {
     "name": "stdout",
     "output_type": "stream",
     "text": [
      "100%|██████████| 1000/1000 [00:26<00:00, 38.29trial/s, best loss: 0.0]\n",
      "100%|██████████| 1000/1000 [00:27<00:00, 35.80trial/s, best loss: 0.026463523583632652]\n",
      "100%|██████████| 1000/1000 [00:27<00:00, 36.85trial/s, best loss: 0.5675535486282673]\n",
      "100%|██████████| 1000/1000 [00:25<00:00, 38.81trial/s, best loss: 0.007533593825577976]\n",
      "100%|██████████| 1000/1000 [00:26<00:00, 37.90trial/s, best loss: 2.0958634294238285]\n",
      "100%|██████████| 1000/1000 [00:28<00:00, 35.57trial/s, best loss: 0.08776868324552146]\n",
      "100%|██████████| 1000/1000 [00:27<00:00, 36.83trial/s, best loss: 0.2602540451966048]\n",
      "100%|██████████| 1000/1000 [00:26<00:00, 38.17trial/s, best loss: 0.09128184689863131]\n",
      "100%|██████████| 1000/1000 [00:26<00:00, 38.30trial/s, best loss: 14.681789195100922]\n",
      "100%|██████████| 1000/1000 [00:27<00:00, 36.96trial/s, best loss: 4.453954397017238]\n",
      " 69%|██████▉   | 688/1000 [00:18<00:09, 34.53trial/s, best loss: 0.0]               "
     ]
    },
    {
     "name": "stderr",
     "output_type": "stream",
     "text": [
      "\n",
      "[CVODE ERROR]  CVode\n",
      "  At t = 2439.26, mxstep steps taken before reaching tout.\n",
      "\n"
     ]
    },
    {
     "name": "stdout",
     "output_type": "stream",
     "text": [
      "100%|██████████| 1000/1000 [00:28<00:00, 35.59trial/s, best loss: 0.0]\n",
      "100%|██████████| 1000/1000 [00:25<00:00, 38.92trial/s, best loss: 0.09191301845396017]\n",
      "100%|██████████| 1000/1000 [00:25<00:00, 38.91trial/s, best loss: 5.750122461243354]\n",
      "100%|██████████| 1000/1000 [00:27<00:00, 36.47trial/s, best loss: 0.1878034182665387]\n",
      "100%|██████████| 1000/1000 [00:28<00:00, 34.89trial/s, best loss: 0.2524505208437208]\n",
      " 98%|█████████▊| 976/1000 [00:25<00:00, 32.15trial/s, best loss: 0.0]                "
     ]
    },
    {
     "name": "stderr",
     "output_type": "stream",
     "text": [
      "\n",
      "[CVODE ERROR]  CVode\n",
      "  At t = 1767.91, mxstep steps taken before reaching tout.\n",
      "\n"
     ]
    },
    {
     "name": "stdout",
     "output_type": "stream",
     "text": [
      "100%|██████████| 1000/1000 [00:25<00:00, 38.77trial/s, best loss: 0.0]\n",
      "100%|██████████| 1000/1000 [00:25<00:00, 38.58trial/s, best loss: 4.392389961942321]\n",
      "100%|██████████| 1000/1000 [00:28<00:00, 35.15trial/s, best loss: 0.06240905088372388]\n",
      "100%|██████████| 1000/1000 [00:27<00:00, 36.71trial/s, best loss: 0.049757683552706114]\n",
      "100%|██████████| 1000/1000 [00:27<00:00, 36.22trial/s, best loss: 0.048830710384219184]\n",
      "100%|██████████| 1000/1000 [00:26<00:00, 37.35trial/s, best loss: 1.4122755004481589]\n",
      "100%|██████████| 1000/1000 [00:27<00:00, 36.55trial/s, best loss: 0.8788345271853255]\n",
      "100%|██████████| 1000/1000 [00:28<00:00, 35.37trial/s, best loss: 1.7174063021450454]\n",
      " 97%|█████████▋| 966/1000 [00:25<00:01, 32.94trial/s, best loss: 0.0]                "
     ]
    },
    {
     "name": "stderr",
     "output_type": "stream",
     "text": [
      "\n",
      "[CVODE ERROR]  CVode\n",
      "  At t = 1617.51, mxstep steps taken before reaching tout.\n",
      "\n"
     ]
    },
    {
     "name": "stdout",
     "output_type": "stream",
     "text": [
      "100%|██████████| 1000/1000 [00:26<00:00, 38.03trial/s, best loss: 0.0]\n",
      "100%|██████████| 1000/1000 [00:25<00:00, 38.86trial/s, best loss: 1.4970824741632687]\n",
      "100%|██████████| 1000/1000 [00:27<00:00, 36.35trial/s, best loss: 0.04186084650880924]\n",
      "100%|██████████| 1000/1000 [00:27<00:00, 36.96trial/s, best loss: 0.7340019790771971]\n",
      "100%|██████████| 1000/1000 [00:25<00:00, 38.67trial/s, best loss: 0.04166720338279744]\n",
      "100%|██████████| 1000/1000 [00:26<00:00, 37.94trial/s, best loss: 1.0008619406772634]\n",
      "100%|██████████| 1000/1000 [00:28<00:00, 34.76trial/s, best loss: 0.502684254325797]\n",
      "  7%|▋         | 70/1000 [00:01<00:23, 39.03trial/s, best loss: 0.0]               "
     ]
    },
    {
     "name": "stderr",
     "output_type": "stream",
     "text": [
      "\n",
      "[CVODE ERROR]  CVode\n",
      "  At t = 2193.68, mxstep steps taken before reaching tout.\n",
      "\n"
     ]
    },
    {
     "name": "stdout",
     "output_type": "stream",
     "text": [
      " 38%|███▊      | 384/1000 [00:10<00:18, 33.34trial/s, best loss: 0.0]"
     ]
    },
    {
     "name": "stderr",
     "output_type": "stream",
     "text": [
      "\n",
      "[CVODE ERROR]  CVode\n",
      "  At t = 1568.01, mxstep steps taken before reaching tout.\n",
      "\n"
     ]
    },
    {
     "name": "stdout",
     "output_type": "stream",
     "text": [
      " 95%|█████████▌| 953/1000 [00:26<00:01, 31.01trial/s, best loss: 0.0]"
     ]
    },
    {
     "name": "stderr",
     "output_type": "stream",
     "text": [
      "\n",
      "[CVODE ERROR]  CVode\n",
      "  At t = 2227.59, mxstep steps taken before reaching tout.\n",
      "\n"
     ]
    },
    {
     "name": "stdout",
     "output_type": "stream",
     "text": [
      "100%|██████████| 1000/1000 [00:28<00:00, 35.24trial/s, best loss: 0.0]\n",
      "100%|██████████| 1000/1000 [00:26<00:00, 37.92trial/s, best loss: 0.10443202560887718]\n",
      "100%|██████████| 1000/1000 [00:25<00:00, 39.33trial/s, best loss: 3.938661952916152]\n",
      " 15%|█▌        | 154/1000 [00:03<00:21, 39.21trial/s, best loss: 0.0]              "
     ]
    },
    {
     "name": "stderr",
     "output_type": "stream",
     "text": [
      "\n",
      "[CVODE ERROR]  CVode\n",
      "  At t = 2069.77, mxstep steps taken before reaching tout.\n",
      "\n"
     ]
    },
    {
     "name": "stdout",
     "output_type": "stream",
     "text": [
      "100%|██████████| 1000/1000 [00:27<00:00, 36.51trial/s, best loss: 0.0]\n",
      "  4%|▍         | 43/1000 [00:00<00:22, 42.53trial/s, best loss: 0.0]              "
     ]
    },
    {
     "name": "stderr",
     "output_type": "stream",
     "text": [
      "\n",
      "[CVODE ERROR]  CVode\n",
      "  At t = 917.357, mxstep steps taken before reaching tout.\n",
      "\n"
     ]
    },
    {
     "name": "stdout",
     "output_type": "stream",
     "text": [
      "100%|██████████| 1000/1000 [00:27<00:00, 36.93trial/s, best loss: 0.0]\n",
      "100%|██████████| 1000/1000 [00:26<00:00, 37.51trial/s, best loss: 0.06675048128856119]\n",
      "100%|██████████| 1000/1000 [00:26<00:00, 38.05trial/s, best loss: 1.8214281041040745]\n",
      "100%|██████████| 1000/1000 [00:27<00:00, 36.75trial/s, best loss: 0.1317142318710523]\n",
      "100%|██████████| 1000/1000 [00:27<00:00, 36.82trial/s, best loss: 0.8041953924239631]\n",
      "100%|██████████| 1000/1000 [00:25<00:00, 38.69trial/s, best loss: 0.08393311124732757]\n",
      "100%|██████████| 1000/1000 [00:25<00:00, 39.10trial/s, best loss: 16.801010773287402]\n",
      "100%|██████████| 1000/1000 [00:27<00:00, 36.22trial/s, best loss: 0.11763279031909424]\n",
      "100%|██████████| 1000/1000 [00:27<00:00, 36.70trial/s, best loss: 0.7815706934014209]\n",
      " 58%|█████▊    | 578/1000 [00:14<00:11, 36.23trial/s, best loss: 0.0]                "
     ]
    },
    {
     "name": "stderr",
     "output_type": "stream",
     "text": [
      "\n",
      "[CVODE ERROR]  CVode\n",
      "  At t = 710.013, mxstep steps taken before reaching tout.\n",
      "\n"
     ]
    },
    {
     "name": "stdout",
     "output_type": "stream",
     "text": [
      "100%|██████████| 1000/1000 [00:26<00:00, 37.38trial/s, best loss: 0.0]\n",
      "100%|██████████| 1000/1000 [00:25<00:00, 39.24trial/s, best loss: 21.66327889454488]\n",
      "100%|██████████| 1000/1000 [00:27<00:00, 36.68trial/s, best loss: 0.20137325934057387]\n",
      "100%|██████████| 1000/1000 [00:27<00:00, 36.53trial/s, best loss: 0.25308313648521746]\n",
      "100%|██████████| 1000/1000 [00:26<00:00, 37.43trial/s, best loss: 0.12799074545879796]\n",
      " 66%|██████▌   | 657/1000 [00:17<00:09, 35.84trial/s, best loss: 0.0]               "
     ]
    },
    {
     "name": "stderr",
     "output_type": "stream",
     "text": [
      "\n",
      "[CVODE ERROR]  CVode\n",
      "  At t = 1137.87, mxstep steps taken before reaching tout.\n",
      "\n"
     ]
    },
    {
     "name": "stdout",
     "output_type": "stream",
     "text": [
      "100%|██████████| 1000/1000 [00:26<00:00, 37.19trial/s, best loss: 0.0]\n",
      "100%|██████████| 1000/1000 [00:27<00:00, 36.28trial/s, best loss: 1.807164166125534]\n",
      "100%|██████████| 1000/1000 [00:27<00:00, 36.66trial/s, best loss: 0.521946889691386]\n",
      "100%|██████████| 1000/1000 [00:25<00:00, 38.84trial/s, best loss: 0.014659230319413831]\n",
      "100%|██████████| 1000/1000 [00:26<00:00, 37.93trial/s, best loss: 0.7821132928369685]\n",
      "100%|██████████| 1000/1000 [00:27<00:00, 36.61trial/s, best loss: 3.335040711755014]\n",
      "100%|██████████| 1000/1000 [00:27<00:00, 35.74trial/s, best loss: 0.7838988682587672]\n",
      "100%|██████████| 1000/1000 [00:25<00:00, 38.77trial/s, best loss: 0.025220026669157514]\n",
      "100%|██████████| 1000/1000 [00:26<00:00, 38.28trial/s, best loss: 0.13557024770141224]\n",
      "100%|██████████| 1000/1000 [00:27<00:00, 36.34trial/s, best loss: 1.16687096143564] \n",
      " 24%|██▍       | 244/1000 [00:05<00:19, 38.74trial/s, best loss: 0.0]               "
     ]
    },
    {
     "name": "stderr",
     "output_type": "stream",
     "text": [
      "\n",
      "[CVODE ERROR]  CVode\n",
      "  At t = 2502.83, mxstep steps taken before reaching tout.\n",
      "\n"
     ]
    },
    {
     "name": "stdout",
     "output_type": "stream",
     "text": [
      "100%|██████████| 1000/1000 [00:27<00:00, 36.55trial/s, best loss: 0.0]\n",
      "  6%|▌         | 56/1000 [00:01<00:23, 40.48trial/s, best loss: 0.0]                 "
     ]
    },
    {
     "name": "stderr",
     "output_type": "stream",
     "text": [
      "\n",
      "[CVODE ERROR]  CVode\n",
      "  At t = 1715.6, mxstep steps taken before reaching tout.\n",
      "\n"
     ]
    },
    {
     "name": "stdout",
     "output_type": "stream",
     "text": [
      "100%|██████████| 1000/1000 [00:26<00:00, 37.10trial/s, best loss: 0.0]\n",
      " 13%|█▎        | 127/1000 [00:03<00:20, 41.61trial/s, best loss: 0.0]              "
     ]
    },
    {
     "name": "stderr",
     "output_type": "stream",
     "text": [
      "\n",
      "[CVODE ERROR]  CVode\n",
      "  At t = 1525.59, mxstep steps taken before reaching tout.\n",
      "\n"
     ]
    },
    {
     "name": "stdout",
     "output_type": "stream",
     "text": [
      "100%|██████████| 1000/1000 [00:27<00:00, 36.43trial/s, best loss: 0.0]\n",
      "100%|██████████| 1000/1000 [00:27<00:00, 36.49trial/s, best loss: 0.27709982261336014]\n",
      "100%|██████████| 1000/1000 [00:27<00:00, 36.51trial/s, best loss: 0.6775820725952866]\n",
      "100%|██████████| 1000/1000 [00:25<00:00, 38.86trial/s, best loss: 0.08472894616898602]\n",
      "100%|██████████| 1000/1000 [00:25<00:00, 39.06trial/s, best loss: 2.8374150717751765]\n",
      "100%|██████████| 1000/1000 [00:27<00:00, 36.41trial/s, best loss: 0.44757835828434767]\n",
      " 96%|█████████▋| 964/1000 [00:27<00:01, 31.03trial/s, best loss: 0.0]                "
     ]
    },
    {
     "name": "stderr",
     "output_type": "stream",
     "text": [
      "\n",
      "[CVODE ERROR]  CVode\n",
      "  At t = 2205.17, mxstep steps taken before reaching tout.\n",
      "\n"
     ]
    },
    {
     "name": "stdout",
     "output_type": "stream",
     "text": [
      "100%|██████████| 1000/1000 [00:28<00:00, 35.53trial/s, best loss: 0.0]\n",
      "100%|██████████| 1000/1000 [00:26<00:00, 38.14trial/s, best loss: 0.01395410645994899]\n",
      " 32%|███▏      | 317/1000 [00:07<00:17, 40.00trial/s, best loss: 0.0]               "
     ]
    },
    {
     "name": "stderr",
     "output_type": "stream",
     "text": [
      "\n",
      "[CVODE ERROR]  CVode\n",
      "  At t = 1049.65, mxstep steps taken before reaching tout.\n",
      "\n"
     ]
    },
    {
     "name": "stdout",
     "output_type": "stream",
     "text": [
      " 68%|██████▊   | 685/1000 [00:17<00:08, 36.12trial/s, best loss: 0.0]"
     ]
    },
    {
     "name": "stderr",
     "output_type": "stream",
     "text": [
      "\n",
      "[CVODE ERROR]  CVode\n",
      "  At t = 646.081, mxstep steps taken before reaching tout.\n",
      "\n"
     ]
    },
    {
     "name": "stdout",
     "output_type": "stream",
     "text": [
      " 91%|█████████ | 906/1000 [00:23<00:02, 33.50trial/s, best loss: 0.0]"
     ]
    },
    {
     "name": "stderr",
     "output_type": "stream",
     "text": [
      "\n",
      "[CVODE ERROR]  CVode\n",
      "  At t = 2378.93, mxstep steps taken before reaching tout.\n",
      "\n"
     ]
    },
    {
     "name": "stdout",
     "output_type": "stream",
     "text": [
      "100%|██████████| 1000/1000 [00:26<00:00, 37.70trial/s, best loss: 0.0]\n",
      "100%|██████████| 1000/1000 [00:27<00:00, 35.77trial/s, best loss: 2.756553216875973]\n",
      "100%|██████████| 1000/1000 [00:27<00:00, 36.89trial/s, best loss: 0.0920192036116878]\n",
      "100%|██████████| 1000/1000 [00:26<00:00, 38.41trial/s, best loss: 0.0468387453790571]\n",
      "100%|██████████| 1000/1000 [00:26<00:00, 37.38trial/s, best loss: 0.5699577236898501]\n",
      "100%|██████████| 1000/1000 [00:28<00:00, 35.50trial/s, best loss: 0.5490582733290732]\n",
      "100%|██████████| 1000/1000 [00:27<00:00, 36.48trial/s, best loss: 0.05239094804821779]\n",
      "100%|██████████| 1000/1000 [00:26<00:00, 37.33trial/s, best loss: 7.826909416186955e-05]\n",
      "100%|██████████| 1000/1000 [00:27<00:00, 36.88trial/s, best loss: 0.9149911635033564]\n",
      "100%|██████████| 1000/1000 [00:27<00:00, 36.56trial/s, best loss: 3.190919307295907]\n",
      "100%|██████████| 1000/1000 [00:27<00:00, 35.82trial/s, best loss: 0.5630623631722249]\n",
      "100%|██████████| 1000/1000 [00:25<00:00, 38.57trial/s, best loss: 0.028649449417647507]\n",
      "100%|██████████| 1000/1000 [00:26<00:00, 38.45trial/s, best loss: 4.0948328553186055]\n",
      "100%|██████████| 1000/1000 [00:27<00:00, 36.61trial/s, best loss: 1.748968508724682]\n",
      "100%|██████████| 1000/1000 [00:27<00:00, 36.16trial/s, best loss: 0.6443333660099216]\n",
      "100%|██████████| 1000/1000 [00:26<00:00, 38.17trial/s, best loss: 0.09056907209580453]\n",
      " 12%|█▏        | 122/1000 [00:02<00:21, 40.27trial/s, best loss: 0.0]              "
     ]
    },
    {
     "name": "stderr",
     "output_type": "stream",
     "text": [
      "\n",
      "[CVODE ERROR]  CVode\n",
      "  At t = 1405.51, mxstep steps taken before reaching tout.\n",
      "\n"
     ]
    },
    {
     "name": "stdout",
     "output_type": "stream",
     "text": [
      "100%|██████████| 1000/1000 [00:26<00:00, 37.86trial/s, best loss: 0.0]\n",
      "100%|██████████| 1000/1000 [00:31<00:00, 32.00trial/s, best loss: 0.25516527648029924]\n",
      "100%|██████████| 1000/1000 [00:27<00:00, 36.62trial/s, best loss: 0.3132871498341384]\n",
      " 28%|██▊       | 284/1000 [00:06<00:17, 39.85trial/s, best loss: 0.0]                "
     ]
    },
    {
     "name": "stderr",
     "output_type": "stream",
     "text": [
      "\n",
      "[CVODE ERROR]  CVode\n",
      "  At t = 1887.14, mxstep steps taken before reaching tout.\n",
      "\n"
     ]
    },
    {
     "name": "stdout",
     "output_type": "stream",
     "text": [
      "100%|██████████| 1000/1000 [00:27<00:00, 36.58trial/s, best loss: 0.0]\n",
      "100%|██████████| 1000/1000 [00:26<00:00, 37.34trial/s, best loss: 0.32434496208416125]\n",
      "100%|██████████| 1000/1000 [00:27<00:00, 36.48trial/s, best loss: 0.20991524774512876]\n",
      " 94%|█████████▎| 936/1000 [00:25<00:01, 32.30trial/s, best loss: 0.0]               "
     ]
    },
    {
     "name": "stderr",
     "output_type": "stream",
     "text": [
      "\n",
      "[CVODE ERROR]  CVode\n",
      "  At t = 648.539, mxstep steps taken before reaching tout.\n",
      "\n"
     ]
    },
    {
     "name": "stdout",
     "output_type": "stream",
     "text": [
      "100%|██████████| 1000/1000 [00:27<00:00, 36.54trial/s, best loss: 0.0]\n",
      "100%|██████████| 1000/1000 [00:26<00:00, 38.23trial/s, best loss: 0.018772973753463835]\n",
      "100%|██████████| 1000/1000 [00:26<00:00, 37.98trial/s, best loss: 5.114454134425886]\n",
      "100%|██████████| 1000/1000 [00:27<00:00, 36.54trial/s, best loss: 0.30320419126748877]\n",
      " 33%|███▎      | 326/1000 [00:08<00:18, 35.50trial/s, best loss: 0.0]               "
     ]
    },
    {
     "name": "stderr",
     "output_type": "stream",
     "text": [
      "\n",
      "[CVODE ERROR]  CVode\n",
      "  At t = 2311.17, mxstep steps taken before reaching tout.\n",
      "\n"
     ]
    },
    {
     "name": "stdout",
     "output_type": "stream",
     "text": [
      "100%|██████████| 1000/1000 [00:28<00:00, 35.49trial/s, best loss: 0.0]\n",
      "100%|██████████| 1000/1000 [00:26<00:00, 37.64trial/s, best loss: 0.046613911584868994]\n",
      "100%|██████████| 1000/1000 [00:26<00:00, 38.40trial/s, best loss: 0.8079263726488141]\n",
      "100%|██████████| 1000/1000 [00:27<00:00, 36.55trial/s, best loss: 0.24685538593470066]\n",
      " 10%|▉         | 99/1000 [00:02<00:21, 41.18trial/s, best loss: 0.0]               "
     ]
    },
    {
     "name": "stderr",
     "output_type": "stream",
     "text": [
      "\n",
      "[CVODE ERROR]  CVode\n",
      "  At t = 861.965, mxstep steps taken before reaching tout.\n",
      "\n"
     ]
    },
    {
     "name": "stdout",
     "output_type": "stream",
     "text": [
      "100%|██████████| 1000/1000 [00:27<00:00, 36.38trial/s, best loss: 0.0]\n",
      "100%|██████████| 1000/1000 [00:25<00:00, 38.51trial/s, best loss: 0.05975733595089943]\n",
      "100%|██████████| 1000/1000 [00:26<00:00, 37.64trial/s, best loss: 15.685193135519238]\n",
      "100%|██████████| 1000/1000 [00:27<00:00, 36.46trial/s, best loss: 0.07616378642473189]\n",
      "100%|██████████| 1000/1000 [00:27<00:00, 36.93trial/s, best loss: 0.9923169372710141]\n",
      "100%|██████████| 1000/1000 [00:25<00:00, 38.86trial/s, best loss: 0.08578784856285254]\n",
      "100%|██████████| 1000/1000 [00:25<00:00, 38.76trial/s, best loss: 1.2627254282502742]\n",
      "100%|██████████| 1000/1000 [00:27<00:00, 36.33trial/s, best loss: 0.29962021667666267]\n",
      "100%|██████████| 1000/1000 [00:26<00:00, 37.20trial/s, best loss: 1.1361311961004228]\n",
      " 14%|█▍        | 138/1000 [00:03<00:21, 40.72trial/s, best loss: 0.0]                "
     ]
    },
    {
     "name": "stderr",
     "output_type": "stream",
     "text": [
      "\n",
      "[CVODE ERROR]  CVode\n",
      "  At t = 2189.81, mxstep steps taken before reaching tout.\n",
      "\n"
     ]
    },
    {
     "name": "stdout",
     "output_type": "stream",
     "text": [
      "100%|██████████| 1000/1000 [00:27<00:00, 36.67trial/s, best loss: 0.0]\n",
      "100%|██████████| 1000/1000 [00:26<00:00, 37.98trial/s, best loss: 1.5554631188121455]\n",
      "100%|██████████| 1000/1000 [00:27<00:00, 35.86trial/s, best loss: 0.14464673828963598]\n",
      " 75%|███████▍  | 747/1000 [00:20<00:07, 33.33trial/s, best loss: 0.0]               "
     ]
    },
    {
     "name": "stderr",
     "output_type": "stream",
     "text": [
      "\n",
      "[CVODE ERROR]  CVode\n",
      "  At t = 2398.69, mxstep steps taken before reaching tout.\n",
      "\n"
     ]
    },
    {
     "name": "stdout",
     "output_type": "stream",
     "text": [
      "100%|██████████| 1000/1000 [00:27<00:00, 36.08trial/s, best loss: 0.0]\n",
      "100%|██████████| 1000/1000 [00:27<00:00, 36.48trial/s, best loss: 0.004304624204796519]\n",
      "100%|██████████| 1000/1000 [00:26<00:00, 37.36trial/s, best loss: 0.5640246163485888]\n",
      "100%|██████████| 1000/1000 [00:27<00:00, 35.82trial/s, best loss: 0.05305747594467408]\n",
      "100%|██████████| 1000/1000 [00:27<00:00, 36.69trial/s, best loss: 1.4955670245236006]\n",
      "100%|██████████| 1000/1000 [00:26<00:00, 37.72trial/s, best loss: 0.07210802194452161]\n",
      " 27%|██▋       | 267/1000 [00:06<00:17, 41.07trial/s, best loss: 0.0]               "
     ]
    },
    {
     "name": "stderr",
     "output_type": "stream",
     "text": [
      "\n",
      "[CVODE ERROR]  CVode\n",
      "  At t = 2053.98, mxstep steps taken before reaching tout.\n",
      "\n"
     ]
    },
    {
     "name": "stdout",
     "output_type": "stream",
     "text": [
      "100%|██████████| 1000/1000 [00:25<00:00, 38.59trial/s, best loss: 0.0]\n",
      "100%|██████████| 1000/1000 [00:27<00:00, 36.51trial/s, best loss: 3.6106698378790827]\n",
      "100%|██████████| 1000/1000 [00:27<00:00, 36.18trial/s, best loss: 1.9720274917657676]\n",
      " 11%|█▏        | 113/1000 [00:02<00:21, 41.65trial/s, best loss: 0.0]               "
     ]
    },
    {
     "name": "stderr",
     "output_type": "stream",
     "text": [
      "\n",
      "[CVODE ERROR]  CVode\n",
      "  At t = 1473.38, mxstep steps taken before reaching tout.\n",
      "\n"
     ]
    },
    {
     "name": "stdout",
     "output_type": "stream",
     "text": [
      "100%|██████████| 1000/1000 [00:26<00:00, 37.51trial/s, best loss: 0.0]\n",
      "100%|██████████| 1000/1000 [00:27<00:00, 36.93trial/s, best loss: 0.9352132776187142]\n",
      "100%|██████████| 1000/1000 [00:27<00:00, 36.66trial/s, best loss: 3.425597496351128]\n",
      "100%|██████████| 1000/1000 [00:26<00:00, 37.42trial/s, best loss: 0.08748653829058636]\n",
      "100%|██████████| 1000/1000 [00:26<00:00, 37.23trial/s, best loss: 0.4799181724098046]\n",
      "100%|██████████| 1000/1000 [00:26<00:00, 38.19trial/s, best loss: 2.5135467860370655]\n",
      "100%|██████████| 1000/1000 [00:27<00:00, 36.37trial/s, best loss: 0.14366443559911563]\n",
      "100%|██████████| 1000/1000 [00:27<00:00, 36.38trial/s, best loss: 0.4335187643486915]\n",
      "100%|██████████| 1000/1000 [00:26<00:00, 37.24trial/s, best loss: 0.0018946486269127661]\n",
      "100%|██████████| 1000/1000 [00:26<00:00, 37.86trial/s, best loss: 1.7477923447267378]\n",
      "100%|██████████| 1000/1000 [00:27<00:00, 36.51trial/s, best loss: 0.6462434813852072]\n",
      "100%|██████████| 1000/1000 [00:27<00:00, 36.96trial/s, best loss: 0.0877188629785106]\n",
      "100%|██████████| 1000/1000 [00:26<00:00, 37.59trial/s, best loss: 0.03942791513163038]\n",
      "100%|██████████| 1000/1000 [00:25<00:00, 38.63trial/s, best loss: 3.447977118562924]\n",
      "100%|██████████| 1000/1000 [00:28<00:00, 35.04trial/s, best loss: 0.20611578851335016]\n",
      "100%|██████████| 1000/1000 [00:28<00:00, 35.64trial/s, best loss: 0.2691466782886326]\n",
      "100%|██████████| 1000/1000 [00:25<00:00, 39.00trial/s, best loss: 0.07081567654139156]\n",
      "100%|██████████| 1000/1000 [00:26<00:00, 37.83trial/s, best loss: 3.275010988656062]\n",
      "100%|██████████| 1000/1000 [00:27<00:00, 36.50trial/s, best loss: 0.06369124941039603]\n",
      "100%|██████████| 1000/1000 [00:27<00:00, 36.90trial/s, best loss: 0.890029762953186]\n",
      "100%|██████████| 1000/1000 [00:26<00:00, 38.22trial/s, best loss: 0.09877041299833139]\n",
      "100%|██████████| 1000/1000 [00:25<00:00, 39.13trial/s, best loss: 0.27037366655557543]\n",
      "100%|██████████| 1000/1000 [00:27<00:00, 36.46trial/s, best loss: 1.8263463642878823]\n",
      "100%|██████████| 1000/1000 [00:27<00:00, 35.92trial/s, best loss: 0.15700251370128754]\n",
      "100%|██████████| 1000/1000 [00:26<00:00, 38.39trial/s, best loss: 0.03768283499626742]\n",
      "100%|██████████| 1000/1000 [00:26<00:00, 37.26trial/s, best loss: 3.4462988948904973]\n",
      " 49%|████▊     | 486/1000 [00:12<00:16, 31.11trial/s, best loss: 0.0]               "
     ]
    },
    {
     "name": "stderr",
     "output_type": "stream",
     "text": [
      "\n",
      "[CVODE ERROR]  CVode\n",
      "  At t = 1790.27, mxstep steps taken before reaching tout.\n",
      "\n"
     ]
    },
    {
     "name": "stdout",
     "output_type": "stream",
     "text": [
      "100%|██████████| 1000/1000 [00:27<00:00, 36.90trial/s, best loss: 0.0]\n",
      "100%|██████████| 1000/1000 [00:27<00:00, 36.68trial/s, best loss: 0.6109457179464045]\n",
      "100%|██████████| 1000/1000 [00:26<00:00, 38.33trial/s, best loss: 0.11029804575114832]\n",
      "100%|██████████| 1000/1000 [00:25<00:00, 38.52trial/s, best loss: 1.6998983824498648]\n",
      " 40%|████      | 405/1000 [00:10<00:16, 37.13trial/s, best loss: 0.0]               "
     ]
    },
    {
     "name": "stderr",
     "output_type": "stream",
     "text": [
      "\n",
      "[CVODE ERROR]  CVode\n",
      "  At t = 1281.66, mxstep steps taken before reaching tout.\n",
      "\n"
     ]
    },
    {
     "name": "stdout",
     "output_type": "stream",
     "text": [
      "100%|██████████| 1000/1000 [00:28<00:00, 35.08trial/s, best loss: 0.0]\n",
      "100%|██████████| 1000/1000 [00:27<00:00, 36.47trial/s, best loss: 0.567527863421938]\n",
      " 91%|█████████ | 912/1000 [00:25<00:02, 32.02trial/s, best loss: 0.0]                "
     ]
    },
    {
     "name": "stderr",
     "output_type": "stream",
     "text": [
      "\n",
      "[CVODE ERROR]  CVode\n",
      "  At t = 2182.29, mxstep steps taken before reaching tout.\n",
      "\n"
     ]
    },
    {
     "name": "stdout",
     "output_type": "stream",
     "text": [
      "100%|██████████| 1000/1000 [00:28<00:00, 35.45trial/s, best loss: 0.0]\n",
      "100%|██████████| 1000/1000 [00:26<00:00, 37.51trial/s, best loss: 3.0835136407850334]\n",
      "100%|██████████| 1000/1000 [00:28<00:00, 35.64trial/s, best loss: 0.3874265479100973]\n",
      " 91%|█████████ | 910/1000 [00:24<00:02, 31.53trial/s, best loss: 0.0]                 "
     ]
    },
    {
     "name": "stderr",
     "output_type": "stream",
     "text": [
      "\n",
      "[CVODE ERROR]  CVode\n",
      "  At t = 849.836, mxstep steps taken before reaching tout.\n",
      "\n"
     ]
    },
    {
     "name": "stdout",
     "output_type": "stream",
     "text": [
      "100%|██████████| 1000/1000 [00:27<00:00, 36.51trial/s, best loss: 0.0]\n",
      "100%|██████████| 1000/1000 [00:26<00:00, 37.49trial/s, best loss: 0.007740624757805644]\n",
      " 13%|█▎        | 133/1000 [00:03<00:22, 38.88trial/s, best loss: 0.0]              "
     ]
    },
    {
     "name": "stderr",
     "output_type": "stream",
     "text": [
      "\n",
      "[CVODE ERROR]  CVode\n",
      "  At t = 668.682, mxstep steps taken before reaching tout.\n",
      "\n"
     ]
    },
    {
     "name": "stdout",
     "output_type": "stream",
     "text": [
      "100%|██████████| 1000/1000 [00:27<00:00, 36.09trial/s, best loss: 0.0]\n",
      "  4%|▍         | 41/1000 [00:00<00:23, 40.49trial/s, best loss: 0.0]               "
     ]
    },
    {
     "name": "stderr",
     "output_type": "stream",
     "text": [
      "\n",
      "[CVODE ERROR]  CVode\n",
      "  At t = 1234.87, mxstep steps taken before reaching tout.\n",
      "\n"
     ]
    },
    {
     "name": "stdout",
     "output_type": "stream",
     "text": [
      "100%|██████████| 1000/1000 [00:27<00:00, 36.11trial/s, best loss: 0.0]\n",
      "100%|██████████| 1000/1000 [00:27<00:00, 35.96trial/s, best loss: 0.4024185338274892]\n",
      "100%|██████████| 1000/1000 [00:26<00:00, 38.06trial/s, best loss: 0.025713075001071447]\n",
      "100%|██████████| 1000/1000 [00:26<00:00, 38.03trial/s, best loss: 2.8939297704997906]\n",
      "100%|██████████| 1000/1000 [00:27<00:00, 36.76trial/s, best loss: 0.64930773448068] \n",
      "100%|██████████| 1000/1000 [00:27<00:00, 36.62trial/s, best loss: 0.5105363909542617]\n",
      "100%|██████████| 1000/1000 [00:26<00:00, 37.21trial/s, best loss: 0.0640772841516086]\n",
      "100%|██████████| 1000/1000 [00:25<00:00, 38.68trial/s, best loss: 6.926030633142293]\n",
      "100%|██████████| 1000/1000 [00:28<00:00, 34.53trial/s, best loss: 0.032516445379058546]\n",
      "100%|██████████| 1000/1000 [00:26<00:00, 37.12trial/s, best loss: 0.42321275866640246]\n",
      "100%|██████████| 1000/1000 [00:27<00:00, 36.74trial/s, best loss: 0.00599397263109615]\n",
      "100%|██████████| 1000/1000 [00:27<00:00, 36.80trial/s, best loss: 0.05474013053153005]\n",
      " 68%|██████▊   | 682/1000 [00:18<00:09, 35.22trial/s, best loss: 0.0]               "
     ]
    },
    {
     "name": "stderr",
     "output_type": "stream",
     "text": [
      "\n",
      "[CVODE ERROR]  CVode\n",
      "  At t = 2162.34, mxstep steps taken before reaching tout.\n",
      "\n"
     ]
    },
    {
     "name": "stdout",
     "output_type": "stream",
     "text": [
      "100%|██████████| 1000/1000 [00:27<00:00, 36.37trial/s, best loss: 0.0]\n",
      "  2%|▏         | 17/1000 [00:00<00:19, 51.09trial/s, best loss: 0.0]              "
     ]
    },
    {
     "name": "stderr",
     "output_type": "stream",
     "text": [
      "\n",
      "[CVODE ERROR]  CVode\n",
      "  At t = 1842.76, mxstep steps taken before reaching tout.\n",
      "\n"
     ]
    },
    {
     "name": "stdout",
     "output_type": "stream",
     "text": [
      "100%|██████████| 1000/1000 [00:27<00:00, 36.33trial/s, best loss: 0.0]\n",
      " 34%|███▍      | 343/1000 [00:08<00:17, 36.51trial/s, best loss: 0.0]               "
     ]
    },
    {
     "name": "stderr",
     "output_type": "stream",
     "text": [
      "\n",
      "[CVODE ERROR]  CVode\n",
      "  At t = 980.935, mxstep steps taken before reaching tout.\n",
      "\n"
     ]
    },
    {
     "name": "stdout",
     "output_type": "stream",
     "text": [
      "100%|██████████| 1000/1000 [00:27<00:00, 36.61trial/s, best loss: 0.0]\n",
      "100%|██████████| 1000/1000 [00:25<00:00, 38.67trial/s, best loss: 7.36662093177394] \n",
      "100%|██████████| 1000/1000 [00:27<00:00, 36.07trial/s, best loss: 0.13996138041896292]\n",
      "100%|██████████| 1000/1000 [00:28<00:00, 35.65trial/s, best loss: 0.6033074227940503]\n",
      "100%|██████████| 1000/1000 [00:27<00:00, 36.28trial/s, best loss: 0.00942748580006426]\n",
      "100%|██████████| 1000/1000 [00:26<00:00, 37.85trial/s, best loss: 2.0219378383558233]\n",
      "100%|██████████| 1000/1000 [00:28<00:00, 34.53trial/s, best loss: 0.49162426580930485]\n",
      "100%|██████████| 1000/1000 [00:27<00:00, 36.66trial/s, best loss: 0.03440778721503973]\n",
      "100%|██████████| 1000/1000 [00:26<00:00, 37.47trial/s, best loss: 0.0018617101218555275]\n",
      "100%|██████████| 1000/1000 [00:26<00:00, 37.35trial/s, best loss: 0.7678715225471501]\n",
      "100%|██████████| 1000/1000 [00:27<00:00, 35.95trial/s, best loss: 0.580957647861818]\n",
      "100%|██████████| 1000/1000 [00:27<00:00, 36.68trial/s, best loss: 0.6608248336777973]\n",
      "100%|██████████| 1000/1000 [00:26<00:00, 38.27trial/s, best loss: 0.011087833781991626]\n",
      "100%|██████████| 1000/1000 [00:27<00:00, 36.37trial/s, best loss: 0.54040910872027] \n",
      "100%|██████████| 1000/1000 [00:27<00:00, 35.97trial/s, best loss: 1.1100146867631657]\n",
      "100%|██████████| 1000/1000 [00:27<00:00, 36.47trial/s, best loss: 0.38330300839466463]\n",
      "100%|██████████| 1000/1000 [00:26<00:00, 38.39trial/s, best loss: 0.0151353888969815]\n",
      "100%|██████████| 1000/1000 [00:26<00:00, 38.09trial/s, best loss: 2.4646503430689517]\n",
      "100%|██████████| 1000/1000 [00:27<00:00, 36.61trial/s, best loss: 0.08520692688423212]\n",
      " 20%|█▉        | 196/1000 [00:04<00:20, 38.85trial/s, best loss: 0.0]               "
     ]
    },
    {
     "name": "stderr",
     "output_type": "stream",
     "text": [
      "\n",
      "[CVODE ERROR]  CVode\n",
      "  At t = 358.496, mxstep steps taken before reaching tout.\n",
      "\n"
     ]
    },
    {
     "name": "stdout",
     "output_type": "stream",
     "text": [
      "100%|██████████| 1000/1000 [00:27<00:00, 36.38trial/s, best loss: 0.0]\n",
      " 25%|██▌       | 254/1000 [00:06<00:19, 38.71trial/s, best loss: 0.0]               "
     ]
    },
    {
     "name": "stderr",
     "output_type": "stream",
     "text": [
      "\n",
      "[CVODE ERROR]  CVode\n",
      "  At t = 1968.01, mxstep steps taken before reaching tout.\n",
      "\n"
     ]
    },
    {
     "name": "stdout",
     "output_type": "stream",
     "text": [
      "100%|██████████| 1000/1000 [00:27<00:00, 35.74trial/s, best loss: 0.0]\n",
      "100%|██████████| 1000/1000 [00:25<00:00, 38.91trial/s, best loss: 1.7918995814178915]\n",
      " 83%|████████▎ | 828/1000 [00:22<00:04, 34.63trial/s, best loss: 0.0]               "
     ]
    },
    {
     "name": "stderr",
     "output_type": "stream",
     "text": [
      "\n",
      "[CVODE ERROR]  CVode\n",
      "  At t = 2358.29, mxstep steps taken before reaching tout.\n",
      "\n"
     ]
    },
    {
     "name": "stdout",
     "output_type": "stream",
     "text": [
      "100%|██████████| 1000/1000 [00:27<00:00, 36.82trial/s, best loss: 0.0]\n",
      " 50%|████▉     | 498/1000 [00:12<00:13, 36.98trial/s, best loss: 0.0]               "
     ]
    },
    {
     "name": "stderr",
     "output_type": "stream",
     "text": [
      "\n",
      "[CVODE ERROR]  CVode\n",
      "  At t = 2038.64, mxstep steps taken before reaching tout.\n",
      "\n"
     ]
    },
    {
     "name": "stdout",
     "output_type": "stream",
     "text": [
      "100%|██████████| 1000/1000 [00:27<00:00, 36.37trial/s, best loss: 0.0]\n",
      "100%|██████████| 1000/1000 [00:26<00:00, 38.36trial/s, best loss: 0.08211506631112395]\n",
      "100%|██████████| 1000/1000 [00:25<00:00, 39.11trial/s, best loss: 9.592094449582943]\n",
      "100%|██████████| 1000/1000 [00:27<00:00, 36.87trial/s, best loss: 0.10802309121598355]\n",
      "100%|██████████| 1000/1000 [00:28<00:00, 35.27trial/s, best loss: 2.6676600462833413]\n",
      "100%|██████████| 1000/1000 [00:25<00:00, 39.26trial/s, best loss: 0.11984586778305945]\n",
      "100%|██████████| 1000/1000 [00:25<00:00, 38.80trial/s, best loss: 2.727144252379552]\n",
      "100%|██████████| 1000/1000 [00:27<00:00, 36.36trial/s, best loss: 3.4198136609756746]\n",
      "100%|██████████| 1000/1000 [00:27<00:00, 36.87trial/s, best loss: 0.6200646602624584]\n",
      " 27%|██▋       | 266/1000 [00:06<00:18, 40.06trial/s, best loss: 0.0]              "
     ]
    },
    {
     "name": "stderr",
     "output_type": "stream",
     "text": [
      "\n",
      "[CVODE ERROR]  CVode\n",
      "  At t = 1818.33, mxstep steps taken before reaching tout.\n",
      "\n"
     ]
    },
    {
     "name": "stdout",
     "output_type": "stream",
     "text": [
      "100%|██████████| 1000/1000 [00:26<00:00, 37.36trial/s, best loss: 0.0]\n",
      "100%|██████████| 1000/1000 [00:26<00:00, 37.86trial/s, best loss: 2.3054477308839845]\n",
      "100%|██████████| 1000/1000 [00:27<00:00, 36.49trial/s, best loss: 0.17297981651429326]\n",
      "100%|██████████| 1000/1000 [00:28<00:00, 35.45trial/s, best loss: 0.278396795643846]\n",
      "100%|██████████| 1000/1000 [00:26<00:00, 37.87trial/s, best loss: 0.01451820606309603]\n",
      "100%|██████████| 1000/1000 [00:26<00:00, 37.98trial/s, best loss: 0.831382389821298]\n",
      "100%|██████████| 1000/1000 [00:27<00:00, 37.02trial/s, best loss: 0.3101850257998577]\n",
      "100%|██████████| 1000/1000 [00:27<00:00, 37.01trial/s, best loss: 1.9487467464504376]\n",
      " 53%|█████▎    | 531/1000 [00:13<00:12, 37.80trial/s, best loss: 0.0]                "
     ]
    },
    {
     "name": "stderr",
     "output_type": "stream",
     "text": [
      "\n",
      "[CVODE ERROR]  CVode\n",
      "  At t = 1767.66, mxstep steps taken before reaching tout.\n",
      "\n"
     ]
    },
    {
     "name": "stdout",
     "output_type": "stream",
     "text": [
      "100%|██████████| 1000/1000 [00:26<00:00, 38.21trial/s, best loss: 0.0]\n",
      "100%|██████████| 1000/1000 [00:25<00:00, 39.08trial/s, best loss: 2.609883726845006]\n",
      "  5%|▍         | 46/1000 [00:01<00:23, 40.60trial/s, best loss: 0.0]               "
     ]
    },
    {
     "name": "stderr",
     "output_type": "stream",
     "text": [
      "\n",
      "[CVODE ERROR]  CVode\n",
      "  At t = 1905.47, mxstep steps taken before reaching tout.\n",
      "\n"
     ]
    },
    {
     "name": "stdout",
     "output_type": "stream",
     "text": [
      " 88%|████████▊ | 879/1000 [00:25<00:03, 33.04trial/s, best loss: 0.0]"
     ]
    },
    {
     "name": "stderr",
     "output_type": "stream",
     "text": [
      "\n",
      "[CVODE ERROR]  CVode\n",
      "  At t = 2487.65, mxstep steps taken before reaching tout.\n",
      "\n"
     ]
    },
    {
     "name": "stdout",
     "output_type": "stream",
     "text": [
      "100%|██████████| 1000/1000 [00:29<00:00, 33.81trial/s, best loss: 0.0]\n",
      "100%|██████████| 1000/1000 [00:27<00:00, 36.78trial/s, best loss: 0.12951985146557174]\n",
      " 24%|██▍       | 239/1000 [00:06<00:19, 38.60trial/s, best loss: 0.0]                "
     ]
    },
    {
     "name": "stderr",
     "output_type": "stream",
     "text": [
      "\n",
      "[CVODE ERROR]  CVode\n",
      "  At t = 984.054, mxstep steps taken before reaching tout.\n",
      "\n"
     ]
    },
    {
     "name": "stdout",
     "output_type": "stream",
     "text": [
      "100%|██████████| 1000/1000 [00:27<00:00, 35.79trial/s, best loss: 0.0]\n",
      "100%|██████████| 1000/1000 [00:26<00:00, 37.69trial/s, best loss: 0.5184981966121219]\n",
      "100%|██████████| 1000/1000 [00:27<00:00, 35.95trial/s, best loss: 3.295315474211181]\n",
      "100%|██████████| 1000/1000 [00:27<00:00, 36.55trial/s, best loss: 0.28118034668560604]\n",
      "100%|██████████| 1000/1000 [00:26<00:00, 38.21trial/s, best loss: 0.046028025168850045]\n",
      "100%|██████████| 1000/1000 [00:26<00:00, 38.35trial/s, best loss: 1.7499090201534877]\n",
      "100%|██████████| 1000/1000 [00:27<00:00, 36.87trial/s, best loss: 0.3270760134181604]\n",
      "100%|██████████| 1000/1000 [00:28<00:00, 35.17trial/s, best loss: 1.1800136306701492]\n",
      "100%|██████████| 1000/1000 [00:26<00:00, 37.33trial/s, best loss: 0.17083662244886588]\n",
      "100%|██████████| 1000/1000 [00:25<00:00, 39.13trial/s, best loss: 5.65698500957629] \n",
      " 49%|████▊     | 486/1000 [00:12<00:17, 28.83trial/s, best loss: 0.0]               "
     ]
    },
    {
     "name": "stderr",
     "output_type": "stream",
     "text": [
      "\n",
      "[CVODE ERROR]  CVode\n",
      "  At t = 2247.16, mxstep steps taken before reaching tout.\n",
      "\n"
     ]
    },
    {
     "name": "stdout",
     "output_type": "stream",
     "text": [
      "100%|██████████| 1000/1000 [00:27<00:00, 36.04trial/s, best loss: 0.0]\n",
      " 58%|█████▊    | 581/1000 [00:14<00:12, 34.42trial/s, best loss: 0.0]                "
     ]
    },
    {
     "name": "stderr",
     "output_type": "stream",
     "text": [
      "\n",
      "[CVODE ERROR]  CVode\n",
      "  At t = 812.541, mxstep steps taken before reaching tout.\n",
      "\n"
     ]
    },
    {
     "name": "stdout",
     "output_type": "stream",
     "text": [
      "100%|██████████| 1000/1000 [00:27<00:00, 37.03trial/s, best loss: 0.0]\n",
      "100%|██████████| 1000/1000 [00:26<00:00, 37.81trial/s, best loss: 0.03366955281830428]\n",
      "100%|██████████| 1000/1000 [00:26<00:00, 38.17trial/s, best loss: 1.1138063492909738]\n",
      "100%|██████████| 1000/1000 [00:30<00:00, 33.23trial/s, best loss: 0.22539040911831704]\n",
      "100%|██████████| 1000/1000 [00:28<00:00, 35.32trial/s, best loss: 0.06703376492692174]\n",
      "100%|██████████| 1000/1000 [00:27<00:00, 36.43trial/s, best loss: 0.006736337120951328]\n",
      "100%|██████████| 1000/1000 [00:26<00:00, 37.09trial/s, best loss: 1.442358538826808]\n",
      "100%|██████████| 1000/1000 [00:27<00:00, 36.62trial/s, best loss: 0.07953785992897013]\n",
      "100%|██████████| 1000/1000 [00:27<00:00, 36.68trial/s, best loss: 0.8715626271906584]\n",
      "100%|██████████| 1000/1000 [00:25<00:00, 39.32trial/s, best loss: 0.03916724884556161]\n",
      "100%|██████████| 1000/1000 [00:26<00:00, 38.36trial/s, best loss: 0.0]               \n"
     ]
    },
    {
     "name": "stderr",
     "output_type": "stream",
     "text": [
      "\n",
      "[CVODE ERROR]  CVode\n",
      "  At t = 1743.82, mxstep steps taken before reaching tout.\n",
      "\n"
     ]
    },
    {
     "name": "stdout",
     "output_type": "stream",
     "text": [
      "100%|██████████| 1000/1000 [00:27<00:00, 35.97trial/s, best loss: 0.2607202892581741]\n",
      " 66%|██████▌   | 660/1000 [00:18<00:10, 31.46trial/s, best loss: 0.0]               "
     ]
    },
    {
     "name": "stderr",
     "output_type": "stream",
     "text": [
      "\n",
      "[CVODE ERROR]  CVode\n",
      "  At t = 684.924, mxstep steps taken before reaching tout.\n",
      "\n"
     ]
    },
    {
     "name": "stdout",
     "output_type": "stream",
     "text": [
      "100%|██████████| 1000/1000 [00:28<00:00, 34.48trial/s, best loss: 0.0]\n",
      "100%|██████████| 1000/1000 [00:26<00:00, 37.30trial/s, best loss: 0.009712352138173215]\n",
      "100%|██████████| 1000/1000 [00:27<00:00, 36.94trial/s, best loss: 0.2155404821842425]\n",
      "100%|██████████| 1000/1000 [00:27<00:00, 36.54trial/s, best loss: 0.0735403359458373]\n",
      "100%|██████████| 1000/1000 [00:26<00:00, 37.42trial/s, best loss: 0.1740865575094268]\n",
      "100%|██████████| 1000/1000 [00:26<00:00, 38.30trial/s, best loss: 0.10024813431664817]\n",
      "100%|██████████| 1000/1000 [00:25<00:00, 38.56trial/s, best loss: 7.023064297904873]\n",
      "100%|██████████| 1000/1000 [00:29<00:00, 33.64trial/s, best loss: 0.1329848327687698]\n",
      "100%|██████████| 1000/1000 [00:26<00:00, 37.05trial/s, best loss: 0.15693324738013986]\n",
      "100%|██████████| 1000/1000 [00:27<00:00, 36.73trial/s, best loss: 0.04088211202787861]\n",
      "100%|██████████| 1000/1000 [00:26<00:00, 38.27trial/s, best loss: 2.8707899643280115]\n",
      "100%|██████████| 1000/1000 [00:27<00:00, 36.64trial/s, best loss: 0.6593665974798686]\n",
      "  1%|          | 10/1000 [00:00<00:22, 43.23trial/s, best loss: 0.0]"
     ]
    },
    {
     "name": "stderr",
     "output_type": "stream",
     "text": [
      "\n",
      "[CVODE ERROR]  CVode\n",
      "  At t = 703.41, mxstep steps taken before reaching tout.\n",
      "\n"
     ]
    },
    {
     "name": "stdout",
     "output_type": "stream",
     "text": [
      "100%|██████████| 1000/1000 [00:27<00:00, 36.31trial/s, best loss: 0.0]\n",
      "100%|██████████| 1000/1000 [00:26<00:00, 37.19trial/s, best loss: 0.31210149838640033]\n",
      "100%|██████████| 1000/1000 [00:25<00:00, 39.26trial/s, best loss: 0.5398972647434293]\n",
      "100%|██████████| 1000/1000 [00:27<00:00, 36.77trial/s, best loss: 0.6094655785540617]\n",
      "100%|██████████| 1000/1000 [00:28<00:00, 35.12trial/s, best loss: 0.8343044036925098]\n",
      "100%|██████████| 1000/1000 [00:25<00:00, 38.56trial/s, best loss: 0.07090529360851454]\n",
      "100%|██████████| 1000/1000 [00:25<00:00, 38.68trial/s, best loss: 3.017833465070359]\n",
      "100%|██████████| 1000/1000 [00:27<00:00, 36.55trial/s, best loss: 0.31869405021810604]\n",
      "100%|██████████| 1000/1000 [00:27<00:00, 36.66trial/s, best loss: 0.07038406335071178]\n",
      "100%|██████████| 1000/1000 [00:25<00:00, 38.68trial/s, best loss: 0.013063509793469371]\n",
      "100%|██████████| 1000/1000 [00:26<00:00, 38.14trial/s, best loss: 1.0670503458202627]\n",
      "100%|██████████| 1000/1000 [00:27<00:00, 36.54trial/s, best loss: 0.06942672653766929]\n",
      "100%|██████████| 1000/1000 [00:28<00:00, 35.43trial/s, best loss: 0.11280801356540265]\n",
      "100%|██████████| 1000/1000 [00:25<00:00, 38.82trial/s, best loss: 0.04727956283484174]\n",
      "100%|██████████| 1000/1000 [00:26<00:00, 38.40trial/s, best loss: 1.4110549171080904]\n",
      "100%|██████████| 1000/1000 [00:26<00:00, 37.15trial/s, best loss: 0.9896106424922857]\n",
      "100%|██████████| 1000/1000 [00:26<00:00, 37.40trial/s, best loss: 0.21980592167965618]\n",
      "100%|██████████| 1000/1000 [00:25<00:00, 38.82trial/s, best loss: 0.05807693257091849]\n",
      "100%|██████████| 1000/1000 [00:25<00:00, 38.75trial/s, best loss: 2.3480528283561704]\n",
      "100%|██████████| 1000/1000 [00:29<00:00, 34.36trial/s, best loss: 2.739680312590247]\n",
      "100%|██████████| 1000/1000 [00:27<00:00, 36.75trial/s, best loss: 0.14425119283399568]\n",
      "100%|██████████| 1000/1000 [00:26<00:00, 38.13trial/s, best loss: 0.07341991357701527]\n",
      "100%|██████████| 1000/1000 [00:25<00:00, 39.19trial/s, best loss: 1.3098579174112366]\n",
      "100%|██████████| 1000/1000 [00:29<00:00, 33.41trial/s, best loss: 2.5812719791602623]\n",
      "100%|██████████| 1000/1000 [00:26<00:00, 37.45trial/s, best loss: 0.15145902089276958]\n",
      "100%|██████████| 1000/1000 [00:26<00:00, 37.04trial/s, best loss: 0.05187567604670425]\n",
      "100%|██████████| 1000/1000 [00:26<00:00, 38.30trial/s, best loss: 45.904619922025816]\n",
      "100%|██████████| 1000/1000 [00:26<00:00, 37.07trial/s, best loss: 0.10366448911658574]\n",
      "100%|██████████| 1000/1000 [00:27<00:00, 36.35trial/s, best loss: 0.6014269949968023]\n",
      "100%|██████████| 1000/1000 [00:26<00:00, 37.29trial/s, best loss: 0.14122292059760208]\n",
      "100%|██████████| 1000/1000 [00:25<00:00, 38.88trial/s, best loss: 2.575065981752799]\n",
      "100%|██████████| 1000/1000 [00:28<00:00, 35.53trial/s, best loss: 0.22731503989191465]\n",
      "100%|██████████| 1000/1000 [00:28<00:00, 35.01trial/s, best loss: 0.07624785778053808]\n",
      "100%|██████████| 1000/1000 [00:26<00:00, 37.23trial/s, best loss: 0.05649788185995841]\n",
      "100%|██████████| 1000/1000 [00:26<00:00, 37.78trial/s, best loss: 3.201945230251267]\n",
      "100%|██████████| 1000/1000 [00:27<00:00, 36.06trial/s, best loss: 0.21351340563990534]\n",
      "100%|██████████| 1000/1000 [00:27<00:00, 36.61trial/s, best loss: 0.7564129216318862]\n",
      "100%|██████████| 1000/1000 [00:26<00:00, 38.31trial/s, best loss: 0.07308565937655484]\n",
      "100%|██████████| 1000/1000 [00:26<00:00, 38.42trial/s, best loss: 1.6630710306470784]\n",
      "100%|██████████| 1000/1000 [00:27<00:00, 36.37trial/s, best loss: 0.6700451214063226]\n",
      "100%|██████████| 1000/1000 [00:29<00:00, 33.35trial/s, best loss: 0.4622657536226162]\n",
      "100%|██████████| 1000/1000 [00:26<00:00, 37.82trial/s, best loss: 0.019764671064173678]\n",
      "100%|██████████| 1000/1000 [00:26<00:00, 37.98trial/s, best loss: 1.0070905625061999]\n",
      "100%|██████████| 1000/1000 [00:30<00:00, 33.13trial/s, best loss: 0.1694894340571957]\n",
      "100%|██████████| 1000/1000 [00:27<00:00, 36.45trial/s, best loss: 0.932114641463059]\n",
      "100%|██████████| 1000/1000 [00:27<00:00, 36.45trial/s, best loss: 0.14423210531490732]\n",
      "100%|██████████| 1000/1000 [00:25<00:00, 39.45trial/s, best loss: 7.989465269608649]\n",
      " 75%|███████▌  | 752/1000 [00:20<00:07, 33.32trial/s, best loss: 0.0]               "
     ]
    },
    {
     "name": "stderr",
     "output_type": "stream",
     "text": [
      "\n",
      "[CVODE ERROR]  CVode\n",
      "  At t = 2441.32, mxstep steps taken before reaching tout.\n",
      "\n"
     ]
    },
    {
     "name": "stdout",
     "output_type": "stream",
     "text": [
      "100%|██████████| 1000/1000 [00:27<00:00, 35.86trial/s, best loss: 0.0]\n",
      "100%|██████████| 1000/1000 [00:27<00:00, 36.83trial/s, best loss: 0.6199668809031094]\n",
      " 18%|█▊        | 182/1000 [00:04<00:20, 39.79trial/s, best loss: 0.0]               "
     ]
    },
    {
     "name": "stderr",
     "output_type": "stream",
     "text": [
      "\n",
      "[CVODE ERROR]  CVode\n",
      "  At t = 1732.15, mxstep steps taken before reaching tout.\n",
      "\n"
     ]
    },
    {
     "name": "stdout",
     "output_type": "stream",
     "text": [
      "100%|██████████| 1000/1000 [00:26<00:00, 38.11trial/s, best loss: 0.0]\n",
      "100%|██████████| 1000/1000 [00:26<00:00, 37.91trial/s, best loss: 2.788573098937421]\n",
      "100%|██████████| 1000/1000 [00:28<00:00, 35.15trial/s, best loss: 0.166950314512683] \n",
      "100%|██████████| 1000/1000 [00:28<00:00, 35.08trial/s, best loss: 0.3090434195393469]\n",
      "100%|██████████| 1000/1000 [00:26<00:00, 38.38trial/s, best loss: 0.08014986555446958]\n",
      "100%|██████████| 1000/1000 [00:25<00:00, 38.84trial/s, best loss: 2.263858295012864]\n",
      "100%|██████████| 1000/1000 [00:27<00:00, 36.77trial/s, best loss: 4.280785188433786]\n",
      " 62%|██████▏   | 619/1000 [00:16<00:10, 35.52trial/s, best loss: 0.0]               "
     ]
    },
    {
     "name": "stderr",
     "output_type": "stream",
     "text": [
      "\n",
      "[CVODE ERROR]  CVode\n",
      "  At t = 816.383, mxstep steps taken before reaching tout.\n",
      "\n"
     ]
    },
    {
     "name": "stdout",
     "output_type": "stream",
     "text": [
      " 87%|████████▋ | 867/1000 [00:23<00:03, 34.21trial/s, best loss: 0.0]"
     ]
    },
    {
     "name": "stderr",
     "output_type": "stream",
     "text": [
      "\n",
      "[CVODE ERROR]  CVode\n",
      "  At t = 1652.61, mxstep steps taken before reaching tout.\n",
      "\n"
     ]
    },
    {
     "name": "stdout",
     "output_type": "stream",
     "text": [
      "100%|██████████| 1000/1000 [00:27<00:00, 36.39trial/s, best loss: 0.0]\n",
      "100%|██████████| 1000/1000 [00:26<00:00, 38.42trial/s, best loss: 0.07639887548376599]\n",
      "100%|██████████| 1000/1000 [00:25<00:00, 38.66trial/s, best loss: 14.530931526993706]\n",
      "100%|██████████| 1000/1000 [00:28<00:00, 35.56trial/s, best loss: 1.2471962111083443]\n",
      "100%|██████████| 1000/1000 [00:28<00:00, 35.06trial/s, best loss: 0.024630780884370235]\n",
      "100%|██████████| 1000/1000 [00:26<00:00, 37.40trial/s, best loss: 0.0009292039508129692]\n",
      "100%|██████████| 1000/1000 [00:27<00:00, 36.49trial/s, best loss: 1.841831268649889]\n",
      "100%|██████████| 1000/1000 [00:29<00:00, 34.08trial/s, best loss: 0.1779357596835458]\n",
      "100%|██████████| 1000/1000 [00:27<00:00, 36.97trial/s, best loss: 0.2518396775286343]\n",
      "100%|██████████| 1000/1000 [00:26<00:00, 37.70trial/s, best loss: 0.024879510182815232]\n",
      "100%|██████████| 1000/1000 [00:26<00:00, 37.61trial/s, best loss: 1.769819689333142]\n",
      "100%|██████████| 1000/1000 [00:27<00:00, 36.83trial/s, best loss: 1.9608670686532665]\n",
      "  9%|▉         | 90/1000 [00:02<00:23, 38.86trial/s, best loss: 0.0]               "
     ]
    },
    {
     "name": "stderr",
     "output_type": "stream",
     "text": [
      "\n",
      "[CVODE ERROR]  CVode\n",
      "  At t = 417.168, mxstep steps taken before reaching tout.\n",
      "\n"
     ]
    },
    {
     "name": "stdout",
     "output_type": "stream",
     "text": [
      " 35%|███▌      | 352/1000 [00:08<00:17, 37.29trial/s, best loss: 0.0]"
     ]
    },
    {
     "name": "stderr",
     "output_type": "stream",
     "text": [
      "\n",
      "[CVODE ERROR]  CVode\n",
      "  At t = 1983.31, mxstep steps taken before reaching tout.\n",
      "\n"
     ]
    },
    {
     "name": "stdout",
     "output_type": "stream",
     "text": [
      "100%|██████████| 1000/1000 [00:27<00:00, 36.03trial/s, best loss: 0.0]\n",
      "100%|██████████| 1000/1000 [00:25<00:00, 38.92trial/s, best loss: 0.12608684056543545]\n",
      "100%|██████████| 1000/1000 [00:27<00:00, 36.97trial/s, best loss: 0.7500423018314974]\n",
      "100%|██████████| 1000/1000 [00:27<00:00, 36.43trial/s, best loss: 0.1955661091663073]\n",
      "100%|██████████| 1000/1000 [00:26<00:00, 37.24trial/s, best loss: 0.11702758607007487]\n",
      "100%|██████████| 1000/1000 [00:26<00:00, 37.41trial/s, best loss: 0.045174998539210975]\n",
      "100%|██████████| 1000/1000 [00:26<00:00, 38.15trial/s, best loss: 2.7992444057731487]\n",
      "100%|██████████| 1000/1000 [00:27<00:00, 36.63trial/s, best loss: 0.042671492376998583]\n",
      "100%|██████████| 1000/1000 [00:27<00:00, 37.02trial/s, best loss: 1.3695470368057494]\n",
      "100%|██████████| 1000/1000 [00:25<00:00, 38.56trial/s, best loss: 0.041246874766929814]\n",
      "100%|██████████| 1000/1000 [00:27<00:00, 36.64trial/s, best loss: 1.8726417167498581]\n",
      "100%|██████████| 1000/1000 [00:27<00:00, 35.98trial/s, best loss: 0.010093472871914167]\n",
      "100%|██████████| 1000/1000 [00:27<00:00, 36.67trial/s, best loss: 0.5095594389381242]\n",
      "100%|██████████| 1000/1000 [00:26<00:00, 38.21trial/s, best loss: 0.016647331020048527]\n",
      "100%|██████████| 1000/1000 [00:26<00:00, 38.01trial/s, best loss: 4.392245108073016]\n",
      "100%|██████████| 1000/1000 [00:27<00:00, 36.40trial/s, best loss: 0.8831816101350229]\n",
      " 96%|█████████▋| 963/1000 [00:26<00:01, 33.07trial/s, best loss: 0.0]               "
     ]
    },
    {
     "name": "stderr",
     "output_type": "stream",
     "text": [
      "\n",
      "[CVODE ERROR]  CVode\n",
      "  At t = 1344.43, mxstep steps taken before reaching tout.\n",
      "\n"
     ]
    },
    {
     "name": "stdout",
     "output_type": "stream",
     "text": [
      "100%|██████████| 1000/1000 [00:27<00:00, 36.41trial/s, best loss: 0.0]\n",
      "100%|██████████| 1000/1000 [00:26<00:00, 38.32trial/s, best loss: 0.03671396770615318]\n",
      "100%|██████████| 1000/1000 [00:27<00:00, 36.15trial/s, best loss: 0.7297144523427507]\n",
      "100%|██████████| 1000/1000 [00:26<00:00, 37.20trial/s, best loss: 8.482417834552914]\n",
      " 35%|███▍      | 347/1000 [00:08<00:16, 38.64trial/s, best loss: 0.0]               "
     ]
    },
    {
     "name": "stderr",
     "output_type": "stream",
     "text": [
      "\n",
      "[CVODE ERROR]  CVode\n",
      "  At t = 1771.05, mxstep steps taken before reaching tout.\n",
      "\n"
     ]
    },
    {
     "name": "stdout",
     "output_type": "stream",
     "text": [
      "100%|██████████| 1000/1000 [00:27<00:00, 36.94trial/s, best loss: 0.0]\n",
      "100%|██████████| 1000/1000 [00:25<00:00, 39.23trial/s, best loss: 0.0792518534338757]\n",
      "100%|██████████| 1000/1000 [00:25<00:00, 38.94trial/s, best loss: 3.188327124570802]\n",
      "100%|██████████| 1000/1000 [00:27<00:00, 36.82trial/s, best loss: 0.25359860140400525]\n",
      "  7%|▋         | 74/1000 [00:01<00:22, 40.61trial/s, best loss: 0.0]               "
     ]
    },
    {
     "name": "stderr",
     "output_type": "stream",
     "text": [
      "\n",
      "[CVODE ERROR]  CVode\n",
      "  At t = 416.738, mxstep steps taken before reaching tout.\n",
      "\n"
     ]
    },
    {
     "name": "stdout",
     "output_type": "stream",
     "text": [
      "100%|██████████| 1000/1000 [00:27<00:00, 36.40trial/s, best loss: 0.0]\n",
      "100%|██████████| 1000/1000 [00:25<00:00, 38.48trial/s, best loss: 0.08507252175566654]\n",
      "100%|██████████| 1000/1000 [00:26<00:00, 37.08trial/s, best loss: 0.27190658235857856]\n",
      "100%|██████████| 1000/1000 [00:27<00:00, 36.84trial/s, best loss: 0.46392513463335283]\n",
      "100%|██████████| 1000/1000 [00:26<00:00, 37.14trial/s, best loss: 0.8103846054488053]\n",
      "100%|██████████| 1000/1000 [00:25<00:00, 39.07trial/s, best loss: 0.07101145104570686]\n",
      " 25%|██▌       | 251/1000 [00:05<00:18, 40.42trial/s, best loss: 0.0]               "
     ]
    },
    {
     "name": "stderr",
     "output_type": "stream",
     "text": [
      "\n",
      "[CVODE ERROR]  CVode\n",
      "  At t = 1948.76, mxstep steps taken before reaching tout.\n",
      "\n"
     ]
    },
    {
     "name": "stdout",
     "output_type": "stream",
     "text": [
      "100%|██████████| 1000/1000 [00:26<00:00, 38.27trial/s, best loss: 0.0]\n",
      "100%|██████████| 1000/1000 [00:28<00:00, 35.56trial/s, best loss: 0.03744388552788249]\n",
      " 61%|██████    | 608/1000 [00:15<00:11, 35.18trial/s, best loss: 0.0]               "
     ]
    },
    {
     "name": "stderr",
     "output_type": "stream",
     "text": [
      "\n",
      "[CVODE ERROR]  CVode\n",
      "  At t = 1503.09, mxstep steps taken before reaching tout.\n",
      "\n"
     ]
    },
    {
     "name": "stdout",
     "output_type": "stream",
     "text": [
      "100%|██████████| 1000/1000 [00:27<00:00, 36.59trial/s, best loss: 0.0]\n",
      "100%|██████████| 1000/1000 [00:27<00:00, 36.81trial/s, best loss: 0.012353961224847481]\n",
      "100%|██████████| 1000/1000 [00:34<00:00, 29.24trial/s, best loss: 6.2285014638675555]\n",
      "100%|██████████| 1000/1000 [00:27<00:00, 35.83trial/s, best loss: 0.39132767165813176]\n",
      "100%|██████████| 1000/1000 [00:27<00:00, 36.36trial/s, best loss: 0.13430450448674522]\n",
      " 46%|████▋     | 464/1000 [00:11<00:14, 35.80trial/s, best loss: 0.0]                "
     ]
    },
    {
     "name": "stderr",
     "output_type": "stream",
     "text": [
      "\n",
      "[CVODE ERROR]  CVode\n",
      "  At t = 1717.28, mxstep steps taken before reaching tout.\n",
      "\n"
     ]
    },
    {
     "name": "stdout",
     "output_type": "stream",
     "text": [
      "100%|██████████| 1000/1000 [00:28<00:00, 34.87trial/s, best loss: 0.0]\n",
      "100%|██████████| 1000/1000 [00:26<00:00, 37.38trial/s, best loss: 0.3727922200864871]\n",
      "100%|██████████| 1000/1000 [00:27<00:00, 36.46trial/s, best loss: 1.2011550137420568]\n",
      "100%|██████████| 1000/1000 [00:28<00:00, 35.26trial/s, best loss: 0.014015309644429432]\n",
      " 10%|▉         | 95/1000 [00:02<00:22, 39.93trial/s, best loss: 0.0]              "
     ]
    },
    {
     "name": "stderr",
     "output_type": "stream",
     "text": [
      "\n",
      "[CVODE ERROR]  CVode\n",
      "  At t = 2189.79, mxstep steps taken before reaching tout.\n",
      "\n"
     ]
    },
    {
     "name": "stdout",
     "output_type": "stream",
     "text": [
      "100%|██████████| 1000/1000 [00:26<00:00, 37.16trial/s, best loss: 0.0]\n",
      "100%|██████████| 1000/1000 [00:26<00:00, 37.93trial/s, best loss: 1.1568431725580621]\n",
      "100%|██████████| 1000/1000 [00:27<00:00, 36.54trial/s, best loss: 0.11909649959494344]\n",
      "100%|██████████| 1000/1000 [00:27<00:00, 36.67trial/s, best loss: 0.41865564525449234]\n",
      "100%|██████████| 1000/1000 [00:25<00:00, 38.64trial/s, best loss: 0.11768277390404447]\n",
      "100%|██████████| 1000/1000 [00:25<00:00, 39.39trial/s, best loss: 6.6116058544168546]\n",
      "100%|██████████| 1000/1000 [00:27<00:00, 36.07trial/s, best loss: 0.12046873402790859]\n",
      " 69%|██████▉   | 693/1000 [00:19<00:08, 34.23trial/s, best loss: 0.0]               "
     ]
    },
    {
     "name": "stderr",
     "output_type": "stream",
     "text": [
      "\n",
      "[CVODE ERROR]  CVode\n",
      "  At t = 722.118, mxstep steps taken before reaching tout.\n",
      "\n"
     ]
    },
    {
     "name": "stdout",
     "output_type": "stream",
     "text": [
      "100%|██████████| 1000/1000 [00:28<00:00, 34.72trial/s, best loss: 0.0]\n",
      "100%|██████████| 1000/1000 [00:26<00:00, 38.38trial/s, best loss: 0.019681198679980003]\n",
      "100%|██████████| 1000/1000 [00:26<00:00, 38.05trial/s, best loss: 0.9866446318462155]\n",
      "100%|██████████| 1000/1000 [00:27<00:00, 36.63trial/s, best loss: 0.3357879678371043]\n",
      "100%|██████████| 1000/1000 [00:27<00:00, 35.83trial/s, best loss: 3.141018678428123]\n",
      "100%|██████████| 1000/1000 [00:26<00:00, 37.99trial/s, best loss: 0.11453328633051149]\n",
      "100%|██████████| 1000/1000 [00:25<00:00, 39.06trial/s, best loss: 2.2061670704996286]\n",
      "100%|██████████| 1000/1000 [00:27<00:00, 36.50trial/s, best loss: 0.37789020117307043]\n",
      "100%|██████████| 1000/1000 [00:28<00:00, 34.81trial/s, best loss: 0.2878028296540317]\n",
      "100%|██████████| 1000/1000 [00:26<00:00, 38.38trial/s, best loss: 0.05864604405785936]\n",
      "100%|██████████| 1000/1000 [00:26<00:00, 38.20trial/s, best loss: 19.268700001544122]\n",
      "100%|██████████| 1000/1000 [00:27<00:00, 36.84trial/s, best loss: 3.7089801454422826]\n",
      "100%|██████████| 1000/1000 [00:28<00:00, 35.23trial/s, best loss: 0.2756339919507947]\n",
      " 37%|███▋      | 373/1000 [00:09<00:16, 37.38trial/s, best loss: 0.0]               "
     ]
    },
    {
     "name": "stderr",
     "output_type": "stream",
     "text": [
      "\n",
      "[CVODE ERROR]  CVode\n",
      "  At t = 1333.14, mxstep steps taken before reaching tout.\n",
      "\n"
     ]
    },
    {
     "name": "stdout",
     "output_type": "stream",
     "text": [
      "100%|██████████| 1000/1000 [00:26<00:00, 37.44trial/s, best loss: 0.0]\n",
      " 83%|████████▎ | 834/1000 [00:21<00:04, 34.46trial/s, best loss: 0.0]               "
     ]
    },
    {
     "name": "stderr",
     "output_type": "stream",
     "text": [
      "\n",
      "[CVODE ERROR]  CVode\n",
      "  At t = 2208.23, mxstep steps taken before reaching tout.\n",
      "\n"
     ]
    },
    {
     "name": "stdout",
     "output_type": "stream",
     "text": [
      "100%|██████████| 1000/1000 [00:26<00:00, 38.40trial/s, best loss: 0.0]\n",
      "100%|██████████| 1000/1000 [00:27<00:00, 36.65trial/s, best loss: 0.08548363489741098]\n",
      "100%|██████████| 1000/1000 [00:27<00:00, 36.37trial/s, best loss: 0.8804622081387158]\n",
      "100%|██████████| 1000/1000 [00:26<00:00, 38.11trial/s, best loss: 0.07107355421999878]\n",
      "100%|██████████| 1000/1000 [00:25<00:00, 38.50trial/s, best loss: 2.5509494339418666]\n",
      "100%|██████████| 1000/1000 [00:26<00:00, 37.51trial/s, best loss: 0.695852593010819]\n",
      "100%|██████████| 1000/1000 [00:28<00:00, 35.64trial/s, best loss: 0.20546873450821257]\n",
      "100%|██████████| 1000/1000 [00:26<00:00, 37.82trial/s, best loss: 0.0806815801156579]\n",
      "100%|██████████| 1000/1000 [00:25<00:00, 38.87trial/s, best loss: 0.45057879701250997]\n",
      "100%|██████████| 1000/1000 [00:27<00:00, 36.17trial/s, best loss: 0.05246526380396189]\n",
      "100%|██████████| 1000/1000 [00:27<00:00, 36.66trial/s, best loss: 0.27395589835969886]\n",
      "100%|██████████| 1000/1000 [00:26<00:00, 37.57trial/s, best loss: 0.015208296568687711]\n",
      "100%|██████████| 1000/1000 [00:26<00:00, 37.95trial/s, best loss: 0.5076351014381131]\n",
      " 46%|████▌     | 457/1000 [00:12<00:38, 14.20trial/s, best loss: 0.0]               "
     ]
    },
    {
     "name": "stderr",
     "output_type": "stream",
     "text": [
      "\n",
      "[CVODE ERROR]  CVode\n",
      "  At t = 1520.99, mxstep steps taken before reaching tout.\n",
      "\n"
     ]
    },
    {
     "name": "stdout",
     "output_type": "stream",
     "text": [
      "100%|██████████| 1000/1000 [00:32<00:00, 30.52trial/s, best loss: 0.0]\n",
      "100%|██████████| 1000/1000 [00:27<00:00, 36.72trial/s, best loss: 0.14215189002198841]\n",
      "100%|██████████| 1000/1000 [00:26<00:00, 38.10trial/s, best loss: 0.011567532333407113]\n",
      "100%|██████████| 1000/1000 [00:26<00:00, 37.74trial/s, best loss: 1.238624722902066]\n",
      "  6%|▌         | 61/1000 [00:01<00:25, 36.20trial/s, best loss: 0.0]               "
     ]
    },
    {
     "name": "stderr",
     "output_type": "stream",
     "text": [
      "\n",
      "[CVODE ERROR]  CVode\n",
      "  At t = 1923.15, mxstep steps taken before reaching tout.\n",
      "\n"
     ]
    },
    {
     "name": "stdout",
     "output_type": "stream",
     "text": [
      " 66%|██████▋   | 665/1000 [00:22<00:09, 33.97trial/s, best loss: 0.0]"
     ]
    },
    {
     "name": "stderr",
     "output_type": "stream",
     "text": [
      "\n",
      "[CVODE ERROR]  CVode\n",
      "  At t = 1957.39, mxstep steps taken before reaching tout.\n",
      "\n"
     ]
    },
    {
     "name": "stdout",
     "output_type": "stream",
     "text": [
      " 68%|██████▊   | 681/1000 [00:23<00:09, 32.31trial/s, best loss: 0.0]"
     ]
    },
    {
     "name": "stderr",
     "output_type": "stream",
     "text": [
      "\n",
      "[CVODE ERROR]  CVode\n",
      "  At t = 1888.79, mxstep steps taken before reaching tout.\n",
      "\n"
     ]
    },
    {
     "name": "stdout",
     "output_type": "stream",
     "text": [
      " 70%|██████▉   | 697/1000 [00:23<00:09, 31.07trial/s, best loss: 0.0]"
     ]
    },
    {
     "name": "stderr",
     "output_type": "stream",
     "text": [
      "\n",
      "[CVODE ERROR]  CVode\n",
      "  At t = 1873.29, mxstep steps taken before reaching tout.\n",
      "\n"
     ]
    },
    {
     "name": "stdout",
     "output_type": "stream",
     "text": [
      "100%|██████████| 1000/1000 [00:33<00:00, 29.68trial/s, best loss: 0.0]\n",
      "100%|██████████| 1000/1000 [00:26<00:00, 37.37trial/s, best loss: 0.04015740982730042]\n",
      "100%|██████████| 1000/1000 [00:26<00:00, 37.86trial/s, best loss: 0.025912608894320125]\n",
      "  2%|▎         | 25/1000 [00:00<00:23, 41.70trial/s, best loss: 0.0]              "
     ]
    },
    {
     "name": "stderr",
     "output_type": "stream",
     "text": [
      "\n",
      "[CVODE ERROR]  CVode\n",
      "  At t = 1965.51, mxstep steps taken before reaching tout.\n",
      "\n"
     ]
    },
    {
     "name": "stdout",
     "output_type": "stream",
     "text": [
      " 10%|█         | 100/1000 [00:03<00:29, 30.80trial/s, best loss: 0.0]"
     ]
    },
    {
     "name": "stderr",
     "output_type": "stream",
     "text": [
      "\n",
      "[CVODE ERROR]  CVode\n",
      "  At t = 1805.51, mxstep steps taken before reaching tout.\n",
      "\n"
     ]
    },
    {
     "name": "stdout",
     "output_type": "stream",
     "text": [
      " 65%|██████▌   | 653/1000 [00:19<00:10, 31.85trial/s, best loss: 0.0]"
     ]
    },
    {
     "name": "stderr",
     "output_type": "stream",
     "text": [
      "\n",
      "[CVODE ERROR]  CVode\n",
      "  At t = 1652.9, mxstep steps taken before reaching tout.\n",
      "\n"
     ]
    },
    {
     "name": "stdout",
     "output_type": "stream",
     "text": [
      " 68%|██████▊   | 685/1000 [00:20<00:10, 30.28trial/s, best loss: 0.0]"
     ]
    },
    {
     "name": "stderr",
     "output_type": "stream",
     "text": [
      "\n",
      "[CVODE ERROR]  CVode\n",
      "  At t = 2265.11, mxstep steps taken before reaching tout.\n",
      "\n"
     ]
    },
    {
     "name": "stdout",
     "output_type": "stream",
     "text": [
      " 78%|███████▊  | 785/1000 [00:24<00:07, 30.49trial/s, best loss: 0.0]"
     ]
    },
    {
     "name": "stderr",
     "output_type": "stream",
     "text": [
      "\n",
      "[CVODE ERROR]  CVode\n",
      "  At t = 1346.66, mxstep steps taken before reaching tout.\n",
      "\n"
     ]
    },
    {
     "name": "stdout",
     "output_type": "stream",
     "text": [
      "100%|██████████| 1000/1000 [00:31<00:00, 31.79trial/s, best loss: 0.0]\n",
      "100%|██████████| 1000/1000 [00:27<00:00, 35.94trial/s, best loss: 0.7164174140284865]\n",
      "100%|██████████| 1000/1000 [00:28<00:00, 35.60trial/s, best loss: 0.09593606936178538]\n",
      "100%|██████████| 1000/1000 [00:28<00:00, 35.15trial/s, best loss: 0.012538542276302569]\n",
      " 52%|█████▏    | 519/1000 [00:13<00:14, 34.20trial/s, best loss: 0.0]               "
     ]
    },
    {
     "name": "stderr",
     "output_type": "stream",
     "text": [
      "\n",
      "[CVODE ERROR]  CVode\n",
      "  At t = 2510.95, mxstep steps taken before reaching tout.\n",
      "\n"
     ]
    },
    {
     "name": "stdout",
     "output_type": "stream",
     "text": [
      "100%|██████████| 1000/1000 [00:27<00:00, 36.94trial/s, best loss: 0.0]\n",
      "100%|██████████| 1000/1000 [00:27<00:00, 36.44trial/s, best loss: 0.10290793274649981]\n",
      "100%|██████████| 1000/1000 [00:28<00:00, 34.76trial/s, best loss: 0.04454068659894978]\n",
      "100%|██████████| 1000/1000 [00:25<00:00, 38.74trial/s, best loss: 0.023144549043206265]\n",
      "100%|██████████| 1000/1000 [00:26<00:00, 38.24trial/s, best loss: 19.323138839000475]\n",
      "100%|██████████| 1000/1000 [00:26<00:00, 37.04trial/s, best loss: 0.33898241835413107]\n",
      "100%|██████████| 1000/1000 [00:27<00:00, 36.74trial/s, best loss: 0.5319987819187353]\n",
      "100%|██████████| 1000/1000 [00:25<00:00, 39.29trial/s, best loss: 0.09281408775183717]\n",
      " 14%|█▎        | 136/1000 [00:03<00:20, 41.50trial/s, best loss: 0.0]               "
     ]
    },
    {
     "name": "stderr",
     "output_type": "stream",
     "text": [
      "\n",
      "[CVODE ERROR]  CVode\n",
      "  At t = 1554.19, mxstep steps taken before reaching tout.\n",
      "\n"
     ]
    },
    {
     "name": "stdout",
     "output_type": "stream",
     "text": [
      " 20%|█▉        | 196/1000 [00:04<00:19, 41.76trial/s, best loss: 0.0]"
     ]
    },
    {
     "name": "stderr",
     "output_type": "stream",
     "text": [
      "\n",
      "[CVODE ERROR]  CVode\n",
      "  At t = 687.614, mxstep steps taken before reaching tout.\n",
      "\n"
     ]
    },
    {
     "name": "stdout",
     "output_type": "stream",
     "text": [
      "100%|██████████| 1000/1000 [00:26<00:00, 38.23trial/s, best loss: 0.0]\n",
      "100%|██████████| 1000/1000 [00:30<00:00, 32.51trial/s, best loss: 0.11487220040921745]\n",
      "100%|██████████| 1000/1000 [00:29<00:00, 33.39trial/s, best loss: 0.18507794201800284]\n",
      "100%|██████████| 1000/1000 [00:26<00:00, 37.68trial/s, best loss: 0.017594099365022327]\n",
      "100%|██████████| 1000/1000 [00:26<00:00, 37.90trial/s, best loss: 9.504020013173662]\n",
      "100%|██████████| 1000/1000 [00:30<00:00, 33.22trial/s, best loss: 0.4795532636979806]\n",
      " 10%|█         | 104/1000 [00:02<00:23, 38.32trial/s, best loss: 0.0]              "
     ]
    },
    {
     "name": "stderr",
     "output_type": "stream",
     "text": [
      "\n",
      "[CVODE ERROR]  CVode\n",
      "  At t = 1914.51, mxstep steps taken before reaching tout.\n",
      "\n"
     ]
    },
    {
     "name": "stdout",
     "output_type": "stream",
     "text": [
      " 83%|████████▎ | 829/1000 [00:22<00:05, 34.04trial/s, best loss: 0.0]"
     ]
    },
    {
     "name": "stderr",
     "output_type": "stream",
     "text": [
      "\n",
      "[CVODE ERROR]  CVode\n",
      "  At t = 1980.44, mxstep steps taken before reaching tout.\n",
      "\n"
     ]
    },
    {
     "name": "stdout",
     "output_type": "stream",
     "text": [
      "100%|██████████| 1000/1000 [00:27<00:00, 36.37trial/s, best loss: 0.0]\n",
      "100%|██████████| 1000/1000 [00:25<00:00, 38.49trial/s, best loss: 0.0039523603329797334]\n",
      "100%|██████████| 1000/1000 [00:26<00:00, 37.73trial/s, best loss: 0.5915964201510074]\n",
      "100%|██████████| 1000/1000 [00:27<00:00, 36.97trial/s, best loss: 0.4661180904057052]\n",
      "100%|██████████| 1000/1000 [00:27<00:00, 36.61trial/s, best loss: 0.1965220475148825]\n",
      "100%|██████████| 1000/1000 [00:26<00:00, 38.22trial/s, best loss: 0.0798622275870638]\n",
      "100%|██████████| 1000/1000 [00:25<00:00, 39.02trial/s, best loss: 0.13460874566675496]\n",
      " 89%|████████▉ | 894/1000 [00:24<00:03, 30.60trial/s, best loss: 0.0]               "
     ]
    },
    {
     "name": "stderr",
     "output_type": "stream",
     "text": [
      "\n",
      "[CVODE ERROR]  CVode\n",
      "  At t = 669.031, mxstep steps taken before reaching tout.\n",
      "\n"
     ]
    },
    {
     "name": "stdout",
     "output_type": "stream",
     "text": [
      "100%|██████████| 1000/1000 [00:28<00:00, 34.56trial/s, best loss: 0.0]\n",
      "100%|██████████| 1000/1000 [00:27<00:00, 36.27trial/s, best loss: 1.674423319362229]\n",
      "100%|██████████| 1000/1000 [00:25<00:00, 38.57trial/s, best loss: 0.07104318316691524]\n",
      "100%|██████████| 1000/1000 [00:25<00:00, 38.58trial/s, best loss: 3.770538829076106]\n",
      "100%|██████████| 1000/1000 [00:29<00:00, 34.16trial/s, best loss: 6.197401604291352]\n",
      "100%|██████████| 1000/1000 [00:27<00:00, 36.13trial/s, best loss: 0.5144721671930855]\n",
      "100%|██████████| 1000/1000 [00:25<00:00, 38.70trial/s, best loss: 0.04618570984806492]\n",
      "100%|██████████| 1000/1000 [00:25<00:00, 38.59trial/s, best loss: 1.7797118625761883]\n",
      "100%|██████████| 1000/1000 [00:33<00:00, 30.01trial/s, best loss: 0.11665128593440657]\n",
      "100%|██████████| 1000/1000 [00:27<00:00, 36.06trial/s, best loss: 0.34874605288821786]\n",
      "  4%|▍         | 39/1000 [00:00<00:22, 43.17trial/s, best loss: 0.0]               "
     ]
    },
    {
     "name": "stderr",
     "output_type": "stream",
     "text": [
      "\n",
      "[CVODE ERROR]  CVode\n",
      "  At t = 1936.98, mxstep steps taken before reaching tout.\n",
      "\n"
     ]
    },
    {
     "name": "stdout",
     "output_type": "stream",
     "text": [
      "100%|██████████| 1000/1000 [00:27<00:00, 37.02trial/s, best loss: 0.0]\n",
      "100%|██████████| 1000/1000 [00:27<00:00, 36.13trial/s, best loss: 1.8238366064550726]\n",
      "100%|██████████| 1000/1000 [00:27<00:00, 36.21trial/s, best loss: 0.516708661136978]\n",
      "100%|██████████| 1000/1000 [00:27<00:00, 36.70trial/s, best loss: 0.8689510986264051]\n",
      "100%|██████████| 1000/1000 [00:26<00:00, 37.69trial/s, best loss: 0.021354868625884132]\n",
      "100%|██████████| 1000/1000 [00:26<00:00, 37.74trial/s, best loss: 0.819734261878944]\n",
      "100%|██████████| 1000/1000 [00:27<00:00, 36.29trial/s, best loss: 0.2662054859025917]\n",
      "100%|██████████| 1000/1000 [00:27<00:00, 36.97trial/s, best loss: 1.0182354555208482]\n",
      "100%|██████████| 1000/1000 [00:26<00:00, 37.94trial/s, best loss: 0.0141354057984432]\n",
      "100%|██████████| 1000/1000 [00:26<00:00, 38.20trial/s, best loss: 0.9997681111506429]\n",
      "100%|██████████| 1000/1000 [00:33<00:00, 30.23trial/s, best loss: 1.3993854828423478]\n",
      "100%|██████████| 1000/1000 [00:26<00:00, 37.35trial/s, best loss: 0.8662141917791735]\n",
      "100%|██████████| 1000/1000 [00:25<00:00, 38.88trial/s, best loss: 0.12177159954677488]\n",
      "100%|██████████| 1000/1000 [00:28<00:00, 35.08trial/s, best loss: 1.09264031958659] \n",
      "100%|██████████| 1000/1000 [00:27<00:00, 36.55trial/s, best loss: 0.383003158689504]\n",
      "100%|██████████| 1000/1000 [00:27<00:00, 36.21trial/s, best loss: 1.6001206949555429]\n",
      " 28%|██▊       | 276/1000 [00:06<00:18, 39.42trial/s, best loss: 0.0]                "
     ]
    },
    {
     "name": "stderr",
     "output_type": "stream",
     "text": [
      "\n",
      "[CVODE ERROR]  CVode\n",
      "  At t = 2153.03, mxstep steps taken before reaching tout.\n",
      "\n"
     ]
    },
    {
     "name": "stdout",
     "output_type": "stream",
     "text": [
      "100%|██████████| 1000/1000 [00:28<00:00, 34.68trial/s, best loss: 0.0]\n",
      "100%|██████████| 1000/1000 [00:25<00:00, 38.80trial/s, best loss: 2.813085843910053]\n",
      "100%|██████████| 1000/1000 [00:27<00:00, 36.32trial/s, best loss: 0.16184990800887214]\n",
      "100%|██████████| 1000/1000 [00:27<00:00, 36.69trial/s, best loss: 0.5055810917403438]\n",
      "100%|██████████| 1000/1000 [00:29<00:00, 34.42trial/s, best loss: 0.07836873845990336]\n",
      "100%|██████████| 1000/1000 [00:25<00:00, 38.91trial/s, best loss: 1.4104796761969396]\n",
      "100%|██████████| 1000/1000 [00:26<00:00, 37.05trial/s, best loss: 0.912952729075887]\n",
      "100%|██████████| 1000/1000 [00:28<00:00, 35.34trial/s, best loss: 0.6960183142980666]\n",
      "100%|██████████| 1000/1000 [00:27<00:00, 36.31trial/s, best loss: 0.06402000638517043]\n",
      "100%|██████████| 1000/1000 [00:25<00:00, 38.91trial/s, best loss: 11.078854526465747]\n",
      "100%|██████████| 1000/1000 [00:27<00:00, 36.83trial/s, best loss: 0.5183663430739606]\n",
      "100%|██████████| 1000/1000 [00:29<00:00, 33.45trial/s, best loss: 0.25440742847186537]\n",
      " 57%|█████▋    | 566/1000 [00:14<00:12, 35.43trial/s, best loss: 0.0]                "
     ]
    },
    {
     "name": "stderr",
     "output_type": "stream",
     "text": [
      "\n",
      "[CVODE ERROR]  CVode\n",
      "  At t = 1363.81, mxstep steps taken before reaching tout.\n",
      "\n"
     ]
    },
    {
     "name": "stdout",
     "output_type": "stream",
     "text": [
      "100%|██████████| 1000/1000 [00:26<00:00, 38.04trial/s, best loss: 0.0]\n",
      "100%|██████████| 1000/1000 [00:26<00:00, 38.34trial/s, best loss: 1.4885271395741473]\n",
      " 53%|█████▎    | 529/1000 [00:13<00:13, 33.91trial/s, best loss: 0.0]               "
     ]
    },
    {
     "name": "stderr",
     "output_type": "stream",
     "text": [
      "\n",
      "[CVODE ERROR]  CVode\n",
      "  At t = 1612.71, mxstep steps taken before reaching tout.\n",
      "\n"
     ]
    },
    {
     "name": "stdout",
     "output_type": "stream",
     "text": [
      "100%|██████████| 1000/1000 [00:27<00:00, 36.03trial/s, best loss: 0.0]\n",
      " 67%|██████▋   | 672/1000 [00:20<00:09, 34.32trial/s, best loss: 0.0]               "
     ]
    },
    {
     "name": "stderr",
     "output_type": "stream",
     "text": [
      "\n",
      "[CVODE ERROR]  CVode\n",
      "  At t = 1504.64, mxstep steps taken before reaching tout.\n",
      "\n"
     ]
    },
    {
     "name": "stdout",
     "output_type": "stream",
     "text": [
      "100%|██████████| 1000/1000 [00:30<00:00, 33.30trial/s, best loss: 0.0]\n",
      "100%|██████████| 1000/1000 [00:25<00:00, 39.02trial/s, best loss: 0.06685691431162122]\n",
      "100%|██████████| 1000/1000 [00:25<00:00, 38.78trial/s, best loss: 4.133905399624532]\n",
      "100%|██████████| 1000/1000 [00:31<00:00, 31.91trial/s, best loss: 3.0471865204830837]\n",
      "100%|██████████| 1000/1000 [00:27<00:00, 36.34trial/s, best loss: 0.4462580265420939]\n",
      "100%|██████████| 1000/1000 [00:26<00:00, 38.44trial/s, best loss: 0.014679051680146321]\n",
      "100%|██████████| 1000/1000 [00:28<00:00, 35.53trial/s, best loss: 3.333532067860867]\n",
      "100%|██████████| 1000/1000 [00:27<00:00, 36.36trial/s, best loss: 0.04605029229880099]\n",
      "100%|██████████| 1000/1000 [00:27<00:00, 36.57trial/s, best loss: 0.5918990068690466]\n",
      "100%|██████████| 1000/1000 [00:26<00:00, 38.01trial/s, best loss: 0.014717429162762703]\n",
      "100%|██████████| 1000/1000 [00:26<00:00, 37.79trial/s, best loss: 6.62235398121744] \n",
      "100%|██████████| 1000/1000 [00:28<00:00, 35.42trial/s, best loss: 0.33578812307102257]\n",
      " 17%|█▋        | 170/1000 [00:04<00:21, 39.27trial/s, best loss: 0.0]               "
     ]
    },
    {
     "name": "stderr",
     "output_type": "stream",
     "text": [
      "\n",
      "[CVODE ERROR]  CVode\n",
      "  At t = 1992.25, mxstep steps taken before reaching tout.\n",
      "\n"
     ]
    },
    {
     "name": "stdout",
     "output_type": "stream",
     "text": [
      "100%|██████████| 1000/1000 [00:27<00:00, 36.13trial/s, best loss: 0.0]\n",
      "  9%|▊         | 86/1000 [00:02<00:22, 40.33trial/s, best loss: 0.0]               "
     ]
    },
    {
     "name": "stderr",
     "output_type": "stream",
     "text": [
      "\n",
      "[CVODE ERROR]  CVode\n",
      "  At t = 1411.41, mxstep steps taken before reaching tout.\n",
      "\n"
     ]
    },
    {
     "name": "stdout",
     "output_type": "stream",
     "text": [
      " 11%|█         | 111/1000 [00:02<00:23, 38.59trial/s, best loss: 0.0]"
     ]
    },
    {
     "name": "stderr",
     "output_type": "stream",
     "text": [
      "\n",
      "[CVODE ERROR]  CVode\n",
      "  At t = 897.655, mxstep steps taken before reaching tout.\n",
      "\n"
     ]
    },
    {
     "name": "stdout",
     "output_type": "stream",
     "text": [
      " 61%|██████    | 606/1000 [00:16<00:11, 34.63trial/s, best loss: 0.0]"
     ]
    },
    {
     "name": "stderr",
     "output_type": "stream",
     "text": [
      "\n",
      "[CVODE ERROR]  CVode\n",
      "  At t = 2484.79, mxstep steps taken before reaching tout.\n",
      "\n"
     ]
    },
    {
     "name": "stdout",
     "output_type": "stream",
     "text": [
      "100%|██████████| 1000/1000 [00:28<00:00, 35.30trial/s, best loss: 0.0]\n",
      "100%|██████████| 1000/1000 [00:27<00:00, 36.46trial/s, best loss: 0.46827433255179984]\n",
      " 74%|███████▍  | 741/1000 [00:24<00:09, 26.20trial/s, best loss: 0.0]               "
     ]
    },
    {
     "name": "stderr",
     "output_type": "stream",
     "text": [
      "\n",
      "[CVODE ERROR]  CVode\n",
      "  At t = 1239.48, mxstep steps taken before reaching tout.\n",
      "\n"
     ]
    },
    {
     "name": "stdout",
     "output_type": "stream",
     "text": [
      "100%|██████████| 1000/1000 [00:35<00:00, 28.26trial/s, best loss: 0.0]\n",
      "100%|██████████| 1000/1000 [00:30<00:00, 32.90trial/s, best loss: 0.30285951060219957]\n",
      "100%|██████████| 1000/1000 [00:26<00:00, 37.41trial/s, best loss: 0.08159378566921555]\n",
      " 91%|█████████ | 908/1000 [00:23<00:02, 34.22trial/s, best loss: 0.0]               "
     ]
    },
    {
     "name": "stderr",
     "output_type": "stream",
     "text": [
      "\n",
      "[CVODE ERROR]  CVode\n",
      "  At t = 1037.37, mxstep steps taken before reaching tout.\n",
      "\n"
     ]
    },
    {
     "name": "stdout",
     "output_type": "stream",
     "text": [
      "100%|██████████| 1000/1000 [00:28<00:00, 35.71trial/s, best loss: 0.0]\n",
      "100%|██████████| 1000/1000 [00:29<00:00, 33.68trial/s, best loss: 0.07875487196985889]\n",
      "100%|██████████| 1000/1000 [00:27<00:00, 36.61trial/s, best loss: 0.2054838069162467]\n",
      "100%|██████████| 1000/1000 [00:25<00:00, 38.71trial/s, best loss: 0.034727187197483515]\n",
      " 42%|████▏     | 415/1000 [00:10<00:16, 34.87trial/s, best loss: 0.0]               "
     ]
    },
    {
     "name": "stderr",
     "output_type": "stream",
     "text": [
      "\n",
      "[CVODE ERROR]  CVode\n",
      "  At t = 1696.8, mxstep steps taken before reaching tout.\n",
      "\n"
     ]
    },
    {
     "name": "stdout",
     "output_type": "stream",
     "text": [
      "100%|██████████| 1000/1000 [00:29<00:00, 34.48trial/s, best loss: 0.0]\n",
      "100%|██████████| 1000/1000 [00:27<00:00, 36.15trial/s, best loss: 0.1732662898861394]\n",
      "100%|██████████| 1000/1000 [00:27<00:00, 36.80trial/s, best loss: 0.2522249853857742]\n",
      " 20%|█▉        | 198/1000 [00:04<00:19, 40.98trial/s, best loss: 0.0]               "
     ]
    },
    {
     "name": "stderr",
     "output_type": "stream",
     "text": [
      "\n",
      "[CVODE ERROR]  CVode\n",
      "  At t = 2368.11, mxstep steps taken before reaching tout.\n",
      "\n"
     ]
    },
    {
     "name": "stdout",
     "output_type": "stream",
     "text": [
      "100%|██████████| 1000/1000 [00:26<00:00, 37.85trial/s, best loss: 0.0]\n",
      "100%|██████████| 1000/1000 [00:29<00:00, 34.15trial/s, best loss: 1.534901843760269]\n",
      "100%|██████████| 1000/1000 [00:27<00:00, 36.33trial/s, best loss: 0.49475385100036884]\n",
      "100%|██████████| 1000/1000 [00:27<00:00, 36.64trial/s, best loss: 1.2977118855397949]\n",
      "100%|██████████| 1000/1000 [00:28<00:00, 34.66trial/s, best loss: 0.04591908077341267]\n",
      "100%|██████████| 1000/1000 [00:26<00:00, 37.20trial/s, best loss: 0.6461406759644358]\n",
      "100%|██████████| 1000/1000 [00:27<00:00, 36.40trial/s, best loss: 4.414219426512898]\n",
      "100%|██████████| 1000/1000 [00:27<00:00, 36.82trial/s, best loss: 0.6290390992095106]\n",
      "100%|██████████| 1000/1000 [00:26<00:00, 37.23trial/s, best loss: 0.027900278565759676]\n",
      "100%|██████████| 1000/1000 [00:29<00:00, 34.02trial/s, best loss: 1.9490182376512581]\n",
      "100%|██████████| 1000/1000 [00:27<00:00, 36.48trial/s, best loss: 0.1049444978166804]\n",
      "100%|██████████| 1000/1000 [00:26<00:00, 37.24trial/s, best loss: 0.3792215980730432]\n",
      "100%|██████████| 1000/1000 [00:26<00:00, 38.38trial/s, best loss: 0.0674972943745981]\n",
      "100%|██████████| 1000/1000 [00:29<00:00, 33.45trial/s, best loss: 1.6836583633770186]\n",
      " 16%|█▌        | 158/1000 [00:04<00:22, 36.68trial/s, best loss: 0.0]               "
     ]
    },
    {
     "name": "stderr",
     "output_type": "stream",
     "text": [
      "\n",
      "[CVODE ERROR]  CVode\n",
      "  At t = 831.172, mxstep steps taken before reaching tout.\n",
      "\n"
     ]
    },
    {
     "name": "stdout",
     "output_type": "stream",
     "text": [
      "100%|██████████| 1000/1000 [00:29<00:00, 34.36trial/s, best loss: 0.0]\n",
      "100%|██████████| 1000/1000 [00:24<00:00, 40.19trial/s, best loss: 0.0316165382850679]\n",
      "100%|██████████| 1000/1000 [00:28<00:00, 35.49trial/s, best loss: 0.026444965362098814]\n",
      "100%|██████████| 1000/1000 [00:28<00:00, 35.00trial/s, best loss: 0.9375346604164841]\n",
      "100%|██████████| 1000/1000 [00:27<00:00, 37.01trial/s, best loss: 1.9084824699008158]\n",
      " 11%|█         | 107/1000 [00:02<00:22, 39.45trial/s, best loss: 0.0]              "
     ]
    },
    {
     "name": "stderr",
     "output_type": "stream",
     "text": [
      "\n",
      "[CVODE ERROR]  CVode\n",
      "  At t = 1832.55, mxstep steps taken before reaching tout.\n",
      "\n"
     ]
    },
    {
     "name": "stdout",
     "output_type": "stream",
     "text": [
      "100%|██████████| 1000/1000 [00:27<00:00, 36.45trial/s, best loss: 0.0]\n",
      "100%|██████████| 1000/1000 [00:28<00:00, 35.28trial/s, best loss: 0.0891143562679585]\n",
      "100%|██████████| 1000/1000 [00:25<00:00, 38.68trial/s, best loss: 2.6205852461902115]\n",
      "100%|██████████| 1000/1000 [00:27<00:00, 36.17trial/s, best loss: 0.3370632085780225]\n",
      "100%|██████████| 1000/1000 [00:26<00:00, 37.06trial/s, best loss: 0.47724401036653125]\n",
      "100%|██████████| 1000/1000 [00:25<00:00, 39.04trial/s, best loss: 0.08508095698198863]\n",
      "100%|██████████| 1000/1000 [00:25<00:00, 38.94trial/s, best loss: 2.7967393234969617]\n",
      "100%|██████████| 1000/1000 [00:27<00:00, 36.32trial/s, best loss: 0.553511417563242]\n",
      "100%|██████████| 1000/1000 [00:27<00:00, 35.98trial/s, best loss: 1.7237862784718951]\n",
      "100%|██████████| 1000/1000 [00:25<00:00, 38.97trial/s, best loss: 0.08725558324963509]\n",
      "100%|██████████| 1000/1000 [00:28<00:00, 35.12trial/s, best loss: 1.7314974182589147]\n",
      "100%|██████████| 1000/1000 [00:27<00:00, 36.09trial/s, best loss: 1.0946668577654595]\n",
      "100%|██████████| 1000/1000 [00:26<00:00, 37.11trial/s, best loss: 0.42119789821579395]\n",
      "100%|██████████| 1000/1000 [00:26<00:00, 38.40trial/s, best loss: 0.05314087909645677]\n",
      "100%|██████████| 1000/1000 [00:25<00:00, 38.98trial/s, best loss: 0.7709522554407799]\n",
      "100%|██████████| 1000/1000 [00:27<00:00, 36.45trial/s, best loss: 0.057350990803278365]\n",
      "100%|██████████| 1000/1000 [00:27<00:00, 36.72trial/s, best loss: 0.06691058882145029]\n",
      "100%|██████████| 1000/1000 [00:26<00:00, 37.59trial/s, best loss: 0.03563839890887771]\n",
      "100%|██████████| 1000/1000 [00:29<00:00, 33.64trial/s, best loss: 4.195567116179489]\n",
      "100%|█████████▉| 995/1000 [00:27<00:00, 31.18trial/s, best loss: 0.0]               "
     ]
    },
    {
     "name": "stderr",
     "output_type": "stream",
     "text": [
      "\n",
      "[CVODE ERROR]  CVode\n",
      "  At t = 1642.16, mxstep steps taken before reaching tout.\n",
      "\n"
     ]
    },
    {
     "name": "stdout",
     "output_type": "stream",
     "text": [
      "100%|██████████| 1000/1000 [00:28<00:00, 35.53trial/s, best loss: 0.0]\n",
      " 75%|███████▍  | 746/1000 [00:19<00:07, 33.62trial/s, best loss: 0.0]                "
     ]
    },
    {
     "name": "stderr",
     "output_type": "stream",
     "text": [
      "\n",
      "[CVODE ERROR]  CVode\n",
      "  At t = 2454.95, mxstep steps taken before reaching tout.\n",
      "\n"
     ]
    },
    {
     "name": "stdout",
     "output_type": "stream",
     "text": [
      "100%|██████████| 1000/1000 [00:27<00:00, 36.17trial/s, best loss: 0.0]\n",
      " 10%|▉         | 99/1000 [00:02<00:24, 37.45trial/s, best loss: 0.0]               "
     ]
    },
    {
     "name": "stderr",
     "output_type": "stream",
     "text": [
      "\n",
      "[CVODE ERROR]  CVode\n",
      "  At t = 1872.3, mxstep steps taken before reaching tout.\n",
      "\n"
     ]
    },
    {
     "name": "stdout",
     "output_type": "stream",
     "text": [
      " 38%|███▊      | 375/1000 [00:09<00:16, 37.14trial/s, best loss: 0.0]"
     ]
    },
    {
     "name": "stderr",
     "output_type": "stream",
     "text": [
      "\n",
      "[CVODE ERROR]  CVode\n",
      "  At t = 2227.74, mxstep steps taken before reaching tout.\n",
      "\n"
     ]
    },
    {
     "name": "stdout",
     "output_type": "stream",
     "text": [
      "100%|██████████| 1000/1000 [00:27<00:00, 36.74trial/s, best loss: 0.0]\n",
      "100%|██████████| 1000/1000 [00:27<00:00, 35.77trial/s, best loss: 0.7677180323742422]\n",
      "100%|██████████| 1000/1000 [00:30<00:00, 32.73trial/s, best loss: 0.22447255032580843]\n",
      " 21%|██        | 210/1000 [00:05<00:20, 39.25trial/s, best loss: 0.0]              "
     ]
    },
    {
     "name": "stderr",
     "output_type": "stream",
     "text": [
      "\n",
      "[CVODE ERROR]  CVode\n",
      "  At t = 1228.3, mxstep steps taken before reaching tout.\n",
      "\n"
     ]
    },
    {
     "name": "stdout",
     "output_type": "stream",
     "text": [
      " 80%|███████▉  | 798/1000 [00:20<00:05, 36.10trial/s, best loss: 0.0]"
     ]
    },
    {
     "name": "stderr",
     "output_type": "stream",
     "text": [
      "\n",
      "[CVODE ERROR]  CVode\n",
      "  At t = 2083.5, mxstep steps taken before reaching tout.\n",
      "\n"
     ]
    },
    {
     "name": "stdout",
     "output_type": "stream",
     "text": [
      "100%|██████████| 1000/1000 [00:26<00:00, 37.21trial/s, best loss: 0.0]\n",
      "100%|██████████| 1000/1000 [00:25<00:00, 38.74trial/s, best loss: 0.03501106202956372]\n",
      "100%|██████████| 1000/1000 [00:30<00:00, 32.91trial/s, best loss: 4.033258890829952]\n",
      "100%|██████████| 1000/1000 [00:27<00:00, 36.81trial/s, best loss: 0.5372165198630973]\n",
      "100%|██████████| 1000/1000 [00:27<00:00, 36.47trial/s, best loss: 0.9028182765988836]\n",
      "100%|██████████| 1000/1000 [00:26<00:00, 37.83trial/s, best loss: 0.09681522476563492]\n",
      "100%|██████████| 1000/1000 [00:29<00:00, 33.76trial/s, best loss: 2.4572987842633083]\n",
      "100%|██████████| 1000/1000 [00:27<00:00, 36.18trial/s, best loss: 0.6950964764942646]\n",
      "100%|██████████| 1000/1000 [00:27<00:00, 36.42trial/s, best loss: 1.0422353442188919]\n",
      "100%|██████████| 1000/1000 [00:26<00:00, 37.05trial/s, best loss: 0.07804726379095084]\n",
      "100%|██████████| 1000/1000 [00:25<00:00, 38.58trial/s, best loss: 0.529519300302604]\n",
      "100%|██████████| 1000/1000 [00:27<00:00, 35.88trial/s, best loss: 0.05431530971839527]\n",
      "100%|██████████| 1000/1000 [00:27<00:00, 36.46trial/s, best loss: 0.19120131262571577]\n",
      "100%|██████████| 1000/1000 [00:26<00:00, 38.28trial/s, best loss: 0.010902067798668152]\n",
      " 36%|███▌      | 359/1000 [00:08<00:18, 35.26trial/s, best loss: 0.0]               "
     ]
    },
    {
     "name": "stderr",
     "output_type": "stream",
     "text": [
      "\n",
      "[CVODE ERROR]  CVode\n",
      "  At t = 1172.67, mxstep steps taken before reaching tout.\n",
      "\n"
     ]
    },
    {
     "name": "stdout",
     "output_type": "stream",
     "text": [
      "100%|██████████| 1000/1000 [00:32<00:00, 30.41trial/s, best loss: 0.0]\n"
     ]
    }
   ],
   "source": [
    "###Explore growth conditions robustness \n",
    "global perturbs\n",
    "max_iters = 1000\n",
    "total_landscape = pd.DataFrame()\n",
    "total_perturbs = lhs(2, samples=500)\n",
    "for p in total_perturbs:\n",
    "    perturbs = p\n",
    "    space = hp.choice('architecture', \n",
    "    [([[0, 1, 0], [0, 0, 1]], [[2., hp.uniform('theta1_ur', 1E-7, 10), hp.uniform('k1_ur', 1E-7, 5)], [2., hp.uniform('theta2_ur', 1E-7, 10), hp.uniform('k2_ur', 1E-7, 5)]])])\n",
    "    ur_landscape, best = run_hyperopt(max_iters)\n",
    "\n",
    "    space = hp.choice('architecture', \n",
    "    [([[0, 0, 1], [1, 0, 0]], [[2., hp.uniform('theta1_da', 1E-7, 10), hp.uniform('k1_da', 1E-7, 5)], [2., hp.uniform('theta2_da', 1E-7, 10), hp.uniform('k2_da', 1E-7, 5)]])])\n",
    "    da_landscape, best = run_hyperopt(max_iters)\n",
    "\n",
    "    space = hp.choice('architecture', \n",
    "    [([[0, 1, 0], [1, 0, 0]], [[2., hp.uniform('theta1_dc', 1E-7, 10), hp.uniform('k1_dc', 1E-7, 5)], [2., hp.uniform('theta2_dc', 1E-7, 10), hp.uniform('k2_dc', 1E-7, 5)]])])\n",
    "    dc_landscape, best = run_hyperopt(max_iters)\n",
    "\n",
    "    space = hp.choice('architecture', \n",
    "    [([[0, 0, 1], [0, 0, 1]], [[2., hp.uniform('theta1_nc', 1E-7, 10), hp.uniform('k1_nc', 1E-7, 5)], [2., hp.uniform('theta2_nc', 1E-7, 10), hp.uniform('k2_nc', 1E-7, 5)]])])\n",
    "    nc_landscape, best = run_hyperopt(max_iters)\n",
    "\n",
    "    landscape = pd.concat([ur_landscape, da_landscape, dc_landscape, nc_landscape])\n",
    "    landscape['perturb0'] = p[0]\n",
    "    landscape['perturb1'] = p[1]\n",
    "    landscape.to_csv('growth_condition_robustness1.csv', mode='a', header=False)\n",
    "    total_landscape = pd.concat([total_landscape, landscape])\n",
    "\n",
    "total_landscape.to_csv('growth_conditions_robustness_backup1.csv')\n",
    "####FIGURE: Robustness to growth conditions"
   ]
  },
  {
   "cell_type": "code",
   "execution_count": 9,
   "metadata": {},
   "outputs": [],
   "source": [
    "#Filter experiment results for ODE errors\n",
    "total_landscape = pd.read_csv('growth_condition_robustness1.csv', header=None)\n",
    "total_landscape.columns = ['index2','index3','circuit','loss','k1','k2','theta1','theta2','Circuit','best_losses','best_loss_circuit', 'perturb1', 'perturb2']\n",
    "#Recompute best loss on non-error samples\n",
    "start=0\n",
    "stop=1000\n",
    "new_total_landscape = pd.DataFrame()\n",
    "for j in range(500*4):\n",
    "    landscape = total_landscape.iloc[start:stop].reset_index(drop=True)\n",
    "    best_loss = 1E5\n",
    "    best_circuit = 'Initial'\n",
    "    best_losses = []\n",
    "    best_losses_circuits = []\n",
    "    for i in range(len(landscape)):\n",
    "        if landscape.loss[i] < best_loss and landscape.loss[i] != 0:\n",
    "            best_loss = landscape.loss[i]\n",
    "            best_circuit = landscape.circuit[i]\n",
    "        best_losses.append(best_loss)\n",
    "        best_losses_circuits.append(best_circuit)\n",
    "    landscape['best_losses'] = best_losses\n",
    "    landscape['best_loss_circuit'] = best_losses_circuits \n",
    "    new_total_landscape = pd.concat([new_total_landscape, landscape])\n",
    "    start = stop\n",
    "    stop += 1000\n",
    "new_total_landscape = new_total_landscape.loc[new_total_landscape.loss != 0]"
   ]
  },
  {
   "cell_type": "code",
   "execution_count": 10,
   "metadata": {},
   "outputs": [
    {
     "data": {
      "text/plain": [
       "1451763"
      ]
     },
     "execution_count": 10,
     "metadata": {},
     "output_type": "execute_result"
    }
   ],
   "source": [
    "len(new_total_landscape)"
   ]
  },
  {
   "cell_type": "code",
   "execution_count": null,
   "metadata": {},
   "outputs": [],
   "source": [
    "prev_c = 'Initial'\n",
    "switches = []\n",
    "archs = [prev_c]\n",
    "for i in range(len(landscape)):\n",
    "    c = landscape.best_loss_circuit[i]\n",
    "    if c != prev_c: \n",
    "        switches.append(100*i/len(landscape))\n",
    "        archs.append(c)\n",
    "        prev_c = c\n",
    "percents = [np.sum(switches[:i+2]) for i in range(len(switches[1:]))]\n",
    "percents.insert(0, 0)\n",
    "percents.append(len(landscape))\n",
    "for p, a in zip(reversed(percents), reversed(archs)):\n",
    "    ax.barh(1, p, color=palette[a])\n",
    "    ax.axis('off')"
   ]
  }
 ],
 "metadata": {
  "kernelspec": {
   "display_name": "Python 3.9.7 ('sundials')",
   "language": "python",
   "name": "python3"
  },
  "language_info": {
   "codemirror_mode": {
    "name": "ipython",
    "version": 3
   },
   "file_extension": ".py",
   "mimetype": "text/x-python",
   "name": "python",
   "nbconvert_exporter": "python",
   "pygments_lexer": "ipython3",
   "version": "3.9.7"
  },
  "orig_nbformat": 4,
  "vscode": {
   "interpreter": {
    "hash": "07c32881fdddda18fc4efdca8ccb6859d747bae1937efa0776c98adbd36477b4"
   }
  }
 },
 "nbformat": 4,
 "nbformat_minor": 2
}
