{
 "cells": [
  {
   "cell_type": "code",
   "execution_count": 16,
   "metadata": {},
   "outputs": [],
   "source": [
    "###Required packages\n",
    "import numpy as np\n",
    "from hyperopt import hp, fmin, tpe\n",
    "from scikits.odes.ode import ode\n",
    "import matplotlib.pyplot as plt\n",
    "import pandas as pd\n",
    "import seaborn as sns\n",
    "import matplotlib.gridspec as gridspec\n",
    "from pulp import LpMaximize, LpMinimize, LpProblem, LpStatus, lpSum, LpVariable\n"
   ]
  },
  {
   "cell_type": "code",
   "execution_count": 4,
   "metadata": {},
   "outputs": [
    {
     "name": "stdout",
     "output_type": "stream",
     "text": [
      "status: 1, Optimal\n",
      "objective: 16.8181817\n",
      "x: 7.7272727\n",
      "y: 4.5454545\n",
      "red_constraint: -9.99999993922529e-08\n",
      "blue_constraint: 18.181818300000003\n",
      "yellow_constraint: 3.3636362999999996\n",
      "green_constraint: -2.0000000233721948e-07\n"
     ]
    }
   ],
   "source": [
    "### Simple linear programming sample\n",
    "# Create the model\n",
    "model = LpProblem(name=\"small-problem\", sense=LpMaximize)\n",
    "\n",
    "# Initialize the decision variables\n",
    "x = LpVariable(name=\"x\", lowBound=0)\n",
    "y = LpVariable(name=\"y\", lowBound=0)\n",
    "\n",
    "# Add the constraints to the model\n",
    "model += (2 * x + y <= 20, \"red_constraint\")\n",
    "model += (4 * x - 5 * y >= -10, \"blue_constraint\")\n",
    "model += (-x + 2 * y >= -2, \"yellow_constraint\")\n",
    "model += (-x + 5 * y == 15, \"green_constraint\")\n",
    "\n",
    "# Add the objective function to the model\n",
    "obj_func = x + 2 * y\n",
    "model += obj_func\n",
    "\n",
    "# Solve the problem\n",
    "status = model.solve()\n",
    "\n",
    "print(f\"status: {model.status}, {LpStatus[model.status]}\")\n",
    "print(f\"objective: {model.objective.value()}\")\n",
    "\n",
    "for var in model.variables():\n",
    "    print(f\"{var.name}: {var.value()}\")\n",
    "\n",
    "for name, constraint in model.constraints.items():\n",
    "    print(f\"{name}: {constraint.value()}\")"
   ]
  },
  {
   "cell_type": "code",
   "execution_count": 18,
   "metadata": {},
   "outputs": [],
   "source": [
    "def toy_model(t, y, ydot, params):\n",
    "    kc=12.; km=10.; lam=1.93E-4; Vin=1.; e0=0.0467\n",
    "    T = 1; E = 2; X = 2\n",
    "    A, W = params\n",
    "    ydot[0] = Vin - lam*y[0] - e0*nonlinearity(y[0], kc, km) - y[2]*nonlinearity(y[0], kc, km)\n",
    "    ydot[1] = y[2]*nonlinearity(y[0], kc, km) - y[3]*nonlinearity(y[1], kc, km) - lam*y[1]\n",
    "    for e in range(E):\n",
    "        ydot[e+X] = -lam*y[e+X] + np.sum(A[e]*np.array([activation(y[T], W[e][2], W[e][1], W[e][0]), repression(y[T], W[e][2], W[e][1], W[e][0]), W[e][2]]))\n",
    "    ydot[E+X] = (Vin - y[X+1]*nonlinearity(y[X-1], kc, km))**2 #J1\n",
    "    ydot[E+X+1] = np.sum([np.sum(A[e]*np.array([activation(y[T], W[e][2], W[e][1], W[e][0]), repression(y[T], W[e][2], W[e][1], W[e][0]), W[e][2]])) for e in range(E)]) #J2\n",
    "\n",
    "def name_converter(A):\n",
    "    if A == 1:\n",
    "        return ((0, 1, 0), (1, 0, 0))\n",
    "\n",
    "    elif A == 2:\n",
    "        return ((0, 0, 1), (0, 0, 1))\n",
    "\n",
    "    elif A == 3:\n",
    "        return ((0, 0, 1), (1, 0, 0))\n",
    "\n",
    "    elif A == 4:\n",
    "        return ((0, 1, 0), (0, 0, 1))\n",
    "    else: return 'Invalid Circuit'\n",
    "\n",
    "def loss_biological(j1, j2, alpha1=1E-5, alpha2=1E-2):\n",
    "        \"\"\"Computes scalarized loss including genetic constraint and product production\"\"\"\n",
    "        loss = alpha1*j1 + alpha2*j2\n",
    "        return j1, j2, loss\n",
    "\n",
    "def activation(x, k, theta, n):\n",
    "    return (k*(x/theta)**n)/(1+(x/theta)**n)\n",
    "\n",
    "def repression(x, k, theta, n):\n",
    "    return k/(1+(x/theta)**n)\n",
    "    \n",
    "def nonlinearity(x, kc, km):\n",
    "    return (kc*x)/(km+x)"
   ]
  },
  {
   "cell_type": "code",
   "execution_count": 25,
   "metadata": {},
   "outputs": [
    {
     "ename": "TypeError",
     "evalue": "unsupported operand type(s) for /: 'float' and 'NoneType'",
     "output_type": "error",
     "traceback": [
      "\u001b[0;31m---------------------------------------------------------------------------\u001b[0m",
      "\u001b[0;31mTypeError\u001b[0m                                 Traceback (most recent call last)",
      "\u001b[1;32m/Users/charlotte/Library/Mobile Documents/com~apple~CloudDocs/Documents/PhD/MSc Thesis/bayesopt-dynamic-pathways/method_tuning/benchmarking.ipynb Cell 4\u001b[0m in \u001b[0;36m<cell line: 25>\u001b[0;34m()\u001b[0m\n\u001b[1;32m     <a href='vscode-notebook-cell:/Users/charlotte/Library/Mobile%20Documents/com~apple~CloudDocs/Documents/PhD/MSc%20Thesis/bayesopt-dynamic-pathways/method_tuning/benchmarking.ipynb#W2sZmlsZQ%3D%3D?line=21'>22</a>\u001b[0m     j1, j2, loss \u001b[39m=\u001b[39m loss_biological(j1, j2, alpha1\u001b[39m=\u001b[39m\u001b[39m1E-5\u001b[39m, alpha2\u001b[39m=\u001b[39m\u001b[39m1E-2\u001b[39m)\n\u001b[1;32m     <a href='vscode-notebook-cell:/Users/charlotte/Library/Mobile%20Documents/com~apple~CloudDocs/Documents/PhD/MSc%20Thesis/bayesopt-dynamic-pathways/method_tuning/benchmarking.ipynb#W2sZmlsZQ%3D%3D?line=22'>23</a>\u001b[0m     \u001b[39mreturn\u001b[39;00m loss\n\u001b[0;32m---> <a href='vscode-notebook-cell:/Users/charlotte/Library/Mobile%20Documents/com~apple~CloudDocs/Documents/PhD/MSc%20Thesis/bayesopt-dynamic-pathways/method_tuning/benchmarking.ipynb#W2sZmlsZQ%3D%3D?line=24'>25</a>\u001b[0m model \u001b[39m+\u001b[39m\u001b[39m=\u001b[39m (ode_fun(A, k1, k2, theta1, theta2), \u001b[39m\"\u001b[39m\u001b[39mode_constraint\u001b[39m\u001b[39m\"\u001b[39m)\n\u001b[1;32m     <a href='vscode-notebook-cell:/Users/charlotte/Library/Mobile%20Documents/com~apple~CloudDocs/Documents/PhD/MSc%20Thesis/bayesopt-dynamic-pathways/method_tuning/benchmarking.ipynb#W2sZmlsZQ%3D%3D?line=26'>27</a>\u001b[0m \u001b[39m# Add the objective function to the model\u001b[39;00m\n\u001b[1;32m     <a href='vscode-notebook-cell:/Users/charlotte/Library/Mobile%20Documents/com~apple~CloudDocs/Documents/PhD/MSc%20Thesis/bayesopt-dynamic-pathways/method_tuning/benchmarking.ipynb#W2sZmlsZQ%3D%3D?line=27'>28</a>\u001b[0m model \u001b[39m+\u001b[39m\u001b[39m=\u001b[39m loss\n",
      "\u001b[1;32m/Users/charlotte/Library/Mobile Documents/com~apple~CloudDocs/Documents/PhD/MSc Thesis/bayesopt-dynamic-pathways/method_tuning/benchmarking.ipynb Cell 4\u001b[0m in \u001b[0;36mode_fun\u001b[0;34m(A, k1, k2, theta1, theta2)\u001b[0m\n\u001b[1;32m     <a href='vscode-notebook-cell:/Users/charlotte/Library/Mobile%20Documents/com~apple~CloudDocs/Documents/PhD/MSc%20Thesis/bayesopt-dynamic-pathways/method_tuning/benchmarking.ipynb#W2sZmlsZQ%3D%3D?line=17'>18</a>\u001b[0m extra_options \u001b[39m=\u001b[39m {\u001b[39m'\u001b[39m\u001b[39mold_api\u001b[39m\u001b[39m'\u001b[39m: \u001b[39mFalse\u001b[39;00m, \u001b[39m'\u001b[39m\u001b[39muser_data\u001b[39m\u001b[39m'\u001b[39m: [architecture, param_values]}\n\u001b[1;32m     <a href='vscode-notebook-cell:/Users/charlotte/Library/Mobile%20Documents/com~apple~CloudDocs/Documents/PhD/MSc%20Thesis/bayesopt-dynamic-pathways/method_tuning/benchmarking.ipynb#W2sZmlsZQ%3D%3D?line=18'>19</a>\u001b[0m ode_solver \u001b[39m=\u001b[39m ode(\u001b[39m'\u001b[39m\u001b[39mcvode\u001b[39m\u001b[39m'\u001b[39m, toy_model, \u001b[39m*\u001b[39m\u001b[39m*\u001b[39mextra_options)\n\u001b[0;32m---> <a href='vscode-notebook-cell:/Users/charlotte/Library/Mobile%20Documents/com~apple~CloudDocs/Documents/PhD/MSc%20Thesis/bayesopt-dynamic-pathways/method_tuning/benchmarking.ipynb#W2sZmlsZQ%3D%3D?line=19'>20</a>\u001b[0m solution \u001b[39m=\u001b[39m ode_solver\u001b[39m.\u001b[39;49msolve(t, y0)\n\u001b[1;32m     <a href='vscode-notebook-cell:/Users/charlotte/Library/Mobile%20Documents/com~apple~CloudDocs/Documents/PhD/MSc%20Thesis/bayesopt-dynamic-pathways/method_tuning/benchmarking.ipynb#W2sZmlsZQ%3D%3D?line=20'>21</a>\u001b[0m j1, j2 \u001b[39m=\u001b[39m solution\u001b[39m.\u001b[39mvalues\u001b[39m.\u001b[39my[\u001b[39m-\u001b[39m\u001b[39m1\u001b[39m, \u001b[39m-\u001b[39m\u001b[39m2\u001b[39m:]\n\u001b[1;32m     <a href='vscode-notebook-cell:/Users/charlotte/Library/Mobile%20Documents/com~apple~CloudDocs/Documents/PhD/MSc%20Thesis/bayesopt-dynamic-pathways/method_tuning/benchmarking.ipynb#W2sZmlsZQ%3D%3D?line=21'>22</a>\u001b[0m j1, j2, loss \u001b[39m=\u001b[39m loss_biological(j1, j2, alpha1\u001b[39m=\u001b[39m\u001b[39m1E-5\u001b[39m, alpha2\u001b[39m=\u001b[39m\u001b[39m1E-2\u001b[39m)\n",
      "File \u001b[0;32m~/opt/anaconda3/envs/sundials/lib/python3.9/site-packages/scikits/odes/ode.py:333\u001b[0m, in \u001b[0;36mode.solve\u001b[0;34m(self, tspan, y0)\u001b[0m\n\u001b[1;32m    290\u001b[0m \u001b[39mdef\u001b[39;00m \u001b[39msolve\u001b[39m(\u001b[39mself\u001b[39m, tspan, y0):\n\u001b[1;32m    291\u001b[0m     \u001b[39m\"\"\"\u001b[39;00m\n\u001b[1;32m    292\u001b[0m \u001b[39m    Runs the solver.\u001b[39;00m\n\u001b[1;32m    293\u001b[0m \n\u001b[0;32m   (...)\u001b[0m\n\u001b[1;32m    331\u001b[0m \n\u001b[1;32m    332\u001b[0m \u001b[39m    \"\"\"\u001b[39;00m\n\u001b[0;32m--> 333\u001b[0m     \u001b[39mreturn\u001b[39;00m \u001b[39mself\u001b[39;49m\u001b[39m.\u001b[39;49m_integrator\u001b[39m.\u001b[39;49msolve(tspan, y0)\n",
      "File \u001b[0;32mscikits/odes/sundials/cvode.pyx:1760\u001b[0m, in \u001b[0;36mscikits.odes.sundials.cvode.CVODE.solve\u001b[0;34m()\u001b[0m\n",
      "File \u001b[0;32mscikits/odes/sundials/cvode.pyx:1798\u001b[0m, in \u001b[0;36mscikits.odes.sundials.cvode.CVODE._solve\u001b[0;34m()\u001b[0m\n",
      "File \u001b[0;32mscikits/odes/sundials/cvode.pyx:1386\u001b[0m, in \u001b[0;36mscikits.odes.sundials.cvode.CVODE._init_step\u001b[0;34m()\u001b[0m\n",
      "\u001b[1;32m/Users/charlotte/Library/Mobile Documents/com~apple~CloudDocs/Documents/PhD/MSc Thesis/bayesopt-dynamic-pathways/method_tuning/benchmarking.ipynb Cell 4\u001b[0m in \u001b[0;36mtoy_model\u001b[0;34m(t, y, ydot, params)\u001b[0m\n\u001b[1;32m      <a href='vscode-notebook-cell:/Users/charlotte/Library/Mobile%20Documents/com~apple~CloudDocs/Documents/PhD/MSc%20Thesis/bayesopt-dynamic-pathways/method_tuning/benchmarking.ipynb#W2sZmlsZQ%3D%3D?line=5'>6</a>\u001b[0m ydot[\u001b[39m1\u001b[39m] \u001b[39m=\u001b[39m y[\u001b[39m2\u001b[39m]\u001b[39m*\u001b[39mnonlinearity(y[\u001b[39m0\u001b[39m], kc, km) \u001b[39m-\u001b[39m y[\u001b[39m3\u001b[39m]\u001b[39m*\u001b[39mnonlinearity(y[\u001b[39m1\u001b[39m], kc, km) \u001b[39m-\u001b[39m lam\u001b[39m*\u001b[39my[\u001b[39m1\u001b[39m]\n\u001b[1;32m      <a href='vscode-notebook-cell:/Users/charlotte/Library/Mobile%20Documents/com~apple~CloudDocs/Documents/PhD/MSc%20Thesis/bayesopt-dynamic-pathways/method_tuning/benchmarking.ipynb#W2sZmlsZQ%3D%3D?line=6'>7</a>\u001b[0m \u001b[39mfor\u001b[39;00m e \u001b[39min\u001b[39;00m \u001b[39mrange\u001b[39m(E):\n\u001b[0;32m----> <a href='vscode-notebook-cell:/Users/charlotte/Library/Mobile%20Documents/com~apple~CloudDocs/Documents/PhD/MSc%20Thesis/bayesopt-dynamic-pathways/method_tuning/benchmarking.ipynb#W2sZmlsZQ%3D%3D?line=7'>8</a>\u001b[0m     ydot[e\u001b[39m+\u001b[39mX] \u001b[39m=\u001b[39m \u001b[39m-\u001b[39mlam\u001b[39m*\u001b[39my[e\u001b[39m+\u001b[39mX] \u001b[39m+\u001b[39m np\u001b[39m.\u001b[39msum(A[e]\u001b[39m*\u001b[39mnp\u001b[39m.\u001b[39marray([activation(y[T], W[e][\u001b[39m2\u001b[39;49m], W[e][\u001b[39m1\u001b[39;49m], W[e][\u001b[39m0\u001b[39;49m]), repression(y[T], W[e][\u001b[39m2\u001b[39m], W[e][\u001b[39m1\u001b[39m], W[e][\u001b[39m0\u001b[39m]), W[e][\u001b[39m2\u001b[39m]]))\n\u001b[1;32m      <a href='vscode-notebook-cell:/Users/charlotte/Library/Mobile%20Documents/com~apple~CloudDocs/Documents/PhD/MSc%20Thesis/bayesopt-dynamic-pathways/method_tuning/benchmarking.ipynb#W2sZmlsZQ%3D%3D?line=8'>9</a>\u001b[0m ydot[E\u001b[39m+\u001b[39mX] \u001b[39m=\u001b[39m (Vin \u001b[39m-\u001b[39m y[X\u001b[39m+\u001b[39m\u001b[39m1\u001b[39m]\u001b[39m*\u001b[39mnonlinearity(y[X\u001b[39m-\u001b[39m\u001b[39m1\u001b[39m], kc, km))\u001b[39m*\u001b[39m\u001b[39m*\u001b[39m\u001b[39m2\u001b[39m \u001b[39m#J1\u001b[39;00m\n\u001b[1;32m     <a href='vscode-notebook-cell:/Users/charlotte/Library/Mobile%20Documents/com~apple~CloudDocs/Documents/PhD/MSc%20Thesis/bayesopt-dynamic-pathways/method_tuning/benchmarking.ipynb#W2sZmlsZQ%3D%3D?line=9'>10</a>\u001b[0m ydot[E\u001b[39m+\u001b[39mX\u001b[39m+\u001b[39m\u001b[39m1\u001b[39m] \u001b[39m=\u001b[39m np\u001b[39m.\u001b[39msum([np\u001b[39m.\u001b[39msum(A[e]\u001b[39m*\u001b[39mnp\u001b[39m.\u001b[39marray([activation(y[T], W[e][\u001b[39m2\u001b[39m], W[e][\u001b[39m1\u001b[39m], W[e][\u001b[39m0\u001b[39m]), repression(y[T], W[e][\u001b[39m2\u001b[39m], W[e][\u001b[39m1\u001b[39m], W[e][\u001b[39m0\u001b[39m]), W[e][\u001b[39m2\u001b[39m]])) \u001b[39mfor\u001b[39;00m e \u001b[39min\u001b[39;00m \u001b[39mrange\u001b[39m(E)])\n",
      "\u001b[1;32m/Users/charlotte/Library/Mobile Documents/com~apple~CloudDocs/Documents/PhD/MSc Thesis/bayesopt-dynamic-pathways/method_tuning/benchmarking.ipynb Cell 4\u001b[0m in \u001b[0;36mactivation\u001b[0;34m(x, k, theta, n)\u001b[0m\n\u001b[1;32m     <a href='vscode-notebook-cell:/Users/charlotte/Library/Mobile%20Documents/com~apple~CloudDocs/Documents/PhD/MSc%20Thesis/bayesopt-dynamic-pathways/method_tuning/benchmarking.ipynb#W2sZmlsZQ%3D%3D?line=30'>31</a>\u001b[0m \u001b[39mdef\u001b[39;00m \u001b[39mactivation\u001b[39m(x, k, theta, n):\n\u001b[0;32m---> <a href='vscode-notebook-cell:/Users/charlotte/Library/Mobile%20Documents/com~apple~CloudDocs/Documents/PhD/MSc%20Thesis/bayesopt-dynamic-pathways/method_tuning/benchmarking.ipynb#W2sZmlsZQ%3D%3D?line=31'>32</a>\u001b[0m     \u001b[39mreturn\u001b[39;00m (k\u001b[39m*\u001b[39m(x\u001b[39m/\u001b[39;49mtheta)\u001b[39m*\u001b[39m\u001b[39m*\u001b[39mn)\u001b[39m/\u001b[39m(\u001b[39m1\u001b[39m\u001b[39m+\u001b[39m(x\u001b[39m/\u001b[39mtheta)\u001b[39m*\u001b[39m\u001b[39m*\u001b[39mn)\n",
      "\u001b[0;31mTypeError\u001b[0m: unsupported operand type(s) for /: 'float' and 'NoneType'"
     ]
    }
   ],
   "source": [
    "### Toy model sample\n",
    "# Create the model\n",
    "model = LpProblem(name=\"toy-ode\", sense=LpMinimize)\n",
    "\n",
    "# Initialize the decision variables\n",
    "A = LpVariable(\"architecture\", lowBound=0, upBound=4, cat=\"Integer\")\n",
    "k1 = LpVariable(\"k1\", lowBound=1E-7, upBound=1E-3, cat=\"Continuous\")\n",
    "k2 = LpVariable(\"k2\", lowBound=1E-7, upBound=1E-3, cat=\"Continuous\")\n",
    "theta1 = LpVariable(\"theta1\", lowBound=0.001, upBound=10, cat=\"Continuous\")\n",
    "theta2 = LpVariable(\"theta2\", lowBound=0.001, upBound=10, cat=\"Continuous\")\n",
    "\n",
    "# Add the constraints to the model\n",
    "def ode_fun(A, k1, k2, theta1, theta2):\n",
    "    t = np.linspace(0, 5E4, 100) \n",
    "    y0 = np.array([2290., 0., 0., 0., 0., 0.])\n",
    "    architecture = name_converter(A.value())\n",
    "    param_values = [[2., k1.value(), theta1.value()], [2., k2.value(), theta2.value()]]\n",
    "    extra_options = {'old_api': False, 'user_data': [architecture, param_values]}\n",
    "    ode_solver = ode('cvode', toy_model, **extra_options)\n",
    "    solution = ode_solver.solve(t, y0)\n",
    "    j1, j2 = solution.values.y[-1, -2:]\n",
    "    j1, j2, loss = loss_biological(j1, j2, alpha1=1E-5, alpha2=1E-2)\n",
    "    return loss\n",
    "\n",
    "model += (ode_fun(A, k1, k2, theta1, theta2), \"ode_constraint\")\n",
    "\n",
    "# Add the objective function to the model\n",
    "model += loss\n",
    "\n",
    "# Solve the problem\n",
    "status = model.solve()"
   ]
  },
  {
   "cell_type": "code",
   "execution_count": 29,
   "metadata": {},
   "outputs": [],
   "source": [
    "#Read in random sampling results\n",
    "da100 = pd.read_csv('random_sampling/da100.csv')\n",
    "da1k = pd.read_csv('random_sampling/da1000.csv')\n",
    "da10k = pd.read_csv('random_sampling/da10000.csv')\n",
    "\n",
    "dc100 = pd.read_csv('random_sampling/dc100.csv')\n",
    "dc1k = pd.read_csv('random_sampling/dc1000.csv')\n",
    "dc10k = pd.read_csv('random_sampling/dc10000.csv')\n",
    "\n",
    "nc100 = pd.read_csv('random_sampling/nc100.csv')\n",
    "nc1k = pd.read_csv('random_sampling/nc1000.csv')\n",
    "nc10k = pd.read_csv('random_sampling/nc10000.csv')\n",
    "\n",
    "ur100 = pd.read_csv('random_sampling/ur100.csv')\n",
    "ur1k = pd.read_csv('random_sampling/ur1000.csv')\n",
    "ur10k = pd.read_csv('random_sampling/ur10000.csv')"
   ]
  },
  {
   "cell_type": "code",
   "execution_count": 30,
   "metadata": {},
   "outputs": [],
   "source": [
    "#Read in grid search results\n",
    "grid_search_timings = pd.DataFrame({'circuit':['da', 'dc','ur', 'nc'], 'time':[803, 921, 842, 885]})\n",
    "gs_losses_dc = pd.read_csv('grid_search/dc_landscape_sundials.csv')\n",
    "gs_losses_nc = pd.read_csv('grid_search/nc_landscape_sundials.csv')\n",
    "gs_losses_da = pd.read_csv('grid_search/da_landscape_sundials.csv')\n",
    "gs_losses_ur = pd.read_csv('grid_search/ur_landscape_sundials.csv')"
   ]
  },
  {
   "cell_type": "code",
   "execution_count": 31,
   "metadata": {},
   "outputs": [
    {
     "data": {
      "text/html": [
       "<div>\n",
       "<style scoped>\n",
       "    .dataframe tbody tr th:only-of-type {\n",
       "        vertical-align: middle;\n",
       "    }\n",
       "\n",
       "    .dataframe tbody tr th {\n",
       "        vertical-align: top;\n",
       "    }\n",
       "\n",
       "    .dataframe thead th {\n",
       "        text-align: right;\n",
       "    }\n",
       "</style>\n",
       "<table border=\"1\" class=\"dataframe\">\n",
       "  <thead>\n",
       "    <tr style=\"text-align: right;\">\n",
       "      <th></th>\n",
       "      <th>Method</th>\n",
       "      <th>Circuit</th>\n",
       "      <th>Computational Time</th>\n",
       "      <th>Best Loss</th>\n",
       "    </tr>\n",
       "  </thead>\n",
       "  <tbody>\n",
       "    <tr>\n",
       "      <th>0</th>\n",
       "      <td>100 Random</td>\n",
       "      <td>Downstream Activation</td>\n",
       "      <td>0.663827</td>\n",
       "      <td>0.077568</td>\n",
       "    </tr>\n",
       "    <tr>\n",
       "      <th>0</th>\n",
       "      <td>1k Random</td>\n",
       "      <td>Downstream Activation</td>\n",
       "      <td>6.68774</td>\n",
       "      <td>0.066686</td>\n",
       "    </tr>\n",
       "    <tr>\n",
       "      <th>0</th>\n",
       "      <td>10k Random</td>\n",
       "      <td>Downstream Activation</td>\n",
       "      <td>68.817062</td>\n",
       "      <td>0.062072</td>\n",
       "    </tr>\n",
       "    <tr>\n",
       "      <th>0</th>\n",
       "      <td>100 Random</td>\n",
       "      <td>Dual Control</td>\n",
       "      <td>0.768979</td>\n",
       "      <td>0.066274</td>\n",
       "    </tr>\n",
       "    <tr>\n",
       "      <th>0</th>\n",
       "      <td>1k Random</td>\n",
       "      <td>Dual Control</td>\n",
       "      <td>7.912874</td>\n",
       "      <td>0.065841</td>\n",
       "    </tr>\n",
       "  </tbody>\n",
       "</table>\n",
       "</div>"
      ],
      "text/plain": [
       "       Method                Circuit Computational Time Best Loss\n",
       "0  100 Random  Downstream Activation           0.663827  0.077568\n",
       "0   1k Random  Downstream Activation            6.68774  0.066686\n",
       "0  10k Random  Downstream Activation          68.817062  0.062072\n",
       "0  100 Random           Dual Control           0.768979  0.066274\n",
       "0   1k Random           Dual Control           7.912874  0.065841"
      ]
     },
     "execution_count": 31,
     "metadata": {},
     "output_type": "execute_result"
    }
   ],
   "source": [
    "#Combine all into best loss/computational time dataframe\n",
    "combined = pd.DataFrame(columns=['Method', 'Circuit', 'Computational Time', 'Best Loss'])\n",
    "\n",
    "def circuit_converter(circuit):\n",
    "    if circuit == 'da': circuit_name = 'Downstream Activation'\n",
    "    elif circuit == 'nc': circuit_name = 'No Control'\n",
    "    elif circuit == 'dc': circuit_name = 'Dual Control'\n",
    "    elif circuit == 'ur': circuit_name = 'Upstream Repression'\n",
    "    return circuit_name\n",
    "\n",
    "#Random sampling data processing\n",
    "for df in [da100, da1k, da10k, dc100, dc1k, dc10k, nc100, nc1k, nc10k, ur100, ur1k, ur10k]:\n",
    "    best_loss = df.loss.min()\n",
    "    time = df.time[0]\n",
    "    if str(df.num_samples[0]) == '100':\n",
    "        method = '100 Random'\n",
    "    elif str(df.num_samples[0]) == '1000':\n",
    "        method = '1k Random'\n",
    "    if str(df.num_samples[0]) == '10000':\n",
    "        method = '10k Random'\n",
    "    circuit = circuit_converter(df.circuit[0])\n",
    "    row = pd.DataFrame({'Method': [method], 'Circuit': [circuit], 'Computational Time':[time], 'Best Loss':[best_loss]})\n",
    "    combined = pd.concat([combined, row])\n",
    "\n",
    "#Grid search data processing\n",
    "for c in ['nc','dc','da','ur']:\n",
    "    if c == 'nc': df = gs_losses_nc\n",
    "    elif c == 'dc': df = gs_losses_dc\n",
    "    elif c == 'da': df = gs_losses_da\n",
    "    elif c == 'ur': df = gs_losses_ur\n",
    "    best_loss = df.loss.min()\n",
    "    time = grid_search_timings.loc[grid_search_timings.circuit == c].reset_index(drop=True).iloc[0].time\n",
    "    method = 'Grid Search'\n",
    "    circuit = circuit_converter(c)\n",
    "\n",
    "    row = pd.DataFrame({'Method': [method], 'Circuit': [circuit], 'Computational Time':[time], 'Best Loss':[best_loss]})\n",
    "    combined = pd.concat([combined, row])\n",
    "    \n",
    "combined.head()"
   ]
  },
  {
   "cell_type": "code",
   "execution_count": 37,
   "metadata": {},
   "outputs": [
    {
     "data": {
      "text/plain": [
       "Text(0, 0.5, 'Computational Time')"
      ]
     },
     "execution_count": 37,
     "metadata": {},
     "output_type": "execute_result"
    },
    {
     "data": {
      "image/png": "[encoded data removed]",
      "text/plain": [
       "<Figure size 720x648 with 1 Axes>"
      ]
     },
     "metadata": {
      "needs_background": "light"
     },
     "output_type": "display_data"
    }
   ],
   "source": [
    "fig, axs = plt.subplots(1, 1, figsize=(10, 9))\n",
    "endpoint = 'Computational Time vs. Best Loss Achieved'\n",
    "ax = axs\n",
    "plot_data = combined #.loc[combined['Method'] != 'Grid Search']\n",
    "sns.scatterplot(x=\"Best Loss\", y=\"Computational Time\",\n",
    "                hue=\"Method\", style=\"Circuit\",\n",
    "                sizes=(1, 8), linewidth=0,\n",
    "                data=plot_data, ax=ax)\n",
    "\n",
    "ax.legend()\n",
    "ax.set_title(f'{endpoint}', fontsize=14)\n",
    "ax.set_xlabel('Best Loss', fontsize=12)\n",
    "ax.set_ylabel('Computational Time, minutes', fontsize=12)"
   ]
  },
  {
   "cell_type": "code",
   "execution_count": null,
   "metadata": {},
   "outputs": [],
   "source": []
  }
 ],
 "metadata": {
  "kernelspec": {
   "display_name": "Python 3.9.7 ('sundials')",
   "language": "python",
   "name": "python3"
  },
  "language_info": {
   "codemirror_mode": {
    "name": "ipython",
    "version": 3
   },
   "file_extension": ".py",
   "mimetype": "text/x-python",
   "name": "python",
   "nbconvert_exporter": "python",
   "pygments_lexer": "ipython3",
   "version": "3.9.7"
  },
  "orig_nbformat": 4,
  "vscode": {
   "interpreter": {
    "hash": "07c32881fdddda18fc4efdca8ccb6859d747bae1937efa0776c98adbd36477b4"
   }
  }
 },
 "nbformat": 4,
 "nbformat_minor": 2
}
