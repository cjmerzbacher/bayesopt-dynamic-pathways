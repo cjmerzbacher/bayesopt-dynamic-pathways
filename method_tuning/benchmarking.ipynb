{
 "cells": [
  {
   "cell_type": "code",
   "execution_count": 1,
   "metadata": {},
   "outputs": [],
   "source": [
    "###Required packages\n",
    "import numpy as np\n",
    "from hyperopt import hp, fmin, tpe\n",
    "from scikits.odes.ode import ode\n",
    "import matplotlib.pyplot as plt\n",
    "import pandas as pd\n",
    "import seaborn as sns\n",
    "import matplotlib.gridspec as gridspec\n",
    "from pyomo.environ import *\n",
    "import time\n",
    "import random\n",
    "from geneticalgorithm import geneticalgorithm as ga\n"
   ]
  },
  {
   "cell_type": "markdown",
   "metadata": {},
   "source": [
    "## MINLP Solver"
   ]
  },
  {
   "cell_type": "code",
   "execution_count": 46,
   "metadata": {},
   "outputs": [
    {
     "name": "stdout",
     "output_type": "stream",
     "text": [
      "Welcome to the CBC MILP Solver \n",
      "Version: 2.9.0 \n",
      "Build Date: Feb 12 2015 \n",
      "\n",
      "command line - /Users/charlotte/opt/anaconda3/envs/sundials/lib/python3.9/site-packages/pulp/apis/../solverdir/cbc/osx/64/cbc /var/folders/fz/1kd077v55dz4fd956zt4jrc40000gn/T/d2d768c9419c4e6bb784fd9608ba3848-pulp.mps max branch printingOptions all solution /var/folders/fz/1kd077v55dz4fd956zt4jrc40000gn/T/d2d768c9419c4e6bb784fd9608ba3848-pulp.sol (default strategy 1)\n",
      "At line 2 NAME          MODEL\n",
      "At line 3 ROWS\n",
      "At line 9 COLUMNS\n",
      "At line 20 RHS\n",
      "At line 25 BOUNDS\n",
      "At line 26 ENDATA\n",
      "Problem MODEL has 4 rows, 2 columns and 8 elements\n",
      "Coin0008I MODEL read with 0 errors\n",
      "Presolve 0 (-4) rows, 0 (-2) columns and 0 (-8) elements\n",
      "Empty problem - 0 rows, 0 columns and 0 elements\n",
      "Optimal - objective value 16.818182\n",
      "After Postsolve, objective 16.818182, infeasibilities - dual 0 (0), primal 0 (0)\n",
      "Optimal objective 16.81818182 - 0 iterations time 0.002, Presolve 0.00\n",
      "Option for printingOptions changed from normal to all\n",
      "Total time (CPU seconds):       0.00   (Wallclock seconds):       0.01\n",
      "\n",
      "status: 1, Optimal\n",
      "objective: 16.8181817\n",
      "x: 7.7272727\n",
      "y: 4.5454545\n",
      "red_constraint: -9.99999993922529e-08\n",
      "blue_constraint: 18.181818300000003\n",
      "yellow_constraint: 3.3636362999999996\n",
      "green_constraint: -2.0000000233721948e-07\n"
     ]
    }
   ],
   "source": [
    "### Simple linear programming sample\n",
    "# Create the model\n",
    "model = LpProblem(name=\"small-problem\", sense=LpMaximize)\n",
    "\n",
    "# Initialize the decision variables\n",
    "x = LpVariable(name=\"x\", lowBound=0)\n",
    "y = LpVariable(name=\"y\", lowBound=0)\n",
    "\n",
    "# Add the constraints to the model\n",
    "model += (2 * x + y <= 20, \"red_constraint\")\n",
    "model += (4 * x - 5 * y >= -10, \"blue_constraint\")\n",
    "model += (-x + 2 * y >= -2, \"yellow_constraint\")\n",
    "model += (-x + 5 * y == 15, \"green_constraint\")\n",
    "\n",
    "# Add the objective function to the model\n",
    "obj_func = x + 2 * y\n",
    "model += obj_func\n",
    "\n",
    "# Solve the problem\n",
    "LpSolverDefault.msg = 1\n",
    "status = model.solve()\n",
    "\n",
    "print(f\"status: {model.status}, {LpStatus[model.status]}\")\n",
    "print(f\"objective: {model.objective.value()}\")\n",
    "\n",
    "for var in model.variables():\n",
    "    print(f\"{var.name}: {var.value()}\")\n",
    "\n",
    "for name, constraint in model.constraints.items():\n",
    "    print(f\"{name}: {constraint.value()}\")"
   ]
  },
  {
   "cell_type": "code",
   "execution_count": 2,
   "metadata": {},
   "outputs": [],
   "source": [
    "def toy_model(t, y, ydot, params):\n",
    "    kc=12.; km=10.; lam=1.93E-4; Vin=1.; e0=0.0467\n",
    "    T = 1; E = 2; X = 2\n",
    "    A, W = params\n",
    "    ydot[0] = Vin - lam*y[0] - e0*nonlinearity(y[0], kc, km) - y[2]*nonlinearity(y[0], kc, km)\n",
    "    ydot[1] = y[2]*nonlinearity(y[0], kc, km) - y[3]*nonlinearity(y[1], kc, km) - lam*y[1]\n",
    "    for e in range(E):\n",
    "        ydot[e+X] = -lam*y[e+X] + np.sum(A[e]*np.array([activation(y[T], W[e][2], W[e][1], W[e][0]), repression(y[T], W[e][2], W[e][1], W[e][0]), W[e][2]]))\n",
    "    ydot[E+X] = (Vin - y[X+1]*nonlinearity(y[X-1], kc, km))**2 #J1\n",
    "    ydot[E+X+1] = np.sum([np.sum(A[e]*np.array([activation(y[T], W[e][2], W[e][1], W[e][0]), repression(y[T], W[e][2], W[e][1], W[e][0]), W[e][2]])) for e in range(E)]) #J2\n",
    "\n",
    "def arch_converter(A):\n",
    "    if A == 1:\n",
    "        return ((0, 1, 0), (1, 0, 0))\n",
    "\n",
    "    elif A == 2:\n",
    "        return ((0, 0, 1), (0, 0, 1))\n",
    "\n",
    "    elif A == 3:\n",
    "        return ((0, 0, 1), (1, 0, 0))\n",
    "\n",
    "    elif A == 4:\n",
    "        return ((0, 1, 0), (0, 0, 1))\n",
    "    else: return 'Invalid Circuit'\n",
    "\n",
    "def name_converter(A):\n",
    "    if A == ((0, 1, 0), (1, 0, 0)):\n",
    "        return 'Dual Control'\n",
    "\n",
    "    elif A == ((0, 0, 1), (0, 0, 1)):\n",
    "        return 'No Control'\n",
    "\n",
    "    elif A == ((0, 0, 1), (1, 0, 0)):\n",
    "        return 'Downstream Activation'\n",
    "\n",
    "    elif A == ((0, 1, 0), (0, 0, 1)):\n",
    "        return 'Upstream Repression'\n",
    "    else: return 'Invalid Circuit'\n",
    "\n",
    "def loss_biological(j1, j2, alpha1=1E-5, alpha2=1E-2):\n",
    "        \"\"\"Computes scalarized loss including genetic constraint and product production\"\"\"\n",
    "        loss = alpha1*j1 + alpha2*j2\n",
    "        return j1, j2, loss\n",
    "\n",
    "def activation(x, k, theta, n):\n",
    "    return (k*(x/theta)**n)/(1+(x/theta)**n)\n",
    "\n",
    "def repression(x, k, theta, n):\n",
    "    return k/(1+(x/theta)**n)\n",
    "    \n",
    "def nonlinearity(x, kc, km):\n",
    "    return (kc*x)/(km+x)"
   ]
  },
  {
   "cell_type": "code",
   "execution_count": 10,
   "metadata": {},
   "outputs": [
    {
     "name": "stdout",
     "output_type": "stream",
     "text": [
      "Welcome to the CBC MILP Solver \n",
      "Version: 2.10.3 \n",
      "Build Date: Dec 15 2019 \n",
      "\n",
      "command line - /Users/charlotte/opt/anaconda3/envs/sundials/lib/python3.9/site-packages/pulp/apis/../solverdir/cbc/osx/64/cbc /var/folders/fz/1kd077v55dz4fd956zt4jrc40000gn/T/7e0b90fdc91e48c8a121b63d0ec38b37-pulp.mps mips /var/folders/fz/1kd077v55dz4fd956zt4jrc40000gn/T/7e0b90fdc91e48c8a121b63d0ec38b37-pulp.mst timeMode elapsed branch printingOptions all solution /var/folders/fz/1kd077v55dz4fd956zt4jrc40000gn/T/7e0b90fdc91e48c8a121b63d0ec38b37-pulp.sol (default strategy 1)\n",
      "At line 2 NAME          MODEL\n",
      "At line 3 ROWS\n",
      "At line 5 COLUMNS\n",
      "At line 9 RHS\n",
      "At line 10 BOUNDS\n",
      "No match for column X0000000 at line 11 <  UP BND       X0000000   4.000000000000e+00 >\n",
      "No match for column X0000002 at line 13 <  LO BND       X0000002   1.000000000000e-07 >\n",
      "No match for column X0000002 at line 14 <  UP BND       X0000002   1.000000000000e-03 >\n",
      "No match for column X0000003 at line 15 <  LO BND       X0000003   1.000000000000e-07 >\n",
      "No match for column X0000003 at line 16 <  UP BND       X0000003   1.000000000000e-03 >\n",
      "No match for column X0000004 at line 17 <  LO BND       X0000004   1.000000000000e-03 >\n",
      "No match for column X0000004 at line 18 <  UP BND       X0000004   1.000000000000e+01 >\n",
      "No match for column X0000005 at line 19 <  LO BND       X0000005   1.000000000000e-03 >\n",
      "No match for column X0000005 at line 20 <  UP BND       X0000005   1.000000000000e+01 >\n",
      "At line 21 ENDATA\n",
      "Problem MODEL has 0 rows, 1 columns and 0 elements\n",
      "Coin0008I MODEL read with 9 errors\n",
      "There were 9 errors on input\n",
      "** Current model not valid\n",
      "No match for /var/folders/fz/1kd077v55dz4fd956zt4jrc40000gn/T/7e0b90fdc91e48c8a121b63d0ec38b37-pulp.mst - ? for list of commands\n",
      "Option for timeMode changed from cpu to elapsed\n",
      "** Current model not valid\n",
      "Option for printingOptions changed from normal to all\n",
      "** Current model not valid\n",
      "No match for /var/folders/fz/1kd077v55dz4fd956zt4jrc40000gn/T/7e0b90fdc91e48c8a121b63d0ec38b37-pulp.sol - ? for list of commands\n",
      "Total time (CPU seconds):       0.00   (Wallclock seconds):       0.00\n",
      "\n"
     ]
    },
    {
     "ename": "PulpSolverError",
     "evalue": "Pulp: Error while executing /Users/charlotte/opt/anaconda3/envs/sundials/lib/python3.9/site-packages/pulp/apis/../solverdir/cbc/osx/64/cbc",
     "output_type": "error",
     "traceback": [
      "\u001b[0;31m---------------------------------------------------------------------------\u001b[0m",
      "\u001b[0;31mPulpSolverError\u001b[0m                           Traceback (most recent call last)",
      "\u001b[1;32m/Users/charlotte/Library/Mobile Documents/com~apple~CloudDocs/Documents/PhD/MSc Thesis/bayesopt-dynamic-pathways/method_tuning/benchmarking.ipynb Cell 5\u001b[0m in \u001b[0;36m<cell line: 43>\u001b[0;34m()\u001b[0m\n\u001b[1;32m     <a href='vscode-notebook-cell:/Users/charlotte/Library/Mobile%20Documents/com~apple~CloudDocs/Documents/PhD/MSc%20Thesis/bayesopt-dynamic-pathways/method_tuning/benchmarking.ipynb#W4sZmlsZQ%3D%3D?line=40'>41</a>\u001b[0m \u001b[39m# Solve the problem\u001b[39;00m\n\u001b[1;32m     <a href='vscode-notebook-cell:/Users/charlotte/Library/Mobile%20Documents/com~apple~CloudDocs/Documents/PhD/MSc%20Thesis/bayesopt-dynamic-pathways/method_tuning/benchmarking.ipynb#W4sZmlsZQ%3D%3D?line=41'>42</a>\u001b[0m solver \u001b[39m=\u001b[39m pl\u001b[39m.\u001b[39mPULP_CBC_CMD(msg\u001b[39m=\u001b[39m\u001b[39mTrue\u001b[39;00m, warmStart\u001b[39m=\u001b[39m\u001b[39mTrue\u001b[39;00m)\n\u001b[0;32m---> <a href='vscode-notebook-cell:/Users/charlotte/Library/Mobile%20Documents/com~apple~CloudDocs/Documents/PhD/MSc%20Thesis/bayesopt-dynamic-pathways/method_tuning/benchmarking.ipynb#W4sZmlsZQ%3D%3D?line=42'>43</a>\u001b[0m status \u001b[39m=\u001b[39m model\u001b[39m.\u001b[39;49msolve(solver)\n\u001b[1;32m     <a href='vscode-notebook-cell:/Users/charlotte/Library/Mobile%20Documents/com~apple~CloudDocs/Documents/PhD/MSc%20Thesis/bayesopt-dynamic-pathways/method_tuning/benchmarking.ipynb#W4sZmlsZQ%3D%3D?line=44'>45</a>\u001b[0m \u001b[39mprint\u001b[39m(\u001b[39mf\u001b[39m\u001b[39m\"\u001b[39m\u001b[39mstatus: \u001b[39m\u001b[39m{\u001b[39;00mmodel\u001b[39m.\u001b[39mstatus\u001b[39m}\u001b[39;00m\u001b[39m, \u001b[39m\u001b[39m{\u001b[39;00mpl\u001b[39m.\u001b[39mLpStatus[model\u001b[39m.\u001b[39mstatus]\u001b[39m}\u001b[39;00m\u001b[39m\"\u001b[39m)\n\u001b[1;32m     <a href='vscode-notebook-cell:/Users/charlotte/Library/Mobile%20Documents/com~apple~CloudDocs/Documents/PhD/MSc%20Thesis/bayesopt-dynamic-pathways/method_tuning/benchmarking.ipynb#W4sZmlsZQ%3D%3D?line=45'>46</a>\u001b[0m \u001b[39mprint\u001b[39m(\u001b[39mf\u001b[39m\u001b[39m\"\u001b[39m\u001b[39mobjective: \u001b[39m\u001b[39m{\u001b[39;00mmodel\u001b[39m.\u001b[39mobjective\u001b[39m.\u001b[39mvalue()\u001b[39m}\u001b[39;00m\u001b[39m\"\u001b[39m)\n",
      "File \u001b[0;32m~/opt/anaconda3/envs/sundials/lib/python3.9/site-packages/pulp/pulp.py:1913\u001b[0m, in \u001b[0;36mLpProblem.solve\u001b[0;34m(self, solver, **kwargs)\u001b[0m\n\u001b[1;32m   1911\u001b[0m \u001b[39m# time it\u001b[39;00m\n\u001b[1;32m   1912\u001b[0m \u001b[39mself\u001b[39m\u001b[39m.\u001b[39mstartClock()\n\u001b[0;32m-> 1913\u001b[0m status \u001b[39m=\u001b[39m solver\u001b[39m.\u001b[39;49mactualSolve(\u001b[39mself\u001b[39;49m, \u001b[39m*\u001b[39;49m\u001b[39m*\u001b[39;49mkwargs)\n\u001b[1;32m   1914\u001b[0m \u001b[39mself\u001b[39m\u001b[39m.\u001b[39mstopClock()\n\u001b[1;32m   1915\u001b[0m \u001b[39mself\u001b[39m\u001b[39m.\u001b[39mrestoreObjective(wasNone, dummyVar)\n",
      "File \u001b[0;32m~/opt/anaconda3/envs/sundials/lib/python3.9/site-packages/pulp/apis/coin_api.py:137\u001b[0m, in \u001b[0;36mCOIN_CMD.actualSolve\u001b[0;34m(self, lp, **kwargs)\u001b[0m\n\u001b[1;32m    135\u001b[0m \u001b[39mdef\u001b[39;00m \u001b[39mactualSolve\u001b[39m(\u001b[39mself\u001b[39m, lp, \u001b[39m*\u001b[39m\u001b[39m*\u001b[39mkwargs):\n\u001b[1;32m    136\u001b[0m     \u001b[39m\"\"\"Solve a well formulated lp problem\"\"\"\u001b[39;00m\n\u001b[0;32m--> 137\u001b[0m     \u001b[39mreturn\u001b[39;00m \u001b[39mself\u001b[39;49m\u001b[39m.\u001b[39;49msolve_CBC(lp, \u001b[39m*\u001b[39;49m\u001b[39m*\u001b[39;49mkwargs)\n",
      "File \u001b[0;32m~/opt/anaconda3/envs/sundials/lib/python3.9/site-packages/pulp/apis/coin_api.py:205\u001b[0m, in \u001b[0;36mCOIN_CMD.solve_CBC\u001b[0;34m(self, lp, use_mps)\u001b[0m\n\u001b[1;32m    203\u001b[0m     pipe\u001b[39m.\u001b[39mclose()\n\u001b[1;32m    204\u001b[0m \u001b[39mif\u001b[39;00m \u001b[39mnot\u001b[39;00m os\u001b[39m.\u001b[39mpath\u001b[39m.\u001b[39mexists(tmpSol):\n\u001b[0;32m--> 205\u001b[0m     \u001b[39mraise\u001b[39;00m PulpSolverError(\u001b[39m\"\u001b[39m\u001b[39mPulp: Error while executing \u001b[39m\u001b[39m\"\u001b[39m \u001b[39m+\u001b[39m \u001b[39mself\u001b[39m\u001b[39m.\u001b[39mpath)\n\u001b[1;32m    206\u001b[0m (\n\u001b[1;32m    207\u001b[0m     status,\n\u001b[1;32m    208\u001b[0m     values,\n\u001b[0;32m   (...)\u001b[0m\n\u001b[1;32m    212\u001b[0m     sol_status,\n\u001b[1;32m    213\u001b[0m ) \u001b[39m=\u001b[39m \u001b[39mself\u001b[39m\u001b[39m.\u001b[39mreadsol_MPS(tmpSol, lp, vs, variablesNames, constraintsNames)\n\u001b[1;32m    214\u001b[0m lp\u001b[39m.\u001b[39massignVarsVals(values)\n",
      "\u001b[0;31mPulpSolverError\u001b[0m: Pulp: Error while executing /Users/charlotte/opt/anaconda3/envs/sundials/lib/python3.9/site-packages/pulp/apis/../solverdir/cbc/osx/64/cbc"
     ]
    }
   ],
   "source": [
    "### Toy model sample\n",
    "# Create the model\n",
    "model = pl.LpProblem(name=\"toy-ode\", sense=pl.LpMinimize)\n",
    "\n",
    "# Initialize the decision variables\n",
    "A = pl.LpVariable(\"A\", lowBound=0, upBound=4, cat=\"Integer\")\n",
    "k1 = pl.LpVariable(\"k1\", lowBound=1E-7, upBound=1E-3, cat=\"Continuous\")\n",
    "k2 = pl.LpVariable(\"k2\", lowBound=1E-7, upBound=1E-3, cat=\"Continuous\")\n",
    "theta1 = pl.LpVariable(\"theta1\", lowBound=0.001, upBound=10, cat=\"Continuous\")\n",
    "theta2 = pl.LpVariable(\"theta2\", lowBound=0.001, upBound=10, cat=\"Continuous\")\n",
    "A.setInitialValue(1)\n",
    "k1.setInitialValue(1.E-5)\n",
    "k2.setInitialValue(1.E-5)\n",
    "theta1.setInitialValue(1.)\n",
    "theta2.setInitialValue(1.)\n",
    "\n",
    "model.addVariable(k1)\n",
    "model.addVariable(k2)\n",
    "model.addVariable(theta1)\n",
    "model.addVariable(theta2)\n",
    "model.addVariable(A)\n",
    "\n",
    "# Add the constraints to the model\n",
    "def ode_fun(A, k1, k2, theta1, theta2):\n",
    "    t = np.linspace(0, 5E4, 100) \n",
    "    y0 = np.array([2290., 0., 0., 0., 0., 0.])\n",
    "    architecture = arch_converter(A.value())\n",
    "    param_values = [[2., k1.value(), theta1.value()], [2., k2.value(), theta2.value()]]\n",
    "    extra_options = {'old_api': False, 'user_data': [architecture, param_values], 'rtol':1E-4}\n",
    "    ode_solver = ode('cvode', toy_model, **extra_options)\n",
    "    solution = ode_solver.solve(t, y0)\n",
    "    if solution.flag != 'StatusEnum.TOO_MUCH_WORK':\n",
    "        j1, j2 = solution.values.y[-1, -2:]\n",
    "        j1, j2, loss = loss_biological(j1, j2, alpha1=1E-5, alpha2=1E-2)\n",
    "        return loss\n",
    "    return 1.E7\n",
    "\n",
    "# Add the objective function to the model\n",
    "model += ode_fun(A, k1, k2, theta1, theta2)\n",
    "\n",
    "# Solve the problem\n",
    "solver = pl.PULP_CBC_CMD(msg=True, warmStart=True)\n",
    "status = model.solve(solver)\n",
    "\n",
    "print(f\"status: {model.status}, {pl.LpStatus[model.status]}\")\n",
    "print(f\"objective: {model.objective.value()}\")\n",
    "\n",
    "for var in model.variables():\n",
    "    print(f\"{var.name}: {var.value()}\")\n",
    "\n",
    "model"
   ]
  },
  {
   "cell_type": "code",
   "execution_count": 22,
   "metadata": {},
   "outputs": [
    {
     "ename": "AttributeError",
     "evalue": "'numpy.float64' object has no attribute 'value'",
     "output_type": "error",
     "traceback": [
      "\u001b[0;31m---------------------------------------------------------------------------\u001b[0m",
      "\u001b[0;31mAttributeError\u001b[0m                            Traceback (most recent call last)",
      "\u001b[1;32m/Users/charlotte/Library/Mobile Documents/com~apple~CloudDocs/Documents/PhD/MSc Thesis/bayesopt-dynamic-pathways/method_tuning/benchmarking.ipynb Cell 6\u001b[0m in \u001b[0;36m<cell line: 36>\u001b[0;34m()\u001b[0m\n\u001b[1;32m     <a href='vscode-notebook-cell:/Users/charlotte/Library/Mobile%20Documents/com~apple~CloudDocs/Documents/PhD/MSc%20Thesis/bayesopt-dynamic-pathways/method_tuning/benchmarking.ipynb#X23sZmlsZQ%3D%3D?line=32'>33</a>\u001b[0m     \u001b[39mreturn\u001b[39;00m \u001b[39m1.E7\u001b[39m\n\u001b[1;32m     <a href='vscode-notebook-cell:/Users/charlotte/Library/Mobile%20Documents/com~apple~CloudDocs/Documents/PhD/MSc%20Thesis/bayesopt-dynamic-pathways/method_tuning/benchmarking.ipynb#X23sZmlsZQ%3D%3D?line=34'>35</a>\u001b[0m init_values \u001b[39m=\u001b[39m [random\u001b[39m.\u001b[39mrandint(\u001b[39m1\u001b[39m, \u001b[39m4\u001b[39m), np\u001b[39m.\u001b[39mrandom\u001b[39m.\u001b[39muniform(\u001b[39m1E-7\u001b[39m, \u001b[39m1E-3\u001b[39m), np\u001b[39m.\u001b[39mrandom\u001b[39m.\u001b[39muniform(\u001b[39m1E-7\u001b[39m, \u001b[39m1E-3\u001b[39m), np\u001b[39m.\u001b[39mrandom\u001b[39m.\u001b[39muniform(\u001b[39m0.001\u001b[39m, \u001b[39m10.\u001b[39m), np\u001b[39m.\u001b[39mrandom\u001b[39m.\u001b[39muniform(\u001b[39m0.001\u001b[39m, \u001b[39m10.\u001b[39m)]\n\u001b[0;32m---> <a href='vscode-notebook-cell:/Users/charlotte/Library/Mobile%20Documents/com~apple~CloudDocs/Documents/PhD/MSc%20Thesis/bayesopt-dynamic-pathways/method_tuning/benchmarking.ipynb#X23sZmlsZQ%3D%3D?line=35'>36</a>\u001b[0m sol \u001b[39m=\u001b[39m minimize(ode_fun, init_values, bounds\u001b[39m=\u001b[39;49mbounds)\n\u001b[1;32m     <a href='vscode-notebook-cell:/Users/charlotte/Library/Mobile%20Documents/com~apple~CloudDocs/Documents/PhD/MSc%20Thesis/bayesopt-dynamic-pathways/method_tuning/benchmarking.ipynb#X23sZmlsZQ%3D%3D?line=36'>37</a>\u001b[0m sol\n",
      "File \u001b[0;32m~/opt/anaconda3/envs/sundials/lib/python3.9/site-packages/scipy/optimize/_minimize.py:699\u001b[0m, in \u001b[0;36mminimize\u001b[0;34m(fun, x0, args, method, jac, hess, hessp, bounds, constraints, tol, callback, options)\u001b[0m\n\u001b[1;32m    696\u001b[0m     res \u001b[39m=\u001b[39m _minimize_newtoncg(fun, x0, args, jac, hess, hessp, callback,\n\u001b[1;32m    697\u001b[0m                              \u001b[39m*\u001b[39m\u001b[39m*\u001b[39moptions)\n\u001b[1;32m    698\u001b[0m \u001b[39melif\u001b[39;00m meth \u001b[39m==\u001b[39m \u001b[39m'\u001b[39m\u001b[39ml-bfgs-b\u001b[39m\u001b[39m'\u001b[39m:\n\u001b[0;32m--> 699\u001b[0m     res \u001b[39m=\u001b[39m _minimize_lbfgsb(fun, x0, args, jac, bounds,\n\u001b[1;32m    700\u001b[0m                            callback\u001b[39m=\u001b[39;49mcallback, \u001b[39m*\u001b[39;49m\u001b[39m*\u001b[39;49moptions)\n\u001b[1;32m    701\u001b[0m \u001b[39melif\u001b[39;00m meth \u001b[39m==\u001b[39m \u001b[39m'\u001b[39m\u001b[39mtnc\u001b[39m\u001b[39m'\u001b[39m:\n\u001b[1;32m    702\u001b[0m     res \u001b[39m=\u001b[39m _minimize_tnc(fun, x0, args, jac, bounds, callback\u001b[39m=\u001b[39mcallback,\n\u001b[1;32m    703\u001b[0m                         \u001b[39m*\u001b[39m\u001b[39m*\u001b[39moptions)\n",
      "File \u001b[0;32m~/opt/anaconda3/envs/sundials/lib/python3.9/site-packages/scipy/optimize/_lbfgsb_py.py:308\u001b[0m, in \u001b[0;36m_minimize_lbfgsb\u001b[0;34m(fun, x0, args, jac, bounds, disp, maxcor, ftol, gtol, eps, maxfun, maxiter, iprint, callback, maxls, finite_diff_rel_step, **unknown_options)\u001b[0m\n\u001b[1;32m    305\u001b[0m     \u001b[39melse\u001b[39;00m:\n\u001b[1;32m    306\u001b[0m         iprint \u001b[39m=\u001b[39m disp\n\u001b[0;32m--> 308\u001b[0m sf \u001b[39m=\u001b[39m _prepare_scalar_function(fun, x0, jac\u001b[39m=\u001b[39;49mjac, args\u001b[39m=\u001b[39;49margs, epsilon\u001b[39m=\u001b[39;49meps,\n\u001b[1;32m    309\u001b[0m                               bounds\u001b[39m=\u001b[39;49mnew_bounds,\n\u001b[1;32m    310\u001b[0m                               finite_diff_rel_step\u001b[39m=\u001b[39;49mfinite_diff_rel_step)\n\u001b[1;32m    312\u001b[0m func_and_grad \u001b[39m=\u001b[39m sf\u001b[39m.\u001b[39mfun_and_grad\n\u001b[1;32m    314\u001b[0m fortran_int \u001b[39m=\u001b[39m _lbfgsb\u001b[39m.\u001b[39mtypes\u001b[39m.\u001b[39mintvar\u001b[39m.\u001b[39mdtype\n",
      "File \u001b[0;32m~/opt/anaconda3/envs/sundials/lib/python3.9/site-packages/scipy/optimize/_optimize.py:263\u001b[0m, in \u001b[0;36m_prepare_scalar_function\u001b[0;34m(fun, x0, jac, args, bounds, epsilon, finite_diff_rel_step, hess)\u001b[0m\n\u001b[1;32m    259\u001b[0m     bounds \u001b[39m=\u001b[39m (\u001b[39m-\u001b[39mnp\u001b[39m.\u001b[39minf, np\u001b[39m.\u001b[39minf)\n\u001b[1;32m    261\u001b[0m \u001b[39m# ScalarFunction caches. Reuse of fun(x) during grad\u001b[39;00m\n\u001b[1;32m    262\u001b[0m \u001b[39m# calculation reduces overall function evaluations.\u001b[39;00m\n\u001b[0;32m--> 263\u001b[0m sf \u001b[39m=\u001b[39m ScalarFunction(fun, x0, args, grad, hess,\n\u001b[1;32m    264\u001b[0m                     finite_diff_rel_step, bounds, epsilon\u001b[39m=\u001b[39;49mepsilon)\n\u001b[1;32m    266\u001b[0m \u001b[39mreturn\u001b[39;00m sf\n",
      "File \u001b[0;32m~/opt/anaconda3/envs/sundials/lib/python3.9/site-packages/scipy/optimize/_differentiable_functions.py:158\u001b[0m, in \u001b[0;36mScalarFunction.__init__\u001b[0;34m(self, fun, x0, args, grad, hess, finite_diff_rel_step, finite_diff_bounds, epsilon)\u001b[0m\n\u001b[1;32m    155\u001b[0m     \u001b[39mself\u001b[39m\u001b[39m.\u001b[39mf \u001b[39m=\u001b[39m fun_wrapped(\u001b[39mself\u001b[39m\u001b[39m.\u001b[39mx)\n\u001b[1;32m    157\u001b[0m \u001b[39mself\u001b[39m\u001b[39m.\u001b[39m_update_fun_impl \u001b[39m=\u001b[39m update_fun\n\u001b[0;32m--> 158\u001b[0m \u001b[39mself\u001b[39;49m\u001b[39m.\u001b[39;49m_update_fun()\n\u001b[1;32m    160\u001b[0m \u001b[39m# Gradient evaluation\u001b[39;00m\n\u001b[1;32m    161\u001b[0m \u001b[39mif\u001b[39;00m callable(grad):\n",
      "File \u001b[0;32m~/opt/anaconda3/envs/sundials/lib/python3.9/site-packages/scipy/optimize/_differentiable_functions.py:251\u001b[0m, in \u001b[0;36mScalarFunction._update_fun\u001b[0;34m(self)\u001b[0m\n\u001b[1;32m    249\u001b[0m \u001b[39mdef\u001b[39;00m \u001b[39m_update_fun\u001b[39m(\u001b[39mself\u001b[39m):\n\u001b[1;32m    250\u001b[0m     \u001b[39mif\u001b[39;00m \u001b[39mnot\u001b[39;00m \u001b[39mself\u001b[39m\u001b[39m.\u001b[39mf_updated:\n\u001b[0;32m--> 251\u001b[0m         \u001b[39mself\u001b[39;49m\u001b[39m.\u001b[39;49m_update_fun_impl()\n\u001b[1;32m    252\u001b[0m         \u001b[39mself\u001b[39m\u001b[39m.\u001b[39mf_updated \u001b[39m=\u001b[39m \u001b[39mTrue\u001b[39;00m\n",
      "File \u001b[0;32m~/opt/anaconda3/envs/sundials/lib/python3.9/site-packages/scipy/optimize/_differentiable_functions.py:155\u001b[0m, in \u001b[0;36mScalarFunction.__init__.<locals>.update_fun\u001b[0;34m()\u001b[0m\n\u001b[1;32m    154\u001b[0m \u001b[39mdef\u001b[39;00m \u001b[39mupdate_fun\u001b[39m():\n\u001b[0;32m--> 155\u001b[0m     \u001b[39mself\u001b[39m\u001b[39m.\u001b[39mf \u001b[39m=\u001b[39m fun_wrapped(\u001b[39mself\u001b[39;49m\u001b[39m.\u001b[39;49mx)\n",
      "File \u001b[0;32m~/opt/anaconda3/envs/sundials/lib/python3.9/site-packages/scipy/optimize/_differentiable_functions.py:137\u001b[0m, in \u001b[0;36mScalarFunction.__init__.<locals>.fun_wrapped\u001b[0;34m(x)\u001b[0m\n\u001b[1;32m    133\u001b[0m \u001b[39mself\u001b[39m\u001b[39m.\u001b[39mnfev \u001b[39m+\u001b[39m\u001b[39m=\u001b[39m \u001b[39m1\u001b[39m\n\u001b[1;32m    134\u001b[0m \u001b[39m# Send a copy because the user may overwrite it.\u001b[39;00m\n\u001b[1;32m    135\u001b[0m \u001b[39m# Overwriting results in undefined behaviour because\u001b[39;00m\n\u001b[1;32m    136\u001b[0m \u001b[39m# fun(self.x) will change self.x, with the two no longer linked.\u001b[39;00m\n\u001b[0;32m--> 137\u001b[0m fx \u001b[39m=\u001b[39m fun(np\u001b[39m.\u001b[39;49mcopy(x), \u001b[39m*\u001b[39;49margs)\n\u001b[1;32m    138\u001b[0m \u001b[39m# Make sure the function returns a true scalar\u001b[39;00m\n\u001b[1;32m    139\u001b[0m \u001b[39mif\u001b[39;00m \u001b[39mnot\u001b[39;00m np\u001b[39m.\u001b[39misscalar(fx):\n",
      "\u001b[1;32m/Users/charlotte/Library/Mobile Documents/com~apple~CloudDocs/Documents/PhD/MSc Thesis/bayesopt-dynamic-pathways/method_tuning/benchmarking.ipynb Cell 6\u001b[0m in \u001b[0;36mode_fun\u001b[0;34m(x)\u001b[0m\n\u001b[1;32m     <a href='vscode-notebook-cell:/Users/charlotte/Library/Mobile%20Documents/com~apple~CloudDocs/Documents/PhD/MSc%20Thesis/bayesopt-dynamic-pathways/method_tuning/benchmarking.ipynb#X23sZmlsZQ%3D%3D?line=21'>22</a>\u001b[0m t \u001b[39m=\u001b[39m np\u001b[39m.\u001b[39mlinspace(\u001b[39m0\u001b[39m, \u001b[39m5E4\u001b[39m, \u001b[39m100\u001b[39m) \n\u001b[1;32m     <a href='vscode-notebook-cell:/Users/charlotte/Library/Mobile%20Documents/com~apple~CloudDocs/Documents/PhD/MSc%20Thesis/bayesopt-dynamic-pathways/method_tuning/benchmarking.ipynb#X23sZmlsZQ%3D%3D?line=22'>23</a>\u001b[0m y0 \u001b[39m=\u001b[39m np\u001b[39m.\u001b[39marray([\u001b[39m2290.\u001b[39m, \u001b[39m0.\u001b[39m, \u001b[39m0.\u001b[39m, \u001b[39m0.\u001b[39m, \u001b[39m0.\u001b[39m, \u001b[39m0.\u001b[39m])\n\u001b[0;32m---> <a href='vscode-notebook-cell:/Users/charlotte/Library/Mobile%20Documents/com~apple~CloudDocs/Documents/PhD/MSc%20Thesis/bayesopt-dynamic-pathways/method_tuning/benchmarking.ipynb#X23sZmlsZQ%3D%3D?line=23'>24</a>\u001b[0m architecture \u001b[39m=\u001b[39m arch_converter(A)\n\u001b[1;32m     <a href='vscode-notebook-cell:/Users/charlotte/Library/Mobile%20Documents/com~apple~CloudDocs/Documents/PhD/MSc%20Thesis/bayesopt-dynamic-pathways/method_tuning/benchmarking.ipynb#X23sZmlsZQ%3D%3D?line=24'>25</a>\u001b[0m param_values \u001b[39m=\u001b[39m [[\u001b[39m2.\u001b[39m, k1, theta1], [\u001b[39m2.\u001b[39m, k2, theta2]]\n\u001b[1;32m     <a href='vscode-notebook-cell:/Users/charlotte/Library/Mobile%20Documents/com~apple~CloudDocs/Documents/PhD/MSc%20Thesis/bayesopt-dynamic-pathways/method_tuning/benchmarking.ipynb#X23sZmlsZQ%3D%3D?line=25'>26</a>\u001b[0m extra_options \u001b[39m=\u001b[39m {\u001b[39m'\u001b[39m\u001b[39mold_api\u001b[39m\u001b[39m'\u001b[39m: \u001b[39mFalse\u001b[39;00m, \u001b[39m'\u001b[39m\u001b[39muser_data\u001b[39m\u001b[39m'\u001b[39m: [architecture, param_values], \u001b[39m'\u001b[39m\u001b[39mrtol\u001b[39m\u001b[39m'\u001b[39m:\u001b[39m1E-4\u001b[39m}\n",
      "\u001b[1;32m/Users/charlotte/Library/Mobile Documents/com~apple~CloudDocs/Documents/PhD/MSc Thesis/bayesopt-dynamic-pathways/method_tuning/benchmarking.ipynb Cell 6\u001b[0m in \u001b[0;36march_converter\u001b[0;34m(arch)\u001b[0m\n\u001b[1;32m      <a href='vscode-notebook-cell:/Users/charlotte/Library/Mobile%20Documents/com~apple~CloudDocs/Documents/PhD/MSc%20Thesis/bayesopt-dynamic-pathways/method_tuning/benchmarking.ipynb#X23sZmlsZQ%3D%3D?line=4'>5</a>\u001b[0m \u001b[39mdef\u001b[39;00m \u001b[39march_converter\u001b[39m(arch):\n\u001b[0;32m----> <a href='vscode-notebook-cell:/Users/charlotte/Library/Mobile%20Documents/com~apple~CloudDocs/Documents/PhD/MSc%20Thesis/bayesopt-dynamic-pathways/method_tuning/benchmarking.ipynb#X23sZmlsZQ%3D%3D?line=5'>6</a>\u001b[0m     A \u001b[39m=\u001b[39m arch\u001b[39m.\u001b[39;49mvalue\n\u001b[1;32m      <a href='vscode-notebook-cell:/Users/charlotte/Library/Mobile%20Documents/com~apple~CloudDocs/Documents/PhD/MSc%20Thesis/bayesopt-dynamic-pathways/method_tuning/benchmarking.ipynb#X23sZmlsZQ%3D%3D?line=6'>7</a>\u001b[0m     \u001b[39mif\u001b[39;00m A \u001b[39m<\u001b[39m \u001b[39m1\u001b[39m:\n\u001b[1;32m      <a href='vscode-notebook-cell:/Users/charlotte/Library/Mobile%20Documents/com~apple~CloudDocs/Documents/PhD/MSc%20Thesis/bayesopt-dynamic-pathways/method_tuning/benchmarking.ipynb#X23sZmlsZQ%3D%3D?line=7'>8</a>\u001b[0m         \u001b[39mreturn\u001b[39;00m ((\u001b[39m0\u001b[39m, \u001b[39m1\u001b[39m, \u001b[39m0\u001b[39m), (\u001b[39m1\u001b[39m, \u001b[39m0\u001b[39m, \u001b[39m0\u001b[39m))\n",
      "\u001b[0;31mAttributeError\u001b[0m: 'numpy.float64' object has no attribute 'value'"
     ]
    }
   ],
   "source": [
    "from scipy.optimize import Bounds, minimize\n",
    "\n",
    "bounds = Bounds([1, 1E-7, 1E-7, 0.001, 0.001], [4, 0.001, 0.001, 10., 10.])\n",
    "\n",
    "def arch_converter(A):\n",
    "    if A < 1:\n",
    "        return ((0, 1, 0), (1, 0, 0))\n",
    "\n",
    "    elif A < 2:\n",
    "        return ((0, 0, 1), (0, 0, 1))\n",
    "\n",
    "    elif A < 3:\n",
    "        return ((0, 0, 1), (1, 0, 0))\n",
    "\n",
    "    elif A <= 4:\n",
    "        return ((0, 1, 0), (0, 0, 1))\n",
    "    else: return 'Invalid Circuit'\n",
    "\n",
    "def ode_fun(x):\n",
    "    A, k1, k2, theta1, theta2 = x\n",
    "    t = np.linspace(0, 5E4, 100) \n",
    "    y0 = np.array([2290., 0., 0., 0., 0., 0.])\n",
    "    architecture = arch_converter(A)\n",
    "    param_values = [[2., k1, theta1], [2., k2, theta2]]\n",
    "    extra_options = {'old_api': False, 'user_data': [architecture, param_values], 'rtol':1E-4}\n",
    "    ode_solver = ode('cvode', toy_model, **extra_options)\n",
    "    solution = ode_solver.solve(t, y0)\n",
    "    if solution.flag != 'StatusEnum.TOO_MUCH_WORK':\n",
    "        j1, j2 = solution.values.y[-1, -2:]\n",
    "        j1, j2, loss = loss_biological(j1, j2, alpha1=1E-5, alpha2=1E-2)\n",
    "        return loss\n",
    "    return 1.E7\n",
    "\n",
    "init_values = [random.randint(1, 4), np.random.uniform(1E-7, 1E-3), np.random.uniform(1E-7, 1E-3), np.random.uniform(0.001, 10.), np.random.uniform(0.001, 10.)]\n",
    "sol = minimize(ode_fun, init_values, bounds=bounds)\n",
    "sol"
   ]
  },
  {
   "cell_type": "code",
   "execution_count": 32,
   "metadata": {},
   "outputs": [
    {
     "data": {
      "text/plain": [
       "            fun: 1.0002\n",
       "        message: 'Optimization terminated successfully. (HiGHS Status 7: Optimal)'\n",
       " mip_dual_bound: 1.0002\n",
       "        mip_gap: 0.0\n",
       " mip_node_count: 0\n",
       "         status: 0\n",
       "        success: True\n",
       "              x: array([1.   , 0.   , 0.   , 0.001, 0.001])"
      ]
     },
     "execution_count": 32,
     "metadata": {},
     "output_type": "execute_result"
    }
   ],
   "source": [
    "from scipy.optimize import milp, LinearConstraint\n",
    "\n",
    "c = np.array([0., 0., 0., 0., 0., ode(fun())])\n",
    "A = np.identity(6)\n",
    "constraints =  LinearConstraint(A, [1, 1E-7, 1E-7, 0.001, 0.001, -np.inf()], [4, 0.001, 0.001, 10., 10., np.inf()])\n",
    "integrality = np.array([1, 0, 0, 0, 0])\n",
    "\n",
    "res = milp(c=c, constraints=constraints, integrality=integrality)\n",
    "res"
   ]
  },
  {
   "cell_type": "code",
   "execution_count": 20,
   "metadata": {},
   "outputs": [
    {
     "name": "stderr",
     "output_type": "stream",
     "text": [
      "---------------------------------------------------------------------------------------------\n",
      "              Mixed-Integer Nonlinear Decomposition Toolbox in Pyomo (MindtPy)               \n",
      "---------------------------------------------------------------------------------------------\n",
      "For more information, please visit https://pyomo.readthedocs.io/en/stable/contributed_packages/mindtpy.html\n",
      "Original model has 2 constraints (2 nonlinear) and 0 disjunctions, with 2 variables, of which 1 are binary, 0 are integer, and 1 are continuous.\n",
      "rNLP is the initial strategy being used.\n",
      "\n",
      " ===============================================================================================\n",
      " Iteration | Subproblem Type | Objective Value | Primal Bound |   Dual Bound |   Gap   | Time(s)\n",
      "\n",
      "         -       Relaxed NLP                 1            inf              1      nan%      0.31\n",
      "         1              MILP                 1            inf              1      nan%      0.34\n",
      "NLP subproblem was locally infeasible.\n",
      "Solving feasibility problem\n",
      "         2              MILP                 1            inf              1      nan%      0.88\n",
      "*        2         Fixed NLP           2.43845        2.43845              1    58.99%      1.15\n",
      "         3              MILP           2.43845        2.43845        2.43845     0.00%      1.17\n",
      "MindtPy exiting on bound convergence. |Primal Bound: 2.4384471872707754 - Dual Bound: 2.43844718719117| <= (absolute tolerance 0.0001)  \n",
      "\n",
      " ===============================================================================================\n",
      " Primal integral          :    0.0000 \n",
      " Dual integral            :    1.2646 \n",
      " Primal-dual gap integral :    1.2646 \n"
     ]
    },
    {
     "data": {
      "text/plain": [
       "{'Problem': [{'Name': 'unknown', 'Lower bound': 2.43844718719117, 'Upper bound': 2.4384471872707754, 'Number of objectives': 1, 'Number of constraints': 2, 'Number of variables': 2, 'Number of binary variables': 1, 'Number of integer variables': 0, 'Number of continuous variables': 1, 'Number of nonzeros': None, 'Sense': 'minimize', 'Number of disjunctions': 0}], 'Solver': [{'Name': 'MindtPyOA', 'Status': 'ok', 'Message': None, 'User time': None, 'System time': None, 'Wallclock time': None, 'Termination condition': 'optimal', 'Termination message': None, 'Timing': Bunch(Call after main solve = 3.224999989015487e-05, Call after subproblem solve = 1.2374999869280146e-05, OA cut generation = 0.001118582999993123, feasibility subproblem = 0.2528556249999383, fixed subproblem = 0.5235396670000227, initialization = 0.31147999999996046, main = 0.07131970899990847, main loop = 0.8621800829999984, main_timer_start_time = 963.072631292, total = 1.1775374160000638), 'Iterations': 3, 'Num infeasible nlp subproblem': 1, 'Best solution found time': 1.1483899580000525, 'Primal integral': 0.0, 'Dual integral': 1.2646379372376317, 'Primal dual gap integral': 1.2646379372376317}]}"
      ]
     },
     "execution_count": 20,
     "metadata": {},
     "output_type": "execute_result"
    }
   ],
   "source": [
    "model = ConcreteModel()\n",
    "model.x = Var(bounds=(1.0,10.0),initialize=5.0)\n",
    "model.y = Var(within=Binary)\n",
    "model.c1 = Constraint(expr=(model.x-4.0)**2 - model.x <= 50.0*(1-model.y))\n",
    "model.c2 = Constraint(expr=model.x*log(model.x)+5.0 <= 50.0*(model.y))\n",
    "model.objective = Objective(expr=model.x, sense=minimize)\n",
    "SolverFactory('mindtpy').solve(model, mip_solver='glpk', nlp_solver='ipopt') \n",
    "\n",
    "# model.objective.display()\n",
    "# model.display()\n",
    "# model.pprint()"
   ]
  },
  {
   "cell_type": "code",
   "execution_count": 38,
   "metadata": {},
   "outputs": [
    {
     "name": "stdout",
     "output_type": "stream",
     "text": [
      "ERROR: Rule failed when generating expression for Objective objective with\n",
      "    index None: TypeError: 'ConcreteModel' object is not callable\n",
      "ERROR: Constructing component 'objective' from data=None failed: TypeError:\n",
      "    'ConcreteModel' object is not callable\n"
     ]
    },
    {
     "ename": "TypeError",
     "evalue": "'ConcreteModel' object is not callable",
     "output_type": "error",
     "traceback": [
      "\u001b[0;31m---------------------------------------------------------------------------\u001b[0m",
      "\u001b[0;31mTypeError\u001b[0m                                 Traceback (most recent call last)",
      "\u001b[1;32m/Users/charlotte/Library/Mobile Documents/com~apple~CloudDocs/Documents/PhD/MSc Thesis/bayesopt-dynamic-pathways/method_tuning/benchmarking.ipynb Cell 9\u001b[0m in \u001b[0;36m<cell line: 28>\u001b[0;34m()\u001b[0m\n\u001b[1;32m     <a href='vscode-notebook-cell:/Users/charlotte/Library/Mobile%20Documents/com~apple~CloudDocs/Documents/PhD/MSc%20Thesis/bayesopt-dynamic-pathways/method_tuning/benchmarking.ipynb#X33sZmlsZQ%3D%3D?line=24'>25</a>\u001b[0m model\u001b[39m.\u001b[39mc4 \u001b[39m=\u001b[39m Constraint(expr\u001b[39m=\u001b[39mmodel\u001b[39m.\u001b[39mtheta2 \u001b[39m<\u001b[39m\u001b[39m=\u001b[39m model\u001b[39m.\u001b[39mtheta2)\n\u001b[1;32m     <a href='vscode-notebook-cell:/Users/charlotte/Library/Mobile%20Documents/com~apple~CloudDocs/Documents/PhD/MSc%20Thesis/bayesopt-dynamic-pathways/method_tuning/benchmarking.ipynb#X33sZmlsZQ%3D%3D?line=25'>26</a>\u001b[0m model\u001b[39m.\u001b[39mc5 \u001b[39m=\u001b[39m Constraint(expr\u001b[39m=\u001b[39mmodel\u001b[39m.\u001b[39mA \u001b[39m==\u001b[39m model\u001b[39m.\u001b[39mA)\n\u001b[0;32m---> <a href='vscode-notebook-cell:/Users/charlotte/Library/Mobile%20Documents/com~apple~CloudDocs/Documents/PhD/MSc%20Thesis/bayesopt-dynamic-pathways/method_tuning/benchmarking.ipynb#X33sZmlsZQ%3D%3D?line=27'>28</a>\u001b[0m model\u001b[39m.\u001b[39mobjective \u001b[39m=\u001b[39m Objective(rule\u001b[39m=\u001b[39mode_fun(model\u001b[39m.\u001b[39mA, model\u001b[39m.\u001b[39mk1, model\u001b[39m.\u001b[39mk2, model\u001b[39m.\u001b[39mtheta1, model\u001b[39m.\u001b[39mtheta2), sense\u001b[39m=\u001b[39mminimize)\n\u001b[1;32m     <a href='vscode-notebook-cell:/Users/charlotte/Library/Mobile%20Documents/com~apple~CloudDocs/Documents/PhD/MSc%20Thesis/bayesopt-dynamic-pathways/method_tuning/benchmarking.ipynb#X33sZmlsZQ%3D%3D?line=28'>29</a>\u001b[0m SolverFactory(\u001b[39m'\u001b[39m\u001b[39mmindtpy\u001b[39m\u001b[39m'\u001b[39m)\u001b[39m.\u001b[39msolve(model, strategy\u001b[39m=\u001b[39m\u001b[39m'\u001b[39m\u001b[39mGOA\u001b[39m\u001b[39m'\u001b[39m, mip_solver\u001b[39m=\u001b[39m\u001b[39m'\u001b[39m\u001b[39mglpk\u001b[39m\u001b[39m'\u001b[39m, nlp_solver\u001b[39m=\u001b[39m\u001b[39m'\u001b[39m\u001b[39mipopt\u001b[39m\u001b[39m'\u001b[39m) \n\u001b[1;32m     <a href='vscode-notebook-cell:/Users/charlotte/Library/Mobile%20Documents/com~apple~CloudDocs/Documents/PhD/MSc%20Thesis/bayesopt-dynamic-pathways/method_tuning/benchmarking.ipynb#X33sZmlsZQ%3D%3D?line=30'>31</a>\u001b[0m model\u001b[39m.\u001b[39mobjective\u001b[39m.\u001b[39mdisplay()\n",
      "File \u001b[0;32m~/opt/anaconda3/envs/sundials/lib/python3.9/site-packages/pyomo/core/base/block.py:639\u001b[0m, in \u001b[0;36m_BlockData.__setattr__\u001b[0;34m(self, name, val)\u001b[0m\n\u001b[1;32m    634\u001b[0m \u001b[39mif\u001b[39;00m name \u001b[39mnot\u001b[39;00m \u001b[39min\u001b[39;00m \u001b[39mself\u001b[39m\u001b[39m.\u001b[39m\u001b[39m__dict__\u001b[39m:\n\u001b[1;32m    635\u001b[0m     \u001b[39mif\u001b[39;00m \u001b[39misinstance\u001b[39m(val, Component):\n\u001b[1;32m    636\u001b[0m         \u001b[39m#\u001b[39;00m\n\u001b[1;32m    637\u001b[0m         \u001b[39m# Pyomo components are added with the add_component method.\u001b[39;00m\n\u001b[1;32m    638\u001b[0m         \u001b[39m#\u001b[39;00m\n\u001b[0;32m--> 639\u001b[0m         \u001b[39mself\u001b[39;49m\u001b[39m.\u001b[39;49madd_component(name, val)\n\u001b[1;32m    640\u001b[0m     \u001b[39melse\u001b[39;00m:\n\u001b[1;32m    641\u001b[0m         \u001b[39m#\u001b[39;00m\n\u001b[1;32m    642\u001b[0m         \u001b[39m# Other Python objects are added with the standard __setattr__\u001b[39;00m\n\u001b[1;32m    643\u001b[0m         \u001b[39m# method.\u001b[39;00m\n\u001b[1;32m    644\u001b[0m         \u001b[39m#\u001b[39;00m\n\u001b[1;32m    645\u001b[0m         \u001b[39msuper\u001b[39m(_BlockData, \u001b[39mself\u001b[39m)\u001b[39m.\u001b[39m\u001b[39m__setattr__\u001b[39m(name, val)\n",
      "File \u001b[0;32m~/opt/anaconda3/envs/sundials/lib/python3.9/site-packages/pyomo/core/base/block.py:1186\u001b[0m, in \u001b[0;36m_BlockData.add_component\u001b[0;34m(self, name, val)\u001b[0m\n\u001b[1;32m   1182\u001b[0m     logger\u001b[39m.\u001b[39mdebug(\u001b[39m\"\u001b[39m\u001b[39mConstructing \u001b[39m\u001b[39m%s\u001b[39;00m\u001b[39m \u001b[39m\u001b[39m'\u001b[39m\u001b[39m%s\u001b[39;00m\u001b[39m'\u001b[39m\u001b[39m on \u001b[39m\u001b[39m%s\u001b[39;00m\u001b[39m from data=\u001b[39m\u001b[39m%s\u001b[39;00m\u001b[39m\"\u001b[39m,\n\u001b[1;32m   1183\u001b[0m                  val\u001b[39m.\u001b[39m\u001b[39m__class__\u001b[39m\u001b[39m.\u001b[39m\u001b[39m__name__\u001b[39m, name,\n\u001b[1;32m   1184\u001b[0m                  _blockName, \u001b[39mstr\u001b[39m(data))\n\u001b[1;32m   1185\u001b[0m \u001b[39mtry\u001b[39;00m:\n\u001b[0;32m-> 1186\u001b[0m     val\u001b[39m.\u001b[39;49mconstruct(data)\n\u001b[1;32m   1187\u001b[0m \u001b[39mexcept\u001b[39;00m:\n\u001b[1;32m   1188\u001b[0m     err \u001b[39m=\u001b[39m sys\u001b[39m.\u001b[39mexc_info()[\u001b[39m1\u001b[39m]\n",
      "File \u001b[0;32m~/opt/anaconda3/envs/sundials/lib/python3.9/site-packages/pyomo/core/base/objective.py:336\u001b[0m, in \u001b[0;36mObjective.construct\u001b[0;34m(self, data)\u001b[0m\n\u001b[1;32m    333\u001b[0m             ans \u001b[39m=\u001b[39m \u001b[39mself\u001b[39m\u001b[39m.\u001b[39m_setitem_when_not_present(\n\u001b[1;32m    334\u001b[0m                 index, rule(block, index))\n\u001b[1;32m    335\u001b[0m             \u001b[39mif\u001b[39;00m ans \u001b[39mis\u001b[39;00m \u001b[39mnot\u001b[39;00m \u001b[39mNone\u001b[39;00m:\n\u001b[0;32m--> 336\u001b[0m                 ans\u001b[39m.\u001b[39mset_sense(\u001b[39mself\u001b[39;49m\u001b[39m.\u001b[39;49m_init_sense(block, index))\n\u001b[1;32m    337\u001b[0m \u001b[39mexcept\u001b[39;00m \u001b[39mException\u001b[39;00m:\n\u001b[1;32m    338\u001b[0m     err \u001b[39m=\u001b[39m sys\u001b[39m.\u001b[39mexc_info()[\u001b[39m1\u001b[39m]\n",
      "File \u001b[0;32m~/opt/anaconda3/envs/sundials/lib/python3.9/site-packages/pyomo/core/base/initializer.py:282\u001b[0m, in \u001b[0;36mIndexedCallInitializer.__call__\u001b[0;34m(self, parent, idx)\u001b[0m\n\u001b[1;32m    280\u001b[0m     \u001b[39mreturn\u001b[39;00m \u001b[39mself\u001b[39m\u001b[39m.\u001b[39m_fcn(parent, \u001b[39m*\u001b[39midx)\n\u001b[1;32m    281\u001b[0m \u001b[39melse\u001b[39;00m:\n\u001b[0;32m--> 282\u001b[0m     \u001b[39mreturn\u001b[39;00m \u001b[39mself\u001b[39;49m\u001b[39m.\u001b[39;49m_fcn(parent, idx)\n",
      "File \u001b[0;32m~/opt/anaconda3/envs/sundials/lib/python3.9/site-packages/scipy/optimize/_minimize.py:694\u001b[0m, in \u001b[0;36mminimize\u001b[0;34m(fun, x0, args, method, jac, hess, hessp, bounds, constraints, tol, callback, options)\u001b[0m\n\u001b[1;32m    692\u001b[0m     res \u001b[39m=\u001b[39m _minimize_cg(fun, x0, args, jac, callback, \u001b[39m*\u001b[39m\u001b[39m*\u001b[39moptions)\n\u001b[1;32m    693\u001b[0m \u001b[39melif\u001b[39;00m meth \u001b[39m==\u001b[39m \u001b[39m'\u001b[39m\u001b[39mbfgs\u001b[39m\u001b[39m'\u001b[39m:\n\u001b[0;32m--> 694\u001b[0m     res \u001b[39m=\u001b[39m _minimize_bfgs(fun, x0, args, jac, callback, \u001b[39m*\u001b[39;49m\u001b[39m*\u001b[39;49moptions)\n\u001b[1;32m    695\u001b[0m \u001b[39melif\u001b[39;00m meth \u001b[39m==\u001b[39m \u001b[39m'\u001b[39m\u001b[39mnewton-cg\u001b[39m\u001b[39m'\u001b[39m:\n\u001b[1;32m    696\u001b[0m     res \u001b[39m=\u001b[39m _minimize_newtoncg(fun, x0, args, jac, hess, hessp, callback,\n\u001b[1;32m    697\u001b[0m                              \u001b[39m*\u001b[39m\u001b[39m*\u001b[39moptions)\n",
      "File \u001b[0;32m~/opt/anaconda3/envs/sundials/lib/python3.9/site-packages/scipy/optimize/_optimize.py:1283\u001b[0m, in \u001b[0;36m_minimize_bfgs\u001b[0;34m(fun, x0, args, jac, callback, gtol, norm, eps, maxiter, disp, return_all, finite_diff_rel_step, **unknown_options)\u001b[0m\n\u001b[1;32m   1280\u001b[0m \u001b[39mif\u001b[39;00m maxiter \u001b[39mis\u001b[39;00m \u001b[39mNone\u001b[39;00m:\n\u001b[1;32m   1281\u001b[0m     maxiter \u001b[39m=\u001b[39m \u001b[39mlen\u001b[39m(x0) \u001b[39m*\u001b[39m \u001b[39m200\u001b[39m\n\u001b[0;32m-> 1283\u001b[0m sf \u001b[39m=\u001b[39m _prepare_scalar_function(fun, x0, jac, args\u001b[39m=\u001b[39;49margs, epsilon\u001b[39m=\u001b[39;49meps,\n\u001b[1;32m   1284\u001b[0m                               finite_diff_rel_step\u001b[39m=\u001b[39;49mfinite_diff_rel_step)\n\u001b[1;32m   1286\u001b[0m f \u001b[39m=\u001b[39m sf\u001b[39m.\u001b[39mfun\n\u001b[1;32m   1287\u001b[0m myfprime \u001b[39m=\u001b[39m sf\u001b[39m.\u001b[39mgrad\n",
      "File \u001b[0;32m~/opt/anaconda3/envs/sundials/lib/python3.9/site-packages/scipy/optimize/_optimize.py:263\u001b[0m, in \u001b[0;36m_prepare_scalar_function\u001b[0;34m(fun, x0, jac, args, bounds, epsilon, finite_diff_rel_step, hess)\u001b[0m\n\u001b[1;32m    259\u001b[0m     bounds \u001b[39m=\u001b[39m (\u001b[39m-\u001b[39mnp\u001b[39m.\u001b[39minf, np\u001b[39m.\u001b[39minf)\n\u001b[1;32m    261\u001b[0m \u001b[39m# ScalarFunction caches. Reuse of fun(x) during grad\u001b[39;00m\n\u001b[1;32m    262\u001b[0m \u001b[39m# calculation reduces overall function evaluations.\u001b[39;00m\n\u001b[0;32m--> 263\u001b[0m sf \u001b[39m=\u001b[39m ScalarFunction(fun, x0, args, grad, hess,\n\u001b[1;32m    264\u001b[0m                     finite_diff_rel_step, bounds, epsilon\u001b[39m=\u001b[39;49mepsilon)\n\u001b[1;32m    266\u001b[0m \u001b[39mreturn\u001b[39;00m sf\n",
      "File \u001b[0;32m~/opt/anaconda3/envs/sundials/lib/python3.9/site-packages/scipy/optimize/_differentiable_functions.py:158\u001b[0m, in \u001b[0;36mScalarFunction.__init__\u001b[0;34m(self, fun, x0, args, grad, hess, finite_diff_rel_step, finite_diff_bounds, epsilon)\u001b[0m\n\u001b[1;32m    155\u001b[0m     \u001b[39mself\u001b[39m\u001b[39m.\u001b[39mf \u001b[39m=\u001b[39m fun_wrapped(\u001b[39mself\u001b[39m\u001b[39m.\u001b[39mx)\n\u001b[1;32m    157\u001b[0m \u001b[39mself\u001b[39m\u001b[39m.\u001b[39m_update_fun_impl \u001b[39m=\u001b[39m update_fun\n\u001b[0;32m--> 158\u001b[0m \u001b[39mself\u001b[39;49m\u001b[39m.\u001b[39;49m_update_fun()\n\u001b[1;32m    160\u001b[0m \u001b[39m# Gradient evaluation\u001b[39;00m\n\u001b[1;32m    161\u001b[0m \u001b[39mif\u001b[39;00m callable(grad):\n",
      "File \u001b[0;32m~/opt/anaconda3/envs/sundials/lib/python3.9/site-packages/scipy/optimize/_differentiable_functions.py:251\u001b[0m, in \u001b[0;36mScalarFunction._update_fun\u001b[0;34m(self)\u001b[0m\n\u001b[1;32m    249\u001b[0m \u001b[39mdef\u001b[39;00m \u001b[39m_update_fun\u001b[39m(\u001b[39mself\u001b[39m):\n\u001b[1;32m    250\u001b[0m     \u001b[39mif\u001b[39;00m \u001b[39mnot\u001b[39;00m \u001b[39mself\u001b[39m\u001b[39m.\u001b[39mf_updated:\n\u001b[0;32m--> 251\u001b[0m         \u001b[39mself\u001b[39;49m\u001b[39m.\u001b[39;49m_update_fun_impl()\n\u001b[1;32m    252\u001b[0m         \u001b[39mself\u001b[39m\u001b[39m.\u001b[39mf_updated \u001b[39m=\u001b[39m \u001b[39mTrue\u001b[39;00m\n",
      "File \u001b[0;32m~/opt/anaconda3/envs/sundials/lib/python3.9/site-packages/scipy/optimize/_differentiable_functions.py:155\u001b[0m, in \u001b[0;36mScalarFunction.__init__.<locals>.update_fun\u001b[0;34m()\u001b[0m\n\u001b[1;32m    154\u001b[0m \u001b[39mdef\u001b[39;00m \u001b[39mupdate_fun\u001b[39m():\n\u001b[0;32m--> 155\u001b[0m     \u001b[39mself\u001b[39m\u001b[39m.\u001b[39mf \u001b[39m=\u001b[39m fun_wrapped(\u001b[39mself\u001b[39;49m\u001b[39m.\u001b[39;49mx)\n",
      "File \u001b[0;32m~/opt/anaconda3/envs/sundials/lib/python3.9/site-packages/scipy/optimize/_differentiable_functions.py:137\u001b[0m, in \u001b[0;36mScalarFunction.__init__.<locals>.fun_wrapped\u001b[0;34m(x)\u001b[0m\n\u001b[1;32m    133\u001b[0m \u001b[39mself\u001b[39m\u001b[39m.\u001b[39mnfev \u001b[39m+\u001b[39m\u001b[39m=\u001b[39m \u001b[39m1\u001b[39m\n\u001b[1;32m    134\u001b[0m \u001b[39m# Send a copy because the user may overwrite it.\u001b[39;00m\n\u001b[1;32m    135\u001b[0m \u001b[39m# Overwriting results in undefined behaviour because\u001b[39;00m\n\u001b[1;32m    136\u001b[0m \u001b[39m# fun(self.x) will change self.x, with the two no longer linked.\u001b[39;00m\n\u001b[0;32m--> 137\u001b[0m fx \u001b[39m=\u001b[39m fun(np\u001b[39m.\u001b[39;49mcopy(x), \u001b[39m*\u001b[39;49margs)\n\u001b[1;32m    138\u001b[0m \u001b[39m# Make sure the function returns a true scalar\u001b[39;00m\n\u001b[1;32m    139\u001b[0m \u001b[39mif\u001b[39;00m \u001b[39mnot\u001b[39;00m np\u001b[39m.\u001b[39misscalar(fx):\n",
      "\u001b[0;31mTypeError\u001b[0m: 'ConcreteModel' object is not callable"
     ]
    }
   ],
   "source": [
    "model = ConcreteModel()\n",
    "model.k1 = Var(bounds=(1E-7,0.001),initialize=np.random.uniform(1E-7, 1E-3))\n",
    "model.k2 = Var(bounds=(1E-7,0.001),initialize=np.random.uniform(1E-7, 1E-3))\n",
    "model.theta1 = Var(bounds=(1E-3,10.),initialize=np.random.uniform(0.001, 10.))\n",
    "model.theta2 = Var(bounds=(1E-3,10.),initialize=np.random.uniform(0.001, 10.))\n",
    "model.A = Var(bounds=(1,4),domain=PositiveIntegers, initialize=random.randint(1, 4))\n",
    "\n",
    "def ode_fun(A, k1, k2, theta1, theta2):\n",
    "    t = np.linspace(0, 5E4, 100) \n",
    "    y0 = np.array([2290., 0., 0., 0., 0., 0.])\n",
    "    architecture = arch_converter(A.value)\n",
    "    param_values = [[2., k1.value, theta1.value], [2., k2.value, theta2.value]]\n",
    "    extra_options = {'old_api': False, 'user_data': [architecture, param_values], 'rtol':1E-4}\n",
    "    ode_solver = ode('cvode', toy_model, **extra_options)\n",
    "    solution = ode_solver.solve(t, y0)\n",
    "    if solution.flag != 'StatusEnum.TOO_MUCH_WORK':\n",
    "        j1, j2 = solution.values.y[-1, -2:]\n",
    "        j1, j2, loss = loss_biological(j1, j2, alpha1=1E-5, alpha2=1E-2)\n",
    "        return loss\n",
    "    return 1.E7\n",
    "\n",
    "model.c1 = Constraint(expr=model.k1 <= model.k1)\n",
    "model.c2 = Constraint(expr=model.k2 <= model.k2)\n",
    "model.c3 = Constraint(expr=model.theta1 <= model.theta1)\n",
    "model.c4 = Constraint(expr=model.theta2 <= model.theta2)\n",
    "model.c5 = Constraint(expr=model.A == model.A)\n",
    "\n",
    "model.objective = Objective(rule=ode_fun(model.A, model.k1, model.k2, model.theta1, model.theta2), sense=minimize)\n",
    "SolverFactory('mindtpy').solve(model, strategy='GOA', mip_solver='glpk', nlp_solver='ipopt') \n",
    "\n",
    "model.objective.display()\n",
    "# model.display()\n",
    "# model.k1.pprint()"
   ]
  },
  {
   "cell_type": "markdown",
   "metadata": {},
   "source": [
    "## Genetic Algorithm"
   ]
  },
  {
   "cell_type": "code",
   "execution_count": 33,
   "metadata": {},
   "outputs": [
    {
     "name": "stdout",
     "output_type": "stream",
     "text": [
      " The best solution found:                                                                           \n",
      " [0.50218658 1.         0.        ]\n",
      "\n",
      " Objective function:\n",
      " 1.5021865778480261\n"
     ]
    },
    {
     "data": {
      "image/png": "[encoded data removed]",
      "text/plain": [
       "<Figure size 432x288 with 1 Axes>"
      ]
     },
     "metadata": {
      "needs_background": "light"
     },
     "output_type": "display_data"
    }
   ],
   "source": [
    "from geneticalgorithm import geneticalgorithm as ga\n",
    "\n",
    "def f(X):\n",
    "    return np.sum(X)\n",
    "    \n",
    "varbound=np.array([[0.5,1.5],[1,100],[0,1]])\n",
    "vartype=np.array([['real'],['int'],['int']])\n",
    "model=ga(function=f,dimension=3,variable_type_mixed=vartype,variable_boundaries=varbound)\n",
    "\n",
    "model.run()"
   ]
  },
  {
   "cell_type": "code",
   "execution_count": 28,
   "metadata": {},
   "outputs": [
    {
     "name": "stdout",
     "output_type": "stream",
     "text": [
      "|||||||||||||||||_________________________________ 33.3% GA is running..."
     ]
    },
    {
     "name": "stderr",
     "output_type": "stream",
     "text": [
      "\n",
      "[CVODE ERROR]  CVode\n",
      "  At t = 410.899, mxstep steps taken before reaching tout.\n",
      "\n"
     ]
    },
    {
     "name": "stdout",
     "output_type": "stream",
     "text": [
      "|||||||||||||||||||||||||||||||||||||||||||||||||| 100.0% GA is running..."
     ]
    },
    {
     "name": "stderr",
     "output_type": "stream",
     "text": [
      "\n",
      "[CVODE ERROR]  CVode\n",
      "  At t = 169.82, mxstep steps taken before reaching tout.\n",
      "\n",
      "\n",
      "[CVODE ERROR]  CVode\n",
      "  At t = 332.379, mxstep steps taken before reaching tout.\n",
      "\n"
     ]
    },
    {
     "name": "stdout",
     "output_type": "stream",
     "text": [
      " The best solution found:                                                                           \n",
      " [2.00000000e+00 7.88726164e-04 9.62460508e-04 4.49906622e+00\n",
      " 1.98400034e+00]\n",
      "\n",
      " Objective function:\n",
      " -13666922693.613224\n"
     ]
    },
    {
     "data": {
      "image/png": "[encoded data removed]",
      "text/plain": [
       "<Figure size 432x288 with 1 Axes>"
      ]
     },
     "metadata": {
      "needs_background": "light"
     },
     "output_type": "display_data"
    }
   ],
   "source": [
    "def f(X):\n",
    "    A, k1, k2, theta1, theta2 = X\n",
    "    t = np.linspace(0, 5E4, 100) \n",
    "    y0 = np.array([2290., 0., 0., 0., 0., 0.])\n",
    "    architecture = arch_converter(A)\n",
    "    param_values = [[2., k1, theta1], [2., k2, theta2]]\n",
    "    extra_options = {'old_api': False, 'user_data': [architecture, param_values], 'rtol':1E-3}\n",
    "    ode_solver = ode('cvode', toy_model, **extra_options)\n",
    "    solution = ode_solver.solve(t, y0)\n",
    "    j1, j2 = solution.values.y[-1, -2:]\n",
    "    j1, j2, loss = loss_biological(j1, j2, alpha1=1E-5, alpha2=1E-2)\n",
    "    if (str(solution.flag) == 'StatusEnum.SUCCESS'): return loss\n",
    "    else: return 1.E7\n",
    "    \n",
    "varbound=np.array([[1,4],[1E-7,1E-3],[1E-7,1E-3], [1E-3, 10], [1E-3, 10]])\n",
    "vartype=np.array([['int'], ['real'],['real'],['real'],['real']])\n",
    "\n",
    "\n",
    "algorithm_param = {'max_num_iteration': 3,\\\n",
    "                   'population_size':100,\\\n",
    "                   'mutation_probability':0.1,\\\n",
    "                   'elit_ratio': 0.01,\\\n",
    "                   'crossover_probability': 0.5,\\\n",
    "                   'parents_portion': 0.3,\\\n",
    "                   'crossover_type':'uniform',\\\n",
    "                   'max_iteration_without_improv':None}\n",
    "\n",
    "model=ga(function=f,dimension=5,variable_type_mixed=vartype,variable_boundaries=varbound, algorithm_parameters=algorithm_param)\n",
    "\n",
    "model.run()\n",
    "\n",
    "results = model.output_dict\n"
   ]
  },
  {
   "cell_type": "code",
   "execution_count": 47,
   "metadata": {},
   "outputs": [
    {
     "data": {
      "text/plain": [
       "array([2.00000000e+00, 7.88726164e-04, 9.62460508e-04, 4.49906622e+00,\n",
       "       1.98400034e+00])"
      ]
     },
     "execution_count": 47,
     "metadata": {},
     "output_type": "execute_result"
    },
    {
     "data": {
      "image/png": "[encoded data removed]",
      "text/plain": [
       "<Figure size 432x288 with 1 Axes>"
      ]
     },
     "metadata": {
      "needs_background": "light"
     },
     "output_type": "display_data"
    }
   ],
   "source": [
    "def f(X):\n",
    "    A, k1, k2, theta1, theta2 = X\n",
    "    t = np.linspace(0, 5E4, 100) \n",
    "    y0 = np.array([2290., 0., 0., 0., 0., 0.])\n",
    "    architecture = arch_converter(A)\n",
    "    param_values = [[2., k1, theta1], [2., k2, theta2]]\n",
    "    extra_options = {'old_api': False, 'user_data': [architecture, param_values], 'rtol':1E-3}\n",
    "    ode_solver = ode('cvode', toy_model, **extra_options)\n",
    "    solution = ode_solver.solve(t, y0)\n",
    "    j1, j2 = solution.values.y[-1, -2:]\n",
    "    j1, j2, loss = loss_biological(j1, j2, alpha1=1E-5, alpha2=1E-2)\n",
    "    return solution\n",
    "\n",
    "sol = f(results['variable'])\n",
    "plt.plot(sol.values.y[:, 0])\n",
    "results['variable']"
   ]
  },
  {
   "cell_type": "markdown",
   "metadata": {},
   "source": [
    "## Random Sampling and Grid Search"
   ]
  },
  {
   "cell_type": "code",
   "execution_count": null,
   "metadata": {},
   "outputs": [],
   "source": []
  },
  {
   "cell_type": "code",
   "execution_count": 52,
   "metadata": {},
   "outputs": [
    {
     "name": "stdout",
     "output_type": "stream",
     "text": [
      "16.062073707580566\n",
      "159.23950099945068\n",
      "1682.9257419109344\n"
     ]
    }
   ],
   "source": [
    "### Random sampling experiments\n",
    "def solve_point(architecture, param_values):\n",
    "    t = np.linspace(0, 5E4, 100) \n",
    "    y0 = np.array([2290., 0., 0., 0., 0., 0.])\n",
    "    extra_options = {'old_api': False, 'user_data': [architecture, param_values]}\n",
    "    ode_solver = ode('cvode', toy_model, **extra_options)\n",
    "    solution = ode_solver.solve(t, y0)\n",
    "    j1, j2 = solution.values.y[-1, -2:]\n",
    "    j1, j2, loss = loss_biological(j1, j2, alpha1=1E-5, alpha2=1E-2)\n",
    "    return loss\n",
    "\n",
    "def gen_ics(N):\n",
    "    #Set random seed\n",
    "    np.random.seed(2022)\n",
    "    ics = []\n",
    "    for i in range(N):\n",
    "        k1 = random.uniform(1E-7,1E-3)\n",
    "        k2 = random.uniform(1E-7,1E-3)\n",
    "        theta1 = random.uniform(0.001,10)\n",
    "        theta2 = random.uniform(0.001,10)\n",
    "\n",
    "        init_conds = [[2.,theta1, k1], [2., theta2, k2]]\n",
    "        ics.append(init_conds)\n",
    "    return ics\n",
    "\n",
    "\n",
    "for num_samples in [100, 1000, 10000]:\n",
    "    overall_start_time = time.time()\n",
    "    ics = gen_ics(num_samples)\n",
    "    for A in [1, 2, 3, 4]:\n",
    "        start_time = time.time()\n",
    "        losses = []; k1_trace = []; k2_trace = []; n1_trace = []; n2_trace = []; theta1_trace = []; theta2_trace = []\n",
    "        for j in range(len(ics)):\n",
    "            init_conds = ics[j]\n",
    "            [[new_n1,new_theta1, new_k1], [new_n2, new_theta2, new_k2]] = init_conds\n",
    "            architecture = arch_converter(A)\n",
    "            func = name_converter(architecture)\n",
    "            loss = solve_point(architecture, init_conds)\n",
    "            losses.append(loss)\n",
    "            k1_trace.append(new_k1)\n",
    "            k2_trace.append(new_k2)\n",
    "            n1_trace.append(new_n1)\n",
    "            n2_trace.append(new_n2)\n",
    "            theta1_trace.append(new_theta1)\n",
    "            theta2_trace.append(new_theta2)\n",
    "        elapsed_time = time.time() - start_time\n",
    "        results = pd.DataFrame({'circuit': func, 'num_samples': num_samples,'loss':losses,'k1_trace':k1_trace,'k2_trace':k2_trace,'n1_trace':n1_trace,'n2_trace':n2_trace,'theta1_trace':theta1_trace, 'theta2_trace':theta2_trace, 'time': elapsed_time})\n",
    "        results.to_csv('random_sampling/'+func.lower().replace(' ', '_')+str(num_samples)+'.csv')\n",
    "    overall_elapsed = time.time() - overall_start_time\n",
    "    print(overall_elapsed)"
   ]
  },
  {
   "cell_type": "markdown",
   "metadata": {},
   "source": [
    "## Dataframe construction"
   ]
  },
  {
   "cell_type": "code",
   "execution_count": 65,
   "metadata": {},
   "outputs": [
    {
     "data": {
      "text/html": [
       "<div>\n",
       "<style scoped>\n",
       "    .dataframe tbody tr th:only-of-type {\n",
       "        vertical-align: middle;\n",
       "    }\n",
       "\n",
       "    .dataframe tbody tr th {\n",
       "        vertical-align: top;\n",
       "    }\n",
       "\n",
       "    .dataframe thead th {\n",
       "        text-align: right;\n",
       "    }\n",
       "</style>\n",
       "<table border=\"1\" class=\"dataframe\">\n",
       "  <thead>\n",
       "    <tr style=\"text-align: right;\">\n",
       "      <th></th>\n",
       "      <th>Method</th>\n",
       "      <th>Circuit</th>\n",
       "      <th>Computational Time</th>\n",
       "      <th>Best Loss</th>\n",
       "    </tr>\n",
       "  </thead>\n",
       "  <tbody>\n",
       "    <tr>\n",
       "      <th>0</th>\n",
       "      <td>100 Random</td>\n",
       "      <td>Downstream Activation</td>\n",
       "      <td>16.06</td>\n",
       "      <td>0.069727</td>\n",
       "    </tr>\n",
       "    <tr>\n",
       "      <th>0</th>\n",
       "      <td>1k Random</td>\n",
       "      <td>Downstream Activation</td>\n",
       "      <td>159.24</td>\n",
       "      <td>0.064796</td>\n",
       "    </tr>\n",
       "    <tr>\n",
       "      <th>0</th>\n",
       "      <td>10k Random</td>\n",
       "      <td>Downstream Activation</td>\n",
       "      <td>1682.93</td>\n",
       "      <td>0.062044</td>\n",
       "    </tr>\n",
       "    <tr>\n",
       "      <th>0</th>\n",
       "      <td>100 Random</td>\n",
       "      <td>Dual Control</td>\n",
       "      <td>16.06</td>\n",
       "      <td>0.071058</td>\n",
       "    </tr>\n",
       "    <tr>\n",
       "      <th>0</th>\n",
       "      <td>1k Random</td>\n",
       "      <td>Dual Control</td>\n",
       "      <td>159.24</td>\n",
       "      <td>0.064976</td>\n",
       "    </tr>\n",
       "    <tr>\n",
       "      <th>0</th>\n",
       "      <td>10k Random</td>\n",
       "      <td>Dual Control</td>\n",
       "      <td>1682.93</td>\n",
       "      <td>0.064236</td>\n",
       "    </tr>\n",
       "    <tr>\n",
       "      <th>0</th>\n",
       "      <td>100 Random</td>\n",
       "      <td>No Control</td>\n",
       "      <td>16.06</td>\n",
       "      <td>0.076973</td>\n",
       "    </tr>\n",
       "    <tr>\n",
       "      <th>0</th>\n",
       "      <td>1k Random</td>\n",
       "      <td>No Control</td>\n",
       "      <td>159.24</td>\n",
       "      <td>0.074628</td>\n",
       "    </tr>\n",
       "    <tr>\n",
       "      <th>0</th>\n",
       "      <td>10k Random</td>\n",
       "      <td>No Control</td>\n",
       "      <td>1682.93</td>\n",
       "      <td>0.063139</td>\n",
       "    </tr>\n",
       "    <tr>\n",
       "      <th>0</th>\n",
       "      <td>100 Random</td>\n",
       "      <td>Upstream Repression</td>\n",
       "      <td>16.06</td>\n",
       "      <td>0.121934</td>\n",
       "    </tr>\n",
       "    <tr>\n",
       "      <th>0</th>\n",
       "      <td>1k Random</td>\n",
       "      <td>Upstream Repression</td>\n",
       "      <td>159.24</td>\n",
       "      <td>0.070342</td>\n",
       "    </tr>\n",
       "    <tr>\n",
       "      <th>0</th>\n",
       "      <td>10k Random</td>\n",
       "      <td>Upstream Repression</td>\n",
       "      <td>1682.93</td>\n",
       "      <td>0.069973</td>\n",
       "    </tr>\n",
       "    <tr>\n",
       "      <th>0</th>\n",
       "      <td>Grid Search</td>\n",
       "      <td>Downstream Activation</td>\n",
       "      <td>375</td>\n",
       "      <td>0.090973</td>\n",
       "    </tr>\n",
       "    <tr>\n",
       "      <th>0</th>\n",
       "      <td>Grid Search</td>\n",
       "      <td>Dual Control</td>\n",
       "      <td>381</td>\n",
       "      <td>0.0656</td>\n",
       "    </tr>\n",
       "    <tr>\n",
       "      <th>0</th>\n",
       "      <td>Grid Search</td>\n",
       "      <td>Upstream Repression</td>\n",
       "      <td>395</td>\n",
       "      <td>0.109187</td>\n",
       "    </tr>\n",
       "    <tr>\n",
       "      <th>0</th>\n",
       "      <td>Grid Search</td>\n",
       "      <td>No Control</td>\n",
       "      <td>382</td>\n",
       "      <td>0.125776</td>\n",
       "    </tr>\n",
       "  </tbody>\n",
       "</table>\n",
       "</div>"
      ],
      "text/plain": [
       "        Method                Circuit Computational Time Best Loss\n",
       "0   100 Random  Downstream Activation              16.06  0.069727\n",
       "0    1k Random  Downstream Activation             159.24  0.064796\n",
       "0   10k Random  Downstream Activation            1682.93  0.062044\n",
       "0   100 Random           Dual Control              16.06  0.071058\n",
       "0    1k Random           Dual Control             159.24  0.064976\n",
       "0   10k Random           Dual Control            1682.93  0.064236\n",
       "0   100 Random             No Control              16.06  0.076973\n",
       "0    1k Random             No Control             159.24  0.074628\n",
       "0   10k Random             No Control            1682.93  0.063139\n",
       "0   100 Random    Upstream Repression              16.06  0.121934\n",
       "0    1k Random    Upstream Repression             159.24  0.070342\n",
       "0   10k Random    Upstream Repression            1682.93  0.069973\n",
       "0  Grid Search  Downstream Activation                375  0.090973\n",
       "0  Grid Search           Dual Control                381    0.0656\n",
       "0  Grid Search    Upstream Repression                395  0.109187\n",
       "0  Grid Search             No Control                382  0.125776"
      ]
     },
     "execution_count": 65,
     "metadata": {},
     "output_type": "execute_result"
    }
   ],
   "source": [
    "#Read in random sampling results\n",
    "da100 = pd.read_csv('random_sampling/downstream_activation100.csv')\n",
    "da1k = pd.read_csv('random_sampling/downstream_activation1000.csv')\n",
    "da10k = pd.read_csv('random_sampling/downstream_activation10000.csv')\n",
    "\n",
    "dc100 = pd.read_csv('random_sampling/dual_control100.csv')\n",
    "dc1k = pd.read_csv('random_sampling/dual_control1000.csv')\n",
    "dc10k = pd.read_csv('random_sampling/dual_control10000.csv')\n",
    "\n",
    "nc100 = pd.read_csv('random_sampling/no_control100.csv')\n",
    "nc1k = pd.read_csv('random_sampling/no_control1000.csv')\n",
    "nc10k = pd.read_csv('random_sampling/no_control10000.csv')\n",
    "\n",
    "ur100 = pd.read_csv('random_sampling/upstream_repression100.csv')\n",
    "ur1k = pd.read_csv('random_sampling/upstream_repression1000.csv')\n",
    "ur10k = pd.read_csv('random_sampling/upstream_repression10000.csv')\n",
    "\n",
    "#Read in grid search results\n",
    "grid_search_timings = pd.DataFrame({'circuit':['Downstream Activation', 'Dual Control','Upstream Repression', 'No Control'], 'time':[375, 381, 395, 382]})\n",
    "gs_losses = pd.read_csv('grid_search/grid_search_landscape_times.csv')\n",
    "\n",
    "#Combine all into best loss/computational time dataframe\n",
    "combined = pd.DataFrame(columns=['Method', 'Circuit', 'Computational Time', 'Best Loss'])\n",
    "\n",
    "rs_times = [16.06, 159.24, 1682.93]\n",
    "#Random sampling data processing\n",
    "for df in [da100, da1k, da10k, dc100, dc1k, dc10k, nc100, nc1k, nc10k, ur100, ur1k, ur10k]:\n",
    "    best_loss = df.loss.min()\n",
    "    time = df.time[0]\n",
    "    if str(df.num_samples[0]) == '100':\n",
    "        method = '100 Random'\n",
    "        time = rs_times[0]\n",
    "    elif str(df.num_samples[0]) == '1000':\n",
    "        method = '1k Random'\n",
    "        time = rs_times[1]\n",
    "    if str(df.num_samples[0]) == '10000':\n",
    "        method = '10k Random'\n",
    "        time = rs_times[2]\n",
    "    row = pd.DataFrame({'Method': [method], 'Circuit': [df.circuit[0]], 'Computational Time':[time], 'Best Loss':[best_loss]})\n",
    "    combined = pd.concat([combined, row])\n",
    "\n",
    "#Grid search data processing\n",
    "for c in ['Downstream Activation', 'Dual Control','Upstream Repression', 'No Control']:\n",
    "    df = gs_losses.loc[gs_losses.architecture == c]\n",
    "    best_loss = df.loss.min()\n",
    "    time = grid_search_timings.loc[grid_search_timings.circuit == c].reset_index(drop=True).iloc[0].time\n",
    "    method = 'Grid Search'\n",
    "\n",
    "    row = pd.DataFrame({'Method': [method], 'Circuit': [c], 'Computational Time':[time], 'Best Loss':[best_loss]})\n",
    "    combined = pd.concat([combined, row])\n",
    "\n",
    "combined"
   ]
  },
  {
   "cell_type": "code",
   "execution_count": 93,
   "metadata": {},
   "outputs": [],
   "source": [
    "#Read and parse BO results\n",
    "single_architecture = pd.read_csv('../toy_model/background.csv')\n",
    "single_architecture = single_architecture.loc[single_architecture['index']== 499][['Circuit', 'best_losses', 'k1', 'k2', 'theta1', 'theta2']].reset_index(drop=True).reset_index()\n",
    "multi_architecture = pd.read_csv('../toy_model/background_fourarchitectures.csv')\n",
    "multi_architecture = multi_architecture.loc[multi_architecture['index']== 499][['Circuit', 'best_losses', 'k1', 'k2', 'theta1', 'theta2']].reset_index(drop=True).reset_index()\n",
    "\n",
    "with open('bayesopt_timing_singlearch.txt') as f:\n",
    "    lines = f.readlines()\n",
    "total_times = []\n",
    "rates = []\n",
    "for l in lines:\n",
    "    if l[:3] == '100':\n",
    "        total_times.append(l.split('[')[1].split('<')[0])\n",
    "        rates.append(l.split('[')[1].split(', ')[1].split('t')[0])\n",
    "rates = [float(rates[i].split('s')[0]) for i in range(len(rates))]\n",
    "\n",
    "total_times_s = []\n",
    "for i in range(len(total_times)):\n",
    "    if len(total_times[i]) <= 5:\n",
    "        total_times_s.append(60*float(total_times[i].split(':')[0]) + float(total_times[i].split(':')[1]))\n",
    "    else: total_times_s.append(60*60*float(total_times[i].split(':')[0]) + 60*float(total_times[i].split(':')[1]) + float(total_times[i].split(':')[2]))\n",
    "\n",
    "single_parsed = pd.DataFrame({'Model':'Toy', 'Rates':rates, 'Computational Time': total_times_s}).reset_index()\n",
    "\n",
    "with open('bayesopt_timing_multiarch.txt') as f:\n",
    "    lines = f.readlines()\n",
    "total_times = []\n",
    "rates = []\n",
    "for l in lines:\n",
    "    if l[:3] == '100':\n",
    "        total_times.append(l.split('[')[1].split('<')[0])\n",
    "        rates.append(l.split('[')[1].split(', ')[1].split('t')[0])\n",
    "rates = [float(rates[i].split('s')[0]) for i in range(len(rates))]\n",
    "\n",
    "total_times_s = []\n",
    "for i in range(len(total_times)):\n",
    "    if len(total_times[i]) <= 5:\n",
    "        total_times_s.append(60*float(total_times[i].split(':')[0]) + float(total_times[i].split(':')[1]))\n",
    "    else: total_times_s.append(60*60*float(total_times[i].split(':')[0]) + 60*float(total_times[i].split(':')[1]) + float(total_times[i].split(':')[2]))\n",
    "\n",
    "multi_parsed = pd.DataFrame({'Model':'Toy', 'Rates':rates, 'Computational Time': total_times_s}).reset_index()\n",
    "\n",
    "bo_single = pd.merge(single_parsed, single_architecture, on='index')\n",
    "bo_multi = pd.merge(multi_parsed, multi_architecture, on='index')"
   ]
  },
  {
   "cell_type": "markdown",
   "metadata": {},
   "source": [
    "## Visualization"
   ]
  },
  {
   "cell_type": "code",
   "execution_count": 64,
   "metadata": {},
   "outputs": [
    {
     "data": {
      "text/plain": [
       "Text(0, 0.5, 'Computational Time, minutes')"
      ]
     },
     "execution_count": 64,
     "metadata": {},
     "output_type": "execute_result"
    },
    {
     "data": {
      "image/png": "[encoded data removed]",
      "text/plain": [
       "<Figure size 720x648 with 1 Axes>"
      ]
     },
     "metadata": {
      "needs_background": "light"
     },
     "output_type": "display_data"
    }
   ],
   "source": [
    "fig, axs = plt.subplots(1, 1, figsize=(10, 9))\n",
    "endpoint = 'Computational Time vs. Best Loss Achieved'\n",
    "ax = axs\n",
    "plot_data = combined #.loc[combined['Method'] != 'Grid Search']\n",
    "sns.scatterplot(x=\"Best Loss\", y=\"Computational Time\",\n",
    "                hue=\"Method\", style=\"Circuit\",\n",
    "                sizes=(1, 8), linewidth=0,\n",
    "                data=plot_data, ax=ax)\n",
    "\n",
    "ax.legend()\n",
    "ax.set_title(f'{endpoint}', fontsize=14)\n",
    "ax.set_xlabel('Best Loss', fontsize=12)\n",
    "ax.set_ylabel('Computational Time, minutes', fontsize=12)"
   ]
  },
  {
   "cell_type": "code",
   "execution_count": 177,
   "metadata": {},
   "outputs": [],
   "source": [
    "visualization_data = pd.DataFrame({'Method':[], 'Computational Time':[], 'Best Loss':[], 'Function Evaluations':[]})"
   ]
  },
  {
   "cell_type": "code",
   "execution_count": 178,
   "metadata": {},
   "outputs": [],
   "source": [
    "### NAIVE APPROACH\n",
    "#Read in random sampling results\n",
    "da100 = pd.read_csv('random_sampling/downstream_activation100.csv')\n",
    "da1k = pd.read_csv('random_sampling/downstream_activation1000.csv')\n",
    "da10k = pd.read_csv('random_sampling/downstream_activation10000.csv')\n",
    "\n",
    "dc100 = pd.read_csv('random_sampling/dual_control100.csv')\n",
    "dc1k = pd.read_csv('random_sampling/dual_control1000.csv')\n",
    "dc10k = pd.read_csv('random_sampling/dual_control10000.csv')\n",
    "\n",
    "nc100 = pd.read_csv('random_sampling/no_control100.csv')\n",
    "nc1k = pd.read_csv('random_sampling/no_control1000.csv')\n",
    "nc10k = pd.read_csv('random_sampling/no_control10000.csv')\n",
    "\n",
    "ur100 = pd.read_csv('random_sampling/upstream_repression100.csv')\n",
    "ur1k = pd.read_csv('random_sampling/upstream_repression1000.csv')\n",
    "ur10k = pd.read_csv('random_sampling/upstream_repression10000.csv')\n",
    "\n",
    "#Combine all into best loss/computational time dataframe\n",
    "combined = pd.DataFrame(columns=['Method', 'Circuit', 'Computational Time', 'Best Loss'])\n",
    "\n",
    "\n",
    "rs_times = [16.06, 159.24, 1682.93]\n",
    "#Random sampling data processing\n",
    "for df in [da100, da1k, da10k, dc100, dc1k, dc10k, nc100, nc1k, nc10k, ur100, ur1k, ur10k]:\n",
    "    best_loss = df.loss.min()\n",
    "    time = df.time[0]\n",
    "    if str(df.num_samples[0]) == '100':\n",
    "        method = '100 Random'\n",
    "        time = rs_times[0]\n",
    "    elif str(df.num_samples[0]) == '1000':\n",
    "        method = '1k Random'\n",
    "        time = rs_times[1]\n",
    "    if str(df.num_samples[0]) == '10000':\n",
    "        method = '10k Random'\n",
    "        time = rs_times[2]\n",
    "    row = pd.DataFrame({'Method': [method], 'Circuit': [df.circuit[0]], 'Computational Time':[time], 'Best Loss':[best_loss]})\n",
    "    combined = pd.concat([combined, row])\n",
    "    \n",
    "for m, num_iters in zip(['100 Random', '1k Random', '10k Random'], [100, 1000, 10000]):\n",
    "    m_df = combined.loc[combined.Method == m]\n",
    "    total_time = np.sum(m_df['Computational Time'])\n",
    "    best_loss = m_df['Best Loss'].min()\n",
    "    row = pd.DataFrame({'Method': ['Naive Approach'+' '+m], 'Computational Time': [total_time], 'Best Loss': [best_loss], 'Function Evaluations': [4*num_iters]})\n",
    "    visualization_data = pd.concat([visualization_data, row])"
   ]
  },
  {
   "cell_type": "code",
   "execution_count": 179,
   "metadata": {},
   "outputs": [],
   "source": [
    "###EXHAUSTIVE SEARCH\n",
    "#Read in grid search results\n",
    "grid_search_timings = pd.DataFrame({'circuit':['Downstream Activation', 'Dual Control','Upstream Repression', 'No Control'], 'time':[375, 381, 395, 382]})\n",
    "gs_losses = pd.read_csv('grid_search/grid_search_landscape_times.csv')\n",
    "\n",
    "#Combine all into best loss/computational time dataframe\n",
    "combined = pd.DataFrame(columns=['Method', 'Circuit', 'Computational Time', 'Best Loss'])\n",
    "\n",
    "losses = []; times = []\n",
    "#Grid search data processing\n",
    "for c in ['Downstream Activation', 'Dual Control','Upstream Repression', 'No Control']:\n",
    "    df = gs_losses.loc[gs_losses.architecture == c]\n",
    "    best_loss = df.loss.min()\n",
    "    time = grid_search_timings.loc[grid_search_timings.circuit == c].reset_index(drop=True).iloc[0].time\n",
    "    losses.append(best_loss)\n",
    "    times.append(time)\n",
    "\n",
    "row = pd.DataFrame({'Method': ['Exhaustive Search'], 'Computational Time': [np.sum(times)], 'Best Loss': [np.min(losses)], 'Function Evaluations': 40000})\n",
    "visualization_data = pd.concat([visualization_data, row])"
   ]
  },
  {
   "cell_type": "code",
   "execution_count": 180,
   "metadata": {},
   "outputs": [],
   "source": [
    "###GRADIENT-BASED METHOD\n",
    "#read in GB results\n",
    "gb_results = pd.read_csv('nlp_100_total.csv')\n",
    "row = pd.DataFrame({'Method': ['Gradient-Based'], 'Computational Time': [np.sum(gb_results['Computational Time'])], 'Best Loss': [np.min(gb_results['Best Loss'])], 'Function Evaluations': np.sum(gb_results['Function Evaluations'])})\n",
    "visualization_data = pd.concat([visualization_data, row])"
   ]
  },
  {
   "cell_type": "code",
   "execution_count": 181,
   "metadata": {},
   "outputs": [],
   "source": [
    "### GLOBAL OPTIMIZATION\n",
    "#Clean genetic algorithm data of runtimes etc\n",
    "filenames = ['ga_samplerun.txt', 'ga_samplerun2.txt', 'ga_samplerun3.txt']\n",
    "times = []\n",
    "losses = []\n",
    "for filename in filenames:\n",
    "    with open('ga_samplerun.txt') as f:\n",
    "        lines = f.readlines()\n",
    "\n",
    "    total_time = int(lines[3].split('m')[0])*60 + int(lines[3].split(' ')[1].split('s')[0])\n",
    "    times.append(total_time)\n",
    "\n",
    "    best_loss = float(lines[-2].split(' ')[1].split(',')[0])\n",
    "    losses.append(best_loss)\n",
    "row = pd.DataFrame({'Method': ['Global Optimization'], 'Computational Time': [np.mean(times)], 'Best Loss': [np.mean(losses)], 'Function Evaluations': [100000]})\n",
    "visualization_data = pd.concat([visualization_data, row])"
   ]
  },
  {
   "cell_type": "code",
   "execution_count": 182,
   "metadata": {},
   "outputs": [],
   "source": [
    "###BAYESIAN OPTIMIZATION\n",
    "#Read and parse BO results\n",
    "single_architecture = pd.read_csv('../toy_model/background.csv')\n",
    "single_architecture = single_architecture.loc[single_architecture['index']== 499][['Circuit', 'best_losses', 'k1', 'k2', 'theta1', 'theta2']].reset_index(drop=True).reset_index()\n",
    "multi_architecture = pd.read_csv('../toy_model/background_fourarchitectures.csv')\n",
    "multi_architecture = multi_architecture.loc[multi_architecture['index']== 499][['Circuit', 'best_losses', 'k1', 'k2', 'theta1', 'theta2']].reset_index(drop=True).reset_index()\n",
    "\n",
    "with open('bayesopt_timing_singlearch.txt') as f:\n",
    "    lines = f.readlines()\n",
    "total_times = []\n",
    "rates = []\n",
    "for l in lines:\n",
    "    if l[:3] == '100':\n",
    "        total_times.append(l.split('[')[1].split('<')[0])\n",
    "        rates.append(l.split('[')[1].split(', ')[1].split('t')[0])\n",
    "rates = [float(rates[i].split('s')[0]) for i in range(len(rates))]\n",
    "\n",
    "total_times_s = []\n",
    "for i in range(len(total_times)):\n",
    "    if len(total_times[i]) <= 5:\n",
    "        total_times_s.append(60*float(total_times[i].split(':')[0]) + float(total_times[i].split(':')[1]))\n",
    "    else: total_times_s.append(60*60*float(total_times[i].split(':')[0]) + 60*float(total_times[i].split(':')[1]) + float(total_times[i].split(':')[2]))\n",
    "\n",
    "single_parsed = pd.DataFrame({'Model':'Toy', 'Rates':rates, 'Computational Time': total_times_s}).reset_index()\n",
    "\n",
    "with open('bayesopt_timing_multiarch.txt') as f:\n",
    "    lines = f.readlines()\n",
    "total_times = []\n",
    "rates = []\n",
    "for l in lines:\n",
    "    if l[:3] == '100':\n",
    "        total_times.append(l.split('[')[1].split('<')[0])\n",
    "        rates.append(l.split('[')[1].split(', ')[1].split('t')[0])\n",
    "rates = [float(rates[i].split('s')[0]) for i in range(len(rates))]\n",
    "\n",
    "total_times_s = []\n",
    "for i in range(len(total_times)):\n",
    "    if len(total_times[i]) <= 5:\n",
    "        total_times_s.append(60*float(total_times[i].split(':')[0]) + float(total_times[i].split(':')[1]))\n",
    "    else: total_times_s.append(60*60*float(total_times[i].split(':')[0]) + 60*float(total_times[i].split(':')[1]) + float(total_times[i].split(':')[2]))\n",
    "\n",
    "multi_parsed = pd.DataFrame({'Model':'Toy', 'Rates':rates, 'Computational Time': total_times_s}).reset_index()\n",
    "\n",
    "bo_single = pd.merge(single_parsed, single_architecture, on='index')\n",
    "bo_multi = pd.merge(multi_parsed, multi_architecture, on='index')\n",
    "\n",
    "row = pd.DataFrame({'Method': ['Bayesian Optimization'], 'Computational Time': [bo_multi['Computational Time'].mean()], 'Best Loss': [bo_multi['best_losses'].min()], 'Function Evaluations': 1000})\n",
    "visualization_data = pd.concat([visualization_data, row])"
   ]
  },
  {
   "cell_type": "code",
   "execution_count": 183,
   "metadata": {},
   "outputs": [
    {
     "data": {
      "text/html": [
       "<div>\n",
       "<style scoped>\n",
       "    .dataframe tbody tr th:only-of-type {\n",
       "        vertical-align: middle;\n",
       "    }\n",
       "\n",
       "    .dataframe tbody tr th {\n",
       "        vertical-align: top;\n",
       "    }\n",
       "\n",
       "    .dataframe thead th {\n",
       "        text-align: right;\n",
       "    }\n",
       "</style>\n",
       "<table border=\"1\" class=\"dataframe\">\n",
       "  <thead>\n",
       "    <tr style=\"text-align: right;\">\n",
       "      <th></th>\n",
       "      <th>Method</th>\n",
       "      <th>Computational Time</th>\n",
       "      <th>Best Loss</th>\n",
       "      <th>Function Evaluations</th>\n",
       "    </tr>\n",
       "  </thead>\n",
       "  <tbody>\n",
       "    <tr>\n",
       "      <th>0</th>\n",
       "      <td>Naive Approach 100 Random</td>\n",
       "      <td>64.240000</td>\n",
       "      <td>0.069727</td>\n",
       "      <td>400.0</td>\n",
       "    </tr>\n",
       "    <tr>\n",
       "      <th>0</th>\n",
       "      <td>Naive Approach 1k Random</td>\n",
       "      <td>636.960000</td>\n",
       "      <td>0.064796</td>\n",
       "      <td>4000.0</td>\n",
       "    </tr>\n",
       "    <tr>\n",
       "      <th>0</th>\n",
       "      <td>Naive Approach 10k Random</td>\n",
       "      <td>6731.720000</td>\n",
       "      <td>0.062044</td>\n",
       "      <td>40000.0</td>\n",
       "    </tr>\n",
       "    <tr>\n",
       "      <th>0</th>\n",
       "      <td>Exhaustive Search</td>\n",
       "      <td>1533.000000</td>\n",
       "      <td>0.065600</td>\n",
       "      <td>40000.0</td>\n",
       "    </tr>\n",
       "    <tr>\n",
       "      <th>0</th>\n",
       "      <td>Gradient-Based</td>\n",
       "      <td>1520.249294</td>\n",
       "      <td>0.830936</td>\n",
       "      <td>33255.0</td>\n",
       "    </tr>\n",
       "    <tr>\n",
       "      <th>0</th>\n",
       "      <td>Global Optimization</td>\n",
       "      <td>2032.000000</td>\n",
       "      <td>0.883593</td>\n",
       "      <td>100000.0</td>\n",
       "    </tr>\n",
       "    <tr>\n",
       "      <th>0</th>\n",
       "      <td>Bayesian Optimization</td>\n",
       "      <td>27.050000</td>\n",
       "      <td>0.060877</td>\n",
       "      <td>1000.0</td>\n",
       "    </tr>\n",
       "  </tbody>\n",
       "</table>\n",
       "</div>"
      ],
      "text/plain": [
       "                      Method  Computational Time  Best Loss  \\\n",
       "0  Naive Approach 100 Random           64.240000   0.069727   \n",
       "0   Naive Approach 1k Random          636.960000   0.064796   \n",
       "0  Naive Approach 10k Random         6731.720000   0.062044   \n",
       "0          Exhaustive Search         1533.000000   0.065600   \n",
       "0             Gradient-Based         1520.249294   0.830936   \n",
       "0        Global Optimization         2032.000000   0.883593   \n",
       "0      Bayesian Optimization           27.050000   0.060877   \n",
       "\n",
       "   Function Evaluations  \n",
       "0                 400.0  \n",
       "0                4000.0  \n",
       "0               40000.0  \n",
       "0               40000.0  \n",
       "0               33255.0  \n",
       "0              100000.0  \n",
       "0                1000.0  "
      ]
     },
     "execution_count": 183,
     "metadata": {},
     "output_type": "execute_result"
    }
   ],
   "source": [
    "visualization_data"
   ]
  },
  {
   "cell_type": "code",
   "execution_count": 117,
   "metadata": {},
   "outputs": [
    {
     "data": {
      "image/png": "[encoded data removed]",
      "text/plain": [
       "<Figure size 504x360 with 1 Axes>"
      ]
     },
     "metadata": {
      "needs_background": "light"
     },
     "output_type": "display_data"
    }
   ],
   "source": [
    "pal = sns.color_palette(\"Set2\")[1:6]\n",
    "fig, axs = plt.subplots(1,1,figsize=(7, 5))\n",
    "\n",
    "ax = axs\n",
    "sns.scatterplot(data=visualization_data, y='Computational Time', x='Best Loss', size='Function Evaluations', hue='Method', palette=pal, ax=ax\n",
    ")\n",
    "ax.set_ylabel('Computational Run Time', fontsize=14)\n",
    "ax.set_xlabel('Best Loss Value Achieved')\n",
    "ax.tick_params(axis='x', labelsize=14)\n",
    "fig.tight_layout()\n"
   ]
  },
  {
   "cell_type": "code",
   "execution_count": 184,
   "metadata": {},
   "outputs": [],
   "source": [
    "visualization_data = visualization_data.reset_index(drop=True)\n",
    "visualization_data['Method Name'] = [visualization_data.Method[i].split(' 1')[0] for i in range(len(visualization_data))]"
   ]
  },
  {
   "cell_type": "code",
   "execution_count": 185,
   "metadata": {},
   "outputs": [
    {
     "data": {
      "image/png": "[encoded data removed]",
      "text/plain": [
       "<Figure size 504x360 with 1 Axes>"
      ]
     },
     "metadata": {
      "needs_background": "light"
     },
     "output_type": "display_data"
    }
   ],
   "source": [
    "pal = sns.color_palette(\"Set2\")[2:6]\n",
    "pal.append(sns.color_palette(\"Set2\")[1])\n",
    "fig, axs = plt.subplots(1,1,figsize=(7, 5))\n",
    "ax = axs\n",
    "plot = sns.barplot(data=visualization_data, y='Computational Time', x='Method', hue='Method Name', palette=pal, ax=ax, dodge=False)\n",
    "ax.set_ylabel('Computational Run Time, seconds', fontsize=14)\n",
    "plot.set(xticklabels=[])\n",
    "plot.legend_.remove()\n",
    "ax.set_xlabel('')\n",
    "ax.set_yscale('log')\n",
    "# ax.tick_params(axis='x', labelsize=12)\n",
    "# for item in plot.get_xticklabels():\n",
    "#     item.set_rotation(45)\n",
    "fig.tight_layout()\n",
    "fig.savefig('benchmark_runtime.png', dpi=300, bbox_inches='tight', pad_inches=0.)\n"
   ]
  },
  {
   "cell_type": "code",
   "execution_count": 186,
   "metadata": {},
   "outputs": [
    {
     "data": {
      "image/png": "[encoded data removed]",
      "text/plain": [
       "<Figure size 504x360 with 1 Axes>"
      ]
     },
     "metadata": {
      "needs_background": "light"
     },
     "output_type": "display_data"
    }
   ],
   "source": [
    "pal = sns.color_palette(\"Set2\")[2:6]\n",
    "pal.append(sns.color_palette(\"Set2\")[1])\n",
    "fig, axs = plt.subplots(1,1,figsize=(7, 5))\n",
    "ax = axs\n",
    "plot = sns.barplot(data=visualization_data, y='Best Loss', x='Method', hue='Method Name', palette=pal, ax=ax, dodge=False)\n",
    "ax.set_ylabel('Best Loss Value Achieved', fontsize=14)\n",
    "plot.set(xticklabels=[])\n",
    "plot.legend_.remove()\n",
    "ax.set_xlabel('')\n",
    "ax.set_yscale('log')\n",
    "# ax.tick_params(axis='x', labelsize=12)\n",
    "# for item in plot.get_xticklabels():\n",
    "#     item.set_rotation(45)\n",
    "fig.tight_layout()\n",
    "fig.savefig('benchmark_lossval.png', dpi=300, bbox_inches='tight', pad_inches=0.)\n"
   ]
  },
  {
   "cell_type": "code",
   "execution_count": 187,
   "metadata": {},
   "outputs": [
    {
     "data": {
      "image/png": "[encoded data removed]",
      "text/plain": [
       "<Figure size 504x360 with 1 Axes>"
      ]
     },
     "metadata": {
      "needs_background": "light"
     },
     "output_type": "display_data"
    }
   ],
   "source": [
    "pal = sns.color_palette(\"Set2\")[2:6]\n",
    "pal.append(sns.color_palette(\"Set2\")[1])\n",
    "fig, axs = plt.subplots(1,1,figsize=(7, 5))\n",
    "ax = axs\n",
    "plot = sns.barplot(data=visualization_data, y='Function Evaluations', x='Method', hue='Method Name', palette=pal, ax=ax, dodge=False)\n",
    "ax.set_ylabel('Number of Function Evaluations Required', fontsize=14)\n",
    "plot.set(xticklabels=[])\n",
    "plot.legend_.remove()\n",
    "ax.set_xlabel('')\n",
    "ax.set_yscale('log')\n",
    "# ax.tick_params(axis='x', labelsize=12)\n",
    "# for item in plot.get_xticklabels():\n",
    "#     item.set_rotation(45)\n",
    "fig.tight_layout()\n",
    "fig.savefig('benchmark_nfev.png', dpi=300, bbox_inches='tight', pad_inches=0.)\n"
   ]
  },
  {
   "cell_type": "code",
   "execution_count": null,
   "metadata": {},
   "outputs": [],
   "source": []
  }
 ],
 "metadata": {
  "kernelspec": {
   "display_name": "Python 3.9.7 ('sundials')",
   "language": "python",
   "name": "python3"
  },
  "language_info": {
   "codemirror_mode": {
    "name": "ipython",
    "version": 3
   },
   "file_extension": ".py",
   "mimetype": "text/x-python",
   "name": "python",
   "nbconvert_exporter": "python",
   "pygments_lexer": "ipython3",
   "version": "3.9.7"
  },
  "orig_nbformat": 4,
  "vscode": {
   "interpreter": {
    "hash": "07c32881fdddda18fc4efdca8ccb6859d747bae1937efa0776c98adbd36477b4"
   }
  }
 },
 "nbformat": 4,
 "nbformat_minor": 2
}
