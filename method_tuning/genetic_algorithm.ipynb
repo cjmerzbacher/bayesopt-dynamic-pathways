{
 "cells": [
  {
   "cell_type": "code",
   "execution_count": 2,
   "metadata": {},
   "outputs": [],
   "source": [
    "###Required packages\n",
    "import numpy as np\n",
    "from hyperopt import hp, fmin, tpe\n",
    "from scikits.odes.ode import ode\n",
    "import matplotlib.pyplot as plt\n",
    "import pandas as pd\n",
    "import seaborn as sns\n",
    "import time\n",
    "import random\n",
    "from geneticalgorithm import geneticalgorithm as ga\n"
   ]
  },
  {
   "cell_type": "code",
   "execution_count": 3,
   "metadata": {},
   "outputs": [],
   "source": [
    "def toy_model(t, y, ydot, params):\n",
    "    kc=12.; km=10.; lam=1.93E-4; Vin=1.; e0=0.0467\n",
    "    T = 1; E = 2; X = 2\n",
    "    A, W = params\n",
    "    ydot[0] = Vin - lam*y[0] - e0*nonlinearity(y[0], kc, km) - y[2]*nonlinearity(y[0], kc, km)\n",
    "    ydot[1] = y[2]*nonlinearity(y[0], kc, km) - y[3]*nonlinearity(y[1], kc, km) - lam*y[1]\n",
    "    for e in range(E):\n",
    "        ydot[e+X] = -lam*y[e+X] + np.sum(A[e]*np.array([activation(y[T], W[e][2], W[e][1], W[e][0]), repression(y[T], W[e][2], W[e][1], W[e][0]), W[e][2]]))\n",
    "    ydot[E+X] = (Vin - y[X+1]*nonlinearity(y[X-1], kc, km))**2 #J1\n",
    "    ydot[E+X+1] = np.sum([np.sum(A[e]*np.array([activation(y[T], W[e][2], W[e][1], W[e][0]), repression(y[T], W[e][2], W[e][1], W[e][0]), W[e][2]])) for e in range(E)]) #J2\n",
    "\n",
    "def arch_converter(A):\n",
    "    if A == 1: #dual control\n",
    "        return ((0, 1, 0), (1, 0, 0))\n",
    "\n",
    "    elif A == 2: #no control\n",
    "        return ((0, 0, 1), (0, 0, 1))\n",
    "\n",
    "    elif A == 3: #downstream activation\n",
    "        return ((0, 0, 1), (1, 0, 0))\n",
    "\n",
    "    elif A == 4: #upstream repression\n",
    "        return ((0, 1, 0), (0, 0, 1))\n",
    "    else: return 'Invalid Circuit'\n",
    "\n",
    "def loss_biological(j1, j2, alpha1=1E-5, alpha2=1E-2):\n",
    "        \"\"\"Computes scalarized loss including genetic constraint and product production\"\"\"\n",
    "        loss = alpha1*j1 + alpha2*j2\n",
    "        return j1, j2, loss\n",
    "\n",
    "def activation(x, k, theta, n):\n",
    "    return (k*(x/theta)**n)/(1+(x/theta)**n)\n",
    "\n",
    "def repression(x, k, theta, n):\n",
    "    return k/(1+(x/theta)**n)\n",
    "    \n",
    "def nonlinearity(x, kc, km):\n",
    "    return (kc*x)/(km+x)"
   ]
  },
  {
   "cell_type": "code",
   "execution_count": 5,
   "metadata": {},
   "outputs": [
    {
     "name": "stdout",
     "output_type": "stream",
     "text": [
      "6335.472323558569 87.55933359999996 0.9389480592355853\n"
     ]
    },
    {
     "data": {
      "image/png": "[encoded data removed]",
      "text/plain": [
       "<Figure size 432x288 with 1 Axes>"
      ]
     },
     "metadata": {
      "needs_background": "light"
     },
     "output_type": "display_data"
    }
   ],
   "source": [
    "#Plot single solution\n",
    "vars = [2.00000000e+00, 7.88726164e-04, 9.62460508e-04, 4.49906622e+00, 1.98400034e+00]\n",
    "A, k1, k2, theta1, theta2 = vars\n",
    "\n",
    "t = np.linspace(0, 5E4, 100) \n",
    "y0 = np.array([2290., 0., 0., 0., 0., 0.])\n",
    "\n",
    "architecture = arch_converter(vars[0])\n",
    "param_values = [[2., theta1, k1], [2., theta2, k2]]\n",
    "\n",
    "extra_options = {'old_api': False, 'user_data': [architecture, param_values], 'rtol':1E-4}\n",
    "ode_solver = ode('cvode', toy_model, **extra_options)\n",
    "solution = ode_solver.solve(t, y0)\n",
    "j1, j2 = solution.values.y[-1, -2:]\n",
    "j1, j2, loss = loss_biological(j1, j2, alpha1=1E-5, alpha2=1E-2)\n",
    "plt.plot(solution.values.y)\n",
    "print(j1, j2, loss)"
   ]
  },
  {
   "cell_type": "code",
   "execution_count": 6,
   "metadata": {},
   "outputs": [
    {
     "name": "stdout",
     "output_type": "stream",
     "text": [
      "6335.472323558569 87.55933359999996 0.9389480592355853\n"
     ]
    },
    {
     "data": {
      "text/html": [
       "<div>\n",
       "<style scoped>\n",
       "    .dataframe tbody tr th:only-of-type {\n",
       "        vertical-align: middle;\n",
       "    }\n",
       "\n",
       "    .dataframe tbody tr th {\n",
       "        vertical-align: top;\n",
       "    }\n",
       "\n",
       "    .dataframe thead th {\n",
       "        text-align: right;\n",
       "    }\n",
       "</style>\n",
       "<table border=\"1\" class=\"dataframe\">\n",
       "  <thead>\n",
       "    <tr style=\"text-align: right;\">\n",
       "      <th></th>\n",
       "      <th>k1</th>\n",
       "      <th>k2</th>\n",
       "      <th>theta1</th>\n",
       "      <th>theta2</th>\n",
       "      <th>loss</th>\n",
       "      <th>j1</th>\n",
       "      <th>j2</th>\n",
       "      <th>sol_flag</th>\n",
       "    </tr>\n",
       "  </thead>\n",
       "  <tbody>\n",
       "    <tr>\n",
       "      <th>0</th>\n",
       "      <td>0.000789</td>\n",
       "      <td>0.000962</td>\n",
       "      <td>4.499066</td>\n",
       "      <td>1.984</td>\n",
       "      <td>0.938948</td>\n",
       "      <td>87.559334</td>\n",
       "      <td>87.559334</td>\n",
       "      <td>StatusEnum.SUCCESS</td>\n",
       "    </tr>\n",
       "  </tbody>\n",
       "</table>\n",
       "</div>"
      ],
      "text/plain": [
       "         k1        k2    theta1  theta2      loss         j1         j2  \\\n",
       "0  0.000789  0.000962  4.499066   1.984  0.938948  87.559334  87.559334   \n",
       "\n",
       "             sol_flag  \n",
       "0  StatusEnum.SUCCESS  "
      ]
     },
     "execution_count": 6,
     "metadata": {},
     "output_type": "execute_result"
    },
    {
     "data": {
      "image/png": "[encoded data removed]",
      "text/plain": [
       "<Figure size 432x288 with 1 Axes>"
      ]
     },
     "metadata": {
      "needs_background": "light"
     },
     "output_type": "display_data"
    }
   ],
   "source": [
    "def f(X):\n",
    "    A, k1, k2, theta1, theta2 = X\n",
    "    t = np.linspace(0, 5E4, 100) \n",
    "    y0 = np.array([2290., 0., 0., 0., 0., 0.])\n",
    "    architecture = arch_converter(A)\n",
    "    param_values = [[2., theta1, k1], [2., theta2, k2]]\n",
    "    extra_options = {'old_api': False, 'user_data': [architecture, param_values], 'rtol':1E-4}\n",
    "    ode_solver = ode('cvode', toy_model, **extra_options)\n",
    "    solution = ode_solver.solve(t, y0)\n",
    "    j1, j2 = solution.values.y[-1, -2:]\n",
    "    j1, j2, loss = loss_biological(j1, j2, alpha1=1E-5, alpha2=1E-2)\n",
    "    row = [k1, k2, theta1, theta2, loss, j2, j2, str(solution.flag)]\n",
    "    trace.loc[len(trace)] = row\n",
    "    if (str(solution.flag) == 'StatusEnum.SUCCESS'): return solution\n",
    "    else: return 1.E7\n",
    "\n",
    "columns = ['k1', 'k2', 'theta1', 'theta2', 'loss', 'j1', 'j2', 'sol_flag']\n",
    "trace = pd.DataFrame(columns=columns)\n",
    "solution = f(vars)\n",
    "j1, j2 = solution.values.y[-1, -2:]\n",
    "j1, j2, loss = loss_biological(j1, j2, alpha1=1E-5, alpha2=1E-2)\n",
    "plt.plot(solution.values.y)\n",
    "print(j1, j2, loss)\n",
    "trace"
   ]
  },
  {
   "cell_type": "code",
   "execution_count": 8,
   "metadata": {},
   "outputs": [],
   "source": [
    "def f(X):\n",
    "    A, k1, k2, theta1, theta2 = X\n",
    "    t = np.linspace(0, 5E4, 100) \n",
    "    y0 = np.array([2290., 0., 0., 0., 0., 0.])\n",
    "    architecture = arch_converter(A)\n",
    "    param_values = [[2., theta1, k1], [2., theta2, k2]]\n",
    "    extra_options = {'old_api': False, 'user_data': [architecture, param_values], 'rtol':1E-3}\n",
    "    ode_solver = ode('cvode', toy_model, **extra_options)\n",
    "    solution = ode_solver.solve(t, y0)\n",
    "    j1, j2 = solution.values.y[-1, -2:]\n",
    "    j1, j2, loss = loss_biological(j1, j2, alpha1=1E-5, alpha2=1E-2)\n",
    "    row = [A, k1, k2, theta1, theta2, loss, j2, j2, str(solution.flag)]\n",
    "    trace.loc[len(trace)] = row\n",
    "    if (str(solution.flag) == 'StatusEnum.SUCCESS') and loss > 0.0: return loss\n",
    "    else: return 1.E7\n",
    "    \n",
    "varbound=np.array([[1,4],[1E-7,1E-3],[1E-7,1E-3], [1E-3, 10], [1E-3, 10]])\n",
    "vartype=np.array([['int'], ['real'],['real'],['real'],['real']])\n",
    "\n",
    "algorithm_param = {'max_num_iteration': None,\\\n",
    "                   'population_size':100,\\\n",
    "                   'mutation_probability':0.1,\\\n",
    "                   'elit_ratio': 0.01,\\\n",
    "                   'crossover_probability': 0.5,\\\n",
    "                   'parents_portion': 0.3,\\\n",
    "                   'crossover_type':'uniform',\\\n",
    "                   'max_iteration_without_improv':None}\n",
    "\n",
    "columns = ['arch', 'k1', 'k2', 'theta1', 'theta2', 'loss', 'j1', 'j2', 'sol_flag']"
   ]
  },
  {
   "cell_type": "code",
   "execution_count": 7,
   "metadata": {},
   "outputs": [
    {
     "name": "stdout",
     "output_type": "stream",
     "text": [
      " The best solution found:                                                                           \n",
      " [1.00000000e+00 5.43456077e-04 3.60949414e-05 2.80335713e+00\n",
      " 9.83583691e+00]\n",
      "\n",
      " Objective function:\n",
      " 0.04514357499707407\n"
     ]
    },
    {
     "data": {
      "image/png": "[encoded data removed]",
      "text/plain": [
       "<Figure size 432x288 with 1 Axes>"
      ]
     },
     "metadata": {
      "needs_background": "light"
     },
     "output_type": "display_data"
    }
   ],
   "source": [
    "trace = pd.DataFrame(columns=columns)\n",
    "model=ga(function=f,dimension=5,variable_type_mixed=vartype,variable_boundaries=varbound, algorithm_parameters=algorithm_param)\n",
    "\n",
    "start_time = time.time()\n",
    "model.run()\n",
    "elapsed_time = time.time() - start_time\n",
    "trace['Computational Time'] = elapsed_time\n",
    "results = model.output_dict\n",
    "trace.to_csv('ga_result_rep1.txt')"
   ]
  },
  {
   "cell_type": "code",
   "execution_count": 8,
   "metadata": {},
   "outputs": [
    {
     "name": "stdout",
     "output_type": "stream",
     "text": [
      " The best solution found:                                                                           \n",
      " [3.00000000e+00 4.51270390e-05 3.48931677e-05 1.35731116e+00\n",
      " 9.95583144e+00]\n",
      "\n",
      " Objective function:\n",
      " 0.06078168726092886\n"
     ]
    },
    {
     "data": {
      "image/png": "[encoded data removed]",
      "text/plain": [
       "<Figure size 432x288 with 1 Axes>"
      ]
     },
     "metadata": {
      "needs_background": "light"
     },
     "output_type": "display_data"
    }
   ],
   "source": [
    "trace = pd.DataFrame(columns=columns)\n",
    "model=ga(function=f,dimension=5,variable_type_mixed=vartype,variable_boundaries=varbound, algorithm_parameters=algorithm_param)\n",
    "\n",
    "start_time = time.time()\n",
    "model.run()\n",
    "elapsed_time = time.time() - start_time\n",
    "trace['Computational Time'] = elapsed_time\n",
    "results = model.output_dict\n",
    "trace.to_csv('ga_result_rep2.txt')"
   ]
  },
  {
   "cell_type": "code",
   "execution_count": 9,
   "metadata": {},
   "outputs": [
    {
     "name": "stdout",
     "output_type": "stream",
     "text": [
      "|||||||||||||||||||_______________________________ 37.2% GA is running..."
     ]
    },
    {
     "name": "stderr",
     "output_type": "stream",
     "text": [
      "\n",
      "[CVODE ERROR]  CVode\n",
      "  At t = 6716.23 and h = 0.00107571, the error test failed repeatedly or with |h| = hmin.\n",
      "\n"
     ]
    },
    {
     "name": "stdout",
     "output_type": "stream",
     "text": [
      " The best solution found:                                                                           \n",
      " [1.00000000e+00 4.67946171e-05 1.51472546e-04 4.14357089e+00\n",
      " 9.03149297e+00]\n",
      "\n",
      " Objective function:\n",
      " 0.05784536680108311\n"
     ]
    },
    {
     "data": {
      "image/png": "[encoded data removed]",
      "text/plain": [
       "<Figure size 432x288 with 1 Axes>"
      ]
     },
     "metadata": {
      "needs_background": "light"
     },
     "output_type": "display_data"
    }
   ],
   "source": [
    "trace = pd.DataFrame(columns=columns)\n",
    "model=ga(function=f,dimension=5,variable_type_mixed=vartype,variable_boundaries=varbound, algorithm_parameters=algorithm_param)\n",
    "\n",
    "start_time = time.time()\n",
    "model.run()\n",
    "elapsed_time = time.time() - start_time\n",
    "trace['Computational Time'] = elapsed_time\n",
    "results = model.output_dict\n",
    "trace.to_csv('ga_result_rep3.txt')"
   ]
  },
  {
   "cell_type": "code",
   "execution_count": null,
   "metadata": {},
   "outputs": [],
   "source": []
  }
 ],
 "metadata": {
  "kernelspec": {
   "display_name": "Python 3.9.7 ('sundials')",
   "language": "python",
   "name": "python3"
  },
  "language_info": {
   "codemirror_mode": {
    "name": "ipython",
    "version": 3
   },
   "file_extension": ".py",
   "mimetype": "text/x-python",
   "name": "python",
   "nbconvert_exporter": "python",
   "pygments_lexer": "ipython3",
   "version": "3.9.7"
  },
  "orig_nbformat": 4,
  "vscode": {
   "interpreter": {
    "hash": "07c32881fdddda18fc4efdca8ccb6859d747bae1937efa0776c98adbd36477b4"
   }
  }
 },
 "nbformat": 4,
 "nbformat_minor": 2
}
