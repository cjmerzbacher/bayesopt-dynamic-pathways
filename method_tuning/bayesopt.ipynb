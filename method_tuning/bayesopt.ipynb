{
 "cells": [
  {
   "cell_type": "code",
   "execution_count": 2,
   "metadata": {},
   "outputs": [],
   "source": [
    "###Required packages\n",
    "import numpy as np\n",
    "from hyperopt import hp, fmin, tpe\n",
    "from scikits.odes.ode import ode\n",
    "import matplotlib.pyplot as plt\n",
    "import pandas as pd\n",
    "import seaborn as sns\n",
    "from matplotlib.lines import Line2D"
   ]
  },
  {
   "cell_type": "markdown",
   "metadata": {},
   "source": [
    "## BayesOpt Method Tuning"
   ]
  },
  {
   "cell_type": "markdown",
   "metadata": {},
   "source": [
    "### Runtime Experiments"
   ]
  },
  {
   "cell_type": "code",
   "execution_count": 3,
   "metadata": {},
   "outputs": [],
   "source": [
    "#Parse timing output data\n",
    "\n",
    "runtime_data = pd.DataFrame()\n",
    "\n",
    "with open('toy_runtimes.txt') as f:\n",
    "    lines = f.readlines()\n",
    "\n",
    "total_times = []\n",
    "rates = []\n",
    "for l in lines:\n",
    "    if l[:3] == '100':\n",
    "        total_times.append(l.split('[')[1].split('<')[0])\n",
    "        rates.append(l.split('[')[1].split(', ')[1].split('t')[0])\n",
    "rates = [float(rates[i].split('s')[0]) for i in range(len(rates))]\n",
    "\n",
    "total_times_s = []\n",
    "for i in range(len(total_times)):\n",
    "    if len(total_times[i]) <= 5:\n",
    "        total_times_s.append(60*float(total_times[i].split(':')[0]) + float(total_times[i].split(':')[1]))\n",
    "    else: total_times_s.append(60*60*float(total_times[i].split(':')[0]) + 60*float(total_times[i].split(':')[1]) + float(total_times[i].split(':')[2]))\n",
    "\n",
    "parsed = pd.DataFrame({'Model':'Toy', 'Rates':rates, 'Runtime': total_times_s})\n",
    "runtime_data = pd.concat([runtime_data, parsed])\n",
    "\n",
    "\n",
    "with open('ga_runtimes.txt') as f:\n",
    "    lines = f.readlines()\n",
    "\n",
    "total_times = []\n",
    "rates = []\n",
    "for l in lines:\n",
    "    if l[:3] == '100':\n",
    "        total_times.append(l.split('[')[1].split('<')[0])\n",
    "        rates.append(l.split('[')[1].split(', ')[1].split('t')[0])\n",
    "rates = [float(rates[i].split('s')[0]) for i in range(len(rates))]\n",
    "\n",
    "total_times_s = []\n",
    "for i in range(len(total_times)):\n",
    "    if len(total_times[i]) <= 5:\n",
    "        total_times_s.append(60*float(total_times[i].split(':')[0]) + float(total_times[i].split(':')[1]))\n",
    "    else: total_times_s.append(60*60*float(total_times[i].split(':')[0]) + 60*float(total_times[i].split(':')[1]) + float(total_times[i].split(':')[2]))\n",
    "\n",
    "parsed = pd.DataFrame({'Model':'Glucaric Acid', 'Rates':rates, 'Runtime': total_times_s})\n",
    "runtime_data = pd.concat([runtime_data, parsed])\n",
    "\n",
    "with open('fa_runtimes.txt') as f:\n",
    "    lines = f.readlines()\n",
    "\n",
    "total_times = []\n",
    "rates = []\n",
    "for l in lines:\n",
    "    if l[:3] == '100':\n",
    "        total_times.append(l.split('[')[1].split('<')[0])\n",
    "        rates.append(l.split('[')[1].split(', ')[1].split('t')[0])\n",
    "rates = [float(rates[i].split('s')[0]) for i in range(len(rates))]\n",
    "\n",
    "total_times_s = []\n",
    "for i in range(len(total_times)):\n",
    "    if len(total_times[i]) <= 5:\n",
    "        total_times_s.append(60*float(total_times[i].split(':')[0]) + float(total_times[i].split(':')[1]))\n",
    "    else: total_times_s.append(60*60*float(total_times[i].split(':')[0]) + 60*float(total_times[i].split(':')[1]) + float(total_times[i].split(':')[2]))\n",
    "\n",
    "parsed = pd.DataFrame({'Model':'Fatty Acid', 'Rates':rates, 'Runtime': total_times_s})\n",
    "runtime_data = pd.concat([runtime_data, parsed])\n",
    "\n",
    "\n",
    "with open('pas_runtimes.txt') as f:\n",
    "    lines = f.readlines()\n",
    "\n",
    "total_times = []\n",
    "rates = []\n",
    "for l in lines:\n",
    "    if l[:3] == '100':\n",
    "        total_times.append(l.split('[')[1].split('<')[0])\n",
    "        rates.append(l.split('[')[1].split(', ')[1].split('t')[0])\n",
    "rates = [float(rates[i].split('s')[0]) for i in range(len(rates))]\n",
    "\n",
    "total_times_s = []\n",
    "for i in range(len(total_times)):\n",
    "    if len(total_times[i]) <= 5:\n",
    "        total_times_s.append(60*float(total_times[i].split(':')[0]) + float(total_times[i].split(':')[1]))\n",
    "    else: total_times_s.append(60*60*float(total_times[i].split(':')[0]) + 60*float(total_times[i].split(':')[1]) + float(total_times[i].split(':')[2]))\n",
    "\n",
    "parsed = pd.DataFrame({'Model':'P-Aminostyrene', 'Rates':rates, 'Runtime': total_times_s})\n",
    "runtime_data = pd.concat([runtime_data, parsed])"
   ]
  },
  {
   "cell_type": "code",
   "execution_count": 4,
   "metadata": {},
   "outputs": [
    {
     "data": {
      "image/png": "[encoded data removed]",
      "text/plain": [
       "<Figure size 504x360 with 1 Axes>"
      ]
     },
     "metadata": {
      "needs_background": "light"
     },
     "output_type": "display_data"
    }
   ],
   "source": [
    "###FIGURE: Average Runtime bar plot \n",
    "pal = sns.color_palette(\"Set2\")[2:6]\n",
    "fig, axs = plt.subplots(1,1,figsize=(7, 5))\n",
    "palettes = ['Reds', 'Oranges', 'Greens', 'Blues']\n",
    "\n",
    "ax = axs\n",
    "sns.barplot(data=runtime_data, y='Runtime', x='Model', palette=pal, ax=ax)\n",
    "ax.set_ylabel('Optimization Run Time', fontsize=14)\n",
    "ax.set_xlabel('')\n",
    "ax.tick_params(axis='x', labelsize=14)\n",
    "fig.tight_layout()\n",
    "fig.savefig('runtime.png', dpi=300)"
   ]
  },
  {
   "cell_type": "markdown",
   "metadata": {},
   "source": [
    "### Convergence Experiments"
   ]
  },
  {
   "cell_type": "code",
   "execution_count": 5,
   "metadata": {},
   "outputs": [],
   "source": [
    "toy_background = pd.read_csv('../toy_model/background.csv')\n",
    "ga_background = pd.read_csv('../glucaric_acid/background.csv')\n",
    "fa_background = pd.read_csv('../fatty_acid/parameter_sloppiness.csv')\n",
    "pas_background = pd.read_csv('../p_aminostyrene/background.csv')\n",
    "\n",
    "#Recompute best loss on non-error samples\n",
    "start=0\n",
    "stop=1000\n",
    "new_pas_background = pd.DataFrame()\n",
    "for j in range(100):\n",
    "    landscape = pas_background.iloc[start:stop].reset_index(drop=True)\n",
    "    best_loss = 1E5\n",
    "    best_circuit = 'Initial'\n",
    "    best_losses = []\n",
    "    best_losses_circuits = []\n",
    "    for i in range(len(landscape)):\n",
    "        if landscape.loss[i] < best_loss and landscape.loss[i] != 0:\n",
    "            best_loss = landscape.loss[i]\n",
    "            best_circuit = landscape.circuit[i]\n",
    "        best_losses.append(best_loss)\n",
    "        best_losses_circuits.append(best_circuit)\n",
    "    landscape['best_losses'] = best_losses\n",
    "    landscape['best_loss_circuit'] = best_losses_circuits \n",
    "    new_pas_background = pd.concat([new_pas_background, landscape])\n",
    "    start = stop\n",
    "    stop += 1000\n",
    "pas_background = new_pas_background.loc[new_pas_background.loss != 0]\n",
    "\n",
    "start=0\n",
    "stop=1000\n",
    "new_ga_background = pd.DataFrame()\n",
    "for j in range(100):\n",
    "    landscape = ga_background.iloc[start:stop].reset_index(drop=True)\n",
    "    best_loss = 1E5\n",
    "    best_circuit = 'Initial'\n",
    "    best_losses = []\n",
    "    best_losses_circuits = []\n",
    "    for i in range(len(landscape)):\n",
    "        if landscape.loss[i] < best_loss and landscape.loss[i] != 0:\n",
    "            best_loss = landscape.loss[i]\n",
    "            best_circuit = landscape.circuit[i]\n",
    "        best_losses.append(best_loss)\n",
    "        best_losses_circuits.append(best_circuit)\n",
    "    landscape['best_losses'] = best_losses\n",
    "    landscape['best_loss_circuit'] = best_losses_circuits \n",
    "    new_ga_background = pd.concat([new_ga_background, landscape])\n",
    "    start = stop\n",
    "    stop += 1000\n",
    "ga_background = new_ga_background.loc[new_ga_background.loss != 0]"
   ]
  },
  {
   "cell_type": "code",
   "execution_count": 6,
   "metadata": {},
   "outputs": [],
   "source": [
    "#For each iteration, find iteration which achieves best loss and best loss within 1% and 10% tolerance.\n",
    "start = 0\n",
    "stop = 500\n",
    "conv_data = pd.DataFrame()\n",
    "for i in range(100):\n",
    "    iteration = toy_background.iloc[start:stop].reset_index(drop=True)\n",
    "    best_loss = iteration.best_losses.min()\n",
    "    best_loss_1tol = best_loss + 0.01*best_loss\n",
    "    best_loss_10tol = best_loss + 0.1*best_loss\n",
    "    conv_time = iteration.loc[iteration.best_losses == best_loss].index.min()\n",
    "    conv_time_1tol = iteration.loc[iteration.best_losses < best_loss_1tol].index.min()\n",
    "    conv_time_10tol = iteration.loc[iteration.best_losses < best_loss_10tol].index.min()\n",
    "\n",
    "    conv_time_iteration = pd.DataFrame({'Model':'Toy', 'Circuit':iteration.Circuit.unique()[0], 'conv_time':[conv_time, conv_time_1tol, conv_time_10tol], 'tolerance':[0, 1, 10]})\n",
    "    conv_data = pd.concat([conv_data, conv_time_iteration])\n",
    "\n",
    "    start = stop\n",
    "    stop += 500\n",
    "\n",
    "start = 0\n",
    "stop = 1000\n",
    "for i in range(100):\n",
    "    iteration = ga_background.iloc[start:stop].reset_index(drop=True)\n",
    "    best_loss = iteration.best_losses.min()\n",
    "    best_loss_1tol = best_loss + 0.01*best_loss\n",
    "    best_loss_10tol = best_loss + 0.1*best_loss\n",
    "    conv_time = iteration.loc[iteration.best_losses == best_loss].index.min()\n",
    "    conv_time_1tol = iteration.loc[iteration.best_losses < best_loss_1tol].index.min()\n",
    "    conv_time_10tol = iteration.loc[iteration.best_losses < best_loss_10tol].index.min()\n",
    "    \n",
    "    conv_time_iteration = pd.DataFrame({'Model':'Glucaric Acid', 'Circuit':iteration.Circuit.unique()[0], 'conv_time':[conv_time, conv_time_1tol, conv_time_10tol], 'tolerance':[0, 1, 10]})\n",
    "    conv_data = pd.concat([conv_data, conv_time_iteration])\n",
    "    #separate by architecture\n",
    "    start = stop\n",
    "    stop += 1000\n",
    "\n",
    "start = 0\n",
    "stop = 500\n",
    "for i in range(100):\n",
    "    iteration = fa_background.iloc[start:stop].reset_index(drop=True)\n",
    "    best_loss = iteration.best_losses.min()\n",
    "    best_loss_1tol = best_loss + 0.01*best_loss\n",
    "    best_loss_10tol = best_loss + 0.1*best_loss\n",
    "    conv_time = iteration.loc[iteration.best_losses == best_loss].index.min()\n",
    "    conv_time_1tol = iteration.loc[iteration.best_losses < best_loss_1tol].index.min()\n",
    "    conv_time_10tol = iteration.loc[iteration.best_losses < best_loss_10tol].index.min()\n",
    "    \n",
    "    conv_time_iteration = pd.DataFrame({'Model':'Fatty Acid', 'Circuit':iteration.circuit.unique()[0], 'conv_time':[conv_time, conv_time_1tol, conv_time_10tol], 'tolerance':[0, 1, 10]})\n",
    "    conv_data = pd.concat([conv_data, conv_time_iteration])\n",
    "    start = stop\n",
    "    stop += 500\n",
    "    \n",
    "start = 0\n",
    "stop = 1000\n",
    "for i in range(100):\n",
    "    iteration = pas_background.iloc[start:stop].reset_index(drop=True)\n",
    "    best_loss = iteration.best_losses.min()\n",
    "    best_loss_1tol = best_loss + 0.01*best_loss\n",
    "    best_loss_10tol = best_loss + 0.1*best_loss\n",
    "    conv_time = iteration.loc[iteration.best_losses == best_loss].index.min()\n",
    "    conv_time_1tol = iteration.loc[iteration.best_losses < best_loss_1tol].index.min()\n",
    "    conv_time_10tol = iteration.loc[iteration.best_losses < best_loss_10tol].index.min()\n",
    "    \n",
    "    conv_time_iteration = pd.DataFrame({'Model':'P-Aminostyrene', 'Circuit':iteration.Circuit.unique()[0], 'conv_time':[conv_time, conv_time_1tol, conv_time_10tol], 'tolerance':[0, 1, 10]})\n",
    "    conv_data = pd.concat([conv_data, conv_time_iteration])\n",
    "\n",
    "    start = stop\n",
    "    stop += 1000\n"
   ]
  },
  {
   "cell_type": "code",
   "execution_count": 7,
   "metadata": {},
   "outputs": [
    {
     "data": {
      "image/png": "[encoded data removed]",
      "text/plain": [
       "<Figure size 720x360 with 4 Axes>"
      ]
     },
     "metadata": {
      "needs_background": "light"
     },
     "output_type": "display_data"
    }
   ],
   "source": [
    "###Figure: Convergence Time by architecture and circuit\n",
    "pal = sns.color_palette(\"Set2\")[2:6]\n",
    "\n",
    "fig, axs = plt.subplots(1,4,figsize=(10, 5), sharey=True)\n",
    "for i in range(4):\n",
    "    ax = axs[i]\n",
    "    sns.barplot(data=conv_data.loc[conv_data.Model == conv_data.Model.unique()[i]], y='conv_time', x='tolerance', palette=sns.light_palette(pal[i], 3, reverse=True), ax=ax)\n",
    "    ax.spines['bottom'].set_visible(False)\n",
    "    ax.spines['top'].set_visible(False)\n",
    "    ax.spines['right'].set_visible(False) \n",
    "    if i != 0: \n",
    "        ax.spines['left'].set_visible(False) \n",
    "        ax.set_ylabel('')\n",
    "        axs[i].tick_params(axis='y', which='both',left=False)\n",
    "    ax.set_xlabel('')  \n",
    "    ax.tick_params(axis='x', labelsize=14)\n",
    "\n",
    "axs[0].set_ylabel('Number of Iterations to Convergence', fontsize=14)\n",
    "fig.text(0.5, -0.08, 'Tolerance from Minimum Loss, %', ha='center', fontsize=14)\n",
    "fig.text(0.17, -0.02, 'Toy                         Glucaric Acid                  Fatty Acid                P-Aminostyrene', ha='left', fontsize=14)\n",
    "fig.add_artist(Line2D([0.07, 1], [0.09, 0.09], color='k', linewidth=1))\n",
    "fig.tight_layout()\n",
    "fig.savefig('convergence.png', dpi=300, bbox_inches='tight', pad_inches=0.)\n",
    "    "
   ]
  },
  {
   "cell_type": "code",
   "execution_count": 84,
   "metadata": {},
   "outputs": [
    {
     "data": {
      "image/png": "[encoded data removed]",
      "text/plain": [
       "<Figure size 360x360 with 1 Axes>"
      ]
     },
     "metadata": {
      "needs_background": "light"
     },
     "output_type": "display_data"
    }
   ],
   "source": [
    "###Figure: Explanatory figure with tolerances\n",
    "import matplotlib.patches as patches\n",
    "\n",
    "sample_descent = pd.read_csv('../toy_model/sample_run.csv')\n",
    "tol_10 = sample_descent.best_losses.min()*1.1\n",
    "tol_1 = sample_descent.best_losses.min()*1.01\n",
    "minloss = sample_descent.best_losses.min()\n",
    "\n",
    "fig, ax = plt.subplots(1,1,figsize=(5,5))\n",
    "ax.plot(sample_descent.index, sample_descent.best_losses, color='black', linewidth=3)\n",
    "\n",
    "rect1 = patches.Rectangle((0, minloss), 500, tol_10-minloss, linewidth=1, edgecolor='none', facecolor='lightblue')\n",
    "ax.add_patch(rect1)\n",
    "rect2 = patches.Rectangle((0,minloss), 500, tol_1-minloss, linewidth=1, edgecolor='none', facecolor='dodgerblue')\n",
    "ax.add_patch(rect2)\n",
    "\n",
    "ymin10 = sample_descent.loc[sample_descent.best_losses < tol_10].index.min()\n",
    "ax.vlines(ymin10, ymin=minloss-0.001, ymax=sample_descent.iloc[ymin10].best_losses, color='tomato', linewidth=3)\n",
    "\n",
    "ymin1 = sample_descent.loc[sample_descent.best_losses < tol_1].index.min()\n",
    "ax.vlines(ymin1, ymin=minloss-0.001, ymax=sample_descent.iloc[ymin1].best_losses, color='tomato', linewidth=3)\n",
    "\n",
    "\n",
    "ax.set_ylabel('Objective Function Value (log)', fontsize=14)\n",
    "ax.set_xlabel('Number of Iterations', fontsize=14)\n",
    "\n",
    "ax.set_yscale('log')\n",
    "ax.set_ylim([minloss-0.001, 0.08]) \n",
    "\n",
    "fig.tight_layout()\n",
    "fig.savefig('tolerances.png', dpi=300)"
   ]
  },
  {
   "cell_type": "code",
   "execution_count": 76,
   "metadata": {},
   "outputs": [
    {
     "data": {
      "text/plain": [
       "247"
      ]
     },
     "execution_count": 76,
     "metadata": {},
     "output_type": "execute_result"
    }
   ],
   "source": [
    "ymin1"
   ]
  },
  {
   "cell_type": "code",
   "execution_count": 20,
   "metadata": {},
   "outputs": [],
   "source": []
  },
  {
   "cell_type": "markdown",
   "metadata": {},
   "source": [
    "### Hyperparameter Tuning Experiments"
   ]
  },
  {
   "cell_type": "code",
   "execution_count": 8,
   "metadata": {},
   "outputs": [],
   "source": [
    "gamma10 = pd.read_csv('gamma10.csv')\n",
    "gamma25 = pd.read_csv('gamma25.csv')\n",
    "gamma50 = pd.read_csv('gamma50.csv')\n",
    "gamma90 = pd.read_csv('gamma90.csv')"
   ]
  },
  {
   "cell_type": "code",
   "execution_count": 9,
   "metadata": {},
   "outputs": [],
   "source": [
    "#For each gamma setting\n",
    "hyp_data = pd.DataFrame()\n",
    "gammvals = [10, 25, 50, 90]\n",
    "gammas = [gamma10, gamma25, gamma50, gamma90]\n",
    "for i in range(4):\n",
    "    g = gammas[i]\n",
    "    #Divide into quarters\n",
    "    quarter1 = g.iloc[0:500]\n",
    "    quarter2 = g.iloc[500:1000]\n",
    "    quarter3 = g.iloc[1000:1500]\n",
    "    quarter4 = g.iloc[1500:2000]\n",
    "\n",
    "    #Compute DC fraction for each quarter\n",
    "    dc_fractions = [len(q.loc[q.Circuit == 'Dual Control'])/500 for q in [quarter1, quarter2, quarter3, quarter4]]\n",
    "    \n",
    "    hyp_iteration = pd.DataFrame({'Gamma':gammvals[i], 'majority_fraction':dc_fractions, 'quarter':[1, 2, 3, 4]})\n",
    "    hyp_data = pd.concat([hyp_data, hyp_iteration])\n",
    "hyp_data = hyp_data.reset_index(drop=True)"
   ]
  },
  {
   "cell_type": "code",
   "execution_count": 11,
   "metadata": {},
   "outputs": [
    {
     "data": {
      "image/png": "[encoded data removed]",
      "text/plain": [
       "<Figure size 720x360 with 1 Axes>"
      ]
     },
     "metadata": {
      "needs_background": "light"
     },
     "output_type": "display_data"
    }
   ],
   "source": [
    "###FIGURE: Line plot of majority fraction over time\n",
    "pal = sns.color_palette(\"Set3\")[3:7]\n",
    "fig, axs = plt.subplots(1,1,figsize=(10, 5))\n",
    "ax = axs\n",
    "sns.lineplot(data=hyp_data, y='majority_fraction', x='quarter', hue='Gamma', palette=pal, ax=ax, legend=False)\n",
    "ax.set_ylabel(r'$\\rho$', fontsize=14)\n",
    "ax.set_xlabel('')\n",
    "ax.set_xticks([1, 2, 3, 4])\n",
    "ax.set_xticklabels(['Quarter 1', 'Quarter 2', 'Quarter 3', 'Quarter 4'])\n",
    "ax.tick_params(axis='x', labelsize=14)\n",
    "fig.tight_layout()\n",
    "\n",
    "fig.savefig('hyperparameter_line.png', dpi=300)"
   ]
  },
  {
   "cell_type": "code",
   "execution_count": 12,
   "metadata": {},
   "outputs": [
    {
     "data": {
      "image/png": "[encoded data removed]",
      "text/plain": [
       "<Figure size 720x360 with 4 Axes>"
      ]
     },
     "metadata": {
      "needs_background": "light"
     },
     "output_type": "display_data"
    }
   ],
   "source": [
    "###FIGURE: Bar graph of majority fractions over time\n",
    "pal = sns.color_palette(\"Set3\")[3:7]\n",
    "palettes = np.array([sns.light_palette(pal[i], 4) for i in range(4)])\n",
    "fig, axs = plt.subplots(1,4,figsize=(10, 5), sharey=True)\n",
    "for i in range(4):\n",
    "    ax = axs[i]\n",
    "    sns.barplot(data=hyp_data.loc[hyp_data.quarter == i+1], y='majority_fraction', x='Gamma', palette=pal, ax=ax)\n",
    "    fig.tight_layout()\n",
    "    ax.spines['bottom'].set_visible(False)\n",
    "    ax.spines['top'].set_visible(False)\n",
    "    ax.spines['right'].set_visible(False) \n",
    "    if i != 0: \n",
    "        ax.spines['left'].set_visible(False) \n",
    "        ax.set_ylabel('')\n",
    "        axs[i].tick_params(axis='y', which='both',left=False)\n",
    "    ax.set_xlabel('')  \n",
    "    ax.tick_params(axis='x', labelsize=14)\n",
    "\n",
    "axs[0].set_ylabel(r'$\\rho$', fontsize=14)\n",
    "fig.text(0.14, -0.02, 'Quarter 1                       Quarter 2                     Quarter 3                      Quarter 4', ha='left', fontsize=14)\n",
    "fig.add_artist(Line2D([0.07, 1], [0.09, 0.09], color='k', linewidth=1))\n",
    "fig.text(0.5, -0.08, 'Gamma Value', ha='center', fontsize=14)\n",
    "fig.tight_layout()\n",
    "fig.savefig('hyperparameter_bar.png', dpi=300)"
   ]
  },
  {
   "cell_type": "code",
   "execution_count": 25,
   "metadata": {},
   "outputs": [
    {
     "data": {
      "text/plain": [
       "array([[0.98431373, 0.50196078, 0.44705882],\n",
       "       [0.50196078, 0.69411765, 0.82745098],\n",
       "       [0.99215686, 0.70588235, 0.38431373],\n",
       "       [0.70196078, 0.87058824, 0.41176471]])"
      ]
     },
     "execution_count": 25,
     "metadata": {},
     "output_type": "execute_result"
    }
   ],
   "source": []
  },
  {
   "cell_type": "code",
   "execution_count": null,
   "metadata": {},
   "outputs": [],
   "source": []
  }
 ],
 "metadata": {
  "kernelspec": {
   "display_name": "Python 3.9.7 ('sundials')",
   "language": "python",
   "name": "python3"
  },
  "language_info": {
   "codemirror_mode": {
    "name": "ipython",
    "version": 3
   },
   "file_extension": ".py",
   "mimetype": "text/x-python",
   "name": "python",
   "nbconvert_exporter": "python",
   "pygments_lexer": "ipython3",
   "version": "3.9.7"
  },
  "orig_nbformat": 4,
  "vscode": {
   "interpreter": {
    "hash": "07c32881fdddda18fc4efdca8ccb6859d747bae1937efa0776c98adbd36477b4"
   }
  }
 },
 "nbformat": 4,
 "nbformat_minor": 2
}
