{
 "cells": [
  {
   "cell_type": "code",
   "execution_count": 36,
   "metadata": {},
   "outputs": [],
   "source": [
    "###Required packages\n",
    "import numpy as np\n",
    "from hyperopt import hp, fmin, tpe\n",
    "from scikits.odes.ode import ode\n",
    "import matplotlib.pyplot as plt\n",
    "import matplotlib.gridspec as gridspec\n",
    "import pandas as pd\n",
    "import seaborn as sns\n",
    "from pyDOE import lhs\n",
    "from scipy.stats.distributions import norm"
   ]
  },
  {
   "cell_type": "markdown",
   "metadata": {},
   "source": [
    "## P-Aminostyrene Synthesis Model"
   ]
  },
  {
   "cell_type": "code",
   "execution_count": 37,
   "metadata": {},
   "outputs": [],
   "source": [
    "###Helper functions\n",
    "def activation(x, k, theta, n):\n",
    "    return (k*x**n)/(theta**n + x**n)\n",
    "    \n",
    "def repression(x, k, theta, n):\n",
    "    return (k*theta**n)/(theta**n + x**n)\n",
    "\n",
    "def loss_biological(j1, j2, alpha1=1E-5, alpha2=1E-2):\n",
    "    loss = alpha1*j1 + alpha2*j2\n",
    "    return j1, j2, loss\n",
    "    \n",
    "def name_converter(A):\n",
    "    name = ''\n",
    "    for i in range(3):\n",
    "        arch = A[i]\n",
    "        if arch == (1, 0, 0, 0, 0):\n",
    "            name += 'A1'\n",
    "        elif arch == (0, 1, 0, 0, 0):\n",
    "            name += 'A2'\n",
    "        elif arch == (0, 0, 1, 0, 0):\n",
    "            name += 'R1'\n",
    "        elif arch == (0, 0, 0, 1, 0):\n",
    "            name += 'R2'\n",
    "        elif arch == (0, 0, 0, 0, 1):\n",
    "            name += 'N'\n",
    "        name += '-'\n",
    "    return name[:-1]\n",
    "\n",
    "###Model definition\n",
    "def p_aminostyrene(t, y, ydot, params):\n",
    "    #Parse input parameters\n",
    "    chorismate, pa1, pa2, pa3, paf, paca_int, paca_ext, promoter1, papA_mrna, papA_uf, papA, papB_mrna, papB_uf, papB, papC_mrna, papC_uf, papC, deaminase, promoter2, laao_mrna, laao_uf, laao, promoter3, eff_mrna, eff_uf, eff, j1, j2 = y\n",
    "    architecture, thetas, ks, perturbs = params\n",
    "    theta_paf_prom1, theta_paf_prom2, theta_paf_prom3 = thetas[0]\n",
    "    theta_paca_prom1, theta_paca_prom2, theta_paca_prom3 = thetas[1]\n",
    "    k_paf_papA, k_paf_papB, k_paf_papC, k_paf_prom2, k_paf_prom3 = ks[0]\n",
    "    k_paca_papA, k_paca_papB, k_paca_papC, k_paca_prom2, k_paca_prom3 = ks[1]\n",
    "    n = 2 #Fix n based on dimerization\n",
    "\n",
    "    #Cellular constants\n",
    "    chorismate_production_rate = 1100. #range [2E2, 2E3]\n",
    "    deaminase_production_rate =  1E1 #range [1E0, 1E2]\n",
    "    mrna_degradation_rate = 3E-3 #range [3E-4, 3E-2]\n",
    "    protein_degradation_rate = 2E-4 #range [2E-5, 2E-3]\n",
    "    protein_folding_rate = 2E0 #range [2E-1, 2E1] \n",
    "    dilution_rate = 5.79E-4\n",
    "    dna_duplication_rate = 5.78E-4\n",
    "    avogadro = 6.0221408e+23\n",
    "    cell_volume = 2.5E-15\n",
    "\n",
    "    #Toxicity factor\n",
    "    #Perturbed parameters\n",
    "    ta = perturbs[0] #range [1E-4, 1E-3]\n",
    "    tp = perturbs[1] #range [1E1, 1E2]\n",
    "    #Unperturbed parameters\n",
    "    ki = 5E-5 #range [1E-5, 1E-4]\n",
    "    tl = 50 #range [1E1, 1E2]\n",
    "    toxicity_factor = 1/(1 + (paca_int/(ki/ta) + eff/(ki/tp) + laao/(ki/tl)))\n",
    "    \n",
    "    pap_mrnalength = 3400\n",
    "    eff_mrnalength = 2900\n",
    "    laao_mrnalength = 1600\n",
    "    ribosome_elongation = 20\n",
    "    tsn_init = 2E-1\n",
    "\n",
    "    #Enzyme kinetic parameters\n",
    "    enzyme_kcat = 5E0 #range [5E-1, 5E1]\n",
    "    enzyme_km = 1E-6 #range [1E-7, 1E-5]\n",
    "    papA_kcat = 0.2975\n",
    "    papA_km = 0.056\n",
    "    papB_kcat = 39\n",
    "    papB_km = 0.38 \n",
    "    papC_kcat = 20.44\n",
    "    papC_km = 0.555\n",
    "    laao_kcat = 1.29\n",
    "    laao_km = 10.82\n",
    "    deaminase_kcat = enzyme_kcat\n",
    "    deaminase_km = enzyme_km\n",
    "    efflux_rate = 275. #range [5E1, 5E2]\n",
    "\n",
    "    #Kinetic pathway\n",
    "    chorismate_biosynthesis = chorismate_production_rate * toxicity_factor\n",
    "    deaminase_biosynthesis = deaminase_production_rate * toxicity_factor\n",
    "    papA_catalyzed_biosynthesis = papA_kcat * papA * ((chorismate / avogadro) / cell_volume) / (papA_km + ((chorismate / avogadro) / cell_volume)) * toxicity_factor\n",
    "    papB_catalyzed_biosynthesis = papB_kcat * ((pa1 / avogadro) / cell_volume) / (papB_km + ((pa1 / avogadro) / cell_volume)) * papB * toxicity_factor\n",
    "    papC_catalyzed_biosynthesis = papC_kcat * papC * ((pa2 / avogadro) / cell_volume) / (papC_km + ((pa2 / avogadro) / cell_volume)) * toxicity_factor\n",
    "    deaminase_catalyzed_biosynthesis = deaminase_kcat * deaminase * ((pa3 / avogadro) / cell_volume) / (deaminase_km + ((pa3 / avogadro) / cell_volume)) * toxicity_factor\n",
    "    laao_catalyzed_biosynthesis = laao_kcat * laao * ((paf / avogadro) / cell_volume) / (laao_km + ((paf / avogadro) / cell_volume)) * toxicity_factor\n",
    "    paca_external_efflux = eff * ((paca_int / avogadro) / cell_volume) * efflux_rate * toxicity_factor\n",
    "\n",
    "    papA_mrna_txn = np.sum(architecture[0]*np.array([activation(paf, k_paf_papA, theta_paf_prom1, n), activation(paca_int, k_paca_papA, theta_paca_prom1, n), repression(paf, k_paf_papA, theta_paf_prom1, n), repression(paca_int, k_paca_papA, theta_paca_prom1, n), k_paf_papA]))\n",
    "    papB_mrna_txn = np.sum(architecture[0]*np.array([activation(paf, k_paf_papB, theta_paf_prom1, n), activation(paca_int, k_paca_papB, theta_paca_prom1, n), repression(paf, k_paf_papB, theta_paf_prom1, n), repression(paca_int, k_paca_papB, theta_paca_prom1, n), k_paf_papB]))\n",
    "    papC_mrna_txn = np.sum(architecture[0]*np.array([activation(paf, k_paf_papC, theta_paf_prom1, n), activation(paca_int, k_paca_papC, theta_paca_prom1, n), repression(paf, k_paf_papC, theta_paf_prom1, n), repression(paca_int, k_paca_papC, theta_paca_prom1, n), k_paf_papC]))\n",
    "    laao_mrna_txn = np.sum(architecture[1]*np.array([activation(paf, k_paf_prom2, theta_paf_prom2, n), activation(paca_int, k_paca_prom2, theta_paca_prom2, n), repression(paf, k_paf_prom2, theta_paf_prom2, n), repression(paca_int, k_paca_prom2, theta_paca_prom2, n), k_paf_prom2]))\n",
    "    eff_mrna_txn = np.sum(architecture[2]*np.array([activation(paf, k_paf_prom3, theta_paf_prom3, n), activation(paca_int, k_paca_prom3, theta_paca_prom3, n), repression(paf, k_paf_prom3, theta_paf_prom3, n), repression(paca_int, k_paca_prom3, theta_paca_prom3, n), k_paf_prom3]))\n",
    "\n",
    "    papA_translation_rate = ((papA_mrna)/(tsn_init + (pap_mrnalength/ribosome_elongation)))\n",
    "    papB_translation_rate = ((papB_mrna)/(tsn_init + (pap_mrnalength/ribosome_elongation)))\n",
    "    papC_translation_rate = ((papC_mrna)/(tsn_init + (pap_mrnalength/ribosome_elongation)))\n",
    "    laao_translation_rate = ((laao_mrna)/(tsn_init + (laao_mrnalength/ribosome_elongation))) \n",
    "    eff_translation_rate = ((eff_mrna)/(tsn_init + (eff_mrnalength/ribosome_elongation))) \n",
    "\n",
    "    ydot[0] = chorismate_biosynthesis - papA_catalyzed_biosynthesis - chorismate*dilution_rate #chorismate\n",
    "    ydot[1] = papA_catalyzed_biosynthesis - papB_catalyzed_biosynthesis - pa1*dilution_rate #pa1\n",
    "    ydot[2] = papB_catalyzed_biosynthesis - papC_catalyzed_biosynthesis - pa2*dilution_rate #pa2\n",
    "    ydot[3] = papC_catalyzed_biosynthesis - deaminase_catalyzed_biosynthesis - pa3*dilution_rate #pa3\n",
    "    ydot[4] = deaminase_catalyzed_biosynthesis -  laao_catalyzed_biosynthesis - paf*dilution_rate - paf*1.40E-5 #range [1.4E-6, 1.4E-4] #paf\n",
    "    ydot[5] = laao_catalyzed_biosynthesis - paca_external_efflux - paca_int*dilution_rate #paca_int \n",
    "    ydot[6] = paca_external_efflux #paca_ext\n",
    "    ydot[7] = promoter1*dna_duplication_rate - promoter1*dilution_rate #promoter1\n",
    "    ydot[8] = papA_mrna_txn - papA_mrna * dilution_rate - papA_mrna * mrna_degradation_rate * toxicity_factor #papA_mrna\n",
    "    ydot[9] = papA_translation_rate * toxicity_factor - papA_uf * protein_folding_rate * toxicity_factor - papA_uf * dilution_rate - papA_uf * protein_degradation_rate  * toxicity_factor #papA_uf \n",
    "    ydot[10] = papA_uf * protein_folding_rate * toxicity_factor - papA * dilution_rate - papA*protein_degradation_rate*toxicity_factor  #papA \n",
    "    ydot[11] = papB_mrna_txn - papB_mrna * dilution_rate - papB_mrna * mrna_degradation_rate * toxicity_factor #papB_mrna\n",
    "    ydot[12] = papB_translation_rate * toxicity_factor - papB_uf * protein_folding_rate * toxicity_factor - papB_uf * dilution_rate - papB_uf * protein_degradation_rate  * toxicity_factor #papB_uf\n",
    "    ydot[13] = papB_uf * protein_folding_rate * toxicity_factor - papB * dilution_rate - papB*protein_degradation_rate*toxicity_factor  #papB\n",
    "    ydot[14] = papC_mrna_txn - papC_mrna * dilution_rate - papC_mrna * mrna_degradation_rate * toxicity_factor  #papC_mrna\n",
    "    ydot[15] = papC_translation_rate * toxicity_factor - papC_uf * protein_folding_rate * toxicity_factor - papC_uf * dilution_rate - papC_uf * protein_degradation_rate  * toxicity_factor #papC_uf\n",
    "    ydot[16] = papC_uf * protein_folding_rate * toxicity_factor - papC * dilution_rate - papC*protein_degradation_rate*toxicity_factor #papC\n",
    "    ydot[17] = deaminase_biosynthesis - deaminase * dilution_rate #deaminase\n",
    "    ydot[18] = promoter2*dna_duplication_rate - promoter2*dilution_rate #promoter2\n",
    "    ydot[19] = laao_mrna_txn - laao_mrna * dilution_rate - laao_mrna * mrna_degradation_rate * toxicity_factor  #laao_mrna\n",
    "    ydot[20] = laao_translation_rate * toxicity_factor - laao_uf * protein_folding_rate * toxicity_factor - laao_uf * dilution_rate - laao_uf * protein_degradation_rate  * toxicity_factor #laao_uf\n",
    "    ydot[21] = laao_uf * protein_folding_rate * toxicity_factor - laao * dilution_rate - laao*protein_degradation_rate*toxicity_factor  #laao\n",
    "    ydot[22] = promoter3*dna_duplication_rate - promoter3*dilution_rate #promoter3\n",
    "    ydot[23] = eff_mrna_txn - eff_mrna * dilution_rate - eff_mrna * mrna_degradation_rate * toxicity_factor  #eff_mrna\n",
    "    ydot[24] = eff_translation_rate * toxicity_factor - eff_uf * protein_folding_rate * toxicity_factor - eff_uf * dilution_rate - eff_uf * protein_degradation_rate  * toxicity_factor #eff_uf\n",
    "    ydot[25] = eff_uf * protein_folding_rate * toxicity_factor - eff * dilution_rate - eff*protein_degradation_rate*toxicity_factor  #eff\n",
    "\n",
    "    #J1 and J2\n",
    "    ydot[26] = (chorismate_biosynthesis - paca_external_efflux)**2\n",
    "    ydot[27] = papA_mrna_txn + papB_mrna_txn + papC_mrna_txn + laao_mrna_txn + eff_mrna_txn\n",
    "\n",
    "###Define search space\n",
    "architecture = [hp.choice('prom1', [[0, 0, 1, 0, 0], [0, 0, 0, 1, 0], [0, 0, 0, 0, 1]]), hp.choice('prom2', [[1, 0, 0, 0, 0], [0, 0, 0, 1, 0], [0, 0, 0, 0, 1]]), hp.choice('prom3', [[1, 0, 0, 0, 0], [0, 1, 0, 0, 0], [0, 0, 0, 0, 1]])]\n",
    "space = (architecture, \n",
    "            [[hp.uniform('theta_paf_prom1', 1E-7, 10), hp.uniform('theta_paf_prom2', 1E-7, 10), hp.uniform('theta_paf_prom3', 1E-7, 10)], [hp.uniform('theta_paca_prom1', 1E-7, 10), hp.uniform('theta_paca_prom2', 1E-7, 10), hp.uniform('theta_paca_prom3', 1E-7, 10)]], \n",
    "            [[hp.uniform('k_paf_papA', 1E-7, 5), hp.uniform('k_paf_papB', 1E-7, 5), hp.uniform('k_paf_papC', 1E-7, 5), hp.uniform('k_paf_prom2', 1E-7, 5), hp.uniform('k_paf_prom3', 1E-7, 5)], [hp.uniform('k_paca_papA', 1E-7, 5), hp.uniform('k_paca_papB', 1E-7, 5), hp.uniform('k_paca_papC', 1E-7, 5), hp.uniform('k_paca_prom2', 1E-7, 5), hp.uniform('k_paca_prom3', 1E-7, 5)]])\n",
    "\n",
    "###Objective function\n",
    "def run_hyperopt(max_iters):\n",
    "    losses = []\n",
    "    params = []\n",
    "    circuits = []\n",
    "\n",
    "    #Define objective function\n",
    "    def objective(args):\n",
    "        architecture, thetas, ks = args\n",
    "        #Integration conditions\n",
    "        t = np.linspace(0, 1.73E5, 200) \n",
    "        y0 = np.array([0., 0., 0., 0., 0. , 0., 0., 0., 0., 0., 0., 0. , 0., 0., 0., 0., 0., 0., 0. , 0., 0., 0., 0., 0., 0., 0., 0., 0.]) \n",
    "        extra_options = {'old_api': False, 'user_data': [architecture, thetas, ks, perturbs], 'rtol':1E-4}\n",
    "        ode_solver = ode('cvode', p_aminostyrene, **extra_options)\n",
    "        solution = ode_solver.solve(t, y0)\n",
    "        j1, j2 = solution.values.y[-1, -2:]\n",
    "        j1, j2, loss = loss_biological(j1, j2, alpha1=1E-12, alpha2=1E-7)\n",
    "        losses.append(loss)\n",
    "        params.append([thetas, ks])\n",
    "        circuits.append(architecture)\n",
    "        return loss\n",
    "\n",
    "    #Run hyperopt call\n",
    "    best = fmin(objective, space, algo=tpe.suggest, max_evals=max_iters)\n",
    "    #Create trajectory data frame\n",
    "    theta_paf_prom1s, theta_paf_prom2s, theta_paf_prom3s, theta_paca_prom1s, theta_paca_prom2s, theta_paca_prom3s = [[], [], [], [], [], []]\n",
    "    k_paf_papAs, k_paf_papBs, k_paf_papCs, k_paf_prom2s, k_paf_prom3s, k_paca_papAs, k_paca_papBs, k_paca_papCs, k_paca_prom2s, k_paca_prom3s = [[], [], [], [], [], [], [], [], [], []]\n",
    "    for i in range(len(params)):\n",
    "        thetas = params[0][0]\n",
    "        ks = params[0][1]\n",
    "        theta_paf_prom1, theta_paf_prom2, theta_paf_prom3 = thetas[0]\n",
    "        theta_paca_prom1, theta_paca_prom2, theta_paca_prom3 = thetas[1]\n",
    "        k_paf_papA, k_paf_papB, k_paf_papC, k_paf_prom2, k_paf_prom3 = ks[0]\n",
    "        k_paca_papA, k_paca_papB, k_paca_papC, k_paca_prom2, k_paca_prom3 = ks[1]\n",
    "\n",
    "        theta_paf_prom1s.append(theta_paf_prom1)\n",
    "        theta_paf_prom2s.append(theta_paf_prom2)\n",
    "        theta_paf_prom3s.append(theta_paf_prom3)\n",
    "        theta_paca_prom1s.append(theta_paca_prom1)\n",
    "        theta_paca_prom2s.append(theta_paca_prom2)\n",
    "        theta_paca_prom3s.append(theta_paca_prom3)\n",
    "        k_paf_papAs.append(k_paf_papA)\n",
    "        k_paf_papBs.append(k_paf_papB)\n",
    "        k_paf_papCs.append(k_paf_papC)\n",
    "        k_paf_prom2s.append(k_paf_prom2)\n",
    "        k_paf_prom3s.append(k_paf_prom3)\n",
    "        k_paca_papAs.append(k_paca_papA)\n",
    "        k_paca_papBs.append(k_paca_papB)\n",
    "        k_paca_papCs.append(k_paca_papC)\n",
    "        k_paca_prom2s.append(k_paca_prom2)\n",
    "        k_paca_prom3s.append(k_paca_prom3)\n",
    "\n",
    "    landscape = pd.DataFrame({'circuit':circuits, 'loss': losses, 'theta_paf_prom1':theta_paf_prom1s, 'theta_paf_prom2':theta_paf_prom2s, 'theta_paf_prom3':theta_paf_prom3s,\n",
    "                'theta_paca_prom1':theta_paca_prom1s, 'theta_paca_prom2':theta_paca_prom2s, 'theta_paca_prom3':theta_paca_prom3,\n",
    "                'k_paf_papA':k_paf_papAs, 'k_paf_papB':k_paf_papBs, 'k_paf_papC':k_paf_papCs, 'k_paf_prom2':k_paf_prom2s, 'k_paf_prom3':k_paf_prom3s,\n",
    "                'k_paca_papA':k_paca_papAs, 'k_paca_papB':k_paca_papBs, 'k_paca_papC':k_paca_papCs, 'k_paca_prom2':k_paca_prom2s, 'k_paca_prom3':k_paca_prom3s})\n",
    "\n",
    "    best_loss = 1E5\n",
    "    best_circuit = 'Initial'\n",
    "    best_losses = []\n",
    "    best_losses_circuits = []\n",
    "    for i in range(len(landscape)):\n",
    "        if landscape.loss[i] < best_loss:\n",
    "            best_loss = landscape.loss[i]\n",
    "            best_circuit = landscape.circuit[i]\n",
    "        best_losses.append(best_loss)\n",
    "        best_losses_circuits.append(best_circuit)\n",
    "    landscape['best_losses'] = best_losses\n",
    "    landscape['best_loss_circuit'] = best_losses_circuits\n",
    "    landscape['perturb1'] = perturbs[0]\n",
    "    landscape['perturb0'] = perturbs[1]\n",
    "\n",
    "    landscape['Circuit'] = [name_converter(landscape.circuit[i]) for i in range(len(landscape))]\n",
    "    landscape['Best Circuit'] = [name_converter(landscape.best_loss_circuit[i]) for i in range(len(landscape))]\n",
    "    landscape = landscape.reset_index()\n",
    "    \n",
    "    return landscape, best"
   ]
  },
  {
   "cell_type": "code",
   "execution_count": 4,
   "metadata": {},
   "outputs": [
    {
     "name": "stdout",
     "output_type": "stream",
     "text": [
      "  0%|          | 0/1000 [00:00<?, ?trial/s, best loss=?]"
     ]
    },
    {
     "name": "stderr",
     "output_type": "stream",
     "text": [
      "job exception: name 'perturbs' is not defined\n",
      "\n"
     ]
    },
    {
     "name": "stdout",
     "output_type": "stream",
     "text": [
      "  0%|          | 0/1000 [00:00<?, ?trial/s, best loss=?]\n"
     ]
    },
    {
     "ename": "NameError",
     "evalue": "name 'perturbs' is not defined",
     "output_type": "error",
     "traceback": [
      "\u001b[0;31m---------------------------------------------------------------------------\u001b[0m",
      "\u001b[0;31mNameError\u001b[0m                                 Traceback (most recent call last)",
      "\u001b[1;32m/Users/charlotte/Library/Mobile Documents/com~apple~CloudDocs/Documents/PhD/Thesis/bayesopt-dynamic-pathways/p_aminostyrene/p_aminostyrene.ipynb Cell 4'\u001b[0m in \u001b[0;36m<cell line: 3>\u001b[0;34m()\u001b[0m\n\u001b[1;32m      <a href='vscode-notebook-cell:/Users/charlotte/Library/Mobile%20Documents/com~apple~CloudDocs/Documents/PhD/Thesis/bayesopt-dynamic-pathways/p_aminostyrene/p_aminostyrene.ipynb#ch0000003?line=0'>1</a>\u001b[0m \u001b[39m###Run sample optimization\u001b[39;00m\n\u001b[1;32m      <a href='vscode-notebook-cell:/Users/charlotte/Library/Mobile%20Documents/com~apple~CloudDocs/Documents/PhD/Thesis/bayesopt-dynamic-pathways/p_aminostyrene/p_aminostyrene.ipynb#ch0000003?line=1'>2</a>\u001b[0m max_iters \u001b[39m=\u001b[39m \u001b[39m1000\u001b[39m\n\u001b[0;32m----> <a href='vscode-notebook-cell:/Users/charlotte/Library/Mobile%20Documents/com~apple~CloudDocs/Documents/PhD/Thesis/bayesopt-dynamic-pathways/p_aminostyrene/p_aminostyrene.ipynb#ch0000003?line=2'>3</a>\u001b[0m landscape, best \u001b[39m=\u001b[39m run_hyperopt(max_iters)\n\u001b[1;32m      <a href='vscode-notebook-cell:/Users/charlotte/Library/Mobile%20Documents/com~apple~CloudDocs/Documents/PhD/Thesis/bayesopt-dynamic-pathways/p_aminostyrene/p_aminostyrene.ipynb#ch0000003?line=3'>4</a>\u001b[0m landscape\u001b[39m.\u001b[39mto_csv(\u001b[39m'\u001b[39m\u001b[39msample_run.csv\u001b[39m\u001b[39m'\u001b[39m)\n",
      "\u001b[1;32m/Users/charlotte/Library/Mobile Documents/com~apple~CloudDocs/Documents/PhD/Thesis/bayesopt-dynamic-pathways/p_aminostyrene/p_aminostyrene.ipynb Cell 3'\u001b[0m in \u001b[0;36mrun_hyperopt\u001b[0;34m(max_iters)\u001b[0m\n\u001b[1;32m    <a href='vscode-notebook-cell:/Users/charlotte/Library/Mobile%20Documents/com~apple~CloudDocs/Documents/PhD/Thesis/bayesopt-dynamic-pathways/p_aminostyrene/p_aminostyrene.ipynb#ch0000002?line=159'>160</a>\u001b[0m     \u001b[39mreturn\u001b[39;00m loss\n\u001b[1;32m    <a href='vscode-notebook-cell:/Users/charlotte/Library/Mobile%20Documents/com~apple~CloudDocs/Documents/PhD/Thesis/bayesopt-dynamic-pathways/p_aminostyrene/p_aminostyrene.ipynb#ch0000002?line=161'>162</a>\u001b[0m \u001b[39m#Run hyperopt call\u001b[39;00m\n\u001b[0;32m--> <a href='vscode-notebook-cell:/Users/charlotte/Library/Mobile%20Documents/com~apple~CloudDocs/Documents/PhD/Thesis/bayesopt-dynamic-pathways/p_aminostyrene/p_aminostyrene.ipynb#ch0000002?line=162'>163</a>\u001b[0m best \u001b[39m=\u001b[39m fmin(objective, space, algo\u001b[39m=\u001b[39;49mtpe\u001b[39m.\u001b[39;49msuggest, max_evals\u001b[39m=\u001b[39;49mmax_iters)\n\u001b[1;32m    <a href='vscode-notebook-cell:/Users/charlotte/Library/Mobile%20Documents/com~apple~CloudDocs/Documents/PhD/Thesis/bayesopt-dynamic-pathways/p_aminostyrene/p_aminostyrene.ipynb#ch0000002?line=163'>164</a>\u001b[0m \u001b[39m#Create trajectory data frame\u001b[39;00m\n\u001b[1;32m    <a href='vscode-notebook-cell:/Users/charlotte/Library/Mobile%20Documents/com~apple~CloudDocs/Documents/PhD/Thesis/bayesopt-dynamic-pathways/p_aminostyrene/p_aminostyrene.ipynb#ch0000002?line=164'>165</a>\u001b[0m theta_paf_prom1s, theta_paf_prom2s, theta_paf_prom3s, theta_paca_prom1s, theta_paca_prom2s, theta_paca_prom3s \u001b[39m=\u001b[39m [[], [], [], [], [], []]\n",
      "File \u001b[0;32m~/opt/anaconda3/envs/sundials/lib/python3.9/site-packages/hyperopt/fmin.py:586\u001b[0m, in \u001b[0;36mfmin\u001b[0;34m(fn, space, algo, max_evals, timeout, loss_threshold, trials, rstate, allow_trials_fmin, pass_expr_memo_ctrl, catch_eval_exceptions, verbose, return_argmin, points_to_evaluate, max_queue_len, show_progressbar, early_stop_fn, trials_save_file)\u001b[0m\n\u001b[1;32m    583\u001b[0m rval\u001b[39m.\u001b[39mcatch_eval_exceptions \u001b[39m=\u001b[39m catch_eval_exceptions\n\u001b[1;32m    585\u001b[0m \u001b[39m# next line is where the fmin is actually executed\u001b[39;00m\n\u001b[0;32m--> 586\u001b[0m rval\u001b[39m.\u001b[39;49mexhaust()\n\u001b[1;32m    588\u001b[0m \u001b[39mif\u001b[39;00m return_argmin:\n\u001b[1;32m    589\u001b[0m     \u001b[39mif\u001b[39;00m \u001b[39mlen\u001b[39m(trials\u001b[39m.\u001b[39mtrials) \u001b[39m==\u001b[39m \u001b[39m0\u001b[39m:\n",
      "File \u001b[0;32m~/opt/anaconda3/envs/sundials/lib/python3.9/site-packages/hyperopt/fmin.py:364\u001b[0m, in \u001b[0;36mFMinIter.exhaust\u001b[0;34m(self)\u001b[0m\n\u001b[1;32m    362\u001b[0m \u001b[39mdef\u001b[39;00m \u001b[39mexhaust\u001b[39m(\u001b[39mself\u001b[39m):\n\u001b[1;32m    363\u001b[0m     n_done \u001b[39m=\u001b[39m \u001b[39mlen\u001b[39m(\u001b[39mself\u001b[39m\u001b[39m.\u001b[39mtrials)\n\u001b[0;32m--> 364\u001b[0m     \u001b[39mself\u001b[39;49m\u001b[39m.\u001b[39;49mrun(\u001b[39mself\u001b[39;49m\u001b[39m.\u001b[39;49mmax_evals \u001b[39m-\u001b[39;49m n_done, block_until_done\u001b[39m=\u001b[39;49m\u001b[39mself\u001b[39;49m\u001b[39m.\u001b[39;49masynchronous)\n\u001b[1;32m    365\u001b[0m     \u001b[39mself\u001b[39m\u001b[39m.\u001b[39mtrials\u001b[39m.\u001b[39mrefresh()\n\u001b[1;32m    366\u001b[0m     \u001b[39mreturn\u001b[39;00m \u001b[39mself\u001b[39m\n",
      "File \u001b[0;32m~/opt/anaconda3/envs/sundials/lib/python3.9/site-packages/hyperopt/fmin.py:300\u001b[0m, in \u001b[0;36mFMinIter.run\u001b[0;34m(self, N, block_until_done)\u001b[0m\n\u001b[1;32m    297\u001b[0m     time\u001b[39m.\u001b[39msleep(\u001b[39mself\u001b[39m\u001b[39m.\u001b[39mpoll_interval_secs)\n\u001b[1;32m    298\u001b[0m \u001b[39melse\u001b[39;00m:\n\u001b[1;32m    299\u001b[0m     \u001b[39m# -- loop over trials and do the jobs directly\u001b[39;00m\n\u001b[0;32m--> 300\u001b[0m     \u001b[39mself\u001b[39;49m\u001b[39m.\u001b[39;49mserial_evaluate()\n\u001b[1;32m    302\u001b[0m \u001b[39mself\u001b[39m\u001b[39m.\u001b[39mtrials\u001b[39m.\u001b[39mrefresh()\n\u001b[1;32m    303\u001b[0m \u001b[39mif\u001b[39;00m \u001b[39mself\u001b[39m\u001b[39m.\u001b[39mtrials_save_file \u001b[39m!=\u001b[39m \u001b[39m\"\u001b[39m\u001b[39m\"\u001b[39m:\n",
      "File \u001b[0;32m~/opt/anaconda3/envs/sundials/lib/python3.9/site-packages/hyperopt/fmin.py:178\u001b[0m, in \u001b[0;36mFMinIter.serial_evaluate\u001b[0;34m(self, N)\u001b[0m\n\u001b[1;32m    176\u001b[0m ctrl \u001b[39m=\u001b[39m base\u001b[39m.\u001b[39mCtrl(\u001b[39mself\u001b[39m\u001b[39m.\u001b[39mtrials, current_trial\u001b[39m=\u001b[39mtrial)\n\u001b[1;32m    177\u001b[0m \u001b[39mtry\u001b[39;00m:\n\u001b[0;32m--> 178\u001b[0m     result \u001b[39m=\u001b[39m \u001b[39mself\u001b[39;49m\u001b[39m.\u001b[39;49mdomain\u001b[39m.\u001b[39;49mevaluate(spec, ctrl)\n\u001b[1;32m    179\u001b[0m \u001b[39mexcept\u001b[39;00m \u001b[39mException\u001b[39;00m \u001b[39mas\u001b[39;00m e:\n\u001b[1;32m    180\u001b[0m     logger\u001b[39m.\u001b[39merror(\u001b[39m\"\u001b[39m\u001b[39mjob exception: \u001b[39m\u001b[39m%s\u001b[39;00m\u001b[39m\"\u001b[39m \u001b[39m%\u001b[39m \u001b[39mstr\u001b[39m(e))\n",
      "File \u001b[0;32m~/opt/anaconda3/envs/sundials/lib/python3.9/site-packages/hyperopt/base.py:892\u001b[0m, in \u001b[0;36mDomain.evaluate\u001b[0;34m(self, config, ctrl, attach_attachments)\u001b[0m\n\u001b[1;32m    883\u001b[0m \u001b[39melse\u001b[39;00m:\n\u001b[1;32m    884\u001b[0m     \u001b[39m# -- the \"work\" of evaluating `config` can be written\u001b[39;00m\n\u001b[1;32m    885\u001b[0m     \u001b[39m#    either into the pyll part (self.expr)\u001b[39;00m\n\u001b[1;32m    886\u001b[0m     \u001b[39m#    or the normal Python part (self.fn)\u001b[39;00m\n\u001b[1;32m    887\u001b[0m     pyll_rval \u001b[39m=\u001b[39m pyll\u001b[39m.\u001b[39mrec_eval(\n\u001b[1;32m    888\u001b[0m         \u001b[39mself\u001b[39m\u001b[39m.\u001b[39mexpr,\n\u001b[1;32m    889\u001b[0m         memo\u001b[39m=\u001b[39mmemo,\n\u001b[1;32m    890\u001b[0m         print_node_on_error\u001b[39m=\u001b[39m\u001b[39mself\u001b[39m\u001b[39m.\u001b[39mrec_eval_print_node_on_error,\n\u001b[1;32m    891\u001b[0m     )\n\u001b[0;32m--> 892\u001b[0m     rval \u001b[39m=\u001b[39m \u001b[39mself\u001b[39;49m\u001b[39m.\u001b[39;49mfn(pyll_rval)\n\u001b[1;32m    894\u001b[0m \u001b[39mif\u001b[39;00m \u001b[39misinstance\u001b[39m(rval, (\u001b[39mfloat\u001b[39m, \u001b[39mint\u001b[39m, np\u001b[39m.\u001b[39mnumber)):\n\u001b[1;32m    895\u001b[0m     dict_rval \u001b[39m=\u001b[39m {\u001b[39m\"\u001b[39m\u001b[39mloss\u001b[39m\u001b[39m\"\u001b[39m: \u001b[39mfloat\u001b[39m(rval), \u001b[39m\"\u001b[39m\u001b[39mstatus\u001b[39m\u001b[39m\"\u001b[39m: STATUS_OK}\n",
      "\u001b[1;32m/Users/charlotte/Library/Mobile Documents/com~apple~CloudDocs/Documents/PhD/Thesis/bayesopt-dynamic-pathways/p_aminostyrene/p_aminostyrene.ipynb Cell 3'\u001b[0m in \u001b[0;36mrun_hyperopt.<locals>.objective\u001b[0;34m(args)\u001b[0m\n\u001b[1;32m    <a href='vscode-notebook-cell:/Users/charlotte/Library/Mobile%20Documents/com~apple~CloudDocs/Documents/PhD/Thesis/bayesopt-dynamic-pathways/p_aminostyrene/p_aminostyrene.ipynb#ch0000002?line=149'>150</a>\u001b[0m t \u001b[39m=\u001b[39m np\u001b[39m.\u001b[39mlinspace(\u001b[39m0\u001b[39m, \u001b[39m1.73E5\u001b[39m, \u001b[39m200\u001b[39m) \n\u001b[1;32m    <a href='vscode-notebook-cell:/Users/charlotte/Library/Mobile%20Documents/com~apple~CloudDocs/Documents/PhD/Thesis/bayesopt-dynamic-pathways/p_aminostyrene/p_aminostyrene.ipynb#ch0000002?line=150'>151</a>\u001b[0m y0 \u001b[39m=\u001b[39m np\u001b[39m.\u001b[39marray([\u001b[39m0.\u001b[39m, \u001b[39m0.\u001b[39m, \u001b[39m0.\u001b[39m, \u001b[39m0.\u001b[39m, \u001b[39m0.\u001b[39m , \u001b[39m0.\u001b[39m, \u001b[39m0.\u001b[39m, \u001b[39m0.\u001b[39m, \u001b[39m0.\u001b[39m, \u001b[39m0.\u001b[39m, \u001b[39m0.\u001b[39m, \u001b[39m0.\u001b[39m , \u001b[39m0.\u001b[39m, \u001b[39m0.\u001b[39m, \u001b[39m0.\u001b[39m, \u001b[39m0.\u001b[39m, \u001b[39m0.\u001b[39m, \u001b[39m0.\u001b[39m, \u001b[39m0.\u001b[39m , \u001b[39m0.\u001b[39m, \u001b[39m0.\u001b[39m, \u001b[39m0.\u001b[39m, \u001b[39m0.\u001b[39m, \u001b[39m0.\u001b[39m, \u001b[39m0.\u001b[39m, \u001b[39m0.\u001b[39m, \u001b[39m0.\u001b[39m, \u001b[39m0.\u001b[39m]) \n\u001b[0;32m--> <a href='vscode-notebook-cell:/Users/charlotte/Library/Mobile%20Documents/com~apple~CloudDocs/Documents/PhD/Thesis/bayesopt-dynamic-pathways/p_aminostyrene/p_aminostyrene.ipynb#ch0000002?line=151'>152</a>\u001b[0m extra_options \u001b[39m=\u001b[39m {\u001b[39m'\u001b[39m\u001b[39mold_api\u001b[39m\u001b[39m'\u001b[39m: \u001b[39mFalse\u001b[39;00m, \u001b[39m'\u001b[39m\u001b[39muser_data\u001b[39m\u001b[39m'\u001b[39m: [architecture, thetas, ks, perturbs], \u001b[39m'\u001b[39m\u001b[39mrtol\u001b[39m\u001b[39m'\u001b[39m:\u001b[39m1E-4\u001b[39m}\n\u001b[1;32m    <a href='vscode-notebook-cell:/Users/charlotte/Library/Mobile%20Documents/com~apple~CloudDocs/Documents/PhD/Thesis/bayesopt-dynamic-pathways/p_aminostyrene/p_aminostyrene.ipynb#ch0000002?line=152'>153</a>\u001b[0m ode_solver \u001b[39m=\u001b[39m ode(\u001b[39m'\u001b[39m\u001b[39mcvode\u001b[39m\u001b[39m'\u001b[39m, p_aminostyrene, \u001b[39m*\u001b[39m\u001b[39m*\u001b[39mextra_options)\n\u001b[1;32m    <a href='vscode-notebook-cell:/Users/charlotte/Library/Mobile%20Documents/com~apple~CloudDocs/Documents/PhD/Thesis/bayesopt-dynamic-pathways/p_aminostyrene/p_aminostyrene.ipynb#ch0000002?line=153'>154</a>\u001b[0m solution \u001b[39m=\u001b[39m ode_solver\u001b[39m.\u001b[39msolve(t, y0)\n",
      "\u001b[0;31mNameError\u001b[0m: name 'perturbs' is not defined"
     ]
    }
   ],
   "source": [
    "###Run sample optimization\n",
    "max_iters = 1000\n",
    "landscape, best = run_hyperopt(max_iters)\n",
    "#landscape.to_csv('sample_run.csv')"
   ]
  },
  {
   "cell_type": "code",
   "execution_count": 1,
   "metadata": {},
   "outputs": [
    {
     "ename": "NameError",
     "evalue": "name 'sns' is not defined",
     "output_type": "error",
     "traceback": [
      "\u001b[0;31m---------------------------------------------------------------------------\u001b[0m",
      "\u001b[0;31mNameError\u001b[0m                                 Traceback (most recent call last)",
      "\u001b[1;32m/Users/charlotte/Library/Mobile Documents/com~apple~CloudDocs/Documents/PhD/Thesis/bayesopt-dynamic-pathways/p_aminostyrene/p_aminostyrene.ipynb Cell 5'\u001b[0m in \u001b[0;36m<cell line: 9>\u001b[0;34m()\u001b[0m\n\u001b[1;32m      <a href='vscode-notebook-cell:/Users/charlotte/Library/Mobile%20Documents/com~apple~CloudDocs/Documents/PhD/Thesis/bayesopt-dynamic-pathways/p_aminostyrene/p_aminostyrene.ipynb#ch0000004?line=2'>3</a>\u001b[0m orders \u001b[39m=\u001b[39m [\u001b[39m'\u001b[39m\u001b[39mR2-A1-N\u001b[39m\u001b[39m'\u001b[39m,\u001b[39m'\u001b[39m\u001b[39mN-A1-A1\u001b[39m\u001b[39m'\u001b[39m, \u001b[39m'\u001b[39m\u001b[39mR1-A1-A2\u001b[39m\u001b[39m'\u001b[39m, \u001b[39m'\u001b[39m\u001b[39mR2-R2-A2\u001b[39m\u001b[39m'\u001b[39m, \n\u001b[1;32m      <a href='vscode-notebook-cell:/Users/charlotte/Library/Mobile%20Documents/com~apple~CloudDocs/Documents/PhD/Thesis/bayesopt-dynamic-pathways/p_aminostyrene/p_aminostyrene.ipynb#ch0000004?line=3'>4</a>\u001b[0m        \u001b[39m'\u001b[39m\u001b[39mR2-N-N\u001b[39m\u001b[39m'\u001b[39m, \u001b[39m'\u001b[39m\u001b[39mR2-R2-A1\u001b[39m\u001b[39m'\u001b[39m, \u001b[39m'\u001b[39m\u001b[39mR1-A1-N\u001b[39m\u001b[39m'\u001b[39m, \u001b[39m'\u001b[39m\u001b[39mR1-N-N\u001b[39m\u001b[39m'\u001b[39m, \u001b[39m'\u001b[39m\u001b[39mR2-N-A2\u001b[39m\u001b[39m'\u001b[39m, \u001b[39m'\u001b[39m\u001b[39mR1-R2-A1\u001b[39m\u001b[39m'\u001b[39m, \u001b[39m'\u001b[39m\u001b[39mN-N-N\u001b[39m\u001b[39m'\u001b[39m, \n\u001b[1;32m      <a href='vscode-notebook-cell:/Users/charlotte/Library/Mobile%20Documents/com~apple~CloudDocs/Documents/PhD/Thesis/bayesopt-dynamic-pathways/p_aminostyrene/p_aminostyrene.ipynb#ch0000004?line=4'>5</a>\u001b[0m        \u001b[39m'\u001b[39m\u001b[39mR2-A1-A1\u001b[39m\u001b[39m'\u001b[39m, \u001b[39m'\u001b[39m\u001b[39mN-N-A1\u001b[39m\u001b[39m'\u001b[39m, \u001b[39m'\u001b[39m\u001b[39mN-R2-N\u001b[39m\u001b[39m'\u001b[39m, \u001b[39m'\u001b[39m\u001b[39mN-A1-N\u001b[39m\u001b[39m'\u001b[39m, \u001b[39m'\u001b[39m\u001b[39mN-R2-A1\u001b[39m\u001b[39m'\u001b[39m, \n\u001b[1;32m      <a href='vscode-notebook-cell:/Users/charlotte/Library/Mobile%20Documents/com~apple~CloudDocs/Documents/PhD/Thesis/bayesopt-dynamic-pathways/p_aminostyrene/p_aminostyrene.ipynb#ch0000004?line=5'>6</a>\u001b[0m        \u001b[39m'\u001b[39m\u001b[39mN-R2-A2\u001b[39m\u001b[39m'\u001b[39m, \u001b[39m'\u001b[39m\u001b[39mR1-N-A1\u001b[39m\u001b[39m'\u001b[39m, \u001b[39m'\u001b[39m\u001b[39mR2-A1-A2\u001b[39m\u001b[39m'\u001b[39m, \u001b[39m'\u001b[39m\u001b[39mR1-A1-A1\u001b[39m\u001b[39m'\u001b[39m, \u001b[39m'\u001b[39m\u001b[39mR2-N-A1\u001b[39m\u001b[39m'\u001b[39m, \u001b[39m'\u001b[39m\u001b[39mR1-R2-N\u001b[39m\u001b[39m'\u001b[39m, \u001b[39m'\u001b[39m\u001b[39mR2-R2-N\u001b[39m\u001b[39m'\u001b[39m,\n\u001b[1;32m      <a href='vscode-notebook-cell:/Users/charlotte/Library/Mobile%20Documents/com~apple~CloudDocs/Documents/PhD/Thesis/bayesopt-dynamic-pathways/p_aminostyrene/p_aminostyrene.ipynb#ch0000004?line=6'>7</a>\u001b[0m        \u001b[39m'\u001b[39m\u001b[39mN-N-A2\u001b[39m\u001b[39m'\u001b[39m, \u001b[39m'\u001b[39m\u001b[39mN-A1-A2\u001b[39m\u001b[39m'\u001b[39m, \u001b[39m'\u001b[39m\u001b[39mR1-N-A2\u001b[39m\u001b[39m'\u001b[39m, \u001b[39m'\u001b[39m\u001b[39mR1-R2-A2\u001b[39m\u001b[39m'\u001b[39m]\n\u001b[1;32m      <a href='vscode-notebook-cell:/Users/charlotte/Library/Mobile%20Documents/com~apple~CloudDocs/Documents/PhD/Thesis/bayesopt-dynamic-pathways/p_aminostyrene/p_aminostyrene.ipynb#ch0000004?line=7'>8</a>\u001b[0m palette \u001b[39m=\u001b[39m {}\n\u001b[0;32m----> <a href='vscode-notebook-cell:/Users/charlotte/Library/Mobile%20Documents/com~apple~CloudDocs/Documents/PhD/Thesis/bayesopt-dynamic-pathways/p_aminostyrene/p_aminostyrene.ipynb#ch0000004?line=8'>9</a>\u001b[0m pal \u001b[39m=\u001b[39m sns\u001b[39m.\u001b[39mcolor_palette(\u001b[39m'\u001b[39m\u001b[39mSpectral\u001b[39m\u001b[39m'\u001b[39m, \u001b[39mlen\u001b[39m(orders))\n\u001b[1;32m     <a href='vscode-notebook-cell:/Users/charlotte/Library/Mobile%20Documents/com~apple~CloudDocs/Documents/PhD/Thesis/bayesopt-dynamic-pathways/p_aminostyrene/p_aminostyrene.ipynb#ch0000004?line=9'>10</a>\u001b[0m \u001b[39mfor\u001b[39;00m i \u001b[39min\u001b[39;00m \u001b[39mrange\u001b[39m(\u001b[39mlen\u001b[39m(orders)):\n\u001b[1;32m     <a href='vscode-notebook-cell:/Users/charlotte/Library/Mobile%20Documents/com~apple~CloudDocs/Documents/PhD/Thesis/bayesopt-dynamic-pathways/p_aminostyrene/p_aminostyrene.ipynb#ch0000004?line=10'>11</a>\u001b[0m     palette[orders[i]] \u001b[39m=\u001b[39m pal[i]\n",
      "\u001b[0;31mNameError\u001b[0m: name 'sns' is not defined"
     ]
    }
   ],
   "source": [
    "###FIGURE: Sample results\n",
    "#TUNE ORDER MANUALLY\n",
    "orders = ['R2-A1-N','N-A1-A1', 'R1-A1-A2', 'R2-R2-A2', \n",
    "       'R2-N-N', 'R2-R2-A1', 'R1-A1-N', 'R1-N-N', 'R2-N-A2', 'R1-R2-A1', 'N-N-N', \n",
    "       'R2-A1-A1', 'N-N-A1', 'N-R2-N', 'N-A1-N', 'N-R2-A1', \n",
    "       'N-R2-A2', 'R1-N-A1', 'R2-A1-A2', 'R1-A1-A1', 'R2-N-A1', 'R1-R2-N', 'R2-R2-N',\n",
    "       'N-N-A2', 'N-A1-A2', 'R1-N-A2', 'R1-R2-A2']\n",
    "palette = {}\n",
    "pal = sns.color_palette('Spectral', len(orders))\n",
    "for i in range(len(orders)):\n",
    "    palette[orders[i]] = pal[i]\n",
    "\n",
    "\n",
    "fig = plt.figure(figsize=(15, 6))\n",
    "gs = gridspec.GridSpec(nrows=2, ncols=5, height_ratios=[1,4 ], width_ratios=[3, 1, 1, 1, 1])\n",
    "\n",
    "ax = fig.add_subplot(gs[:, 0])\n",
    "prev_c = 'Initial'\n",
    "starts = []\n",
    "archs = [prev_c]\n",
    "for i in range(len(landscape)):\n",
    "    c = landscape['Best Circuit'][i]\n",
    "    if c != prev_c: \n",
    "        starts.append(i)\n",
    "        archs.append(c)\n",
    "        prev_c = c\n",
    "starts\n",
    "stops = starts[1:]\n",
    "stops.append(len(landscape))\n",
    "\n",
    "for start, stop, a in zip(starts, stops, archs[1:]):\n",
    "    ax.plot(landscape.index[start:stop+1], landscape.best_losses[start:stop+1], color=palette[a], linewidth=3)\n",
    "ax.set_ylabel('Objective Function Value (log)', fontsize=14)\n",
    "ax.set_yscale('log')\n",
    "ax.set_xlabel('Number of Iterations', fontsize=14)\n",
    "\n",
    "ax = fig.add_subplot(gs[1, 1:])\n",
    "ax.set_xlabel('Number of Iterations', fontsize=14)\n",
    "ax.set_yscale('log')\n",
    "ax.set_ylim([10E-3, 10E-1])\n",
    "sns.scatterplot(x='index', y='loss', hue='Circuit', data=landscape, ax=ax, hue_order=orders, palette=palette)\n",
    "ax.vlines(250, 0, 10E9, linestyles='dashed')\n",
    "ax.vlines(500, 0, 10E9, linestyles='dashed')\n",
    "ax.vlines(750, 0, 10E9, linestyles='dashed')\n",
    "ax.set_ylabel(None)\n",
    "\n",
    "\n",
    "quarter1 = (landscape.iloc[0:250].sort_values(by='Circuit').groupby('Circuit').count().loss/200).reset_index()\n",
    "quarter2 = (landscape.iloc[250:500].sort_values(by='Circuit').groupby('Circuit').count().loss/200).reset_index()\n",
    "quarter3 = (landscape.iloc[500:750].sort_values(by='Circuit').groupby('Circuit').count().loss/200).reset_index()\n",
    "quarter4 = (landscape.iloc[750:1000].sort_values(by='Circuit').groupby('Circuit').count().loss/200).reset_index()\n",
    "colors = list(palette.values())\n",
    "\n",
    "ax = fig.add_subplot(gs[0, 1])\n",
    "ax.pie(quarter1.loss, colors=[palette[a] for a in quarter1.Circuit.unique().tolist()])\n",
    "\n",
    "ax = fig.add_subplot(gs[0, 2])\n",
    "ax.pie(quarter2.loss, colors=[palette[a] for a in quarter2.Circuit.unique().tolist()])\n",
    "\n",
    "ax = fig.add_subplot(gs[0, 3])\n",
    "ax.pie(quarter3.loss, colors=[palette[a] for a in quarter3.Circuit.unique().tolist()])\n",
    "\n",
    "ax = fig.add_subplot(gs[0, 4])\n",
    "ax.pie(quarter4.loss, colors=[palette[a] for a in quarter4.Circuit.unique().tolist()])\n",
    "\n",
    "fig.tight_layout()\n",
    "fig.savefig('sample_results.png', dpi=300)"
   ]
  },
  {
   "cell_type": "code",
   "execution_count": 24,
   "metadata": {},
   "outputs": [
    {
     "name": "stdout",
     "output_type": "stream",
     "text": [
      "100%|██████████| 1000/1000 [01:34<00:00, 10.63trial/s, best loss: 0.003208116809258693]\n",
      "100%|██████████| 1000/1000 [03:46<00:00,  4.42trial/s, best loss: 0.0044406282594907365]\n",
      "100%|██████████| 1000/1000 [01:38<00:00, 10.19trial/s, best loss: 0.0031775348191395297]\n",
      "100%|██████████| 1000/1000 [01:32<00:00, 10.85trial/s, best loss: 0.004484776428406888]\n",
      "100%|██████████| 1000/1000 [03:09<00:00,  5.28trial/s, best loss: 0.0020664161922146398]\n",
      "100%|██████████| 1000/1000 [03:44<00:00,  4.46trial/s, best loss: 0.009813647191701965]\n",
      " 34%|███▍      | 342/1000 [01:10<01:53,  5.78trial/s, best loss: 0.0]                 "
     ]
    },
    {
     "name": "stderr",
     "output_type": "stream",
     "text": [
      "\n",
      "[CVODE ERROR]  CVode\n",
      "  At t = 823.862, mxstep steps taken before reaching tout.\n",
      "\n"
     ]
    },
    {
     "name": "stdout",
     "output_type": "stream",
     "text": [
      " 64%|██████▍   | 638/1000 [02:22<01:17,  4.64trial/s, best loss: 0.0]"
     ]
    },
    {
     "name": "stderr",
     "output_type": "stream",
     "text": [
      "\n",
      "[CVODE ERROR]  CVode\n",
      "  At t = 852.207, mxstep steps taken before reaching tout.\n",
      "\n"
     ]
    },
    {
     "name": "stdout",
     "output_type": "stream",
     "text": [
      "100%|██████████| 1000/1000 [03:55<00:00,  4.25trial/s, best loss: 0.0]\n",
      "100%|██████████| 1000/1000 [03:45<00:00,  4.42trial/s, best loss: 0.009381170050034759]\n",
      "100%|██████████| 1000/1000 [01:30<00:00, 11.10trial/s, best loss: 0.0038530649923709456]\n",
      "100%|██████████| 1000/1000 [03:35<00:00,  4.63trial/s, best loss: 0.009388131241881172]\n",
      "100%|██████████| 1000/1000 [01:39<00:00, 10.10trial/s, best loss: 0.002219354832309759]\n",
      "100%|██████████| 1000/1000 [13:05<00:00,  1.27trial/s, best loss: 0.0002763393156708608] \n",
      "100%|██████████| 1000/1000 [02:03<00:00,  8.08trial/s, best loss: 0.0017798598865366036]\n",
      "100%|██████████| 1000/1000 [02:09<00:00,  7.75trial/s, best loss: 0.0037165729832625903]\n",
      "100%|██████████| 1000/1000 [01:38<00:00, 10.19trial/s, best loss: 0.0038763839320093674]\n",
      "100%|██████████| 1000/1000 [01:48<00:00,  9.25trial/s, best loss: 0.00355243185395083]\n",
      "100%|██████████| 1000/1000 [01:45<00:00,  9.47trial/s, best loss: 0.0005022384170229969]\n",
      "100%|██████████| 1000/1000 [26:51<00:00,  1.61s/trial, best loss: 0.008857409598244593]   \n",
      "100%|██████████| 1000/1000 [03:00<00:00,  5.53trial/s, best loss: 0.00168432395164985] \n",
      "100%|██████████| 1000/1000 [01:29<00:00, 11.13trial/s, best loss: 0.006450530463646913]\n",
      "100%|██████████| 1000/1000 [03:43<00:00,  4.47trial/s, best loss: 0.00863064455388448]\n",
      " 19%|█▉        | 189/1000 [00:39<02:04,  6.52trial/s, best loss: 0.0]                 "
     ]
    },
    {
     "name": "stderr",
     "output_type": "stream",
     "text": [
      "\n",
      "[CVODE ERROR]  CVode\n",
      "  At t = 595.986, mxstep steps taken before reaching tout.\n",
      "\n"
     ]
    },
    {
     "name": "stdout",
     "output_type": "stream",
     "text": [
      "100%|██████████| 1000/1000 [11:41<00:00,  1.43trial/s, best loss: 0.0]  \n",
      "100%|██████████| 1000/1000 [03:47<00:00,  4.40trial/s, best loss: 0.010589742174842043]\n",
      "100%|██████████| 1000/1000 [02:08<00:00,  7.81trial/s, best loss: 0.0019598505633092933]\n",
      "100%|██████████| 1000/1000 [02:48<00:00,  5.94trial/s, best loss: 0.0005004950833839866]\n",
      "100%|██████████| 1000/1000 [06:28<00:00,  2.58trial/s, best loss: 0.0018092692812440568] \n",
      "100%|██████████| 1000/1000 [2:15:21<00:00,  8.12s/trial, best loss: 0.003572402232923527]   \n",
      "100%|██████████| 1000/1000 [12:34<00:00,  1.33trial/s, best loss: 0.006450028333274833]\n",
      "100%|██████████| 1000/1000 [03:45<00:00,  4.44trial/s, best loss: 0.005483998516819977]\n",
      " 48%|████▊     | 480/1000 [02:02<01:47,  4.84trial/s, best loss: 0.0]                 "
     ]
    },
    {
     "name": "stderr",
     "output_type": "stream",
     "text": [
      "\n",
      "[CVODE ERROR]  CVode\n",
      "  At t = 799.828, mxstep steps taken before reaching tout.\n",
      "\n"
     ]
    },
    {
     "name": "stdout",
     "output_type": "stream",
     "text": [
      " 78%|███████▊  | 779/1000 [03:30<00:51,  4.33trial/s, best loss: 0.0]"
     ]
    },
    {
     "name": "stderr",
     "output_type": "stream",
     "text": [
      "\n",
      "[CVODE ERROR]  CVode\n",
      "  At t = 807.633, mxstep steps taken before reaching tout.\n",
      "\n"
     ]
    },
    {
     "name": "stdout",
     "output_type": "stream",
     "text": [
      "100%|██████████| 1000/1000 [04:40<00:00,  3.57trial/s, best loss: 0.0]\n",
      "100%|██████████| 1000/1000 [04:53<00:00,  3.41trial/s, best loss: 0.007849688186288343]\n",
      "100%|██████████| 1000/1000 [05:08<00:00,  3.24trial/s, best loss: 0.009973009314272122]\n",
      "100%|██████████| 1000/1000 [04:51<00:00,  3.43trial/s, best loss: 0.005373916742762622]\n",
      "100%|██████████| 1000/1000 [02:10<00:00,  7.69trial/s, best loss: 0.004897780036773592]\n",
      "100%|██████████| 1000/1000 [04:11<00:00,  3.97trial/s, best loss: 0.006864921126790325]\n",
      "100%|██████████| 1000/1000 [03:57<00:00,  4.22trial/s, best loss: 0.009436548093709047]\n",
      "100%|██████████| 1000/1000 [05:22<00:00,  3.10trial/s, best loss: 0.008689521494047588]\n",
      "100%|██████████| 1000/1000 [04:57<00:00,  3.36trial/s, best loss: 0.006895142417676197]\n",
      "100%|██████████| 1000/1000 [05:32<00:00,  3.01trial/s, best loss: 0.008666195665435427]\n",
      "100%|██████████| 1000/1000 [05:01<00:00,  3.32trial/s, best loss: 0.009530925348654976]\n",
      "100%|██████████| 1000/1000 [02:18<00:00,  7.21trial/s, best loss: 0.001609074920226874]\n",
      "100%|██████████| 1000/1000 [03:16<00:00,  5.08trial/s, best loss: 0.0021867263675787426]\n",
      "100%|██████████| 1000/1000 [02:32<00:00,  6.55trial/s, best loss: 0.00288537336240065] \n",
      "100%|██████████| 1000/1000 [05:43<00:00,  2.91trial/s, best loss: 0.0074520774572749155]\n",
      "100%|██████████| 1000/1000 [02:25<00:00,  6.86trial/s, best loss: 0.002279987575428819]\n",
      "100%|██████████| 1000/1000 [02:57<00:00,  5.64trial/s, best loss: 0.0018244007256672308]\n",
      " 50%|████▉     | 498/1000 [01:54<01:25,  5.85trial/s, best loss: 0.0]                 "
     ]
    },
    {
     "name": "stderr",
     "output_type": "stream",
     "text": [
      "\n",
      "[CVODE ERROR]  CVode\n",
      "  At t = 707.252, mxstep steps taken before reaching tout.\n",
      "\n"
     ]
    },
    {
     "name": "stdout",
     "output_type": "stream",
     "text": [
      "100%|██████████| 1000/1000 [03:51<00:00,  4.31trial/s, best loss: 0.0]\n",
      " 22%|██▏       | 215/1000 [00:44<02:35,  5.04trial/s, best loss: 0.0]                 "
     ]
    },
    {
     "name": "stderr",
     "output_type": "stream",
     "text": [
      "\n",
      "[CVODE ERROR]  CVode\n",
      "  At t = 862.684, mxstep steps taken before reaching tout.\n",
      "\n"
     ]
    },
    {
     "name": "stdout",
     "output_type": "stream",
     "text": [
      "100%|██████████| 1000/1000 [04:03<00:00,  4.11trial/s, best loss: 0.0]\n",
      "100%|██████████| 1000/1000 [04:20<00:00,  3.84trial/s, best loss: 0.007695000588861455]\n",
      "100%|██████████| 1000/1000 [04:01<00:00,  4.15trial/s, best loss: 0.013279435343812592]\n",
      "100%|██████████| 1000/1000 [03:32<00:00,  4.71trial/s, best loss: 0.006648348978112049]\n",
      "100%|██████████| 1000/1000 [04:06<00:00,  4.06trial/s, best loss: 0.004922007998727349]\n",
      "100%|██████████| 1000/1000 [01:48<00:00,  9.23trial/s, best loss: 0.0001665360811146938]\n",
      " 25%|██▌       | 250/1000 [00:51<02:54,  4.31trial/s, best loss: 0.0]                 "
     ]
    },
    {
     "name": "stderr",
     "output_type": "stream",
     "text": [
      "\n",
      "[CVODE ERROR]  CVode\n",
      "  At t = 681.338, mxstep steps taken before reaching tout.\n",
      "\n"
     ]
    },
    {
     "name": "stdout",
     "output_type": "stream",
     "text": [
      "100%|██████████| 1000/1000 [04:20<00:00,  3.84trial/s, best loss: 0.0]\n",
      "100%|██████████| 1000/1000 [04:15<00:00,  3.92trial/s, best loss: 0.009264381633376109]\n",
      "100%|██████████| 1000/1000 [04:14<00:00,  3.92trial/s, best loss: 0.008071048748772507]\n",
      "  6%|▌         | 61/1000 [00:06<01:08, 13.73trial/s, best loss: 0.0]                 "
     ]
    },
    {
     "name": "stderr",
     "output_type": "stream",
     "text": [
      "\n",
      "[CVODE ERROR]  CVode\n",
      "  At t = 848.407, mxstep steps taken before reaching tout.\n",
      "\n"
     ]
    },
    {
     "name": "stdout",
     "output_type": "stream",
     "text": [
      "100%|██████████| 1000/1000 [02:24<00:00,  6.90trial/s, best loss: 0.0]\n",
      "100%|██████████| 1000/1000 [04:14<00:00,  3.92trial/s, best loss: 0.006220996675991405]\n",
      "100%|██████████| 1000/1000 [04:32<00:00,  3.67trial/s, best loss: 0.0068435522959670375]\n",
      "100%|██████████| 1000/1000 [04:30<00:00,  3.70trial/s, best loss: 0.005952480918982027]\n",
      "100%|██████████| 1000/1000 [04:33<00:00,  3.66trial/s, best loss: 0.010256822722994498]\n",
      " 27%|██▋       | 268/1000 [01:00<02:40,  4.57trial/s, best loss: 0.0]                 "
     ]
    },
    {
     "name": "stderr",
     "output_type": "stream",
     "text": [
      "\n",
      "[CVODE ERROR]  CVode\n",
      "  At t = 819.103, mxstep steps taken before reaching tout.\n",
      "\n"
     ]
    },
    {
     "name": "stdout",
     "output_type": "stream",
     "text": [
      "100%|██████████| 1000/1000 [04:19<00:00,  3.85trial/s, best loss: 0.0]\n",
      "100%|██████████| 1000/1000 [04:18<00:00,  3.86trial/s, best loss: 0.009472437863396892]\n",
      "100%|██████████| 1000/1000 [03:21<00:00,  4.96trial/s, best loss: 0.0051053524090097545]\n",
      "100%|██████████| 1000/1000 [02:11<00:00,  7.59trial/s, best loss: 0.0016706727338656779]\n",
      " 40%|███▉      | 399/1000 [01:32<02:40,  3.75trial/s, best loss: 0.0]                 "
     ]
    },
    {
     "name": "stderr",
     "output_type": "stream",
     "text": [
      "\n",
      "[CVODE ERROR]  CVode\n",
      "  At t = 765.138, mxstep steps taken before reaching tout.\n",
      "\n"
     ]
    },
    {
     "name": "stdout",
     "output_type": "stream",
     "text": [
      "100%|██████████| 1000/1000 [03:50<00:00,  4.34trial/s, best loss: 0.0]\n",
      "100%|██████████| 1000/1000 [01:57<00:00,  8.49trial/s, best loss: 0.0017429710439869379]\n",
      "100%|██████████| 1000/1000 [04:08<00:00,  4.03trial/s, best loss: 0.012598801254411086]\n",
      "100%|██████████| 1000/1000 [03:37<00:00,  4.59trial/s, best loss: 0.00705689002692013]\n",
      " 31%|███▏      | 314/1000 [01:19<02:47,  4.10trial/s, best loss: 0.0]                 "
     ]
    },
    {
     "name": "stderr",
     "output_type": "stream",
     "text": [
      "\n",
      "[CVODE ERROR]  CVode\n",
      "  At t = 800.006, mxstep steps taken before reaching tout.\n",
      "\n"
     ]
    },
    {
     "name": "stdout",
     "output_type": "stream",
     "text": [
      "100%|██████████| 1000/1000 [03:49<00:00,  4.36trial/s, best loss: 0.0]\n",
      "100%|██████████| 1000/1000 [03:54<00:00,  4.27trial/s, best loss: 0.012424357482222528]\n",
      "100%|██████████| 1000/1000 [04:11<00:00,  3.97trial/s, best loss: 0.010304549006542745]\n",
      "100%|██████████| 1000/1000 [04:26<00:00,  3.75trial/s, best loss: 0.008631014359929327]\n",
      "100%|██████████| 1000/1000 [02:22<00:00,  7.00trial/s, best loss: 0.00024098178202227262]\n",
      "100%|██████████| 1000/1000 [04:05<00:00,  4.07trial/s, best loss: 0.007795486221294249]\n",
      "100%|██████████| 1000/1000 [04:29<00:00,  3.71trial/s, best loss: 0.006669757374492623]\n",
      " 28%|██▊       | 277/1000 [01:04<02:47,  4.32trial/s, best loss: 0.0]                 "
     ]
    },
    {
     "name": "stderr",
     "output_type": "stream",
     "text": [
      "\n",
      "[CVODE ERROR]  CVode\n",
      "  At t = 710.022, mxstep steps taken before reaching tout.\n",
      "\n"
     ]
    },
    {
     "name": "stdout",
     "output_type": "stream",
     "text": [
      "100%|██████████| 1000/1000 [03:38<00:00,  4.58trial/s, best loss: 0.0]\n",
      "100%|██████████| 1000/1000 [03:56<00:00,  4.23trial/s, best loss: 0.010962669744631344]\n",
      "100%|██████████| 1000/1000 [04:29<00:00,  3.72trial/s, best loss: 0.006467008988736373]\n",
      "100%|██████████| 1000/1000 [04:19<00:00,  3.85trial/s, best loss: 0.008821825786550658]\n",
      "100%|██████████| 1000/1000 [04:20<00:00,  3.84trial/s, best loss: 0.010806042851647657]\n",
      "100%|██████████| 1000/1000 [03:53<00:00,  4.28trial/s, best loss: 0.0072746840733060696]\n",
      "100%|██████████| 1000/1000 [04:14<00:00,  3.93trial/s, best loss: 0.006373681700424685]\n",
      " 46%|████▌     | 462/1000 [01:57<02:12,  4.05trial/s, best loss: 0.0]                 "
     ]
    },
    {
     "name": "stderr",
     "output_type": "stream",
     "text": [
      "\n",
      "[CVODE ERROR]  CVode\n",
      "  At t = 716.934, mxstep steps taken before reaching tout.\n",
      "\n"
     ]
    },
    {
     "name": "stdout",
     "output_type": "stream",
     "text": [
      "100%|██████████| 1000/1000 [04:29<00:00,  3.71trial/s, best loss: 0.0]\n",
      "100%|██████████| 1000/1000 [03:51<00:00,  4.32trial/s, best loss: 0.00526302863377569]\n",
      " 33%|███▎      | 331/1000 [01:20<03:02,  3.68trial/s, best loss: 0.0]                 "
     ]
    },
    {
     "name": "stderr",
     "output_type": "stream",
     "text": [
      "\n",
      "[CVODE ERROR]  CVode\n",
      "  At t = 763.518, mxstep steps taken before reaching tout.\n",
      "\n"
     ]
    },
    {
     "name": "stdout",
     "output_type": "stream",
     "text": [
      "100%|██████████| 1000/1000 [04:29<00:00,  3.72trial/s, best loss: 0.0]\n",
      "100%|██████████| 1000/1000 [04:00<00:00,  4.17trial/s, best loss: 0.011701394810260484]\n",
      "100%|██████████| 1000/1000 [01:49<00:00,  9.14trial/s, best loss: 0.0017364641524490528]\n",
      "100%|██████████| 1000/1000 [04:22<00:00,  3.81trial/s, best loss: 0.009058957713314495]\n",
      "100%|██████████| 1000/1000 [03:21<00:00,  4.95trial/s, best loss: 0.0004790578835992471]\n",
      "100%|██████████| 1000/1000 [04:13<00:00,  3.95trial/s, best loss: 0.010556060905486924]\n",
      " 36%|███▋      | 363/1000 [01:20<02:00,  5.30trial/s, best loss: 0.0]                 "
     ]
    },
    {
     "name": "stderr",
     "output_type": "stream",
     "text": [
      "\n",
      "[CVODE ERROR]  CVode\n",
      "  At t = 759.346, mxstep steps taken before reaching tout.\n",
      "\n"
     ]
    },
    {
     "name": "stdout",
     "output_type": "stream",
     "text": [
      "100%|██████████| 1000/1000 [04:12<00:00,  3.95trial/s, best loss: 0.0]\n",
      "100%|██████████| 1000/1000 [04:10<00:00,  3.99trial/s, best loss: 0.010976725306626873]\n",
      " 16%|█▌        | 162/1000 [00:33<02:07,  6.57trial/s, best loss: 0.0]                "
     ]
    },
    {
     "name": "stderr",
     "output_type": "stream",
     "text": [
      "\n",
      "[CVODE ERROR]  CVode\n",
      "  At t = 749.655, mxstep steps taken before reaching tout.\n",
      "\n"
     ]
    },
    {
     "name": "stdout",
     "output_type": "stream",
     "text": [
      " 57%|█████▊    | 575/1000 [02:15<01:27,  4.84trial/s, best loss: 0.0]"
     ]
    },
    {
     "name": "stderr",
     "output_type": "stream",
     "text": [
      "\n",
      "[CVODE ERROR]  CVode\n",
      "  At t = 848.779, mxstep steps taken before reaching tout.\n",
      "\n"
     ]
    },
    {
     "name": "stdout",
     "output_type": "stream",
     "text": [
      " 72%|███████▎  | 725/1000 [02:59<01:06,  4.17trial/s, best loss: 0.0]"
     ]
    },
    {
     "name": "stderr",
     "output_type": "stream",
     "text": [
      "\n",
      "[CVODE ERROR]  CVode\n",
      "  At t = 825.289, mxstep steps taken before reaching tout.\n",
      "\n"
     ]
    },
    {
     "name": "stdout",
     "output_type": "stream",
     "text": [
      "100%|██████████| 1000/1000 [04:19<00:00,  3.86trial/s, best loss: 0.0]\n",
      "100%|██████████| 1000/1000 [03:55<00:00,  4.25trial/s, best loss: 0.010609661063970575]\n",
      "100%|██████████| 1000/1000 [03:41<00:00,  4.51trial/s, best loss: 0.006276412351213516]\n",
      "100%|██████████| 1000/1000 [04:24<00:00,  3.78trial/s, best loss: 0.005570015351876573]\n",
      "100%|██████████| 1000/1000 [04:26<00:00,  3.75trial/s, best loss: 0.007319212521371439]\n",
      "100%|██████████| 1000/1000 [03:08<00:00,  5.31trial/s, best loss: 0.0017951900225994506]\n",
      "100%|██████████| 1000/1000 [01:41<00:00,  9.82trial/s, best loss: 0.004115020416383817]\n"
     ]
    }
   ],
   "source": [
    "###Chemical robustness experiments\n",
    "global perturbs\n",
    "max_iters = 1000\n",
    "total_landscape = pd.DataFrame()\n",
    "total_perturbs = lhs(2, samples=100)\n",
    "total_perturbs = total_perturbs*([1E-3 - 1E-4, 1E2 - 1E1]) + [1E-4, 1E1]\n",
    "\n",
    "for p in total_perturbs:\n",
    "    perturbs = p\n",
    "    landscape, best = run_hyperopt(max_iters)\n",
    "    landscape.to_csv('chemical_robustness.csv', mode='a', header=False)\n",
    "    total_landscape = pd.concat([total_landscape, landscape])\n",
    "\n",
    "total_landscape.to_csv('chemical_robustness_backup.csv')"
   ]
  },
  {
   "cell_type": "code",
   "execution_count": 32,
   "metadata": {},
   "outputs": [],
   "source": [
    "#Filter experiment results for ODE errors\n",
    "total_landscape = pd.read_csv('chemical_robustness_backup.csv').reset_index()\n",
    "#Recompute best loss on non-error samples\n",
    "start=0\n",
    "stop=1000\n",
    "new_total_landscape = pd.DataFrame()\n",
    "for j in range(100):\n",
    "    landscape = total_landscape.iloc[start:stop].reset_index(drop=True)\n",
    "    best_loss = 1E5\n",
    "    best_circuit = 'Initial'\n",
    "    best_losses = []\n",
    "    best_losses_circuits = []\n",
    "    for i in range(len(landscape)):\n",
    "        if landscape.loss[i] < best_loss and landscape.loss[i] != 0:\n",
    "            best_loss = landscape.loss[i]\n",
    "            best_circuit = landscape.circuit[i]\n",
    "        best_losses.append(best_loss)\n",
    "        best_losses_circuits.append(best_circuit)\n",
    "    landscape['best_losses'] = best_losses\n",
    "    landscape['best_loss_circuit'] = best_losses_circuits \n",
    "    new_total_landscape = pd.concat([new_total_landscape, landscape])\n",
    "    start = stop\n",
    "    stop += 1000\n",
    "new_total_landscape = new_total_landscape.loc[new_total_landscape.loss != 0]"
   ]
  },
  {
   "cell_type": "code",
   "execution_count": 38,
   "metadata": {},
   "outputs": [
    {
     "name": "stdout",
     "output_type": "stream",
     "text": [
      "100%|██████████| 1000/1000 [03:33<00:00,  4.68trial/s, best loss: 0.006934103261603262]\n",
      "100%|██████████| 1000/1000 [03:27<00:00,  4.83trial/s, best loss: 0.012280711229971033]\n",
      "100%|██████████| 1000/1000 [03:29<00:00,  4.78trial/s, best loss: 0.006624631362699007]\n",
      "100%|██████████| 1000/1000 [03:22<00:00,  4.93trial/s, best loss: 0.009364303300606561]\n",
      "  5%|▍         | 49/1000 [00:07<02:20,  6.79trial/s, best loss: 0.0]                 "
     ]
    },
    {
     "name": "stderr",
     "output_type": "stream",
     "text": [
      "\n",
      "[CVODE ERROR]  CVode\n",
      "  At t = 711.066, mxstep steps taken before reaching tout.\n",
      "\n"
     ]
    },
    {
     "name": "stdout",
     "output_type": "stream",
     "text": [
      "100%|██████████| 1000/1000 [03:43<00:00,  4.47trial/s, best loss: 0.0]\n",
      "100%|██████████| 1000/1000 [03:27<00:00,  4.82trial/s, best loss: 0.013357935722171465]\n",
      " 18%|█▊        | 177/1000 [00:38<02:54,  4.71trial/s, best loss: 0.0]                 "
     ]
    },
    {
     "name": "stderr",
     "output_type": "stream",
     "text": [
      "\n",
      "[CVODE ERROR]  CVode\n",
      "  At t = 807.83, mxstep steps taken before reaching tout.\n",
      "\n"
     ]
    },
    {
     "name": "stdout",
     "output_type": "stream",
     "text": [
      " 91%|█████████ | 909/1000 [03:34<00:22,  4.08trial/s, best loss: 0.0]"
     ]
    },
    {
     "name": "stderr",
     "output_type": "stream",
     "text": [
      "\n",
      "[CVODE ERROR]  CVode\n",
      "  At t = 865.85, mxstep steps taken before reaching tout.\n",
      "\n"
     ]
    },
    {
     "name": "stdout",
     "output_type": "stream",
     "text": [
      "100%|██████████| 1000/1000 [03:58<00:00,  4.19trial/s, best loss: 0.0]\n",
      "100%|██████████| 1000/1000 [01:33<00:00, 10.68trial/s, best loss: 0.0003571908965930069]\n",
      "100%|██████████| 1000/1000 [02:46<00:00,  5.99trial/s, best loss: 0.008622492976708073]\n",
      "100%|██████████| 1000/1000 [02:19<00:00,  7.18trial/s, best loss: 0.005611986039711247]\n",
      "100%|██████████| 1000/1000 [02:07<00:00,  7.81trial/s, best loss: 0.0030647925445792023]\n",
      "100%|██████████| 1000/1000 [02:43<00:00,  6.12trial/s, best loss: 0.0020239388440645117]\n",
      "100%|██████████| 1000/1000 [03:39<00:00,  4.55trial/s, best loss: 0.009961884367265039]\n",
      "100%|██████████| 1000/1000 [03:25<00:00,  4.87trial/s, best loss: 0.0097470580759784] \n",
      "  3%|▎         | 34/1000 [00:06<02:49,  5.71trial/s, best loss: 0.0]                "
     ]
    },
    {
     "name": "stderr",
     "output_type": "stream",
     "text": [
      "\n",
      "[CVODE ERROR]  CVode\n",
      "  At t = 676.72, mxstep steps taken before reaching tout.\n",
      "\n"
     ]
    },
    {
     "name": "stdout",
     "output_type": "stream",
     "text": [
      "  7%|▋         | 69/1000 [00:14<04:34,  3.39trial/s, best loss: 0.0]"
     ]
    },
    {
     "name": "stderr",
     "output_type": "stream",
     "text": [
      "\n",
      "[CVODE ERROR]  CVode\n",
      "  At t = 693.172, mxstep steps taken before reaching tout.\n",
      "\n"
     ]
    },
    {
     "name": "stdout",
     "output_type": "stream",
     "text": [
      "100%|██████████| 1000/1000 [03:57<00:00,  4.20trial/s, best loss: 0.0]\n",
      "100%|██████████| 1000/1000 [01:20<00:00, 12.42trial/s, best loss: 0.001698890305770522]\n",
      "100%|██████████| 1000/1000 [03:49<00:00,  4.35trial/s, best loss: 0.008331642328939508]\n",
      " 31%|███       | 311/1000 [01:08<01:57,  5.86trial/s, best loss: 0.0]                 "
     ]
    },
    {
     "name": "stderr",
     "output_type": "stream",
     "text": [
      "\n",
      "[CVODE ERROR]  CVode\n",
      "  At t = 741.723, mxstep steps taken before reaching tout.\n",
      "\n"
     ]
    },
    {
     "name": "stdout",
     "output_type": "stream",
     "text": [
      "100%|██████████| 1000/1000 [04:03<00:00,  4.11trial/s, best loss: 0.0]\n",
      "100%|██████████| 1000/1000 [03:57<00:00,  4.21trial/s, best loss: 0.006948533350754247]\n",
      "100%|██████████| 1000/1000 [03:49<00:00,  4.35trial/s, best loss: 0.010347517947164752]\n",
      "100%|██████████| 1000/1000 [03:39<00:00,  4.55trial/s, best loss: 0.007422203708965814]\n",
      "100%|██████████| 1000/1000 [03:42<00:00,  4.50trial/s, best loss: 0.011037069950079803]\n",
      "100%|██████████| 1000/1000 [01:28<00:00, 11.26trial/s, best loss: 0.0029066915438723958]\n",
      "100%|██████████| 1000/1000 [02:26<00:00,  6.84trial/s, best loss: 0.0031989630133482166]\n",
      "  6%|▌         | 60/1000 [00:09<02:18,  6.78trial/s, best loss: 0.0]                 "
     ]
    },
    {
     "name": "stderr",
     "output_type": "stream",
     "text": [
      "\n",
      "[CVODE ERROR]  CVode\n",
      "  At t = 846.46, mxstep steps taken before reaching tout.\n",
      "\n"
     ]
    },
    {
     "name": "stdout",
     "output_type": "stream",
     "text": [
      " 11%|█         | 107/1000 [00:20<02:10,  6.86trial/s, best loss: 0.0]"
     ]
    },
    {
     "name": "stderr",
     "output_type": "stream",
     "text": [
      "\n",
      "[CVODE ERROR]  CVode\n",
      "  At t = 533.076, mxstep steps taken before reaching tout.\n",
      "\n"
     ]
    },
    {
     "name": "stdout",
     "output_type": "stream",
     "text": [
      "100%|██████████| 1000/1000 [03:52<00:00,  4.29trial/s, best loss: 0.0]\n",
      "100%|██████████| 1000/1000 [02:39<00:00,  6.28trial/s, best loss: 0.0046919688989074245]\n",
      "100%|██████████| 1000/1000 [02:11<00:00,  7.62trial/s, best loss: 0.005644825878400841]\n",
      "100%|██████████| 1000/1000 [02:44<00:00,  6.10trial/s, best loss: 0.003251917713394946]\n",
      "100%|██████████| 1000/1000 [03:51<00:00,  4.31trial/s, best loss: 0.007339969378188899]\n",
      "100%|██████████| 1000/1000 [02:02<00:00,  8.14trial/s, best loss: 0.0002882184329872865]\n",
      "100%|██████████| 1000/1000 [01:32<00:00, 10.76trial/s, best loss: 0.0020573805077159528]\n",
      "100%|██████████| 1000/1000 [03:45<00:00,  4.43trial/s, best loss: 0.007047789807220223]\n",
      "100%|██████████| 1000/1000 [01:50<00:00,  9.06trial/s, best loss: 0.00021865383758053563]\n",
      "100%|██████████| 1000/1000 [02:09<00:00,  7.69trial/s, best loss: 0.005135165763997391]\n",
      " 38%|███▊      | 381/1000 [01:22<02:05,  4.92trial/s, best loss: 0.0]                 "
     ]
    },
    {
     "name": "stderr",
     "output_type": "stream",
     "text": [
      "\n",
      "[CVODE ERROR]  CVode\n",
      "  At t = 676.173, mxstep steps taken before reaching tout.\n",
      "\n"
     ]
    },
    {
     "name": "stdout",
     "output_type": "stream",
     "text": [
      " 71%|███████   | 710/1000 [02:37<00:59,  4.85trial/s, best loss: 0.0]"
     ]
    },
    {
     "name": "stderr",
     "output_type": "stream",
     "text": [
      "\n",
      "[CVODE ERROR]  CVode\n",
      "  At t = 813.147, mxstep steps taken before reaching tout.\n",
      "\n"
     ]
    },
    {
     "name": "stdout",
     "output_type": "stream",
     "text": [
      "100%|██████████| 1000/1000 [03:54<00:00,  4.27trial/s, best loss: 0.0]\n",
      " 16%|█▌        | 157/1000 [00:30<03:13,  4.37trial/s, best loss: 0.0]                "
     ]
    },
    {
     "name": "stderr",
     "output_type": "stream",
     "text": [
      "\n",
      "[CVODE ERROR]  CVode\n",
      "  At t = 830.221, mxstep steps taken before reaching tout.\n",
      "\n"
     ]
    },
    {
     "name": "stdout",
     "output_type": "stream",
     "text": [
      " 26%|██▌       | 258/1000 [00:54<02:21,  5.25trial/s, best loss: 0.0]"
     ]
    },
    {
     "name": "stderr",
     "output_type": "stream",
     "text": [
      "\n",
      "[CVODE ERROR]  CVode\n",
      "  At t = 762.299, mxstep steps taken before reaching tout.\n",
      "\n"
     ]
    },
    {
     "name": "stdout",
     "output_type": "stream",
     "text": [
      "100%|██████████| 1000/1000 [04:15<00:00,  3.92trial/s, best loss: 0.0]\n",
      "100%|██████████| 1000/1000 [02:51<00:00,  5.84trial/s, best loss: 0.00592626889597321]\n",
      "100%|██████████| 1000/1000 [01:49<00:00,  9.16trial/s, best loss: 0.0031932367013874207]\n",
      " 33%|███▎      | 329/1000 [01:15<01:47,  6.25trial/s, best loss: 0.0]                 "
     ]
    },
    {
     "name": "stderr",
     "output_type": "stream",
     "text": [
      "\n",
      "[CVODE ERROR]  CVode\n",
      "  At t = 754.083, mxstep steps taken before reaching tout.\n",
      "\n"
     ]
    },
    {
     "name": "stdout",
     "output_type": "stream",
     "text": [
      "100%|██████████| 1000/1000 [04:15<00:00,  3.92trial/s, best loss: 0.0]\n",
      "100%|██████████| 1000/1000 [02:29<00:00,  6.70trial/s, best loss: 0.0032030319714790455]\n",
      "100%|██████████| 1000/1000 [04:01<00:00,  4.15trial/s, best loss: 0.007037572466815218]\n",
      "  6%|▋         | 63/1000 [00:12<03:07,  5.00trial/s, best loss: 0.0]                 "
     ]
    },
    {
     "name": "stderr",
     "output_type": "stream",
     "text": [
      "\n",
      "[CVODE ERROR]  CVode\n",
      "  At t = 621.304, mxstep steps taken before reaching tout.\n",
      "\n"
     ]
    },
    {
     "name": "stdout",
     "output_type": "stream",
     "text": [
      " 54%|█████▍    | 543/1000 [02:02<01:33,  4.88trial/s, best loss: 0.0]"
     ]
    },
    {
     "name": "stderr",
     "output_type": "stream",
     "text": [
      "\n",
      "[CVODE ERROR]  CVode\n",
      "  At t = 844.127, mxstep steps taken before reaching tout.\n",
      "\n"
     ]
    },
    {
     "name": "stdout",
     "output_type": "stream",
     "text": [
      "100%|██████████| 1000/1000 [04:05<00:00,  4.07trial/s, best loss: 0.0]\n",
      " 16%|█▋        | 164/1000 [00:32<03:20,  4.17trial/s, best loss: 0.0]                "
     ]
    },
    {
     "name": "stderr",
     "output_type": "stream",
     "text": [
      "\n",
      "[CVODE ERROR]  CVode\n",
      "  At t = 828.802, mxstep steps taken before reaching tout.\n",
      "\n"
     ]
    },
    {
     "name": "stdout",
     "output_type": "stream",
     "text": [
      " 31%|███       | 309/1000 [01:07<02:37,  4.39trial/s, best loss: 0.0]"
     ]
    },
    {
     "name": "stderr",
     "output_type": "stream",
     "text": [
      "\n",
      "[CVODE ERROR]  CVode\n",
      "  At t = 857.886, mxstep steps taken before reaching tout.\n",
      "\n"
     ]
    },
    {
     "name": "stdout",
     "output_type": "stream",
     "text": [
      "100%|██████████| 1000/1000 [04:08<00:00,  4.02trial/s, best loss: 0.0]\n",
      " 32%|███▏      | 317/1000 [01:02<01:43,  6.59trial/s, best loss: 0.0]                 "
     ]
    },
    {
     "name": "stderr",
     "output_type": "stream",
     "text": [
      "\n",
      "[CVODE ERROR]  CVode\n",
      "  At t = 736.301, mxstep steps taken before reaching tout.\n",
      "\n"
     ]
    },
    {
     "name": "stdout",
     "output_type": "stream",
     "text": [
      "100%|██████████| 1000/1000 [03:41<00:00,  4.52trial/s, best loss: 0.0]\n",
      "  8%|▊         | 79/1000 [00:17<02:49,  5.43trial/s, best loss: 0.0]                 "
     ]
    },
    {
     "name": "stderr",
     "output_type": "stream",
     "text": [
      "\n",
      "[CVODE ERROR]  CVode\n",
      "  At t = 778.474, mxstep steps taken before reaching tout.\n",
      "\n"
     ]
    },
    {
     "name": "stdout",
     "output_type": "stream",
     "text": [
      " 96%|█████████▋| 964/1000 [03:56<00:08,  4.34trial/s, best loss: 0.0]"
     ]
    },
    {
     "name": "stderr",
     "output_type": "stream",
     "text": [
      "\n",
      "[CVODE ERROR]  CVode\n",
      "  At t = 764.659, mxstep steps taken before reaching tout.\n",
      "\n"
     ]
    },
    {
     "name": "stdout",
     "output_type": "stream",
     "text": [
      "100%|██████████| 1000/1000 [04:09<00:00,  4.01trial/s, best loss: 0.0]\n",
      "100%|██████████| 1000/1000 [03:53<00:00,  4.29trial/s, best loss: 0.011893619775966275]\n",
      "100%|██████████| 1000/1000 [04:02<00:00,  4.12trial/s, best loss: 0.00728772803109678]\n",
      "100%|██████████| 1000/1000 [01:42<00:00,  9.75trial/s, best loss: 0.0023194010842876403]\n",
      "100%|██████████| 1000/1000 [01:40<00:00,  9.92trial/s, best loss: 0.003712494213951648]\n",
      "100%|██████████| 1000/1000 [03:31<00:00,  4.72trial/s, best loss: 0.001799152584009944]\n",
      "100%|██████████| 1000/1000 [01:56<00:00,  8.59trial/s, best loss: 0.003337413728193939]\n",
      "100%|██████████| 1000/1000 [03:48<00:00,  4.38trial/s, best loss: 0.007966921943464648]\n",
      "100%|██████████| 1000/1000 [02:32<00:00,  6.55trial/s, best loss: 0.003690789441505094]\n",
      "100%|██████████| 1000/1000 [03:59<00:00,  4.18trial/s, best loss: 0.01002417048289467]\n",
      "100%|██████████| 1000/1000 [03:33<00:00,  4.68trial/s, best loss: 0.009303347683865641]\n",
      "100%|██████████| 1000/1000 [03:54<00:00,  4.26trial/s, best loss: 0.010798693696123832]\n",
      "  6%|▌         | 59/1000 [00:11<02:11,  7.16trial/s, best loss: 0.0]                 "
     ]
    },
    {
     "name": "stderr",
     "output_type": "stream",
     "text": [
      "\n",
      "[CVODE ERROR]  CVode\n",
      "  At t = 834.371, mxstep steps taken before reaching tout.\n",
      "\n"
     ]
    },
    {
     "name": "stdout",
     "output_type": "stream",
     "text": [
      " 77%|███████▋  | 766/1000 [02:59<00:48,  4.79trial/s, best loss: 0.0]"
     ]
    },
    {
     "name": "stderr",
     "output_type": "stream",
     "text": [
      "\n",
      "[CVODE ERROR]  CVode\n",
      "  At t = 689.304, mxstep steps taken before reaching tout.\n",
      "\n"
     ]
    },
    {
     "name": "stdout",
     "output_type": "stream",
     "text": [
      "100%|██████████| 1000/1000 [04:08<00:00,  4.02trial/s, best loss: 0.0]\n",
      "  2%|▏         | 23/1000 [00:03<02:05,  7.79trial/s, best loss: 0.058468340371637624]"
     ]
    },
    {
     "name": "stderr",
     "output_type": "stream",
     "text": [
      "\n",
      "[CVODE ERROR]  CVode\n",
      "  At t = 715.057, mxstep steps taken before reaching tout.\n",
      "\n"
     ]
    },
    {
     "name": "stdout",
     "output_type": "stream",
     "text": [
      " 79%|███████▉  | 793/1000 [03:14<00:50,  4.11trial/s, best loss: 0.0]                "
     ]
    },
    {
     "name": "stderr",
     "output_type": "stream",
     "text": [
      "\n",
      "[CVODE ERROR]  CVode\n",
      "  At t = 811.762, mxstep steps taken before reaching tout.\n",
      "\n"
     ]
    },
    {
     "name": "stdout",
     "output_type": "stream",
     "text": [
      "100%|██████████| 1000/1000 [04:12<00:00,  3.96trial/s, best loss: 0.0]\n",
      "  2%|▏         | 17/1000 [00:02<03:09,  5.18trial/s, best loss: 0.0]                 "
     ]
    },
    {
     "name": "stderr",
     "output_type": "stream",
     "text": [
      "\n",
      "[CVODE ERROR]  CVode\n",
      "  At t = 835.364, mxstep steps taken before reaching tout.\n",
      "\n"
     ]
    },
    {
     "name": "stdout",
     "output_type": "stream",
     "text": [
      "100%|██████████| 1000/1000 [03:45<00:00,  4.44trial/s, best loss: 0.0]\n",
      "100%|██████████| 1000/1000 [01:40<00:00,  9.98trial/s, best loss: 0.00283461675679435] \n",
      "100%|██████████| 1000/1000 [04:08<00:00,  4.02trial/s, best loss: 0.013291769384927495]\n",
      "100%|██████████| 1000/1000 [03:14<00:00,  5.15trial/s, best loss: 0.00019896490383160975]\n",
      "100%|██████████| 1000/1000 [04:28<00:00,  3.73trial/s, best loss: 0.007843581276219515]\n",
      " 56%|█████▌    | 557/1000 [02:26<01:31,  4.83trial/s, best loss: 0.0]                 "
     ]
    },
    {
     "name": "stderr",
     "output_type": "stream",
     "text": [
      "\n",
      "[CVODE ERROR]  CVode\n",
      "  At t = 710.574, mxstep steps taken before reaching tout.\n",
      "\n"
     ]
    },
    {
     "name": "stdout",
     "output_type": "stream",
     "text": [
      "100%|██████████| 1000/1000 [04:35<00:00,  3.63trial/s, best loss: 0.0]\n",
      "100%|██████████| 1000/1000 [01:41<00:00,  9.83trial/s, best loss: 0.0014786467460882577]\n",
      " 71%|███████   | 710/1000 [02:49<01:03,  4.55trial/s, best loss: 0.0]                 "
     ]
    },
    {
     "name": "stderr",
     "output_type": "stream",
     "text": [
      "\n",
      "[CVODE ERROR]  CVode\n",
      "  At t = 750.863, mxstep steps taken before reaching tout.\n",
      "\n"
     ]
    },
    {
     "name": "stdout",
     "output_type": "stream",
     "text": [
      "100%|██████████| 1000/1000 [04:08<00:00,  4.02trial/s, best loss: 0.0]\n",
      "100%|██████████| 1000/1000 [04:22<00:00,  3.81trial/s, best loss: 0.007667540800957747]\n",
      " 19%|█▊        | 186/1000 [00:40<02:49,  4.82trial/s, best loss: 0.0]                 "
     ]
    },
    {
     "name": "stderr",
     "output_type": "stream",
     "text": [
      "\n",
      "[CVODE ERROR]  CVode\n",
      "  At t = 780.016, mxstep steps taken before reaching tout.\n",
      "\n"
     ]
    },
    {
     "name": "stdout",
     "output_type": "stream",
     "text": [
      "100%|██████████| 1000/1000 [03:45<00:00,  4.44trial/s, best loss: 0.0]\n",
      "100%|██████████| 1000/1000 [04:49<00:00,  3.45trial/s, best loss: 0.008011539390210957]\n",
      "100%|██████████| 1000/1000 [02:14<00:00,  7.41trial/s, best loss: 0.00047606529046866417]\n",
      "100%|██████████| 1000/1000 [03:54<00:00,  4.26trial/s, best loss: 0.00658153833828893]\n",
      "100%|██████████| 1000/1000 [01:36<00:00, 10.41trial/s, best loss: 0.0026973224671905747]\n",
      " 10%|█         | 105/1000 [00:15<02:55,  5.11trial/s, best loss: 0.0]                 "
     ]
    },
    {
     "name": "stderr",
     "output_type": "stream",
     "text": [
      "\n",
      "[CVODE ERROR]  CVode\n",
      "  At t = 770.612, mxstep steps taken before reaching tout.\n",
      "\n"
     ]
    },
    {
     "name": "stdout",
     "output_type": "stream",
     "text": [
      " 69%|██████▉   | 688/1000 [02:27<01:03,  4.92trial/s, best loss: 0.0]"
     ]
    },
    {
     "name": "stderr",
     "output_type": "stream",
     "text": [
      "\n",
      "[CVODE ERROR]  CVode\n",
      "  At t = 786.921, mxstep steps taken before reaching tout.\n",
      "\n"
     ]
    },
    {
     "name": "stdout",
     "output_type": "stream",
     "text": [
      "100%|██████████| 1000/1000 [03:53<00:00,  4.28trial/s, best loss: 0.0]\n",
      "100%|██████████| 1000/1000 [01:40<00:00,  9.99trial/s, best loss: 0.003696523067205509]\n",
      " 55%|█████▌    | 552/1000 [02:03<01:18,  5.72trial/s, best loss: 0.0]                 "
     ]
    },
    {
     "name": "stderr",
     "output_type": "stream",
     "text": [
      "\n",
      "[CVODE ERROR]  CVode\n",
      "  At t = 516.712, mxstep steps taken before reaching tout.\n",
      "\n"
     ]
    },
    {
     "name": "stdout",
     "output_type": "stream",
     "text": [
      "100%|██████████| 1000/1000 [03:57<00:00,  4.20trial/s, best loss: 0.0]\n",
      "100%|██████████| 1000/1000 [02:30<00:00,  6.66trial/s, best loss: 0.0019561797044806727]\n",
      "100%|██████████| 1000/1000 [03:42<00:00,  4.50trial/s, best loss: 0.010693412476022315]\n",
      "100%|██████████| 1000/1000 [02:05<00:00,  7.96trial/s, best loss: 0.0030122795192087572]\n",
      "100%|██████████| 1000/1000 [01:59<00:00,  8.34trial/s, best loss: 0.0017768166280486095]\n",
      "100%|██████████| 1000/1000 [01:44<00:00,  9.54trial/s, best loss: 0.003285135337125868]\n",
      " 35%|███▌      | 352/1000 [01:13<02:10,  4.98trial/s, best loss: 0.0]                 "
     ]
    },
    {
     "name": "stderr",
     "output_type": "stream",
     "text": [
      "\n",
      "[CVODE ERROR]  CVode\n",
      "  At t = 572.305, mxstep steps taken before reaching tout.\n",
      "\n"
     ]
    },
    {
     "name": "stdout",
     "output_type": "stream",
     "text": [
      "100%|██████████| 1000/1000 [03:50<00:00,  4.33trial/s, best loss: 0.0]\n",
      "100%|██████████| 1000/1000 [03:48<00:00,  4.37trial/s, best loss: 0.0075823385746299835]\n",
      "100%|██████████| 1000/1000 [03:18<00:00,  5.05trial/s, best loss: 0.009282413293128473]\n",
      "100%|██████████| 1000/1000 [01:25<00:00, 11.70trial/s, best loss: 0.0028395292130649484]\n",
      "100%|██████████| 1000/1000 [03:24<00:00,  4.89trial/s, best loss: 0.005802654986622418]\n",
      "100%|██████████| 1000/1000 [03:38<00:00,  4.57trial/s, best loss: 0.009097486968147307]\n",
      " 97%|█████████▋| 969/1000 [02:51<00:06,  4.80trial/s, best loss: 0.0]                 "
     ]
    },
    {
     "name": "stderr",
     "output_type": "stream",
     "text": [
      "\n",
      "[CVODE ERROR]  CVode\n",
      "  At t = 813.579, mxstep steps taken before reaching tout.\n",
      "\n"
     ]
    },
    {
     "name": "stdout",
     "output_type": "stream",
     "text": [
      "100%|██████████| 1000/1000 [03:00<00:00,  5.53trial/s, best loss: 0.0]\n",
      "100%|██████████| 1000/1000 [01:31<00:00, 10.95trial/s, best loss: 0.003441366178727739]\n",
      "100%|██████████| 1000/1000 [02:08<00:00,  7.78trial/s, best loss: 0.0057958471554479685]\n",
      "100%|██████████| 1000/1000 [02:20<00:00,  7.12trial/s, best loss: 0.0017183283028725026]\n",
      "100%|██████████| 1000/1000 [01:48<00:00,  9.19trial/s, best loss: 0.0034938554876665453]\n",
      " 11%|█         | 107/1000 [00:17<02:25,  6.14trial/s, best loss: 0.0]                 "
     ]
    },
    {
     "name": "stderr",
     "output_type": "stream",
     "text": [
      "\n",
      "[CVODE ERROR]  CVode\n",
      "  At t = 838.575, mxstep steps taken before reaching tout.\n",
      "\n"
     ]
    },
    {
     "name": "stdout",
     "output_type": "stream",
     "text": [
      "100%|██████████| 1000/1000 [03:22<00:00,  4.95trial/s, best loss: 0.0]\n",
      "100%|██████████| 1000/1000 [01:49<00:00,  9.17trial/s, best loss: 0.0035622954253939155]\n",
      "100%|██████████| 1000/1000 [02:02<00:00,  8.19trial/s, best loss: 0.00405488498254716] \n",
      "100%|██████████| 1000/1000 [03:23<00:00,  4.91trial/s, best loss: 0.011695498236661321]\n",
      "100%|██████████| 1000/1000 [01:46<00:00,  9.38trial/s, best loss: 0.003403065824730736]\n",
      " 68%|██████▊   | 685/1000 [02:22<00:56,  5.60trial/s, best loss: 0.0]                 "
     ]
    },
    {
     "name": "stderr",
     "output_type": "stream",
     "text": [
      "\n",
      "[CVODE ERROR]  CVode\n",
      "  At t = 789.429, mxstep steps taken before reaching tout.\n",
      "\n"
     ]
    },
    {
     "name": "stdout",
     "output_type": "stream",
     "text": [
      "100%|██████████| 1000/1000 [03:37<00:00,  4.60trial/s, best loss: 0.0]\n",
      "100%|██████████| 1000/1000 [02:57<00:00,  5.65trial/s, best loss: 0.003443015629137411]\n",
      "100%|██████████| 1000/1000 [03:27<00:00,  4.81trial/s, best loss: 0.009829010042105804]\n",
      "100%|██████████| 1000/1000 [02:16<00:00,  7.33trial/s, best loss: 0.0033441793548153725]\n"
     ]
    }
   ],
   "source": [
    "##Assess background by running 100x\n",
    "global perturbs\n",
    "max_iters = 1000\n",
    "total_background = pd.DataFrame()\n",
    "perturbs = [1., 1.]\n",
    "for i in range(100):\n",
    "    background, best = run_hyperopt(max_iters)\n",
    "    background.to_csv('background.csv', mode='a', header=False)\n",
    "    total_background = pd.concat([total_background, background])\n",
    "\n",
    "total_background.to_csv('background_total.csv')\n"
   ]
  },
  {
   "cell_type": "code",
   "execution_count": 159,
   "metadata": {},
   "outputs": [
    {
     "name": "stderr",
     "output_type": "stream",
     "text": [
      "/var/folders/fz/1kd077v55dz4fd956zt4jrc40000gn/T/ipykernel_82071/2048842858.py:4: SettingWithCopyWarning: \n",
      "A value is trying to be set on a copy of a slice from a DataFrame.\n",
      "Try using .loc[row_indexer,col_indexer] = value instead\n",
      "\n",
      "See the caveats in the documentation: https://pandas.pydata.org/pandas-docs/stable/user_guide/indexing.html#returning-a-view-versus-a-copy\n",
      "  plot_landscape['abs_loss_difference'] = np.abs(plot_landscape.best_losses - mean_optimal_loss)\n",
      "/var/folders/fz/1kd077v55dz4fd956zt4jrc40000gn/T/ipykernel_82071/2048842858.py:5: SettingWithCopyWarning: \n",
      "A value is trying to be set on a copy of a slice from a DataFrame.\n",
      "Try using .loc[row_indexer,col_indexer] = value instead\n",
      "\n",
      "See the caveats in the documentation: https://pandas.pydata.org/pandas-docs/stable/user_guide/indexing.html#returning-a-view-versus-a-copy\n",
      "  plot_landscape['percent_loss_difference'] = 100*(plot_landscape.best_losses - mean_optimal_loss)/mean_optimal_loss\n"
     ]
    },
    {
     "data": {
      "text/plain": [
       "(0.0005, 0.001)"
      ]
     },
     "execution_count": 159,
     "metadata": {},
     "output_type": "execute_result"
    },
    {
     "data": {
      "image/png": "[encoded data removed]",
      "text/plain": [
       "<Figure size 576x360 with 1 Axes>"
      ]
     },
     "metadata": {
      "needs_background": "light"
     },
     "output_type": "display_data"
    }
   ],
   "source": [
    "###FIGURE: Chemical robustness\n",
    "mean_optimal_loss = total_background.loc[total_background.index == 999].best_losses.mean()\n",
    "plot_landscape = new_total_landscape.loc[new_total_landscape.index==999]\n",
    "plot_landscape['abs_loss_difference'] = np.abs(plot_landscape.best_losses - mean_optimal_loss)\n",
    "plot_landscape['percent_loss_difference'] = 100*(plot_landscape.best_losses - mean_optimal_loss)/mean_optimal_loss\n",
    "\n",
    "fig, ax = plt.subplots(1,1,figsize=(8, 5))\n",
    "sns.scatterplot(data=plot_landscape, x='perturb1', y='perturb0', hue='percent_loss_difference', ax=ax, palette='Blues')\n",
    "ax.set_xlim([5E-4, 10E-4])"
   ]
  },
  {
   "cell_type": "code",
   "execution_count": 158,
   "metadata": {},
   "outputs": [
    {
     "data": {
      "text/plain": [
       "Text(0.5, 1.0, 'Absolute Percentage Loss Difference')"
      ]
     },
     "execution_count": 158,
     "metadata": {},
     "output_type": "execute_result"
    },
    {
     "data": {
      "image/png": "[encoded data removed]",
      "text/plain": [
       "<Figure size 576x360 with 2 Axes>"
      ]
     },
     "metadata": {
      "needs_background": "light"
     },
     "output_type": "display_data"
    }
   ],
   "source": [
    "###FIGURE: Chemical robustness\n",
    "p1 = []; p2 = []\n",
    "for i in range(len(plot_landscape)):\n",
    "    loss_percent = int(np.abs(round(plot_landscape.iloc[i].percent_loss_difference, 0)))\n",
    "    for j in range(loss_percent):\n",
    "        p1.append(plot_landscape.iloc[i].perturb0)\n",
    "        p2.append(plot_landscape.iloc[i].perturb1)\n",
    "plot_data = pd.DataFrame({'perturb0': p1, 'perturb1':p2})\n",
    "\n",
    "fig, ax = plt.subplots(1,1,figsize=(8, 5))\n",
    "sns.kdeplot(data=plot_data, x='perturb0', y='perturb1', fill=True, palette='Blues', cbar=True)\n",
    "ax.set_ylabel('Protein Toxicity Perturbation', fontsize=14)\n",
    "ax.set_xlabel('Metabolite Toxicity Perturbation', fontsize=14)\n",
    "ax.set_title('Absolute Percentage Loss Difference')"
   ]
  },
  {
   "cell_type": "code",
   "execution_count": 129,
   "metadata": {},
   "outputs": [
    {
     "data": {
      "image/png": "[encoded data removed]",
      "text/plain": [
       "<Figure size 360x360 with 1 Axes>"
      ]
     },
     "metadata": {
      "needs_background": "light"
     },
     "output_type": "display_data"
    }
   ],
   "source": [
    "###FIGURE: Chemical robustness\n",
    "plot_data = pd.DataFrame({'best_loss': plot_landscape.best_losses.to_list(), 'type':'Perturbed'})\n",
    "plot_data = pd.concat([plot_data, pd.DataFrame({'best_loss':total_background.loc[total_background.index == 999].best_losses.to_list(), 'type':'Background' })])\n",
    "fig, ax = plt.subplots(1,1,figsize=(5, 5))\n",
    "sns.barplot(data=plot_data, y='best_loss', x='type', palette='Blues', ax=ax)\n",
    "ax.set_ylabel('Best Objective Function Value Achieved', fontsize=14)\n",
    "ax.set_xlabel('')\n",
    "ax.tick_params(axis='x', labelsize=14)"
   ]
  },
  {
   "cell_type": "code",
   "execution_count": 114,
   "metadata": {},
   "outputs": [
    {
     "data": {
      "image/png": "[encoded data removed]",
      "text/plain": [
       "<Figure size 576x360 with 2 Axes>"
      ]
     },
     "metadata": {},
     "output_type": "display_data"
    }
   ],
   "source": [
    "###FIGURE: Chemical robustness\n",
    "background_pie = (total_background.loc[total_background.index == 999].groupby('Best Circuit').count()['Circuit']/100).reset_index()\n",
    "perturb_pie = (plot_landscape.groupby('Best Circuit').count()['Circuit']/100).reset_index()\n",
    "\n",
    "#Palette code from above \n",
    "orders = ['N-A1-A1', 'N-A1-A2', 'N-A1-N', 'N-N-A1', 'N-N-A2', 'N-R2-A1',\n",
    "       'N-R2-A2', 'R1-A1-A1', 'R1-A1-A2', 'R1-A1-N', 'R1-N-A1', 'R1-N-A2', 'R1-R2-N',\n",
    "       'R1-R2-A1', 'R1-R2-A2', 'R2-A1-A1', 'R2-A1-A2', 'R2-A1-N','R2-N-A1',\n",
    "       'R2-N-A2', 'R2-R2-A1', 'R2-R2-A2', 'R2-R2-N']\n",
    "palette = {}\n",
    "pal = sns.color_palette('Spectral', len(orders))\n",
    "for i in range(len(orders)):\n",
    "    palette[orders[i]] = pal[i]\n",
    "\n",
    "perturb_colors = [palette.get(key) for key in ['N-A1-A1', 'N-A1-A2', 'N-A1-N', 'N-N-A1', 'N-N-A2', 'N-R2-A1',\n",
    "       'N-R2-A2', 'R1-A1-A1', 'R1-A1-A2', 'R1-A1-N', 'R1-N-A1', 'R1-N-A2',\n",
    "       'R1-R2-N', 'R2-A1-A1', 'R2-A1-A2', 'R2-A1-N', 'R2-N-A1', 'R2-N-A2',\n",
    "       'R2-R2-A1', 'R2-R2-A2', 'R2-R2-N']]\n",
    "       \n",
    "background_colors = [palette.get(key) for key in ['N-A1-A1', 'N-A1-A2', 'N-A1-N', 'N-N-A1', 'N-N-A2', 'N-R2-A1',\n",
    "       'N-R2-A2', 'R1-A1-A1', 'R1-A1-A2', 'R1-A1-N', 'R1-N-A1', 'R1-N-A2',\n",
    "       'R1-R2-A1', 'R1-R2-A2', 'R2-A1-A1', 'R2-A1-A2', 'R2-A1-N',\n",
    "       'R2-N-A2', 'R2-R2-A1', 'R2-R2-A2']]\n",
    "\n",
    "fig, axs = plt.subplots(1,2,figsize=(8, 5))\n",
    "ax = axs[0]\n",
    "ax.set_title('Background', fontsize=16)\n",
    "ax.pie(background_pie.Circuit, colors=background_colors);\n",
    "ax = axs[1]\n",
    "ax.set_title('Perturbed', fontsize=16)\n",
    "ax.pie(perturb_pie.Circuit, colors=perturb_colors);\n",
    "fig.tight_layout()"
   ]
  },
  {
   "cell_type": "code",
   "execution_count": null,
   "metadata": {},
   "outputs": [],
   "source": []
  }
 ],
 "metadata": {
  "kernelspec": {
   "display_name": "Python 3.9.7 ('sundials')",
   "language": "python",
   "name": "python3"
  },
  "language_info": {
   "codemirror_mode": {
    "name": "ipython",
    "version": 3
   },
   "file_extension": ".py",
   "mimetype": "text/x-python",
   "name": "python",
   "nbconvert_exporter": "python",
   "pygments_lexer": "ipython3",
   "version": "3.9.7"
  },
  "orig_nbformat": 4,
  "vscode": {
   "interpreter": {
    "hash": "07c32881fdddda18fc4efdca8ccb6859d747bae1937efa0776c98adbd36477b4"
   }
  }
 },
 "nbformat": 4,
 "nbformat_minor": 2
}
