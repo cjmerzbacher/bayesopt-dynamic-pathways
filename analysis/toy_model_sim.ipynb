{
 "cells": [
  {
   "cell_type": "code",
   "execution_count": 8,
   "metadata": {},
   "outputs": [],
   "source": [
    "###Import required packages\n",
    "from models import loss_biological, toy_model\n",
    "import numpy as np\n",
    "from hyperopt import hp, fmin, tpe\n",
    "from scikits.odes.ode import ode\n",
    "import pandas as pd\n",
    "import time"
   ]
  },
  {
   "cell_type": "code",
   "execution_count": 9,
   "metadata": {},
   "outputs": [],
   "source": [
    "###Specify if data is to be saved to CSV\n",
    "save_data = False"
   ]
  },
  {
   "cell_type": "code",
   "execution_count": 10,
   "metadata": {},
   "outputs": [],
   "source": [
    "###Helper function for visualization\n",
    "def name_converter(A):\n",
    "    if A == ((0, 1, 0), (1, 0, 0)):\n",
    "        return 'Dual Control'\n",
    "\n",
    "    elif A == ((0, 0, 1), (0, 0, 1)):\n",
    "        return 'No Control'\n",
    "\n",
    "    elif A == ((0, 0, 1), (1, 0, 0)):\n",
    "        return 'Downstream Activation'\n",
    "\n",
    "    elif A == ((0, 1, 0), (0, 0, 1)):\n",
    "        return 'Upstream Repression'\n",
    "    else: return 'Invalid Circuit'\n",
    "    \n",
    "###Search space definition\n",
    "space = hp.choice('architecture', \n",
    "    [([[0, 0, 1], [1, 0, 0]], [[2., hp.uniform('theta1_da', 0.001, 10), hp.uniform('k1_da', 1E-7, 1E-3)], [2., hp.uniform('theta2_da', 0.001, 10), hp.uniform('k2_da', 1E-7, 1E-3)]]),\n",
    "     ([[0, 1, 0], [0, 0, 1]], [[2., hp.uniform('theta1_ur', 0.001, 10), hp.uniform('k1_ur', 1E-7, 1E-3)], [2., hp.uniform('theta2_ur', 0.001, 10), hp.uniform('k2_ur', 1E-7, 1E-3)]]),\n",
    "     ([[0, 0, 1], [0, 0, 1]], [[2., hp.uniform('theta1_nc', 0.001, 10), hp.uniform('k1_nc', 1E-7, 1E-3)], [2., hp.uniform('theta2_nc', 0.001, 10), hp.uniform('k2_nc', 1E-7, 1E-3)]]),\n",
    "     ([[0, 1, 0], [1, 0, 0]], [[2., hp.uniform('theta1_dc', 0.001, 10), hp.uniform('k1_dc', 1E-7, 1E-3)], [2., hp.uniform('theta2_dc', 0.001, 10), hp.uniform('k2_dc', 1E-7, 1E-3)]])])\n",
    "    \n",
    "\n",
    "###Objective function\n",
    "def run_hyperopt(max_iters):\n",
    "    losses = []\n",
    "    params = []\n",
    "    circuits = []\n",
    "\n",
    "    #Define objective function\n",
    "    def objective(args):\n",
    "        architecture, param_values = args\n",
    "        #Integration conditions\n",
    "        t = np.linspace(0, 5E4, 100) \n",
    "        y0 = np.array([2290., 0., 0., 0., 0., 0.])\n",
    "\n",
    "        extra_options = {'old_api': False, 'user_data': [architecture, param_values]}\n",
    "        ode_solver = ode('cvode', toy_model, **extra_options)\n",
    "        solution = ode_solver.solve(t, y0)\n",
    "        j1, j2 = solution.values.y[-1, -2:]\n",
    "        j1, j2, loss = loss_biological(j1, j2, alpha1=1E-5, alpha2=1E-2)\n",
    "\n",
    "        losses.append(loss)\n",
    "        params.append(param_values)\n",
    "        circuits.append(architecture)\n",
    "        return loss\n",
    "\n",
    "    #Run hyperopt call\n",
    "    best = fmin(objective, space, algo=tpe.suggest, max_evals=max_iters)\n",
    "    #Create trajectory data frame\n",
    "    landscape = pd.DataFrame({'Circuit':circuits, 'Loss': losses, 'k1': [params[i][0][2] for i in range(len(params))], 'k2': [params[i][1][2] for i in range(len(params))], 'theta1': [params[i][0][1] for i in range(len(params))], 'theta2': [params[i][1][1] for i in range(len(params))]})\n",
    "    landscape['Circuit'] = [name_converter(c) for c in landscape.Circuit]\n",
    "\n",
    "    landscape = landscape.reset_index()\n",
    "\n",
    "    best_loss = 1E5\n",
    "    best_circuit = 'Initial'\n",
    "    best_losses = []\n",
    "    best_losses_circuits = []\n",
    "    for i in range(len(landscape)):\n",
    "        if landscape.Loss[i] < best_loss:\n",
    "            best_loss = landscape.Loss[i]\n",
    "            best_circuit = landscape.Circuit[i]\n",
    "        best_losses.append(best_loss)\n",
    "        best_losses_circuits.append(best_circuit)\n",
    "    landscape['best_losses'] = best_losses\n",
    "    landscape['best_loss_circuit'] = best_losses_circuits\n",
    "    return landscape, best"
   ]
  },
  {
   "cell_type": "code",
   "execution_count": null,
   "metadata": {},
   "outputs": [],
   "source": [
    "###Run single architecture search to get sample run\n",
    "max_iters = 500\n",
    "landscape, best = run_hyperopt(max_iters)\n",
    "if save_data: landscape.to_csv('../data/toy_model_sample_run.csv')"
   ]
  },
  {
   "cell_type": "code",
   "execution_count": null,
   "metadata": {},
   "outputs": [],
   "source": [
    "###Run hyperopt 100 times to solve for background\n",
    "max_iters = 500\n",
    "total_background =  pd.DataFrame()\n",
    "for i in range(100):\n",
    "    landscape, best = run_hyperopt(max_iters)\n",
    "    total_background = pd.concat([landscape, total_background])\n",
    "    #background.to_csv('background.csv', mode='a')\n",
    "    \n",
    "if save_data: total_background.to_csv('../data/toy_model_background.csv')"
   ]
  },
  {
   "cell_type": "code",
   "execution_count": null,
   "metadata": {},
   "outputs": [],
   "source": [
    "# #Run single forward optimization grid search to create landscapes for figure\n",
    "# architectures = [((0, 0, 1), (1, 0, 0)), ((0, 1, 0), (0, 0, 1)), ((0, 0, 1), (0, 0, 1)), ((0, 1, 0), (1, 0, 0))]\n",
    "# k1s = np.linspace(1E-7, 1E-3, 10)\n",
    "# k2s = np.linspace(1E-7, 1E-3, 10)\n",
    "# theta1s = np.linspace(0.001, 10, 10)\n",
    "# theta2s = np.linspace(0.001, 10, 10)\n",
    "# t = np.linspace(0, 5E4, 100) \n",
    "# y0 = np.array([2290., 0., 0., 0., 0., 0.]) \n",
    "\n",
    "# landscape_grid = pd.DataFrame()\n",
    "# for architecture in architectures:\n",
    "#         start_time = time.time()\n",
    "#         for k1 in k1s:\n",
    "#                 # for k2 in k2s:\n",
    "#                         for theta1 in theta1s:\n",
    "#                                 for theta2 in theta2s:\n",
    "#                                         param_values = [[2., theta1, k1], [2., theta2, k2]]\n",
    "#                                         extra_options = {'old_api': False, 'user_data': [architecture, param_values]}\n",
    "#                                         ode_solver = ode('cvode', toy_model, **extra_options)\n",
    "#                                         solution = ode_solver.solve(t, y0)\n",
    "#                                         j1, j2 = solution.values.y[-1, -2:]\n",
    "#                                         j1, j2, loss = loss_biological(j1, j2, alpha1=1E-5, alpha2=1E-2)\n",
    "#                                         test = pd.DataFrame({'index':[0], 'architecture':name_converter(architecture), 'theta1':theta1, 'theta2':theta2, 'k1':k1, 'k2':k2, 'loss':loss})\n",
    "#                                         landscape_grid = pd.concat([landscape_grid, test])\n",
    "#         elapsed_time = time.time() - start_time\n",
    "#         landscape_grid['time'] = elapsed_time\n",
    "#         print(architecture, 'architecture complete')\n",
    "# if save_data: landscape_grid.to_csv('../data/toy_model_landscapes_grid_search.csv')"
   ]
  }
 ],
 "metadata": {
  "kernelspec": {
   "display_name": "Python 3.9.7 ('sundials')",
   "language": "python",
   "name": "python3"
  },
  "language_info": {
   "codemirror_mode": {
    "name": "ipython",
    "version": 3
   },
   "file_extension": ".py",
   "mimetype": "text/x-python",
   "name": "python",
   "nbconvert_exporter": "python",
   "pygments_lexer": "ipython3",
   "version": "3.9.7"
  },
  "orig_nbformat": 4,
  "vscode": {
   "interpreter": {
    "hash": "07c32881fdddda18fc4efdca8ccb6859d747bae1937efa0776c98adbd36477b4"
   }
  }
 },
 "nbformat": 4,
 "nbformat_minor": 2
}
